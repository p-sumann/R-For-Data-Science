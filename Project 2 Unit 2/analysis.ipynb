{
 "cells": [
  {
   "cell_type": "code",
   "execution_count": 24,
   "metadata": {
    "vscode": {
     "languageId": "r"
    }
   },
   "outputs": [],
   "source": [
    "setwd(\"C:/Users/SumanPaudel/Desktop/R For Data Science/Project 2 Unit 2\")\n"
   ]
  },
  {
   "cell_type": "code",
   "execution_count": 18,
   "metadata": {
    "vscode": {
     "languageId": "r"
    }
   },
   "outputs": [],
   "source": [
    "data <- read.csv(\"covnep_252days.csv\")\n"
   ]
  },
  {
   "cell_type": "code",
   "execution_count": null,
   "metadata": {
    "vscode": {
     "languageId": "r"
    }
   },
   "outputs": [],
   "source": [
    "summary(as.integer(data$totalCases))\n"
   ]
  },
  {
   "cell_type": "code",
   "execution_count": null,
   "metadata": {
    "vscode": {
     "languageId": "r"
    }
   },
   "outputs": [],
   "source": [
    "data$newTotalCases <- ifelse(data$totalCases < 1, 1, data$totalCases)\n"
   ]
  },
  {
   "cell_type": "code",
   "execution_count": null,
   "metadata": {
    "vscode": {
     "languageId": "r"
    }
   },
   "outputs": [],
   "source": [
    "data$newTotalCases\n"
   ]
  },
  {
   "cell_type": "code",
   "execution_count": null,
   "metadata": {
    "vscode": {
     "languageId": "r"
    }
   },
   "outputs": [],
   "source": [
    "# summary(data$newTotalCases)\n"
   ]
  },
  {
   "cell_type": "code",
   "execution_count": 12,
   "metadata": {
    "vscode": {
     "languageId": "r"
    }
   },
   "outputs": [],
   "source": [
    "df <- data.frame(totalCases = c(0, 2, 3, 1, 4))\n"
   ]
  },
  {
   "cell_type": "code",
   "execution_count": 21,
   "metadata": {
    "vscode": {
     "languageId": "r"
    }
   },
   "outputs": [
    {
     "data": {
      "text/html": [
       "<style>\n",
       ".list-inline {list-style: none; margin:0; padding: 0}\n",
       ".list-inline>li {display: inline-block}\n",
       ".list-inline>li:not(:last-child)::after {content: \"\\00b7\"; padding: 0 .5ex}\n",
       "</style>\n",
       "<ol class=list-inline><li><span style=white-space:pre-wrap>'    0'</span></li><li><span style=white-space:pre-wrap>'    0'</span></li><li><span style=white-space:pre-wrap>'    0'</span></li><li><span style=white-space:pre-wrap>'    0'</span></li><li><span style=white-space:pre-wrap>'    0'</span></li><li><span style=white-space:pre-wrap>'    0'</span></li><li><span style=white-space:pre-wrap>'    0'</span></li><li><span style=white-space:pre-wrap>'    0'</span></li><li><span style=white-space:pre-wrap>'    0'</span></li><li><span style=white-space:pre-wrap>'    0'</span></li><li><span style=white-space:pre-wrap>'    0'</span></li><li><span style=white-space:pre-wrap>'    0'</span></li><li><span style=white-space:pre-wrap>'    0'</span></li><li><span style=white-space:pre-wrap>'    0'</span></li><li><span style=white-space:pre-wrap>'    0'</span></li><li><span style=white-space:pre-wrap>'    0'</span></li><li><span style=white-space:pre-wrap>'    0'</span></li><li><span style=white-space:pre-wrap>'    0'</span></li><li><span style=white-space:pre-wrap>'    0'</span></li><li><span style=white-space:pre-wrap>'    0'</span></li><li><span style=white-space:pre-wrap>'    0'</span></li><li><span style=white-space:pre-wrap>'    0'</span></li><li><span style=white-space:pre-wrap>'    0'</span></li><li><span style=white-space:pre-wrap>'    0'</span></li><li><span style=white-space:pre-wrap>'    0'</span></li><li><span style=white-space:pre-wrap>'    0'</span></li><li><span style=white-space:pre-wrap>'    0'</span></li><li><span style=white-space:pre-wrap>'    0'</span></li><li><span style=white-space:pre-wrap>'    0'</span></li><li><span style=white-space:pre-wrap>'    0'</span></li><li><span style=white-space:pre-wrap>'    0'</span></li><li><span style=white-space:pre-wrap>'    0'</span></li><li><span style=white-space:pre-wrap>'    0'</span></li><li><span style=white-space:pre-wrap>'    0'</span></li><li><span style=white-space:pre-wrap>'    0'</span></li><li><span style=white-space:pre-wrap>'    0'</span></li><li><span style=white-space:pre-wrap>'    0'</span></li><li><span style=white-space:pre-wrap>'    0'</span></li><li><span style=white-space:pre-wrap>'    0'</span></li><li><span style=white-space:pre-wrap>'    0'</span></li><li><span style=white-space:pre-wrap>'    0'</span></li><li><span style=white-space:pre-wrap>'    0'</span></li><li><span style=white-space:pre-wrap>'    0'</span></li><li><span style=white-space:pre-wrap>'    0'</span></li><li><span style=white-space:pre-wrap>'    0'</span></li><li><span style=white-space:pre-wrap>'    0'</span></li><li><span style=white-space:pre-wrap>'    0'</span></li><li><span style=white-space:pre-wrap>'    0'</span></li><li><span style=white-space:pre-wrap>'    0'</span></li><li><span style=white-space:pre-wrap>'    0'</span></li><li><span style=white-space:pre-wrap>'    0'</span></li><li><span style=white-space:pre-wrap>'    0'</span></li><li><span style=white-space:pre-wrap>'    0'</span></li><li><span style=white-space:pre-wrap>'    0'</span></li><li><span style=white-space:pre-wrap>'    0'</span></li><li><span style=white-space:pre-wrap>'    0'</span></li><li><span style=white-space:pre-wrap>'    0'</span></li><li><span style=white-space:pre-wrap>'    0'</span></li><li><span style=white-space:pre-wrap>'    0'</span></li><li><span style=white-space:pre-wrap>'    0'</span></li><li><span style=white-space:pre-wrap>'    1'</span></li><li><span style=white-space:pre-wrap>'    1'</span></li><li><span style=white-space:pre-wrap>'    2'</span></li><li><span style=white-space:pre-wrap>'    2'</span></li><li><span style=white-space:pre-wrap>'    2'</span></li><li><span style=white-space:pre-wrap>'    2'</span></li><li><span style=white-space:pre-wrap>'    2'</span></li><li><span style=white-space:pre-wrap>'    2'</span></li><li><span style=white-space:pre-wrap>'    2'</span></li><li><span style=white-space:pre-wrap>'    2'</span></li><li><span style=white-space:pre-wrap>'    2'</span></li><li><span style=white-space:pre-wrap>'    2'</span></li><li><span style=white-space:pre-wrap>'    2'</span></li><li><span style=white-space:pre-wrap>'    2'</span></li><li><span style=white-space:pre-wrap>'    2'</span></li><li><span style=white-space:pre-wrap>'    2'</span></li><li><span style=white-space:pre-wrap>'    2'</span></li><li><span style=white-space:pre-wrap>'    2'</span></li><li><span style=white-space:pre-wrap>'    2'</span></li><li><span style=white-space:pre-wrap>'    2'</span></li><li><span style=white-space:pre-wrap>'    2'</span></li><li><span style=white-space:pre-wrap>'    2'</span></li><li><span style=white-space:pre-wrap>'    2'</span></li><li><span style=white-space:pre-wrap>'    2'</span></li><li><span style=white-space:pre-wrap>'    2'</span></li><li><span style=white-space:pre-wrap>'    2'</span></li><li><span style=white-space:pre-wrap>'    4'</span></li><li><span style=white-space:pre-wrap>'    5'</span></li><li><span style=white-space:pre-wrap>'    5'</span></li><li><span style=white-space:pre-wrap>'    6'</span></li><li><span style=white-space:pre-wrap>'    8'</span></li><li><span style=white-space:pre-wrap>'    9'</span></li><li><span style=white-space:pre-wrap>'   1'</span></li><li><span style=white-space:pre-wrap>'   0'</span></li><li><span style=white-space:pre-wrap>'   14'</span></li><li><span style=white-space:pre-wrap>'   0'</span></li><li><span style=white-space:pre-wrap>'   0'</span></li><li><span style=white-space:pre-wrap>'   0'</span></li><li><span style=white-space:pre-wrap>'   0'</span></li><li><span style=white-space:pre-wrap>'   0'</span></li><li><span style=white-space:pre-wrap>'   0'</span></li><li><span style=white-space:pre-wrap>'   0'</span></li><li><span style=white-space:pre-wrap>'   0'</span></li><li><span style=white-space:pre-wrap>'   0'</span></li><li><span style=white-space:pre-wrap>'   20'</span></li><li><span style=white-space:pre-wrap>'   0'</span></li><li><span style=white-space:pre-wrap>'   1'</span></li><li><span style=white-space:pre-wrap>'   1'</span></li><li><span style=white-space:pre-wrap>'   0'</span></li><li><span style=white-space:pre-wrap>'   2'</span></li><li><span style=white-space:pre-wrap>'   0'</span></li><li><span style=white-space:pre-wrap>'   2'</span></li><li><span style=white-space:pre-wrap>'   0'</span></li><li><span style=white-space:pre-wrap>'   1'</span></li><li><span style=white-space:pre-wrap>'   0'</span></li><li><span style=white-space:pre-wrap>'   0'</span></li><li><span style=white-space:pre-wrap>'   0'</span></li><li><span style=white-space:pre-wrap>'   1'</span></li><li><span style=white-space:pre-wrap>'   43'</span></li><li><span style=white-space:pre-wrap>'   4'</span></li><li><span style=white-space:pre-wrap>'   68'</span></li><li><span style=white-space:pre-wrap>'   0'</span></li><li><span style=white-space:pre-wrap>'   85'</span></li><li><span style=white-space:pre-wrap>'  110'</span></li><li><span style=white-space:pre-wrap>'  152'</span></li><li><span style=white-space:pre-wrap>'  180'</span></li><li><span style=white-space:pre-wrap>'   4'</span></li><li><span style=white-space:pre-wrap>'   0'</span></li><li><span style=white-space:pre-wrap>'   4'</span></li><li><span style=white-space:pre-wrap>'   1'</span></li><li><span style=white-space:pre-wrap>'   1'</span></li><li><span style=white-space:pre-wrap>'  235'</span></li><li><span style=white-space:pre-wrap>'   3'</span></li><li><span style=white-space:pre-wrap>'  18'</span></li><li><span style=white-space:pre-wrap>'  289'</span></li><li><span style=white-space:pre-wrap>'   6'</span></li><li><span style=white-space:pre-wrap>'  340'</span></li><li><span style=white-space:pre-wrap>'  23'</span></li><li><span style=white-space:pre-wrap>'  31'</span></li><li><span style=white-space:pre-wrap>'   0'</span></li><li><span style=white-space:pre-wrap>'   0'</span></li><li><span style=white-space:pre-wrap>'   0'</span></li><li><span style=white-space:pre-wrap>'   0'</span></li><li><span style=white-space:pre-wrap>'   0'</span></li><li>' 1'</li><li>' 0'</li><li><span style=white-space:pre-wrap>'   9'</span></li><li><span style=white-space:pre-wrap>'  19'</span></li><li>' 1'</li><li>' 0'</li><li>' 0'</li><li>' 1'</li><li><span style=white-space:pre-wrap>'  74'</span></li><li>' 1'</li><li>' 2'</li><li><span style=white-space:pre-wrap>'  48'</span></li><li>' 136'</li><li>' 1'</li><li>' 0'</li><li><span style=white-space:pre-wrap>'  60'</span></li><li>' 3'</li><li>' 0'</li><li>' 0'</li><li>' 1'</li><li>' 1'</li><li>' 0'</li><li>' 1'</li><li>' 0'</li><li>' 108'</li><li>' 1'</li><li><span style=white-space:pre-wrap>'  70'</span></li><li><span style=white-space:pre-wrap>'  82'</span></li><li>' 0'</li><li><span style=white-space:pre-wrap>'  34'</span></li><li>' 1'</li><li>' 1'</li><li>' 0'</li><li><span style=white-space:pre-wrap>'  57'</span></li><li><span style=white-space:pre-wrap>'  58'</span></li><li>' 0'</li><li>' 1'</li><li>' 100'</li><li>' 0'</li><li>' 107'</li><li>' 0'</li><li><span style=white-space:pre-wrap>'  75'</span></li><li>' 1'</li><li>' 0'</li><li>' 146'</li><li>' 227'</li><li>' 1'</li><li><span style=white-space:pre-wrap>'  93'</span></li><li>' 0'</li><li>' 2'</li><li><span style=white-space:pre-wrap>'  65'</span></li><li>' 130'</li><li>' 233'</li><li>' 3'</li><li>' 2'</li><li><span style=white-space:pre-wrap>'  40'</span></li><li>' 140'</li><li>' 171'</li><li><span style=white-space:pre-wrap>'  64'</span></li><li>' 1'</li><li>' 240'</li><li>' 1'</li><li>' 134'</li><li>' 160'</li><li><span style=white-space:pre-wrap>'  85'</span></li><li>' 120'</li><li>' 264'</li><li>' 250'</li><li>' 136'</li><li>' 281'</li><li>' 175'</li><li>' 313'</li><li>' 385'</li><li>' 569'</li><li>' 169'</li><li>' 313'</li><li>' 267'</li><li>' 588'</li><li>' 768'</li><li>'11'</li><li>' 7'</li><li>'1354'</li><li>' 9'</li><li>' 9'</li><li>' 979'</li><li>' 6'</li><li>' 6'</li><li>' 5'</li><li>' 5'</li><li>' 852'</li><li>' 9'</li><li>' 879'</li><li>'1062'</li><li>' 8'</li><li>' 4'</li><li>' 7'</li><li>'11'</li><li>' 966'</li><li>'1005'</li><li>' 2'</li><li>' 7'</li><li>' 457'</li><li>' 6'</li><li>' 8'</li><li>' 885'</li><li>' 5'</li><li>' 731'</li><li>' 7'</li></ol>\n"
      ],
      "text/latex": [
       "\\begin{enumerate*}\n",
       "\\item '    0'\n",
       "\\item '    0'\n",
       "\\item '    0'\n",
       "\\item '    0'\n",
       "\\item '    0'\n",
       "\\item '    0'\n",
       "\\item '    0'\n",
       "\\item '    0'\n",
       "\\item '    0'\n",
       "\\item '    0'\n",
       "\\item '    0'\n",
       "\\item '    0'\n",
       "\\item '    0'\n",
       "\\item '    0'\n",
       "\\item '    0'\n",
       "\\item '    0'\n",
       "\\item '    0'\n",
       "\\item '    0'\n",
       "\\item '    0'\n",
       "\\item '    0'\n",
       "\\item '    0'\n",
       "\\item '    0'\n",
       "\\item '    0'\n",
       "\\item '    0'\n",
       "\\item '    0'\n",
       "\\item '    0'\n",
       "\\item '    0'\n",
       "\\item '    0'\n",
       "\\item '    0'\n",
       "\\item '    0'\n",
       "\\item '    0'\n",
       "\\item '    0'\n",
       "\\item '    0'\n",
       "\\item '    0'\n",
       "\\item '    0'\n",
       "\\item '    0'\n",
       "\\item '    0'\n",
       "\\item '    0'\n",
       "\\item '    0'\n",
       "\\item '    0'\n",
       "\\item '    0'\n",
       "\\item '    0'\n",
       "\\item '    0'\n",
       "\\item '    0'\n",
       "\\item '    0'\n",
       "\\item '    0'\n",
       "\\item '    0'\n",
       "\\item '    0'\n",
       "\\item '    0'\n",
       "\\item '    0'\n",
       "\\item '    0'\n",
       "\\item '    0'\n",
       "\\item '    0'\n",
       "\\item '    0'\n",
       "\\item '    0'\n",
       "\\item '    0'\n",
       "\\item '    0'\n",
       "\\item '    0'\n",
       "\\item '    0'\n",
       "\\item '    0'\n",
       "\\item '    1'\n",
       "\\item '    1'\n",
       "\\item '    2'\n",
       "\\item '    2'\n",
       "\\item '    2'\n",
       "\\item '    2'\n",
       "\\item '    2'\n",
       "\\item '    2'\n",
       "\\item '    2'\n",
       "\\item '    2'\n",
       "\\item '    2'\n",
       "\\item '    2'\n",
       "\\item '    2'\n",
       "\\item '    2'\n",
       "\\item '    2'\n",
       "\\item '    2'\n",
       "\\item '    2'\n",
       "\\item '    2'\n",
       "\\item '    2'\n",
       "\\item '    2'\n",
       "\\item '    2'\n",
       "\\item '    2'\n",
       "\\item '    2'\n",
       "\\item '    2'\n",
       "\\item '    2'\n",
       "\\item '    2'\n",
       "\\item '    4'\n",
       "\\item '    5'\n",
       "\\item '    5'\n",
       "\\item '    6'\n",
       "\\item '    8'\n",
       "\\item '    9'\n",
       "\\item '   1'\n",
       "\\item '   0'\n",
       "\\item '   14'\n",
       "\\item '   0'\n",
       "\\item '   0'\n",
       "\\item '   0'\n",
       "\\item '   0'\n",
       "\\item '   0'\n",
       "\\item '   0'\n",
       "\\item '   0'\n",
       "\\item '   0'\n",
       "\\item '   0'\n",
       "\\item '   20'\n",
       "\\item '   0'\n",
       "\\item '   1'\n",
       "\\item '   1'\n",
       "\\item '   0'\n",
       "\\item '   2'\n",
       "\\item '   0'\n",
       "\\item '   2'\n",
       "\\item '   0'\n",
       "\\item '   1'\n",
       "\\item '   0'\n",
       "\\item '   0'\n",
       "\\item '   0'\n",
       "\\item '   1'\n",
       "\\item '   43'\n",
       "\\item '   4'\n",
       "\\item '   68'\n",
       "\\item '   0'\n",
       "\\item '   85'\n",
       "\\item '  110'\n",
       "\\item '  152'\n",
       "\\item '  180'\n",
       "\\item '   4'\n",
       "\\item '   0'\n",
       "\\item '   4'\n",
       "\\item '   1'\n",
       "\\item '   1'\n",
       "\\item '  235'\n",
       "\\item '   3'\n",
       "\\item '  18'\n",
       "\\item '  289'\n",
       "\\item '   6'\n",
       "\\item '  340'\n",
       "\\item '  23'\n",
       "\\item '  31'\n",
       "\\item '   0'\n",
       "\\item '   0'\n",
       "\\item '   0'\n",
       "\\item '   0'\n",
       "\\item '   0'\n",
       "\\item ' 1'\n",
       "\\item ' 0'\n",
       "\\item '   9'\n",
       "\\item '  19'\n",
       "\\item ' 1'\n",
       "\\item ' 0'\n",
       "\\item ' 0'\n",
       "\\item ' 1'\n",
       "\\item '  74'\n",
       "\\item ' 1'\n",
       "\\item ' 2'\n",
       "\\item '  48'\n",
       "\\item ' 136'\n",
       "\\item ' 1'\n",
       "\\item ' 0'\n",
       "\\item '  60'\n",
       "\\item ' 3'\n",
       "\\item ' 0'\n",
       "\\item ' 0'\n",
       "\\item ' 1'\n",
       "\\item ' 1'\n",
       "\\item ' 0'\n",
       "\\item ' 1'\n",
       "\\item ' 0'\n",
       "\\item ' 108'\n",
       "\\item ' 1'\n",
       "\\item '  70'\n",
       "\\item '  82'\n",
       "\\item ' 0'\n",
       "\\item '  34'\n",
       "\\item ' 1'\n",
       "\\item ' 1'\n",
       "\\item ' 0'\n",
       "\\item '  57'\n",
       "\\item '  58'\n",
       "\\item ' 0'\n",
       "\\item ' 1'\n",
       "\\item ' 100'\n",
       "\\item ' 0'\n",
       "\\item ' 107'\n",
       "\\item ' 0'\n",
       "\\item '  75'\n",
       "\\item ' 1'\n",
       "\\item ' 0'\n",
       "\\item ' 146'\n",
       "\\item ' 227'\n",
       "\\item ' 1'\n",
       "\\item '  93'\n",
       "\\item ' 0'\n",
       "\\item ' 2'\n",
       "\\item '  65'\n",
       "\\item ' 130'\n",
       "\\item ' 233'\n",
       "\\item ' 3'\n",
       "\\item ' 2'\n",
       "\\item '  40'\n",
       "\\item ' 140'\n",
       "\\item ' 171'\n",
       "\\item '  64'\n",
       "\\item ' 1'\n",
       "\\item ' 240'\n",
       "\\item ' 1'\n",
       "\\item ' 134'\n",
       "\\item ' 160'\n",
       "\\item '  85'\n",
       "\\item ' 120'\n",
       "\\item ' 264'\n",
       "\\item ' 250'\n",
       "\\item ' 136'\n",
       "\\item ' 281'\n",
       "\\item ' 175'\n",
       "\\item ' 313'\n",
       "\\item ' 385'\n",
       "\\item ' 569'\n",
       "\\item ' 169'\n",
       "\\item ' 313'\n",
       "\\item ' 267'\n",
       "\\item ' 588'\n",
       "\\item ' 768'\n",
       "\\item '11'\n",
       "\\item ' 7'\n",
       "\\item '1354'\n",
       "\\item ' 9'\n",
       "\\item ' 9'\n",
       "\\item ' 979'\n",
       "\\item ' 6'\n",
       "\\item ' 6'\n",
       "\\item ' 5'\n",
       "\\item ' 5'\n",
       "\\item ' 852'\n",
       "\\item ' 9'\n",
       "\\item ' 879'\n",
       "\\item '1062'\n",
       "\\item ' 8'\n",
       "\\item ' 4'\n",
       "\\item ' 7'\n",
       "\\item '11'\n",
       "\\item ' 966'\n",
       "\\item '1005'\n",
       "\\item ' 2'\n",
       "\\item ' 7'\n",
       "\\item ' 457'\n",
       "\\item ' 6'\n",
       "\\item ' 8'\n",
       "\\item ' 885'\n",
       "\\item ' 5'\n",
       "\\item ' 731'\n",
       "\\item ' 7'\n",
       "\\end{enumerate*}\n"
      ],
      "text/markdown": [
       "1. <span style=white-space:pre-wrap>'    0'</span>\n",
       "2. <span style=white-space:pre-wrap>'    0'</span>\n",
       "3. <span style=white-space:pre-wrap>'    0'</span>\n",
       "4. <span style=white-space:pre-wrap>'    0'</span>\n",
       "5. <span style=white-space:pre-wrap>'    0'</span>\n",
       "6. <span style=white-space:pre-wrap>'    0'</span>\n",
       "7. <span style=white-space:pre-wrap>'    0'</span>\n",
       "8. <span style=white-space:pre-wrap>'    0'</span>\n",
       "9. <span style=white-space:pre-wrap>'    0'</span>\n",
       "10. <span style=white-space:pre-wrap>'    0'</span>\n",
       "11. <span style=white-space:pre-wrap>'    0'</span>\n",
       "12. <span style=white-space:pre-wrap>'    0'</span>\n",
       "13. <span style=white-space:pre-wrap>'    0'</span>\n",
       "14. <span style=white-space:pre-wrap>'    0'</span>\n",
       "15. <span style=white-space:pre-wrap>'    0'</span>\n",
       "16. <span style=white-space:pre-wrap>'    0'</span>\n",
       "17. <span style=white-space:pre-wrap>'    0'</span>\n",
       "18. <span style=white-space:pre-wrap>'    0'</span>\n",
       "19. <span style=white-space:pre-wrap>'    0'</span>\n",
       "20. <span style=white-space:pre-wrap>'    0'</span>\n",
       "21. <span style=white-space:pre-wrap>'    0'</span>\n",
       "22. <span style=white-space:pre-wrap>'    0'</span>\n",
       "23. <span style=white-space:pre-wrap>'    0'</span>\n",
       "24. <span style=white-space:pre-wrap>'    0'</span>\n",
       "25. <span style=white-space:pre-wrap>'    0'</span>\n",
       "26. <span style=white-space:pre-wrap>'    0'</span>\n",
       "27. <span style=white-space:pre-wrap>'    0'</span>\n",
       "28. <span style=white-space:pre-wrap>'    0'</span>\n",
       "29. <span style=white-space:pre-wrap>'    0'</span>\n",
       "30. <span style=white-space:pre-wrap>'    0'</span>\n",
       "31. <span style=white-space:pre-wrap>'    0'</span>\n",
       "32. <span style=white-space:pre-wrap>'    0'</span>\n",
       "33. <span style=white-space:pre-wrap>'    0'</span>\n",
       "34. <span style=white-space:pre-wrap>'    0'</span>\n",
       "35. <span style=white-space:pre-wrap>'    0'</span>\n",
       "36. <span style=white-space:pre-wrap>'    0'</span>\n",
       "37. <span style=white-space:pre-wrap>'    0'</span>\n",
       "38. <span style=white-space:pre-wrap>'    0'</span>\n",
       "39. <span style=white-space:pre-wrap>'    0'</span>\n",
       "40. <span style=white-space:pre-wrap>'    0'</span>\n",
       "41. <span style=white-space:pre-wrap>'    0'</span>\n",
       "42. <span style=white-space:pre-wrap>'    0'</span>\n",
       "43. <span style=white-space:pre-wrap>'    0'</span>\n",
       "44. <span style=white-space:pre-wrap>'    0'</span>\n",
       "45. <span style=white-space:pre-wrap>'    0'</span>\n",
       "46. <span style=white-space:pre-wrap>'    0'</span>\n",
       "47. <span style=white-space:pre-wrap>'    0'</span>\n",
       "48. <span style=white-space:pre-wrap>'    0'</span>\n",
       "49. <span style=white-space:pre-wrap>'    0'</span>\n",
       "50. <span style=white-space:pre-wrap>'    0'</span>\n",
       "51. <span style=white-space:pre-wrap>'    0'</span>\n",
       "52. <span style=white-space:pre-wrap>'    0'</span>\n",
       "53. <span style=white-space:pre-wrap>'    0'</span>\n",
       "54. <span style=white-space:pre-wrap>'    0'</span>\n",
       "55. <span style=white-space:pre-wrap>'    0'</span>\n",
       "56. <span style=white-space:pre-wrap>'    0'</span>\n",
       "57. <span style=white-space:pre-wrap>'    0'</span>\n",
       "58. <span style=white-space:pre-wrap>'    0'</span>\n",
       "59. <span style=white-space:pre-wrap>'    0'</span>\n",
       "60. <span style=white-space:pre-wrap>'    0'</span>\n",
       "61. <span style=white-space:pre-wrap>'    1'</span>\n",
       "62. <span style=white-space:pre-wrap>'    1'</span>\n",
       "63. <span style=white-space:pre-wrap>'    2'</span>\n",
       "64. <span style=white-space:pre-wrap>'    2'</span>\n",
       "65. <span style=white-space:pre-wrap>'    2'</span>\n",
       "66. <span style=white-space:pre-wrap>'    2'</span>\n",
       "67. <span style=white-space:pre-wrap>'    2'</span>\n",
       "68. <span style=white-space:pre-wrap>'    2'</span>\n",
       "69. <span style=white-space:pre-wrap>'    2'</span>\n",
       "70. <span style=white-space:pre-wrap>'    2'</span>\n",
       "71. <span style=white-space:pre-wrap>'    2'</span>\n",
       "72. <span style=white-space:pre-wrap>'    2'</span>\n",
       "73. <span style=white-space:pre-wrap>'    2'</span>\n",
       "74. <span style=white-space:pre-wrap>'    2'</span>\n",
       "75. <span style=white-space:pre-wrap>'    2'</span>\n",
       "76. <span style=white-space:pre-wrap>'    2'</span>\n",
       "77. <span style=white-space:pre-wrap>'    2'</span>\n",
       "78. <span style=white-space:pre-wrap>'    2'</span>\n",
       "79. <span style=white-space:pre-wrap>'    2'</span>\n",
       "80. <span style=white-space:pre-wrap>'    2'</span>\n",
       "81. <span style=white-space:pre-wrap>'    2'</span>\n",
       "82. <span style=white-space:pre-wrap>'    2'</span>\n",
       "83. <span style=white-space:pre-wrap>'    2'</span>\n",
       "84. <span style=white-space:pre-wrap>'    2'</span>\n",
       "85. <span style=white-space:pre-wrap>'    2'</span>\n",
       "86. <span style=white-space:pre-wrap>'    2'</span>\n",
       "87. <span style=white-space:pre-wrap>'    4'</span>\n",
       "88. <span style=white-space:pre-wrap>'    5'</span>\n",
       "89. <span style=white-space:pre-wrap>'    5'</span>\n",
       "90. <span style=white-space:pre-wrap>'    6'</span>\n",
       "91. <span style=white-space:pre-wrap>'    8'</span>\n",
       "92. <span style=white-space:pre-wrap>'    9'</span>\n",
       "93. <span style=white-space:pre-wrap>'   1'</span>\n",
       "94. <span style=white-space:pre-wrap>'   0'</span>\n",
       "95. <span style=white-space:pre-wrap>'   14'</span>\n",
       "96. <span style=white-space:pre-wrap>'   0'</span>\n",
       "97. <span style=white-space:pre-wrap>'   0'</span>\n",
       "98. <span style=white-space:pre-wrap>'   0'</span>\n",
       "99. <span style=white-space:pre-wrap>'   0'</span>\n",
       "100. <span style=white-space:pre-wrap>'   0'</span>\n",
       "101. <span style=white-space:pre-wrap>'   0'</span>\n",
       "102. <span style=white-space:pre-wrap>'   0'</span>\n",
       "103. <span style=white-space:pre-wrap>'   0'</span>\n",
       "104. <span style=white-space:pre-wrap>'   0'</span>\n",
       "105. <span style=white-space:pre-wrap>'   20'</span>\n",
       "106. <span style=white-space:pre-wrap>'   0'</span>\n",
       "107. <span style=white-space:pre-wrap>'   1'</span>\n",
       "108. <span style=white-space:pre-wrap>'   1'</span>\n",
       "109. <span style=white-space:pre-wrap>'   0'</span>\n",
       "110. <span style=white-space:pre-wrap>'   2'</span>\n",
       "111. <span style=white-space:pre-wrap>'   0'</span>\n",
       "112. <span style=white-space:pre-wrap>'   2'</span>\n",
       "113. <span style=white-space:pre-wrap>'   0'</span>\n",
       "114. <span style=white-space:pre-wrap>'   1'</span>\n",
       "115. <span style=white-space:pre-wrap>'   0'</span>\n",
       "116. <span style=white-space:pre-wrap>'   0'</span>\n",
       "117. <span style=white-space:pre-wrap>'   0'</span>\n",
       "118. <span style=white-space:pre-wrap>'   1'</span>\n",
       "119. <span style=white-space:pre-wrap>'   43'</span>\n",
       "120. <span style=white-space:pre-wrap>'   4'</span>\n",
       "121. <span style=white-space:pre-wrap>'   68'</span>\n",
       "122. <span style=white-space:pre-wrap>'   0'</span>\n",
       "123. <span style=white-space:pre-wrap>'   85'</span>\n",
       "124. <span style=white-space:pre-wrap>'  110'</span>\n",
       "125. <span style=white-space:pre-wrap>'  152'</span>\n",
       "126. <span style=white-space:pre-wrap>'  180'</span>\n",
       "127. <span style=white-space:pre-wrap>'   4'</span>\n",
       "128. <span style=white-space:pre-wrap>'   0'</span>\n",
       "129. <span style=white-space:pre-wrap>'   4'</span>\n",
       "130. <span style=white-space:pre-wrap>'   1'</span>\n",
       "131. <span style=white-space:pre-wrap>'   1'</span>\n",
       "132. <span style=white-space:pre-wrap>'  235'</span>\n",
       "133. <span style=white-space:pre-wrap>'   3'</span>\n",
       "134. <span style=white-space:pre-wrap>'  18'</span>\n",
       "135. <span style=white-space:pre-wrap>'  289'</span>\n",
       "136. <span style=white-space:pre-wrap>'   6'</span>\n",
       "137. <span style=white-space:pre-wrap>'  340'</span>\n",
       "138. <span style=white-space:pre-wrap>'  23'</span>\n",
       "139. <span style=white-space:pre-wrap>'  31'</span>\n",
       "140. <span style=white-space:pre-wrap>'   0'</span>\n",
       "141. <span style=white-space:pre-wrap>'   0'</span>\n",
       "142. <span style=white-space:pre-wrap>'   0'</span>\n",
       "143. <span style=white-space:pre-wrap>'   0'</span>\n",
       "144. <span style=white-space:pre-wrap>'   0'</span>\n",
       "145. ' 1'\n",
       "146. ' 0'\n",
       "147. <span style=white-space:pre-wrap>'   9'</span>\n",
       "148. <span style=white-space:pre-wrap>'  19'</span>\n",
       "149. ' 1'\n",
       "150. ' 0'\n",
       "151. ' 0'\n",
       "152. ' 1'\n",
       "153. <span style=white-space:pre-wrap>'  74'</span>\n",
       "154. ' 1'\n",
       "155. ' 2'\n",
       "156. <span style=white-space:pre-wrap>'  48'</span>\n",
       "157. ' 136'\n",
       "158. ' 1'\n",
       "159. ' 0'\n",
       "160. <span style=white-space:pre-wrap>'  60'</span>\n",
       "161. ' 3'\n",
       "162. ' 0'\n",
       "163. ' 0'\n",
       "164. ' 1'\n",
       "165. ' 1'\n",
       "166. ' 0'\n",
       "167. ' 1'\n",
       "168. ' 0'\n",
       "169. ' 108'\n",
       "170. ' 1'\n",
       "171. <span style=white-space:pre-wrap>'  70'</span>\n",
       "172. <span style=white-space:pre-wrap>'  82'</span>\n",
       "173. ' 0'\n",
       "174. <span style=white-space:pre-wrap>'  34'</span>\n",
       "175. ' 1'\n",
       "176. ' 1'\n",
       "177. ' 0'\n",
       "178. <span style=white-space:pre-wrap>'  57'</span>\n",
       "179. <span style=white-space:pre-wrap>'  58'</span>\n",
       "180. ' 0'\n",
       "181. ' 1'\n",
       "182. ' 100'\n",
       "183. ' 0'\n",
       "184. ' 107'\n",
       "185. ' 0'\n",
       "186. <span style=white-space:pre-wrap>'  75'</span>\n",
       "187. ' 1'\n",
       "188. ' 0'\n",
       "189. ' 146'\n",
       "190. ' 227'\n",
       "191. ' 1'\n",
       "192. <span style=white-space:pre-wrap>'  93'</span>\n",
       "193. ' 0'\n",
       "194. ' 2'\n",
       "195. <span style=white-space:pre-wrap>'  65'</span>\n",
       "196. ' 130'\n",
       "197. ' 233'\n",
       "198. ' 3'\n",
       "199. ' 2'\n",
       "200. <span style=white-space:pre-wrap>'  40'</span>\n",
       "201. ' 140'\n",
       "202. ' 171'\n",
       "203. <span style=white-space:pre-wrap>'  64'</span>\n",
       "204. ' 1'\n",
       "205. ' 240'\n",
       "206. ' 1'\n",
       "207. ' 134'\n",
       "208. ' 160'\n",
       "209. <span style=white-space:pre-wrap>'  85'</span>\n",
       "210. ' 120'\n",
       "211. ' 264'\n",
       "212. ' 250'\n",
       "213. ' 136'\n",
       "214. ' 281'\n",
       "215. ' 175'\n",
       "216. ' 313'\n",
       "217. ' 385'\n",
       "218. ' 569'\n",
       "219. ' 169'\n",
       "220. ' 313'\n",
       "221. ' 267'\n",
       "222. ' 588'\n",
       "223. ' 768'\n",
       "224. '11'\n",
       "225. ' 7'\n",
       "226. '1354'\n",
       "227. ' 9'\n",
       "228. ' 9'\n",
       "229. ' 979'\n",
       "230. ' 6'\n",
       "231. ' 6'\n",
       "232. ' 5'\n",
       "233. ' 5'\n",
       "234. ' 852'\n",
       "235. ' 9'\n",
       "236. ' 879'\n",
       "237. '1062'\n",
       "238. ' 8'\n",
       "239. ' 4'\n",
       "240. ' 7'\n",
       "241. '11'\n",
       "242. ' 966'\n",
       "243. '1005'\n",
       "244. ' 2'\n",
       "245. ' 7'\n",
       "246. ' 457'\n",
       "247. ' 6'\n",
       "248. ' 8'\n",
       "249. ' 885'\n",
       "250. ' 5'\n",
       "251. ' 731'\n",
       "252. ' 7'\n",
       "\n",
       "\n"
      ],
      "text/plain": [
       "  [1] \"    0\" \"    0\" \"    0\" \"    0\" \"    0\" \"    0\" \"    0\" \"    0\" \"    0\"\n",
       " [10] \"    0\" \"    0\" \"    0\" \"    0\" \"    0\" \"    0\" \"    0\" \"    0\" \"    0\"\n",
       " [19] \"    0\" \"    0\" \"    0\" \"    0\" \"    0\" \"    0\" \"    0\" \"    0\" \"    0\"\n",
       " [28] \"    0\" \"    0\" \"    0\" \"    0\" \"    0\" \"    0\" \"    0\" \"    0\" \"    0\"\n",
       " [37] \"    0\" \"    0\" \"    0\" \"    0\" \"    0\" \"    0\" \"    0\" \"    0\" \"    0\"\n",
       " [46] \"    0\" \"    0\" \"    0\" \"    0\" \"    0\" \"    0\" \"    0\" \"    0\" \"    0\"\n",
       " [55] \"    0\" \"    0\" \"    0\" \"    0\" \"    0\" \"    0\" \"    1\" \"    1\" \"    2\"\n",
       " [64] \"    2\" \"    2\" \"    2\" \"    2\" \"    2\" \"    2\" \"    2\" \"    2\" \"    2\"\n",
       " [73] \"    2\" \"    2\" \"    2\" \"    2\" \"    2\" \"    2\" \"    2\" \"    2\" \"    2\"\n",
       " [82] \"    2\" \"    2\" \"    2\" \"    2\" \"    2\" \"    4\" \"    5\" \"    5\" \"    6\"\n",
       " [91] \"    8\" \"    9\" \"   1\"  \"   0\"  \"   14\" \"   0\"  \"   0\"  \"   0\"  \"   0\" \n",
       "[100] \"   0\"  \"   0\"  \"   0\"  \"   0\"  \"   0\"  \"   20\" \"   0\"  \"   1\"  \"   1\" \n",
       "[109] \"   0\"  \"   2\"  \"   0\"  \"   2\"  \"   0\"  \"   1\"  \"   0\"  \"   0\"  \"   0\" \n",
       "[118] \"   1\"  \"   43\" \"   4\"  \"   68\" \"   0\"  \"   85\" \"  110\" \"  152\" \"  180\"\n",
       "[127] \"   4\"  \"   0\"  \"   4\"  \"   1\"  \"   1\"  \"  235\" \"   3\"  \"  18\"  \"  289\"\n",
       "[136] \"   6\"  \"  340\" \"  23\"  \"  31\"  \"   0\"  \"   0\"  \"   0\"  \"   0\"  \"   0\" \n",
       "[145] \" 1\"    \" 0\"    \"   9\"  \"  19\"  \" 1\"    \" 0\"    \" 0\"    \" 1\"    \"  74\" \n",
       "[154] \" 1\"    \" 2\"    \"  48\"  \" 136\"  \" 1\"    \" 0\"    \"  60\"  \" 3\"    \" 0\"   \n",
       "[163] \" 0\"    \" 1\"    \" 1\"    \" 0\"    \" 1\"    \" 0\"    \" 108\"  \" 1\"    \"  70\" \n",
       "[172] \"  82\"  \" 0\"    \"  34\"  \" 1\"    \" 1\"    \" 0\"    \"  57\"  \"  58\"  \" 0\"   \n",
       "[181] \" 1\"    \" 100\"  \" 0\"    \" 107\"  \" 0\"    \"  75\"  \" 1\"    \" 0\"    \" 146\" \n",
       "[190] \" 227\"  \" 1\"    \"  93\"  \" 0\"    \" 2\"    \"  65\"  \" 130\"  \" 233\"  \" 3\"   \n",
       "[199] \" 2\"    \"  40\"  \" 140\"  \" 171\"  \"  64\"  \" 1\"    \" 240\"  \" 1\"    \" 134\" \n",
       "[208] \" 160\"  \"  85\"  \" 120\"  \" 264\"  \" 250\"  \" 136\"  \" 281\"  \" 175\"  \" 313\" \n",
       "[217] \" 385\"  \" 569\"  \" 169\"  \" 313\"  \" 267\"  \" 588\"  \" 768\"  \"11\"    \" 7\"   \n",
       "[226] \"1354\"  \" 9\"    \" 9\"    \" 979\"  \" 6\"    \" 6\"    \" 5\"    \" 5\"    \" 852\" \n",
       "[235] \" 9\"    \" 879\"  \"1062\"  \" 8\"    \" 4\"    \" 7\"    \"11\"    \" 966\"  \"1005\" \n",
       "[244] \" 2\"    \" 7\"    \" 457\"  \" 6\"    \" 8\"    \" 885\"  \" 5\"    \" 731\"  \" 7\"   "
      ]
     },
     "metadata": {},
     "output_type": "display_data"
    }
   ],
   "source": [
    "min_values <- apply(data, 1, min)\n",
    "min_values\n"
   ]
  },
  {
   "cell_type": "code",
   "execution_count": 22,
   "metadata": {
    "vscode": {
     "languageId": "r"
    }
   },
   "outputs": [],
   "source": [
    "result <- pmax(data$totalCases, 1)\n"
   ]
  },
  {
   "cell_type": "code",
   "execution_count": 23,
   "metadata": {
    "vscode": {
     "languageId": "r"
    }
   },
   "outputs": [
    {
     "data": {
      "text/html": [
       "<style>\n",
       ".list-inline {list-style: none; margin:0; padding: 0}\n",
       ".list-inline>li {display: inline-block}\n",
       ".list-inline>li:not(:last-child)::after {content: \"\\00b7\"; padding: 0 .5ex}\n",
       "</style>\n",
       "<ol class=list-inline><li>1</li><li>1</li><li>1</li><li>1</li><li>1</li><li>1</li><li>1</li><li>1</li><li>1</li><li>1</li><li>1</li><li>1</li><li>1</li><li>1</li><li>1</li><li>1</li><li>1</li><li>1</li><li>1</li><li>1</li><li>1</li><li>1</li><li>1</li><li>1</li><li>1</li><li>1</li><li>1</li><li>1</li><li>1</li><li>1</li><li>1</li><li>1</li><li>1</li><li>1</li><li>1</li><li>1</li><li>1</li><li>1</li><li>1</li><li>1</li><li>1</li><li>1</li><li>1</li><li>1</li><li>1</li><li>1</li><li>1</li><li>1</li><li>1</li><li>1</li><li>1</li><li>1</li><li>1</li><li>1</li><li>1</li><li>1</li><li>1</li><li>1</li><li>1</li><li>1</li><li>1</li><li>1</li><li>2</li><li>2</li><li>3</li><li>4</li><li>4</li><li>4</li><li>4</li><li>4</li><li>5</li><li>5</li><li>8</li><li>8</li><li>8</li><li>8</li><li>8</li><li>8</li><li>8</li><li>8</li><li>11</li><li>13</li><li>15</li><li>15</li><li>15</li><li>29</li><li>30</li><li>30</li><li>30</li><li>41</li><li>44</li><li>47</li><li>48</li><li>48</li><li>51</li><li>51</li><li>53</li><li>56</li><li>56</li><li>58</li><li>58</li><li>74</li><li>74</li><li>81</li><li>98</li><li>100</li><li>101</li><li>108</li><li>109</li><li>133</li><li>216</li><li>242</li><li>248</li><li>266</li><li>280</li><li>294</li><li>374</li><li>401</li><li>426</li><li>456</li><li>515</li><li>583</li><li>602</li><li>681</li><li>771</li><li>885</li><li>1041</li><li>1211</li><li>1400</li><li>1571</li><li>1810</li><li>2098</li><li>2299</li><li>2633</li><li>2911</li><li>3234</li><li>3447</li><li>3760</li><li>4083</li><li>4362</li><li>4612</li><li>5059</li><li>5334</li><li>5759</li><li>6210</li><li>6590</li><li>7176</li><li>7847</li><li>8273</li><li>8604</li><li>9025</li><li>9558</li><li>10098</li><li>10727</li><li>11161</li><li>11754</li><li>12308</li><li>12771</li><li>13247</li><li>13563</li><li>14045</li><li>14518</li><li>15258</li><li>15490</li><li>15783</li><li>15963</li><li>16167</li><li>16422</li><li>16530</li><li>16648</li><li>16718</li><li>16800</li><li>16944</li><li>17060</li><li>17176</li><li>17343</li><li>17444</li><li>17501</li><li>17657</li><li>17843</li><li>17993</li><li>18093</li><li>18240</li><li>18373</li><li>18482</li><li>18612</li><li>18751</li><li>19062</li><li>19272</li><li>19546</li><li>19770</li><li>20085</li><li>20331</li><li>20749</li><li>21008</li><li>21389</li><li>21749</li><li>22213</li><li>22591</li><li>22971</li><li>23309</li><li>23947</li><li>24431</li><li>24956</li><li>25550</li><li>26018</li><li>26659</li><li>27240</li><li>28256</li><li>28937</li><li>29644</li><li>30482</li><li>31116</li><li>31934</li><li>32677</li><li>33532</li><li>34417</li><li>35528</li><li>36455</li><li>37339</li><li>38560</li><li>39459</li><li>40528</li><li>41648</li><li>42876</li><li>44235</li><li>45276</li><li>46256</li><li>47235</li><li>48137</li><li>49218</li><li>50464</li><li>51918</li><li>53119</li><li>54158</li><li>55328</li><li>56787</li><li>58326</li><li>59572</li><li>61592</li><li>62796</li><li>64121</li><li>65275</li><li>66631</li><li>67803</li><li>69300</li><li>70613</li><li>71820</li><li>73393</li><li>74744</li><li>76257</li><li>77816</li></ol>\n"
      ],
      "text/latex": [
       "\\begin{enumerate*}\n",
       "\\item 1\n",
       "\\item 1\n",
       "\\item 1\n",
       "\\item 1\n",
       "\\item 1\n",
       "\\item 1\n",
       "\\item 1\n",
       "\\item 1\n",
       "\\item 1\n",
       "\\item 1\n",
       "\\item 1\n",
       "\\item 1\n",
       "\\item 1\n",
       "\\item 1\n",
       "\\item 1\n",
       "\\item 1\n",
       "\\item 1\n",
       "\\item 1\n",
       "\\item 1\n",
       "\\item 1\n",
       "\\item 1\n",
       "\\item 1\n",
       "\\item 1\n",
       "\\item 1\n",
       "\\item 1\n",
       "\\item 1\n",
       "\\item 1\n",
       "\\item 1\n",
       "\\item 1\n",
       "\\item 1\n",
       "\\item 1\n",
       "\\item 1\n",
       "\\item 1\n",
       "\\item 1\n",
       "\\item 1\n",
       "\\item 1\n",
       "\\item 1\n",
       "\\item 1\n",
       "\\item 1\n",
       "\\item 1\n",
       "\\item 1\n",
       "\\item 1\n",
       "\\item 1\n",
       "\\item 1\n",
       "\\item 1\n",
       "\\item 1\n",
       "\\item 1\n",
       "\\item 1\n",
       "\\item 1\n",
       "\\item 1\n",
       "\\item 1\n",
       "\\item 1\n",
       "\\item 1\n",
       "\\item 1\n",
       "\\item 1\n",
       "\\item 1\n",
       "\\item 1\n",
       "\\item 1\n",
       "\\item 1\n",
       "\\item 1\n",
       "\\item 1\n",
       "\\item 1\n",
       "\\item 2\n",
       "\\item 2\n",
       "\\item 3\n",
       "\\item 4\n",
       "\\item 4\n",
       "\\item 4\n",
       "\\item 4\n",
       "\\item 4\n",
       "\\item 5\n",
       "\\item 5\n",
       "\\item 8\n",
       "\\item 8\n",
       "\\item 8\n",
       "\\item 8\n",
       "\\item 8\n",
       "\\item 8\n",
       "\\item 8\n",
       "\\item 8\n",
       "\\item 11\n",
       "\\item 13\n",
       "\\item 15\n",
       "\\item 15\n",
       "\\item 15\n",
       "\\item 29\n",
       "\\item 30\n",
       "\\item 30\n",
       "\\item 30\n",
       "\\item 41\n",
       "\\item 44\n",
       "\\item 47\n",
       "\\item 48\n",
       "\\item 48\n",
       "\\item 51\n",
       "\\item 51\n",
       "\\item 53\n",
       "\\item 56\n",
       "\\item 56\n",
       "\\item 58\n",
       "\\item 58\n",
       "\\item 74\n",
       "\\item 74\n",
       "\\item 81\n",
       "\\item 98\n",
       "\\item 100\n",
       "\\item 101\n",
       "\\item 108\n",
       "\\item 109\n",
       "\\item 133\n",
       "\\item 216\n",
       "\\item 242\n",
       "\\item 248\n",
       "\\item 266\n",
       "\\item 280\n",
       "\\item 294\n",
       "\\item 374\n",
       "\\item 401\n",
       "\\item 426\n",
       "\\item 456\n",
       "\\item 515\n",
       "\\item 583\n",
       "\\item 602\n",
       "\\item 681\n",
       "\\item 771\n",
       "\\item 885\n",
       "\\item 1041\n",
       "\\item 1211\n",
       "\\item 1400\n",
       "\\item 1571\n",
       "\\item 1810\n",
       "\\item 2098\n",
       "\\item 2299\n",
       "\\item 2633\n",
       "\\item 2911\n",
       "\\item 3234\n",
       "\\item 3447\n",
       "\\item 3760\n",
       "\\item 4083\n",
       "\\item 4362\n",
       "\\item 4612\n",
       "\\item 5059\n",
       "\\item 5334\n",
       "\\item 5759\n",
       "\\item 6210\n",
       "\\item 6590\n",
       "\\item 7176\n",
       "\\item 7847\n",
       "\\item 8273\n",
       "\\item 8604\n",
       "\\item 9025\n",
       "\\item 9558\n",
       "\\item 10098\n",
       "\\item 10727\n",
       "\\item 11161\n",
       "\\item 11754\n",
       "\\item 12308\n",
       "\\item 12771\n",
       "\\item 13247\n",
       "\\item 13563\n",
       "\\item 14045\n",
       "\\item 14518\n",
       "\\item 15258\n",
       "\\item 15490\n",
       "\\item 15783\n",
       "\\item 15963\n",
       "\\item 16167\n",
       "\\item 16422\n",
       "\\item 16530\n",
       "\\item 16648\n",
       "\\item 16718\n",
       "\\item 16800\n",
       "\\item 16944\n",
       "\\item 17060\n",
       "\\item 17176\n",
       "\\item 17343\n",
       "\\item 17444\n",
       "\\item 17501\n",
       "\\item 17657\n",
       "\\item 17843\n",
       "\\item 17993\n",
       "\\item 18093\n",
       "\\item 18240\n",
       "\\item 18373\n",
       "\\item 18482\n",
       "\\item 18612\n",
       "\\item 18751\n",
       "\\item 19062\n",
       "\\item 19272\n",
       "\\item 19546\n",
       "\\item 19770\n",
       "\\item 20085\n",
       "\\item 20331\n",
       "\\item 20749\n",
       "\\item 21008\n",
       "\\item 21389\n",
       "\\item 21749\n",
       "\\item 22213\n",
       "\\item 22591\n",
       "\\item 22971\n",
       "\\item 23309\n",
       "\\item 23947\n",
       "\\item 24431\n",
       "\\item 24956\n",
       "\\item 25550\n",
       "\\item 26018\n",
       "\\item 26659\n",
       "\\item 27240\n",
       "\\item 28256\n",
       "\\item 28937\n",
       "\\item 29644\n",
       "\\item 30482\n",
       "\\item 31116\n",
       "\\item 31934\n",
       "\\item 32677\n",
       "\\item 33532\n",
       "\\item 34417\n",
       "\\item 35528\n",
       "\\item 36455\n",
       "\\item 37339\n",
       "\\item 38560\n",
       "\\item 39459\n",
       "\\item 40528\n",
       "\\item 41648\n",
       "\\item 42876\n",
       "\\item 44235\n",
       "\\item 45276\n",
       "\\item 46256\n",
       "\\item 47235\n",
       "\\item 48137\n",
       "\\item 49218\n",
       "\\item 50464\n",
       "\\item 51918\n",
       "\\item 53119\n",
       "\\item 54158\n",
       "\\item 55328\n",
       "\\item 56787\n",
       "\\item 58326\n",
       "\\item 59572\n",
       "\\item 61592\n",
       "\\item 62796\n",
       "\\item 64121\n",
       "\\item 65275\n",
       "\\item 66631\n",
       "\\item 67803\n",
       "\\item 69300\n",
       "\\item 70613\n",
       "\\item 71820\n",
       "\\item 73393\n",
       "\\item 74744\n",
       "\\item 76257\n",
       "\\item 77816\n",
       "\\end{enumerate*}\n"
      ],
      "text/markdown": [
       "1. 1\n",
       "2. 1\n",
       "3. 1\n",
       "4. 1\n",
       "5. 1\n",
       "6. 1\n",
       "7. 1\n",
       "8. 1\n",
       "9. 1\n",
       "10. 1\n",
       "11. 1\n",
       "12. 1\n",
       "13. 1\n",
       "14. 1\n",
       "15. 1\n",
       "16. 1\n",
       "17. 1\n",
       "18. 1\n",
       "19. 1\n",
       "20. 1\n",
       "21. 1\n",
       "22. 1\n",
       "23. 1\n",
       "24. 1\n",
       "25. 1\n",
       "26. 1\n",
       "27. 1\n",
       "28. 1\n",
       "29. 1\n",
       "30. 1\n",
       "31. 1\n",
       "32. 1\n",
       "33. 1\n",
       "34. 1\n",
       "35. 1\n",
       "36. 1\n",
       "37. 1\n",
       "38. 1\n",
       "39. 1\n",
       "40. 1\n",
       "41. 1\n",
       "42. 1\n",
       "43. 1\n",
       "44. 1\n",
       "45. 1\n",
       "46. 1\n",
       "47. 1\n",
       "48. 1\n",
       "49. 1\n",
       "50. 1\n",
       "51. 1\n",
       "52. 1\n",
       "53. 1\n",
       "54. 1\n",
       "55. 1\n",
       "56. 1\n",
       "57. 1\n",
       "58. 1\n",
       "59. 1\n",
       "60. 1\n",
       "61. 1\n",
       "62. 1\n",
       "63. 2\n",
       "64. 2\n",
       "65. 3\n",
       "66. 4\n",
       "67. 4\n",
       "68. 4\n",
       "69. 4\n",
       "70. 4\n",
       "71. 5\n",
       "72. 5\n",
       "73. 8\n",
       "74. 8\n",
       "75. 8\n",
       "76. 8\n",
       "77. 8\n",
       "78. 8\n",
       "79. 8\n",
       "80. 8\n",
       "81. 11\n",
       "82. 13\n",
       "83. 15\n",
       "84. 15\n",
       "85. 15\n",
       "86. 29\n",
       "87. 30\n",
       "88. 30\n",
       "89. 30\n",
       "90. 41\n",
       "91. 44\n",
       "92. 47\n",
       "93. 48\n",
       "94. 48\n",
       "95. 51\n",
       "96. 51\n",
       "97. 53\n",
       "98. 56\n",
       "99. 56\n",
       "100. 58\n",
       "101. 58\n",
       "102. 74\n",
       "103. 74\n",
       "104. 81\n",
       "105. 98\n",
       "106. 100\n",
       "107. 101\n",
       "108. 108\n",
       "109. 109\n",
       "110. 133\n",
       "111. 216\n",
       "112. 242\n",
       "113. 248\n",
       "114. 266\n",
       "115. 280\n",
       "116. 294\n",
       "117. 374\n",
       "118. 401\n",
       "119. 426\n",
       "120. 456\n",
       "121. 515\n",
       "122. 583\n",
       "123. 602\n",
       "124. 681\n",
       "125. 771\n",
       "126. 885\n",
       "127. 1041\n",
       "128. 1211\n",
       "129. 1400\n",
       "130. 1571\n",
       "131. 1810\n",
       "132. 2098\n",
       "133. 2299\n",
       "134. 2633\n",
       "135. 2911\n",
       "136. 3234\n",
       "137. 3447\n",
       "138. 3760\n",
       "139. 4083\n",
       "140. 4362\n",
       "141. 4612\n",
       "142. 5059\n",
       "143. 5334\n",
       "144. 5759\n",
       "145. 6210\n",
       "146. 6590\n",
       "147. 7176\n",
       "148. 7847\n",
       "149. 8273\n",
       "150. 8604\n",
       "151. 9025\n",
       "152. 9558\n",
       "153. 10098\n",
       "154. 10727\n",
       "155. 11161\n",
       "156. 11754\n",
       "157. 12308\n",
       "158. 12771\n",
       "159. 13247\n",
       "160. 13563\n",
       "161. 14045\n",
       "162. 14518\n",
       "163. 15258\n",
       "164. 15490\n",
       "165. 15783\n",
       "166. 15963\n",
       "167. 16167\n",
       "168. 16422\n",
       "169. 16530\n",
       "170. 16648\n",
       "171. 16718\n",
       "172. 16800\n",
       "173. 16944\n",
       "174. 17060\n",
       "175. 17176\n",
       "176. 17343\n",
       "177. 17444\n",
       "178. 17501\n",
       "179. 17657\n",
       "180. 17843\n",
       "181. 17993\n",
       "182. 18093\n",
       "183. 18240\n",
       "184. 18373\n",
       "185. 18482\n",
       "186. 18612\n",
       "187. 18751\n",
       "188. 19062\n",
       "189. 19272\n",
       "190. 19546\n",
       "191. 19770\n",
       "192. 20085\n",
       "193. 20331\n",
       "194. 20749\n",
       "195. 21008\n",
       "196. 21389\n",
       "197. 21749\n",
       "198. 22213\n",
       "199. 22591\n",
       "200. 22971\n",
       "201. 23309\n",
       "202. 23947\n",
       "203. 24431\n",
       "204. 24956\n",
       "205. 25550\n",
       "206. 26018\n",
       "207. 26659\n",
       "208. 27240\n",
       "209. 28256\n",
       "210. 28937\n",
       "211. 29644\n",
       "212. 30482\n",
       "213. 31116\n",
       "214. 31934\n",
       "215. 32677\n",
       "216. 33532\n",
       "217. 34417\n",
       "218. 35528\n",
       "219. 36455\n",
       "220. 37339\n",
       "221. 38560\n",
       "222. 39459\n",
       "223. 40528\n",
       "224. 41648\n",
       "225. 42876\n",
       "226. 44235\n",
       "227. 45276\n",
       "228. 46256\n",
       "229. 47235\n",
       "230. 48137\n",
       "231. 49218\n",
       "232. 50464\n",
       "233. 51918\n",
       "234. 53119\n",
       "235. 54158\n",
       "236. 55328\n",
       "237. 56787\n",
       "238. 58326\n",
       "239. 59572\n",
       "240. 61592\n",
       "241. 62796\n",
       "242. 64121\n",
       "243. 65275\n",
       "244. 66631\n",
       "245. 67803\n",
       "246. 69300\n",
       "247. 70613\n",
       "248. 71820\n",
       "249. 73393\n",
       "250. 74744\n",
       "251. 76257\n",
       "252. 77816\n",
       "\n",
       "\n"
      ],
      "text/plain": [
       "  [1]     1     1     1     1     1     1     1     1     1     1     1     1\n",
       " [13]     1     1     1     1     1     1     1     1     1     1     1     1\n",
       " [25]     1     1     1     1     1     1     1     1     1     1     1     1\n",
       " [37]     1     1     1     1     1     1     1     1     1     1     1     1\n",
       " [49]     1     1     1     1     1     1     1     1     1     1     1     1\n",
       " [61]     1     1     2     2     3     4     4     4     4     4     5     5\n",
       " [73]     8     8     8     8     8     8     8     8    11    13    15    15\n",
       " [85]    15    29    30    30    30    41    44    47    48    48    51    51\n",
       " [97]    53    56    56    58    58    74    74    81    98   100   101   108\n",
       "[109]   109   133   216   242   248   266   280   294   374   401   426   456\n",
       "[121]   515   583   602   681   771   885  1041  1211  1400  1571  1810  2098\n",
       "[133]  2299  2633  2911  3234  3447  3760  4083  4362  4612  5059  5334  5759\n",
       "[145]  6210  6590  7176  7847  8273  8604  9025  9558 10098 10727 11161 11754\n",
       "[157] 12308 12771 13247 13563 14045 14518 15258 15490 15783 15963 16167 16422\n",
       "[169] 16530 16648 16718 16800 16944 17060 17176 17343 17444 17501 17657 17843\n",
       "[181] 17993 18093 18240 18373 18482 18612 18751 19062 19272 19546 19770 20085\n",
       "[193] 20331 20749 21008 21389 21749 22213 22591 22971 23309 23947 24431 24956\n",
       "[205] 25550 26018 26659 27240 28256 28937 29644 30482 31116 31934 32677 33532\n",
       "[217] 34417 35528 36455 37339 38560 39459 40528 41648 42876 44235 45276 46256\n",
       "[229] 47235 48137 49218 50464 51918 53119 54158 55328 56787 58326 59572 61592\n",
       "[241] 62796 64121 65275 66631 67803 69300 70613 71820 73393 74744 76257 77816"
      ]
     },
     "metadata": {},
     "output_type": "display_data"
    }
   ],
   "source": [
    "result\n"
   ]
  },
  {
   "cell_type": "code",
   "execution_count": 3,
   "metadata": {
    "vscode": {
     "languageId": "r"
    }
   },
   "outputs": [
    {
     "data": {
      "text/html": [
       "<style>\n",
       ".list-inline {list-style: none; margin:0; padding: 0}\n",
       ".list-inline>li {display: inline-block}\n",
       ".list-inline>li:not(:last-child)::after {content: \"\\00b7\"; padding: 0 .5ex}\n",
       "</style>\n",
       "<ol class=list-inline><li>1</li><li>2</li><li>3</li><li>1</li><li>4</li></ol>\n"
      ],
      "text/latex": [
       "\\begin{enumerate*}\n",
       "\\item 1\n",
       "\\item 2\n",
       "\\item 3\n",
       "\\item 1\n",
       "\\item 4\n",
       "\\end{enumerate*}\n"
      ],
      "text/markdown": [
       "1. 1\n",
       "2. 2\n",
       "3. 3\n",
       "4. 1\n",
       "5. 4\n",
       "\n",
       "\n"
      ],
      "text/plain": [
       "[1] 1 2 3 1 4"
      ]
     },
     "metadata": {},
     "output_type": "display_data"
    }
   ],
   "source": [
    "# Sample dataframe (replace with your actual data)\n",
    "df <- data.frame(totalCases = c(0, 2, 3, 1, 4))\n",
    "\n",
    "# Calculate the minimum value for each row\n",
    "min_values <- apply(df, 1, min)\n",
    "\n",
    "# Compare each minimum value with 1 and take the maximum\n",
    "result <- pmax(min_values, 1)\n",
    "\n",
    "# Print the result\n",
    "result\n"
   ]
  },
  {
   "cell_type": "code",
   "execution_count": 17,
   "metadata": {
    "vscode": {
     "languageId": "r"
    }
   },
   "outputs": [
    {
     "ename": "ERROR",
     "evalue": "Error in data$totalCases: object of type 'closure' is not subsettable\n",
     "output_type": "error",
     "traceback": [
      "Error in data$totalCases: object of type 'closure' is not subsettable\nTraceback:\n"
     ]
    }
   ],
   "source": [
    "apply(list(data$totalCases), 1, FUN = min)\n"
   ]
  },
  {
   "cell_type": "code",
   "execution_count": null,
   "metadata": {
    "vscode": {
     "languageId": "r"
    }
   },
   "outputs": [],
   "source": [
    "data$totalCases[data$totalCases < 1] <- 1\n"
   ]
  },
  {
   "cell_type": "code",
   "execution_count": null,
   "metadata": {
    "vscode": {
     "languageId": "r"
    }
   },
   "outputs": [],
   "source": [
    "data$totalCases\n"
   ]
  },
  {
   "cell_type": "code",
   "execution_count": null,
   "metadata": {
    "vscode": {
     "languageId": "r"
    }
   },
   "outputs": [],
   "source": [
    "summary(pmax(data$totalCases, 1))\n"
   ]
  },
  {
   "cell_type": "code",
   "execution_count": null,
   "metadata": {
    "vscode": {
     "languageId": "r"
    }
   },
   "outputs": [],
   "source": [
    "summary(data)\n"
   ]
  },
  {
   "cell_type": "code",
   "execution_count": null,
   "metadata": {
    "vscode": {
     "languageId": "r"
    }
   },
   "outputs": [],
   "source": [
    "q01 <- data$q01\n"
   ]
  },
  {
   "cell_type": "code",
   "execution_count": null,
   "metadata": {
    "vscode": {
     "languageId": "r"
    }
   },
   "outputs": [],
   "source": [
    "table(q01)\n"
   ]
  },
  {
   "cell_type": "code",
   "execution_count": null,
   "metadata": {
    "vscode": {
     "languageId": "r"
    }
   },
   "outputs": [],
   "source": [
    "data1 <- round(prop.table(table(q01)) * 100, 2)\n"
   ]
  },
  {
   "cell_type": "code",
   "execution_count": null,
   "metadata": {
    "vscode": {
     "languageId": "r"
    }
   },
   "outputs": [],
   "source": [
    "list(data1)\n"
   ]
  },
  {
   "cell_type": "code",
   "execution_count": null,
   "metadata": {
    "vscode": {
     "languageId": "r"
    }
   },
   "outputs": [],
   "source": [
    "# Load the 'haven' package (if not already installed)\n",
    "install.packages(\"haven\")\n",
    "library(haven)\n",
    "\n",
    "# Read the data from \"SAQ8.sav\" (replace with your actual file path)\n",
    "saq_data <- read_sav(\"SAQ8.sav\")\n",
    "\n",
    "# Compute frequencies for q01, q03, q06, and q08\n",
    "freq_q01 <- table(saq_data$q01)\n",
    "freq_q03 <- table(saq_data$q03)\n",
    "freq_q06 <- table(saq_data$q06)\n",
    "freq_q08 <- table(saq_data$q08)\n",
    "\n",
    "# Calculate percentages for q01, q03, q06, and q08\n",
    "percent_q01 <- prop.table(freq_q01) * 100\n",
    "percent_q03 <- prop.table(freq_q03) * 100\n",
    "percent_q06 <- prop.table(freq_q06) * 100\n",
    "percent_q08 <- prop.table(freq_q08) * 100\n",
    "\n",
    "# Calculate valid percentages for q01, q03, q06, and q08 (excluding missing values)\n",
    "valid_percent_q01 <- prop.table(freq_q01, ) * 100\n",
    "valid_percent_q03 <- prop.table(freq_q03, ) * 100\n",
    "valid_percent_q06 <- prop.table(freq_q06, ) * 100\n",
    "valid_percent_q08 <- prop.table(freq_q08, ) * 100\n",
    "\n",
    "# Calculate cumulative percentages for q01, q03, q06, and q08\n",
    "cum_percent_q01 <- cumsum(valid_percent_q01)\n",
    "cum_percent_q03 <- cumsum(valid_percent_q03)\n",
    "cum_percent_q06 <- cumsum(valid_percent_q06)\n",
    "cum_percent_q08 <- cumsum(valid_percent_q08)\n",
    "\n",
    "# Create a data frame to match the given table format\n",
    "result_df <- data.frame(\n",
    "  Level = c(\"Strongly agree\", \"Agree\", \"Neither\", \"Disagree\", \"Strongly disagree\"),\n",
    "  Frequency = c(freq_q01[1], freq_q03[1], freq_q06[1], freq_q08[1], sum(freq_q01)),\n",
    "  Percent = c(percent_q01[1], percent_q03[1], percent_q06[1], percent_q08[1], 100),\n",
    "  Valid_Percent = c(valid_percent_q01[1], valid_percent_q03[1], valid_percent_q06[1], valid_percent_q08[1], 100),\n",
    "  Cumulative_Percent = c(cum_percent_q01[1], cum_percent_q03[1], cum_percent_q06[1], cum_percent_q08[1], 100)\n",
    ")\n",
    "\n",
    "# Print the result\n",
    "result_df\n"
   ]
  },
  {
   "cell_type": "code",
   "execution_count": 1,
   "metadata": {
    "vscode": {
     "languageId": "r"
    }
   },
   "outputs": [],
   "source": [
    "library(jsonlite)\n"
   ]
  },
  {
   "cell_type": "code",
   "execution_count": 29,
   "metadata": {
    "vscode": {
     "languageId": "r"
    }
   },
   "outputs": [],
   "source": [
    "library(haven) # for .SAV file we can use foreign package for that as well\n",
    "library(gt, warn.conflicts = FALSE) # genotype table for\n",
    "\n",
    "# read the .sav file using read_sav function from haven\n",
    "saq_data <- read_sav(\"SAQ8.sav\")\n",
    "\n",
    "# for q1\n",
    "\n",
    "q01 <- saq_data$q01\n",
    "\n",
    "# frequency table for q1\n",
    "freq_q01 <- table(saq_data$q01)\n",
    "percent_q01 <- round(prop.table(saq_data$q01) * 100, 1)\n",
    "valid_percent_q01 <- round(prop.table(saq_data$q01) * 100, 1)\n",
    "cum_percent <- cumsum(saq_data$q01)\n"
   ]
  },
  {
   "cell_type": "code",
   "execution_count": 34,
   "metadata": {
    "vscode": {
     "languageId": "r"
    }
   },
   "outputs": [
    {
     "data": {
      "text/html": [
       "<style>\n",
       ".dl-inline {width: auto; margin:0; padding: 0}\n",
       ".dl-inline>dt, .dl-inline>dd {float: none; width: auto; display: inline-block}\n",
       ".dl-inline>dt::after {content: \":\\0020\"; padding-right: .5ex}\n",
       ".dl-inline>dt:not(:first-of-type) {padding-left: .5ex}\n",
       "</style><dl class=dl-inline><dt>q01</dt><dd>'Statistics makes me cry'</dd><dt>q02</dt><dd>'My friends will think I\\'m stupid for not being able to cope with SPSS'</dd><dt>q03</dt><dd>'Standard deviations excite me'</dd><dt>q04</dt><dd>'I dream that Pearson is attacking me with correlation coefficients'</dd><dt>q05</dt><dd>'I don\\'t understand statistics'</dd><dt>q06</dt><dd>'I have little experience of computers'</dd><dt>q07</dt><dd>'All computers hate me'</dd><dt>q08</dt><dd>'I have never been good at mathematics'</dd></dl>\n"
      ],
      "text/latex": [
       "\\begin{description*}\n",
       "\\item[q01] 'Statistics makes me cry'\n",
       "\\item[q02] 'My friends will think I\\textbackslash{}'m stupid for not being able to cope with SPSS'\n",
       "\\item[q03] 'Standard deviations excite me'\n",
       "\\item[q04] 'I dream that Pearson is attacking me with correlation coefficients'\n",
       "\\item[q05] 'I don\\textbackslash{}'t understand statistics'\n",
       "\\item[q06] 'I have little experience of computers'\n",
       "\\item[q07] 'All computers hate me'\n",
       "\\item[q08] 'I have never been good at mathematics'\n",
       "\\end{description*}\n"
      ],
      "text/markdown": [
       "q01\n",
       ":   'Statistics makes me cry'q02\n",
       ":   'My friends will think I\\'m stupid for not being able to cope with SPSS'q03\n",
       ":   'Standard deviations excite me'q04\n",
       ":   'I dream that Pearson is attacking me with correlation coefficients'q05\n",
       ":   'I don\\'t understand statistics'q06\n",
       ":   'I have little experience of computers'q07\n",
       ":   'All computers hate me'q08\n",
       ":   'I have never been good at mathematics'\n",
       "\n"
      ],
      "text/plain": [
       "                                                                    q01 \n",
       "                                              \"Statistics makes me cry\" \n",
       "                                                                    q02 \n",
       "\"My friends will think I'm stupid for not being able to cope with SPSS\" \n",
       "                                                                    q03 \n",
       "                                        \"Standard deviations excite me\" \n",
       "                                                                    q04 \n",
       "   \"I dream that Pearson is attacking me with correlation coefficients\" \n",
       "                                                                    q05 \n",
       "                                        \"I don't understand statistics\" \n",
       "                                                                    q06 \n",
       "                                \"I have little experience of computers\" \n",
       "                                                                    q07 \n",
       "                                                \"All computers hate me\" \n",
       "                                                                    q08 \n",
       "                                \"I have never been good at mathematics\" "
      ]
     },
     "metadata": {},
     "output_type": "display_data"
    },
    {
     "data": {
      "text/html": [
       "FALSE"
      ],
      "text/latex": [
       "FALSE"
      ],
      "text/markdown": [
       "FALSE"
      ],
      "text/plain": [
       "[1] FALSE"
      ]
     },
     "metadata": {},
     "output_type": "display_data"
    }
   ],
   "source": [
    "saq8 <- read.spss(\"SAQ8.sav\", to.data.frame = TRUE)\n",
    "view(saq8)\n",
    "attributes(saq8)$variable.labels\n",
    "is.null(saq8$q08)\n"
   ]
  },
  {
   "cell_type": "code",
   "execution_count": 35,
   "metadata": {
    "vscode": {
     "languageId": "r"
    }
   },
   "outputs": [
    {
     "data": {
      "text/html": [
       "<style>\n",
       ".list-inline {list-style: none; margin:0; padding: 0}\n",
       ".list-inline>li {display: inline-block}\n",
       ".list-inline>li:not(:last-child)::after {content: \"\\00b7\"; padding: 0 .5ex}\n",
       "</style>\n",
       "<ol class=list-inline><li>14.9</li><li>57.8</li><li>18.7</li><li>5.7</li><li>2.8</li></ol>\n"
      ],
      "text/latex": [
       "\\begin{enumerate*}\n",
       "\\item 14.9\n",
       "\\item 57.8\n",
       "\\item 18.7\n",
       "\\item 5.7\n",
       "\\item 2.8\n",
       "\\end{enumerate*}\n"
      ],
      "text/markdown": [
       "1. 14.9\n",
       "2. 57.8\n",
       "3. 18.7\n",
       "4. 5.7\n",
       "5. 2.8\n",
       "\n",
       "\n"
      ],
      "text/plain": [
       "[1] 14.9 57.8 18.7  5.7  2.8"
      ]
     },
     "metadata": {},
     "output_type": "display_data"
    }
   ],
   "source": [
    "frequency_table_q08 <- table(saq8$q08)\n",
    "percentage_q08 <- round(prop.table(frequency_table_q08) * 100, 1)\n",
    "vector_cum <- c(percentage_q08)\n",
    "as.vector(vector_cum)\n",
    "cumf <- cumsum(vector_cum)\n"
   ]
  },
  {
   "cell_type": "code",
   "execution_count": 36,
   "metadata": {
    "vscode": {
     "languageId": "r"
    }
   },
   "outputs": [
    {
     "data": {
      "text/plain": [
       "\n",
       "   Strongly agree             Agree           Neither          Disagree \n",
       "              383              1487               482               147 \n",
       "Strongly disagree \n",
       "               72 "
      ]
     },
     "metadata": {},
     "output_type": "display_data"
    }
   ],
   "source": [
    "frequency_table_q08\n"
   ]
  },
  {
   "cell_type": "code",
   "execution_count": 39,
   "metadata": {
    "vscode": {
     "languageId": "r"
    }
   },
   "outputs": [],
   "source": [
    "table_q08 <- data.frame(\n",
    "  Levels = levels(saq8$q08),\n",
    "  Frequency = c(frequency_table_q08),\n",
    "  Percent = c(percentage_q08),\n",
    "  Valid_Percent = c(percentage_q08),\n",
    "  Cumulative_Percent = cumf,\n",
    "  stringsAsFactors = FALSE\n",
    ")\n"
   ]
  },
  {
   "cell_type": "code",
   "execution_count": 40,
   "metadata": {
    "vscode": {
     "languageId": "r"
    }
   },
   "outputs": [
    {
     "data": {
      "text/html": [
       "<table class=\"dataframe\">\n",
       "<caption>A data.frame: 5 × 5</caption>\n",
       "<thead>\n",
       "\t<tr><th></th><th scope=col>Levels</th><th scope=col>Frequency</th><th scope=col>Percent</th><th scope=col>Valid_Percent</th><th scope=col>Cumulative_Percent</th></tr>\n",
       "\t<tr><th></th><th scope=col>&lt;chr&gt;</th><th scope=col>&lt;int&gt;</th><th scope=col>&lt;dbl&gt;</th><th scope=col>&lt;dbl&gt;</th><th scope=col>&lt;dbl&gt;</th></tr>\n",
       "</thead>\n",
       "<tbody>\n",
       "\t<tr><th scope=row>Strongly agree</th><td>Strongly agree   </td><td> 383</td><td>14.9</td><td>14.9</td><td>14.9</td></tr>\n",
       "\t<tr><th scope=row>Agree</th><td>Agree            </td><td>1487</td><td>57.8</td><td>57.8</td><td>72.7</td></tr>\n",
       "\t<tr><th scope=row>Neither</th><td>Neither          </td><td> 482</td><td>18.7</td><td>18.7</td><td>91.4</td></tr>\n",
       "\t<tr><th scope=row>Disagree</th><td>Disagree         </td><td> 147</td><td> 5.7</td><td> 5.7</td><td>97.1</td></tr>\n",
       "\t<tr><th scope=row>Strongly disagree</th><td>Strongly disagree</td><td>  72</td><td> 2.8</td><td> 2.8</td><td>99.9</td></tr>\n",
       "</tbody>\n",
       "</table>\n"
      ],
      "text/latex": [
       "A data.frame: 5 × 5\n",
       "\\begin{tabular}{r|lllll}\n",
       "  & Levels & Frequency & Percent & Valid\\_Percent & Cumulative\\_Percent\\\\\n",
       "  & <chr> & <int> & <dbl> & <dbl> & <dbl>\\\\\n",
       "\\hline\n",
       "\tStrongly agree & Strongly agree    &  383 & 14.9 & 14.9 & 14.9\\\\\n",
       "\tAgree & Agree             & 1487 & 57.8 & 57.8 & 72.7\\\\\n",
       "\tNeither & Neither           &  482 & 18.7 & 18.7 & 91.4\\\\\n",
       "\tDisagree & Disagree          &  147 &  5.7 &  5.7 & 97.1\\\\\n",
       "\tStrongly disagree & Strongly disagree &   72 &  2.8 &  2.8 & 99.9\\\\\n",
       "\\end{tabular}\n"
      ],
      "text/markdown": [
       "\n",
       "A data.frame: 5 × 5\n",
       "\n",
       "| <!--/--> | Levels &lt;chr&gt; | Frequency &lt;int&gt; | Percent &lt;dbl&gt; | Valid_Percent &lt;dbl&gt; | Cumulative_Percent &lt;dbl&gt; |\n",
       "|---|---|---|---|---|---|\n",
       "| Strongly agree | Strongly agree    |  383 | 14.9 | 14.9 | 14.9 |\n",
       "| Agree | Agree             | 1487 | 57.8 | 57.8 | 72.7 |\n",
       "| Neither | Neither           |  482 | 18.7 | 18.7 | 91.4 |\n",
       "| Disagree | Disagree          |  147 |  5.7 |  5.7 | 97.1 |\n",
       "| Strongly disagree | Strongly disagree |   72 |  2.8 |  2.8 | 99.9 |\n",
       "\n"
      ],
      "text/plain": [
       "                  Levels            Frequency Percent Valid_Percent\n",
       "Strongly agree    Strongly agree     383      14.9    14.9         \n",
       "Agree             Agree             1487      57.8    57.8         \n",
       "Neither           Neither            482      18.7    18.7         \n",
       "Disagree          Disagree           147       5.7     5.7         \n",
       "Strongly disagree Strongly disagree   72       2.8     2.8         \n",
       "                  Cumulative_Percent\n",
       "Strongly agree    14.9              \n",
       "Agree             72.7              \n",
       "Neither           91.4              \n",
       "Disagree          97.1              \n",
       "Strongly disagree 99.9              "
      ]
     },
     "metadata": {},
     "output_type": "display_data"
    }
   ],
   "source": [
    "table_q08\n"
   ]
  },
  {
   "cell_type": "code",
   "execution_count": null,
   "metadata": {
    "vscode": {
     "languageId": "r"
    }
   },
   "outputs": [],
   "source": []
  },
  {
   "cell_type": "code",
   "execution_count": 33,
   "metadata": {
    "vscode": {
     "languageId": "r"
    }
   },
   "outputs": [
    {
     "data": {
      "text/html": [
       "<style>\n",
       ".dl-inline {width: auto; margin:0; padding: 0}\n",
       ".dl-inline>dt, .dl-inline>dd {float: none; width: auto; display: inline-block}\n",
       ".dl-inline>dt::after {content: \":\\0020\"; padding-right: .5ex}\n",
       ".dl-inline>dt:not(:first-of-type) {padding-left: .5ex}\n",
       "</style><dl class=dl-inline><dt>q01</dt><dd>'Statistics makes me cry'</dd><dt>q02</dt><dd>'My friends will think I\\'m stupid for not being able to cope with SPSS'</dd><dt>q03</dt><dd>'Standard deviations excite me'</dd><dt>q04</dt><dd>'I dream that Pearson is attacking me with correlation coefficients'</dd><dt>q05</dt><dd>'I don\\'t understand statistics'</dd><dt>q06</dt><dd>'I have little experience of computers'</dd><dt>q07</dt><dd>'All computers hate me'</dd><dt>q08</dt><dd>'I have never been good at mathematics'</dd></dl>\n"
      ],
      "text/latex": [
       "\\begin{description*}\n",
       "\\item[q01] 'Statistics makes me cry'\n",
       "\\item[q02] 'My friends will think I\\textbackslash{}'m stupid for not being able to cope with SPSS'\n",
       "\\item[q03] 'Standard deviations excite me'\n",
       "\\item[q04] 'I dream that Pearson is attacking me with correlation coefficients'\n",
       "\\item[q05] 'I don\\textbackslash{}'t understand statistics'\n",
       "\\item[q06] 'I have little experience of computers'\n",
       "\\item[q07] 'All computers hate me'\n",
       "\\item[q08] 'I have never been good at mathematics'\n",
       "\\end{description*}\n"
      ],
      "text/markdown": [
       "q01\n",
       ":   'Statistics makes me cry'q02\n",
       ":   'My friends will think I\\'m stupid for not being able to cope with SPSS'q03\n",
       ":   'Standard deviations excite me'q04\n",
       ":   'I dream that Pearson is attacking me with correlation coefficients'q05\n",
       ":   'I don\\'t understand statistics'q06\n",
       ":   'I have little experience of computers'q07\n",
       ":   'All computers hate me'q08\n",
       ":   'I have never been good at mathematics'\n",
       "\n"
      ],
      "text/plain": [
       "                                                                    q01 \n",
       "                                              \"Statistics makes me cry\" \n",
       "                                                                    q02 \n",
       "\"My friends will think I'm stupid for not being able to cope with SPSS\" \n",
       "                                                                    q03 \n",
       "                                        \"Standard deviations excite me\" \n",
       "                                                                    q04 \n",
       "   \"I dream that Pearson is attacking me with correlation coefficients\" \n",
       "                                                                    q05 \n",
       "                                        \"I don't understand statistics\" \n",
       "                                                                    q06 \n",
       "                                \"I have little experience of computers\" \n",
       "                                                                    q07 \n",
       "                                                \"All computers hate me\" \n",
       "                                                                    q08 \n",
       "                                \"I have never been good at mathematics\" "
      ]
     },
     "metadata": {},
     "output_type": "display_data"
    },
    {
     "data": {
      "text/html": [
       "FALSE"
      ],
      "text/latex": [
       "FALSE"
      ],
      "text/markdown": [
       "FALSE"
      ],
      "text/plain": [
       "[1] FALSE"
      ]
     },
     "metadata": {},
     "output_type": "display_data"
    },
    {
     "data": {
      "text/html": [
       "<style>\n",
       ".list-inline {list-style: none; margin:0; padding: 0}\n",
       ".list-inline>li {display: inline-block}\n",
       ".list-inline>li:not(:last-child)::after {content: \"\\00b7\"; padding: 0 .5ex}\n",
       "</style>\n",
       "<ol class=list-inline><li>14.9</li><li>57.8</li><li>18.7</li><li>5.7</li><li>2.8</li></ol>\n"
      ],
      "text/latex": [
       "\\begin{enumerate*}\n",
       "\\item 14.9\n",
       "\\item 57.8\n",
       "\\item 18.7\n",
       "\\item 5.7\n",
       "\\item 2.8\n",
       "\\end{enumerate*}\n"
      ],
      "text/markdown": [
       "1. 14.9\n",
       "2. 57.8\n",
       "3. 18.7\n",
       "4. 5.7\n",
       "5. 2.8\n",
       "\n",
       "\n"
      ],
      "text/plain": [
       "[1] 14.9 57.8 18.7  5.7  2.8"
      ]
     },
     "metadata": {},
     "output_type": "display_data"
    },
    {
     "data": {
      "text/html": [
       "<table class=\"dataframe\">\n",
       "<caption>A data.frame: 5 × 5</caption>\n",
       "<thead>\n",
       "\t<tr><th></th><th scope=col>Levels</th><th scope=col>Frequency</th><th scope=col>Percent</th><th scope=col>Valid_Percent</th><th scope=col>Cummulative Frequency</th></tr>\n",
       "\t<tr><th></th><th scope=col>&lt;chr&gt;</th><th scope=col>&lt;int&gt;</th><th scope=col>&lt;dbl&gt;</th><th scope=col>&lt;dbl&gt;</th><th scope=col>&lt;dbl&gt;</th></tr>\n",
       "</thead>\n",
       "<tbody>\n",
       "\t<tr><th scope=row>Strongly agree</th><td>Strongly agree   </td><td> 383</td><td>14.9</td><td>14.9</td><td>14.9</td></tr>\n",
       "\t<tr><th scope=row>Agree</th><td>Agree            </td><td>1487</td><td>57.8</td><td>57.8</td><td>72.7</td></tr>\n",
       "\t<tr><th scope=row>Neither</th><td>Neither          </td><td> 482</td><td>18.7</td><td>18.7</td><td>91.4</td></tr>\n",
       "\t<tr><th scope=row>Disagree</th><td>Disagree         </td><td> 147</td><td> 5.7</td><td> 5.7</td><td>97.1</td></tr>\n",
       "\t<tr><th scope=row>Strongly disagree</th><td>Strongly disagree</td><td>  72</td><td> 2.8</td><td> 2.8</td><td>99.9</td></tr>\n",
       "</tbody>\n",
       "</table>\n"
      ],
      "text/latex": [
       "A data.frame: 5 × 5\n",
       "\\begin{tabular}{r|lllll}\n",
       "  & Levels & Frequency & Percent & Valid\\_Percent & Cummulative Frequency\\\\\n",
       "  & <chr> & <int> & <dbl> & <dbl> & <dbl>\\\\\n",
       "\\hline\n",
       "\tStrongly agree & Strongly agree    &  383 & 14.9 & 14.9 & 14.9\\\\\n",
       "\tAgree & Agree             & 1487 & 57.8 & 57.8 & 72.7\\\\\n",
       "\tNeither & Neither           &  482 & 18.7 & 18.7 & 91.4\\\\\n",
       "\tDisagree & Disagree          &  147 &  5.7 &  5.7 & 97.1\\\\\n",
       "\tStrongly disagree & Strongly disagree &   72 &  2.8 &  2.8 & 99.9\\\\\n",
       "\\end{tabular}\n"
      ],
      "text/markdown": [
       "\n",
       "A data.frame: 5 × 5\n",
       "\n",
       "| <!--/--> | Levels &lt;chr&gt; | Frequency &lt;int&gt; | Percent &lt;dbl&gt; | Valid_Percent &lt;dbl&gt; | Cummulative Frequency &lt;dbl&gt; |\n",
       "|---|---|---|---|---|---|\n",
       "| Strongly agree | Strongly agree    |  383 | 14.9 | 14.9 | 14.9 |\n",
       "| Agree | Agree             | 1487 | 57.8 | 57.8 | 72.7 |\n",
       "| Neither | Neither           |  482 | 18.7 | 18.7 | 91.4 |\n",
       "| Disagree | Disagree          |  147 |  5.7 |  5.7 | 97.1 |\n",
       "| Strongly disagree | Strongly disagree |   72 |  2.8 |  2.8 | 99.9 |\n",
       "\n"
      ],
      "text/plain": [
       "                  Levels            Frequency Percent Valid_Percent\n",
       "Strongly agree    Strongly agree     383      14.9    14.9         \n",
       "Agree             Agree             1487      57.8    57.8         \n",
       "Neither           Neither            482      18.7    18.7         \n",
       "Disagree          Disagree           147       5.7     5.7         \n",
       "Strongly disagree Strongly disagree   72       2.8     2.8         \n",
       "                  Cummulative Frequency\n",
       "Strongly agree    14.9                 \n",
       "Agree             72.7                 \n",
       "Neither           91.4                 \n",
       "Disagree          97.1                 \n",
       "Strongly disagree 99.9                 "
      ]
     },
     "metadata": {},
     "output_type": "display_data"
    },
    {
     "data": {
      "text/html": [
       "<table class=\"dataframe\">\n",
       "<caption>A data.frame: 6 × 5</caption>\n",
       "<thead>\n",
       "\t<tr><th></th><th scope=col>Levels</th><th scope=col>Frequency</th><th scope=col>Percent</th><th scope=col>Valid_Percent</th><th scope=col>Cummulative Frequency</th></tr>\n",
       "\t<tr><th></th><th scope=col>&lt;chr&gt;</th><th scope=col>&lt;chr&gt;</th><th scope=col>&lt;chr&gt;</th><th scope=col>&lt;chr&gt;</th><th scope=col>&lt;chr&gt;</th></tr>\n",
       "</thead>\n",
       "<tbody>\n",
       "\t<tr><th scope=row>Strongly agree</th><td>Strongly agree   </td><td>383 </td><td>14.9</td><td>14.9</td><td>14.9</td></tr>\n",
       "\t<tr><th scope=row>Agree</th><td>Agree            </td><td>1487</td><td>57.8</td><td>57.8</td><td>72.7</td></tr>\n",
       "\t<tr><th scope=row>Neither</th><td>Neither          </td><td>482 </td><td>18.7</td><td>18.7</td><td>91.4</td></tr>\n",
       "\t<tr><th scope=row>Disagree</th><td>Disagree         </td><td>147 </td><td>5.7 </td><td>5.7 </td><td>97.1</td></tr>\n",
       "\t<tr><th scope=row>Strongly disagree</th><td>Strongly disagree</td><td>72  </td><td>2.8 </td><td>2.8 </td><td>99.9</td></tr>\n",
       "\t<tr><th scope=row>6</th><td>Total            </td><td>2571</td><td>99.9</td><td>99.9</td><td>100 </td></tr>\n",
       "</tbody>\n",
       "</table>\n"
      ],
      "text/latex": [
       "A data.frame: 6 × 5\n",
       "\\begin{tabular}{r|lllll}\n",
       "  & Levels & Frequency & Percent & Valid\\_Percent & Cummulative Frequency\\\\\n",
       "  & <chr> & <chr> & <chr> & <chr> & <chr>\\\\\n",
       "\\hline\n",
       "\tStrongly agree & Strongly agree    & 383  & 14.9 & 14.9 & 14.9\\\\\n",
       "\tAgree & Agree             & 1487 & 57.8 & 57.8 & 72.7\\\\\n",
       "\tNeither & Neither           & 482  & 18.7 & 18.7 & 91.4\\\\\n",
       "\tDisagree & Disagree          & 147  & 5.7  & 5.7  & 97.1\\\\\n",
       "\tStrongly disagree & Strongly disagree & 72   & 2.8  & 2.8  & 99.9\\\\\n",
       "\t6 & Total             & 2571 & 99.9 & 99.9 & 100 \\\\\n",
       "\\end{tabular}\n"
      ],
      "text/markdown": [
       "\n",
       "A data.frame: 6 × 5\n",
       "\n",
       "| <!--/--> | Levels &lt;chr&gt; | Frequency &lt;chr&gt; | Percent &lt;chr&gt; | Valid_Percent &lt;chr&gt; | Cummulative Frequency &lt;chr&gt; |\n",
       "|---|---|---|---|---|---|\n",
       "| Strongly agree | Strongly agree    | 383  | 14.9 | 14.9 | 14.9 |\n",
       "| Agree | Agree             | 1487 | 57.8 | 57.8 | 72.7 |\n",
       "| Neither | Neither           | 482  | 18.7 | 18.7 | 91.4 |\n",
       "| Disagree | Disagree          | 147  | 5.7  | 5.7  | 97.1 |\n",
       "| Strongly disagree | Strongly disagree | 72   | 2.8  | 2.8  | 99.9 |\n",
       "| 6 | Total             | 2571 | 99.9 | 99.9 | 100  |\n",
       "\n"
      ],
      "text/plain": [
       "                  Levels            Frequency Percent Valid_Percent\n",
       "Strongly agree    Strongly agree    383       14.9    14.9         \n",
       "Agree             Agree             1487      57.8    57.8         \n",
       "Neither           Neither           482       18.7    18.7         \n",
       "Disagree          Disagree          147       5.7     5.7          \n",
       "Strongly disagree Strongly disagree 72        2.8     2.8          \n",
       "6                 Total             2571      99.9    99.9         \n",
       "                  Cummulative Frequency\n",
       "Strongly agree    14.9                 \n",
       "Agree             72.7                 \n",
       "Neither           91.4                 \n",
       "Disagree          97.1                 \n",
       "Strongly disagree 99.9                 \n",
       "6                 100                  "
      ]
     },
     "metadata": {},
     "output_type": "display_data"
    }
   ],
   "source": [
    "library(tidyverse)\n",
    "library(gt)\n",
    "library(foreign)\n",
    "\n",
    "saq8 <- read.spss(\"SAQ8.sav\", to.data.frame = TRUE)\n",
    "view(saq8)\n",
    "attributes(saq8)$variable.labels\n",
    "is.null(saq8$q08)\n",
    "\n",
    "frequency_table_q08 <- table(saq8$q08)\n",
    "percentage_q08 <- round(prop.table(frequency_table_q08) * 100, 1)\n",
    "vector_cum <- c(percentage_q08)\n",
    "as.vector(vector_cum)\n",
    "cumf <- cumsum(vector_cum)\n",
    "\n",
    "table_q08 <- data.frame(\n",
    "  Levels = levels(saq8$q08),\n",
    "  Frequency = c(frequency_table_q08),\n",
    "  Percent = c(percentage_q08),\n",
    "  Valid_Percent = c(percentage_q08),\n",
    "  Cumulative_Percent = cumf,\n",
    "  stringsAsFactors = FALSE\n",
    ")\n",
    "colnames(table_q08)[5] <- \"Cummulative Frequency\"\n",
    "table_q08\n",
    "table_q08 <- rbind(table_q08, c(\"Total\", sum(table_q08$Frequency), sum(table_q08$Percent), sum(table_q08$Valid_Percent), 100))\n",
    "table_q08\n"
   ]
  },
  {
   "cell_type": "code",
   "execution_count": 26,
   "metadata": {
    "vscode": {
     "languageId": "r"
    }
   },
   "outputs": [
    {
     "name": "stderr",
     "output_type": "stream",
     "text": [
      "Warning message:\n",
      "\"package 'ggplot2' was built under R version 4.3.3\"\n"
     ]
    },
    {
     "name": "stderr",
     "output_type": "stream",
     "text": [
      "── \u001b[1mAttaching core tidyverse packages\u001b[22m ──────────────────────── tidyverse 2.0.0 ──\n",
      "\u001b[32m✔\u001b[39m \u001b[34mdplyr    \u001b[39m 1.1.4     \u001b[32m✔\u001b[39m \u001b[34mreadr    \u001b[39m 2.1.5\n",
      "\u001b[32m✔\u001b[39m \u001b[34mforcats  \u001b[39m 1.0.0     \u001b[32m✔\u001b[39m \u001b[34mstringr  \u001b[39m 1.5.1\n",
      "\u001b[32m✔\u001b[39m \u001b[34mggplot2  \u001b[39m 3.5.0     \u001b[32m✔\u001b[39m \u001b[34mtibble   \u001b[39m 3.2.1\n",
      "\u001b[32m✔\u001b[39m \u001b[34mlubridate\u001b[39m 1.9.3     \u001b[32m✔\u001b[39m \u001b[34mtidyr    \u001b[39m 1.3.1\n",
      "\u001b[32m✔\u001b[39m \u001b[34mpurrr    \u001b[39m 1.0.2     \n",
      "── \u001b[1mConflicts\u001b[22m ────────────────────────────────────────── tidyverse_conflicts() ──\n",
      "\u001b[31m✖\u001b[39m \u001b[34mdplyr\u001b[39m::\u001b[32mfilter()\u001b[39m masks \u001b[34mstats\u001b[39m::filter()\n",
      "\u001b[31m✖\u001b[39m \u001b[34mdplyr\u001b[39m::\u001b[32mlag()\u001b[39m    masks \u001b[34mstats\u001b[39m::lag()\n",
      "\u001b[36mℹ\u001b[39m Use the conflicted package (\u001b[3m\u001b[34m<http://conflicted.r-lib.org/>\u001b[39m\u001b[23m) to force all conflicts to become errors\n",
      "Warning message:\n",
      "\"package 'gt' was built under R version 4.3.3\"\n"
     ]
    },
    {
     "data": {
      "text/html": [
       "<style>\n",
       ".dl-inline {width: auto; margin:0; padding: 0}\n",
       ".dl-inline>dt, .dl-inline>dd {float: none; width: auto; display: inline-block}\n",
       ".dl-inline>dt::after {content: \":\\0020\"; padding-right: .5ex}\n",
       ".dl-inline>dt:not(:first-of-type) {padding-left: .5ex}\n",
       "</style><dl class=dl-inline><dt>q01</dt><dd>'Statistics makes me cry'</dd><dt>q02</dt><dd>'My friends will think I\\'m stupid for not being able to cope with SPSS'</dd><dt>q03</dt><dd>'Standard deviations excite me'</dd><dt>q04</dt><dd>'I dream that Pearson is attacking me with correlation coefficients'</dd><dt>q05</dt><dd>'I don\\'t understand statistics'</dd><dt>q06</dt><dd>'I have little experience of computers'</dd><dt>q07</dt><dd>'All computers hate me'</dd><dt>q08</dt><dd>'I have never been good at mathematics'</dd></dl>\n"
      ],
      "text/latex": [
       "\\begin{description*}\n",
       "\\item[q01] 'Statistics makes me cry'\n",
       "\\item[q02] 'My friends will think I\\textbackslash{}'m stupid for not being able to cope with SPSS'\n",
       "\\item[q03] 'Standard deviations excite me'\n",
       "\\item[q04] 'I dream that Pearson is attacking me with correlation coefficients'\n",
       "\\item[q05] 'I don\\textbackslash{}'t understand statistics'\n",
       "\\item[q06] 'I have little experience of computers'\n",
       "\\item[q07] 'All computers hate me'\n",
       "\\item[q08] 'I have never been good at mathematics'\n",
       "\\end{description*}\n"
      ],
      "text/markdown": [
       "q01\n",
       ":   'Statistics makes me cry'q02\n",
       ":   'My friends will think I\\'m stupid for not being able to cope with SPSS'q03\n",
       ":   'Standard deviations excite me'q04\n",
       ":   'I dream that Pearson is attacking me with correlation coefficients'q05\n",
       ":   'I don\\'t understand statistics'q06\n",
       ":   'I have little experience of computers'q07\n",
       ":   'All computers hate me'q08\n",
       ":   'I have never been good at mathematics'\n",
       "\n"
      ],
      "text/plain": [
       "                                                                    q01 \n",
       "                                              \"Statistics makes me cry\" \n",
       "                                                                    q02 \n",
       "\"My friends will think I'm stupid for not being able to cope with SPSS\" \n",
       "                                                                    q03 \n",
       "                                        \"Standard deviations excite me\" \n",
       "                                                                    q04 \n",
       "   \"I dream that Pearson is attacking me with correlation coefficients\" \n",
       "                                                                    q05 \n",
       "                                        \"I don't understand statistics\" \n",
       "                                                                    q06 \n",
       "                                \"I have little experience of computers\" \n",
       "                                                                    q07 \n",
       "                                                \"All computers hate me\" \n",
       "                                                                    q08 \n",
       "                                \"I have never been good at mathematics\" "
      ]
     },
     "metadata": {},
     "output_type": "display_data"
    },
    {
     "data": {
      "text/html": [
       "FALSE"
      ],
      "text/latex": [
       "FALSE"
      ],
      "text/markdown": [
       "FALSE"
      ],
      "text/plain": [
       "[1] FALSE"
      ]
     },
     "metadata": {},
     "output_type": "display_data"
    },
    {
     "data": {
      "text/html": [
       "<style>\n",
       ".list-inline {list-style: none; margin:0; padding: 0}\n",
       ".list-inline>li {display: inline-block}\n",
       ".list-inline>li:not(:last-child)::after {content: \"\\00b7\"; padding: 0 .5ex}\n",
       "</style>\n",
       "<ol class=list-inline><li>14.9</li><li>57.8</li><li>18.7</li><li>5.7</li><li>2.8</li></ol>\n"
      ],
      "text/latex": [
       "\\begin{enumerate*}\n",
       "\\item 14.9\n",
       "\\item 57.8\n",
       "\\item 18.7\n",
       "\\item 5.7\n",
       "\\item 2.8\n",
       "\\end{enumerate*}\n"
      ],
      "text/markdown": [
       "1. 14.9\n",
       "2. 57.8\n",
       "3. 18.7\n",
       "4. 5.7\n",
       "5. 2.8\n",
       "\n",
       "\n"
      ],
      "text/plain": [
       "[1] 14.9 57.8 18.7  5.7  2.8"
      ]
     },
     "metadata": {},
     "output_type": "display_data"
    },
    {
     "data": {
      "text/html": [
       "<table class=\"dataframe\">\n",
       "<caption>A data.frame: 5 × 5</caption>\n",
       "<thead>\n",
       "\t<tr><th></th><th scope=col>Levels</th><th scope=col>Frequency</th><th scope=col>Percent</th><th scope=col>Valid_Percent</th><th scope=col>Cummulative Frequency</th></tr>\n",
       "\t<tr><th></th><th scope=col>&lt;chr&gt;</th><th scope=col>&lt;int&gt;</th><th scope=col>&lt;dbl&gt;</th><th scope=col>&lt;dbl&gt;</th><th scope=col>&lt;dbl&gt;</th></tr>\n",
       "</thead>\n",
       "<tbody>\n",
       "\t<tr><th scope=row>Strongly agree</th><td>Strongly agree   </td><td> 383</td><td>14.9</td><td>14.9</td><td>14.9</td></tr>\n",
       "\t<tr><th scope=row>Agree</th><td>Agree            </td><td>1487</td><td>57.8</td><td>57.8</td><td>72.7</td></tr>\n",
       "\t<tr><th scope=row>Neither</th><td>Neither          </td><td> 482</td><td>18.7</td><td>18.7</td><td>91.4</td></tr>\n",
       "\t<tr><th scope=row>Disagree</th><td>Disagree         </td><td> 147</td><td> 5.7</td><td> 5.7</td><td>97.1</td></tr>\n",
       "\t<tr><th scope=row>Strongly disagree</th><td>Strongly disagree</td><td>  72</td><td> 2.8</td><td> 2.8</td><td>99.9</td></tr>\n",
       "</tbody>\n",
       "</table>\n"
      ],
      "text/latex": [
       "A data.frame: 5 × 5\n",
       "\\begin{tabular}{r|lllll}\n",
       "  & Levels & Frequency & Percent & Valid\\_Percent & Cummulative Frequency\\\\\n",
       "  & <chr> & <int> & <dbl> & <dbl> & <dbl>\\\\\n",
       "\\hline\n",
       "\tStrongly agree & Strongly agree    &  383 & 14.9 & 14.9 & 14.9\\\\\n",
       "\tAgree & Agree             & 1487 & 57.8 & 57.8 & 72.7\\\\\n",
       "\tNeither & Neither           &  482 & 18.7 & 18.7 & 91.4\\\\\n",
       "\tDisagree & Disagree          &  147 &  5.7 &  5.7 & 97.1\\\\\n",
       "\tStrongly disagree & Strongly disagree &   72 &  2.8 &  2.8 & 99.9\\\\\n",
       "\\end{tabular}\n"
      ],
      "text/markdown": [
       "\n",
       "A data.frame: 5 × 5\n",
       "\n",
       "| <!--/--> | Levels &lt;chr&gt; | Frequency &lt;int&gt; | Percent &lt;dbl&gt; | Valid_Percent &lt;dbl&gt; | Cummulative Frequency &lt;dbl&gt; |\n",
       "|---|---|---|---|---|---|\n",
       "| Strongly agree | Strongly agree    |  383 | 14.9 | 14.9 | 14.9 |\n",
       "| Agree | Agree             | 1487 | 57.8 | 57.8 | 72.7 |\n",
       "| Neither | Neither           |  482 | 18.7 | 18.7 | 91.4 |\n",
       "| Disagree | Disagree          |  147 |  5.7 |  5.7 | 97.1 |\n",
       "| Strongly disagree | Strongly disagree |   72 |  2.8 |  2.8 | 99.9 |\n",
       "\n"
      ],
      "text/plain": [
       "                  Levels            Frequency Percent Valid_Percent\n",
       "Strongly agree    Strongly agree     383      14.9    14.9         \n",
       "Agree             Agree             1487      57.8    57.8         \n",
       "Neither           Neither            482      18.7    18.7         \n",
       "Disagree          Disagree           147       5.7     5.7         \n",
       "Strongly disagree Strongly disagree   72       2.8     2.8         \n",
       "                  Cummulative Frequency\n",
       "Strongly agree    14.9                 \n",
       "Agree             72.7                 \n",
       "Neither           91.4                 \n",
       "Disagree          97.1                 \n",
       "Strongly disagree 99.9                 "
      ]
     },
     "metadata": {},
     "output_type": "display_data"
    },
    {
     "data": {
      "text/html": [
       "<table class=\"dataframe\">\n",
       "<caption>A data.frame: 6 × 5</caption>\n",
       "<thead>\n",
       "\t<tr><th></th><th scope=col>Levels</th><th scope=col>Frequency</th><th scope=col>Percent</th><th scope=col>Valid_Percent</th><th scope=col>Cummulative Frequency</th></tr>\n",
       "\t<tr><th></th><th scope=col>&lt;chr&gt;</th><th scope=col>&lt;chr&gt;</th><th scope=col>&lt;chr&gt;</th><th scope=col>&lt;chr&gt;</th><th scope=col>&lt;chr&gt;</th></tr>\n",
       "</thead>\n",
       "<tbody>\n",
       "\t<tr><th scope=row>Strongly agree</th><td>Strongly agree   </td><td>383 </td><td>14.9</td><td>14.9</td><td>14.9</td></tr>\n",
       "\t<tr><th scope=row>Agree</th><td>Agree            </td><td>1487</td><td>57.8</td><td>57.8</td><td>72.7</td></tr>\n",
       "\t<tr><th scope=row>Neither</th><td>Neither          </td><td>482 </td><td>18.7</td><td>18.7</td><td>91.4</td></tr>\n",
       "\t<tr><th scope=row>Disagree</th><td>Disagree         </td><td>147 </td><td>5.7 </td><td>5.7 </td><td>97.1</td></tr>\n",
       "\t<tr><th scope=row>Strongly disagree</th><td>Strongly disagree</td><td>72  </td><td>2.8 </td><td>2.8 </td><td>99.9</td></tr>\n",
       "\t<tr><th scope=row>6</th><td>Total            </td><td>2571</td><td>99.9</td><td>99.9</td><td>100 </td></tr>\n",
       "</tbody>\n",
       "</table>\n"
      ],
      "text/latex": [
       "A data.frame: 6 × 5\n",
       "\\begin{tabular}{r|lllll}\n",
       "  & Levels & Frequency & Percent & Valid\\_Percent & Cummulative Frequency\\\\\n",
       "  & <chr> & <chr> & <chr> & <chr> & <chr>\\\\\n",
       "\\hline\n",
       "\tStrongly agree & Strongly agree    & 383  & 14.9 & 14.9 & 14.9\\\\\n",
       "\tAgree & Agree             & 1487 & 57.8 & 57.8 & 72.7\\\\\n",
       "\tNeither & Neither           & 482  & 18.7 & 18.7 & 91.4\\\\\n",
       "\tDisagree & Disagree          & 147  & 5.7  & 5.7  & 97.1\\\\\n",
       "\tStrongly disagree & Strongly disagree & 72   & 2.8  & 2.8  & 99.9\\\\\n",
       "\t6 & Total             & 2571 & 99.9 & 99.9 & 100 \\\\\n",
       "\\end{tabular}\n"
      ],
      "text/markdown": [
       "\n",
       "A data.frame: 6 × 5\n",
       "\n",
       "| <!--/--> | Levels &lt;chr&gt; | Frequency &lt;chr&gt; | Percent &lt;chr&gt; | Valid_Percent &lt;chr&gt; | Cummulative Frequency &lt;chr&gt; |\n",
       "|---|---|---|---|---|---|\n",
       "| Strongly agree | Strongly agree    | 383  | 14.9 | 14.9 | 14.9 |\n",
       "| Agree | Agree             | 1487 | 57.8 | 57.8 | 72.7 |\n",
       "| Neither | Neither           | 482  | 18.7 | 18.7 | 91.4 |\n",
       "| Disagree | Disagree          | 147  | 5.7  | 5.7  | 97.1 |\n",
       "| Strongly disagree | Strongly disagree | 72   | 2.8  | 2.8  | 99.9 |\n",
       "| 6 | Total             | 2571 | 99.9 | 99.9 | 100  |\n",
       "\n"
      ],
      "text/plain": [
       "                  Levels            Frequency Percent Valid_Percent\n",
       "Strongly agree    Strongly agree    383       14.9    14.9         \n",
       "Agree             Agree             1487      57.8    57.8         \n",
       "Neither           Neither           482       18.7    18.7         \n",
       "Disagree          Disagree          147       5.7     5.7          \n",
       "Strongly disagree Strongly disagree 72        2.8     2.8          \n",
       "6                 Total             2571      99.9    99.9         \n",
       "                  Cummulative Frequency\n",
       "Strongly agree    14.9                 \n",
       "Agree             72.7                 \n",
       "Neither           91.4                 \n",
       "Disagree          97.1                 \n",
       "Strongly disagree 99.9                 \n",
       "6                 100                  "
      ]
     },
     "metadata": {},
     "output_type": "display_data"
    },
    {
     "data": {
      "text/html": [
       "'I have never been good at mathematics'"
      ],
      "text/latex": [
       "'I have never been good at mathematics'"
      ],
      "text/markdown": [
       "'I have never been good at mathematics'"
      ],
      "text/plain": [
       "[1] \"I have never been good at mathematics\""
      ]
     },
     "metadata": {},
     "output_type": "display_data"
    }
   ],
   "source": [
    "library(tidyverse)\n",
    "library(gt)\n",
    "library(foreign)\n",
    "\n",
    "saq8 <- read.spss(\"SAQ8.sav\", to.data.frame = TRUE)\n",
    "view(saq8)\n",
    "attributes(saq8)$variable.labels\n",
    "is.null(saq8$q08)\n",
    "\n",
    "frequency_table_q08 <- table(saq8$q08)\n",
    "percentage_q08 <- round(prop.table(frequency_table_q08) * 100, 1)\n",
    "vector_cum <- c(percentage_q08)\n",
    "as.vector(vector_cum)\n",
    "cumf <- cumsum(vector_cum)\n",
    "\n",
    "table_q08 <- data.frame(\n",
    "  Levels = levels(saq8$q08),\n",
    "  Frequency = c(frequency_table_q08),\n",
    "  Percent = c(percentage_q08),\n",
    "  Valid_Percent = c(percentage_q08),\n",
    "  Cumulative_Percent = cumf,\n",
    "  stringsAsFactors = FALSE\n",
    ")\n",
    "colnames(table_q08)[5] <- \"Cummulative Frequency\"\n",
    "table_q08\n",
    "table_q08 <- rbind(table_q08, c(\"Total\", sum(table_q08$Frequency), sum(table_q08$Percent), sum(table_q08$Valid_Percent), 100))\n",
    "table_q08\n",
    "\n",
    "variable_label_q08 <- attributes(saq8)$variable.labels[\"q08\"]\n",
    "label_q08 <- as.character(variable_label_q08)\n",
    "label_q08\n",
    "library(gt)\n"
   ]
  },
  {
   "cell_type": "code",
   "execution_count": 41,
   "metadata": {
    "vscode": {
     "languageId": "r"
    }
   },
   "outputs": [
    {
     "name": "stderr",
     "output_type": "stream",
     "text": [
      "\n",
      "Attaching package: 'magrittr'\n",
      "\n",
      "\n",
      "The following object is masked from 'package:purrr':\n",
      "\n",
      "    set_names\n",
      "\n",
      "\n",
      "The following object is masked from 'package:tidyr':\n",
      "\n",
      "    extract\n",
      "\n",
      "\n"
     ]
    },
    {
     "ename": "ERROR",
     "evalue": "Error in tab_row_group(., index = \"Levels\"): unused argument (index = \"Levels\")\n",
     "output_type": "error",
     "traceback": [
      "Error in tab_row_group(., index = \"Levels\"): unused argument (index = \"Levels\")\nTraceback:\n",
      "1. gt(data) %>% tab_row_group(index = \"Levels\") %>% tab_spanner(label = \"Frequency Table for q1\", \n .     columns = vars(Freq, Percent, Val_Percent, Cum_Percent))",
      "2. tab_spanner(., label = \"Frequency Table for q1\", columns = vars(Freq, \n .     Percent, Val_Percent, Cum_Percent))",
      "3. stop_if_not_gt_tbl(data = data)",
      "4. is_gt_tbl(data = data)"
     ]
    }
   ],
   "source": [
    "# Load required library\n",
    "library(gt)\n",
    "\n",
    "library(foreign) # for .SAV file we can use foreign package for that as well\n",
    "library(gt, warn.conflicts = FALSE) # genotype table\n",
    "library(magrittr) # for using pipes\n",
    "\n",
    "# read the .sav file using read_sav function from haven\n",
    "saq_data <- read.spss(\"SAQ8.sav\", to.data.frame = TRUE)\n",
    "\n",
    "\n",
    "# for q1\n",
    "\n",
    "q01 <- saq_data$q01\n",
    "# Calculate frequencies and percentages\n",
    "levels_q01 <- levels(q01)\n",
    "freq_q01 <- as.numeric(table(q01))\n",
    "percent_q01 <- as.numeric(round(prop.table(freq_q01) * 100, 1))\n",
    "valid_percent_q01 <- as.numeric(round(prop.table(freq_q01) * 100, 1))\n",
    "cum_percent <- cumsum(percent_q01)\n",
    "\n",
    "# Create data frame\n",
    "data <- data.frame(\n",
    "  Levels = levels_q01,\n",
    "  Freq = freq_q01,\n",
    "  Percent = percent_q01,\n",
    "  Val_Percent = valid_percent_q01,\n",
    "  Cum_Percent = cum_percent\n",
    ")\n",
    "\n",
    "# Add row for sum\n",
    "sum_row <- c(\"Total\", sum(data$Freq), sum(data$Percent), sum(data$Val_Percent), sum(data$Cum_Percent))\n",
    "data <- rbind(data, sum_row)\n",
    "\n",
    "# Create gt table\n",
    "tbl <- gt(data) %>%\n",
    "  tab_row_group(index = \"Levels\") %>%\n",
    "  tab_spanner(\n",
    "    label = \"Frequency Table for q1\",\n",
    "    columns = vars(Freq, Percent, Val_Percent, Cum_Percent)\n",
    "  )\n",
    "\n",
    "# Print the table\n",
    "print(tbl)\n"
   ]
  },
  {
   "cell_type": "code",
   "execution_count": 27,
   "metadata": {
    "vscode": {
     "languageId": "r"
    }
   },
   "outputs": [
    {
     "data": {
      "text/html": [
       "<style>\n",
       ".dl-inline {width: auto; margin:0; padding: 0}\n",
       ".dl-inline>dt, .dl-inline>dd {float: none; width: auto; display: inline-block}\n",
       ".dl-inline>dt::after {content: \":\\0020\"; padding-right: .5ex}\n",
       ".dl-inline>dt:not(:first-of-type) {padding-left: .5ex}\n",
       "</style><dl class=dl-inline><dt>q01</dt><dd>'Statistics makes me cry'</dd><dt>q02</dt><dd>'My friends will think I\\'m stupid for not being able to cope with SPSS'</dd><dt>q03</dt><dd>'Standard deviations excite me'</dd><dt>q04</dt><dd>'I dream that Pearson is attacking me with correlation coefficients'</dd><dt>q05</dt><dd>'I don\\'t understand statistics'</dd><dt>q06</dt><dd>'I have little experience of computers'</dd><dt>q07</dt><dd>'All computers hate me'</dd><dt>q08</dt><dd>'I have never been good at mathematics'</dd></dl>\n"
      ],
      "text/latex": [
       "\\begin{description*}\n",
       "\\item[q01] 'Statistics makes me cry'\n",
       "\\item[q02] 'My friends will think I\\textbackslash{}'m stupid for not being able to cope with SPSS'\n",
       "\\item[q03] 'Standard deviations excite me'\n",
       "\\item[q04] 'I dream that Pearson is attacking me with correlation coefficients'\n",
       "\\item[q05] 'I don\\textbackslash{}'t understand statistics'\n",
       "\\item[q06] 'I have little experience of computers'\n",
       "\\item[q07] 'All computers hate me'\n",
       "\\item[q08] 'I have never been good at mathematics'\n",
       "\\end{description*}\n"
      ],
      "text/markdown": [
       "q01\n",
       ":   'Statistics makes me cry'q02\n",
       ":   'My friends will think I\\'m stupid for not being able to cope with SPSS'q03\n",
       ":   'Standard deviations excite me'q04\n",
       ":   'I dream that Pearson is attacking me with correlation coefficients'q05\n",
       ":   'I don\\'t understand statistics'q06\n",
       ":   'I have little experience of computers'q07\n",
       ":   'All computers hate me'q08\n",
       ":   'I have never been good at mathematics'\n",
       "\n"
      ],
      "text/plain": [
       "                                                                    q01 \n",
       "                                              \"Statistics makes me cry\" \n",
       "                                                                    q02 \n",
       "\"My friends will think I'm stupid for not being able to cope with SPSS\" \n",
       "                                                                    q03 \n",
       "                                        \"Standard deviations excite me\" \n",
       "                                                                    q04 \n",
       "   \"I dream that Pearson is attacking me with correlation coefficients\" \n",
       "                                                                    q05 \n",
       "                                        \"I don't understand statistics\" \n",
       "                                                                    q06 \n",
       "                                \"I have little experience of computers\" \n",
       "                                                                    q07 \n",
       "                                                \"All computers hate me\" \n",
       "                                                                    q08 \n",
       "                                \"I have never been good at mathematics\" "
      ]
     },
     "metadata": {},
     "output_type": "display_data"
    },
    {
     "data": {
      "text/html": [
       "FALSE"
      ],
      "text/latex": [
       "FALSE"
      ],
      "text/markdown": [
       "FALSE"
      ],
      "text/plain": [
       "[1] FALSE"
      ]
     },
     "metadata": {},
     "output_type": "display_data"
    }
   ],
   "source": [
    "saq8 <- read.spss(\"SAQ8.sav\", to.data.frame = TRUE)\n",
    "view(saq8)\n",
    "attributes(saq8)$variable.labels\n",
    "is.null(saq8$q08)\n"
   ]
  },
  {
   "cell_type": "code",
   "execution_count": 42,
   "metadata": {
    "vscode": {
     "languageId": "r"
    }
   },
   "outputs": [],
   "source": [
    "data <- data.frame(\n",
    "  Levels = levels_q01,\n",
    "  Freq = freq_q01,\n",
    "  Percent = percent_q01,\n",
    "  Val_Percent = valid_percent_q01,\n",
    "  Cum_Percent = cum_percent\n",
    ")\n"
   ]
  },
  {
   "cell_type": "code",
   "execution_count": 65,
   "metadata": {
    "vscode": {
     "languageId": "r"
    }
   },
   "outputs": [
    {
     "data": {
      "text/html": [
       "<table class=\"dataframe\">\n",
       "<caption>A data.frame: 6 × 5</caption>\n",
       "<thead>\n",
       "\t<tr><th scope=col>Levels</th><th scope=col>Freq</th><th scope=col>Percent</th><th scope=col>Val_Percent</th><th scope=col>Cum_Percent</th></tr>\n",
       "\t<tr><th scope=col>&lt;chr&gt;</th><th scope=col>&lt;chr&gt;</th><th scope=col>&lt;chr&gt;</th><th scope=col>&lt;chr&gt;</th><th scope=col>&lt;chr&gt;</th></tr>\n",
       "</thead>\n",
       "<tbody>\n",
       "\t<tr><td>Strongly agree   </td><td>270 </td><td>10.5</td><td>10.5</td><td>10.5 </td></tr>\n",
       "\t<tr><td>Agree            </td><td>1338</td><td>52  </td><td>52  </td><td>62.5 </td></tr>\n",
       "\t<tr><td>Neither          </td><td>735 </td><td>28.6</td><td>28.6</td><td>91.1 </td></tr>\n",
       "\t<tr><td>Disagree         </td><td>187 </td><td>7.3 </td><td>7.3 </td><td>98.4 </td></tr>\n",
       "\t<tr><td>Strongly disagree</td><td>41  </td><td>1.6 </td><td>1.6 </td><td>100  </td></tr>\n",
       "\t<tr><td>Total            </td><td>2571</td><td>100 </td><td>100 </td><td>362.5</td></tr>\n",
       "</tbody>\n",
       "</table>\n"
      ],
      "text/latex": [
       "A data.frame: 6 × 5\n",
       "\\begin{tabular}{lllll}\n",
       " Levels & Freq & Percent & Val\\_Percent & Cum\\_Percent\\\\\n",
       " <chr> & <chr> & <chr> & <chr> & <chr>\\\\\n",
       "\\hline\n",
       "\t Strongly agree    & 270  & 10.5 & 10.5 & 10.5 \\\\\n",
       "\t Agree             & 1338 & 52   & 52   & 62.5 \\\\\n",
       "\t Neither           & 735  & 28.6 & 28.6 & 91.1 \\\\\n",
       "\t Disagree          & 187  & 7.3  & 7.3  & 98.4 \\\\\n",
       "\t Strongly disagree & 41   & 1.6  & 1.6  & 100  \\\\\n",
       "\t Total             & 2571 & 100  & 100  & 362.5\\\\\n",
       "\\end{tabular}\n"
      ],
      "text/markdown": [
       "\n",
       "A data.frame: 6 × 5\n",
       "\n",
       "| Levels &lt;chr&gt; | Freq &lt;chr&gt; | Percent &lt;chr&gt; | Val_Percent &lt;chr&gt; | Cum_Percent &lt;chr&gt; |\n",
       "|---|---|---|---|---|\n",
       "| Strongly agree    | 270  | 10.5 | 10.5 | 10.5  |\n",
       "| Agree             | 1338 | 52   | 52   | 62.5  |\n",
       "| Neither           | 735  | 28.6 | 28.6 | 91.1  |\n",
       "| Disagree          | 187  | 7.3  | 7.3  | 98.4  |\n",
       "| Strongly disagree | 41   | 1.6  | 1.6  | 100   |\n",
       "| Total             | 2571 | 100  | 100  | 362.5 |\n",
       "\n"
      ],
      "text/plain": [
       "  Levels            Freq Percent Val_Percent Cum_Percent\n",
       "1 Strongly agree    270  10.5    10.5        10.5       \n",
       "2 Agree             1338 52      52          62.5       \n",
       "3 Neither           735  28.6    28.6        91.1       \n",
       "4 Disagree          187  7.3     7.3         98.4       \n",
       "5 Strongly disagree 41   1.6     1.6         100        \n",
       "6 Total             2571 100     100         362.5      "
      ]
     },
     "metadata": {},
     "output_type": "display_data"
    }
   ],
   "source": [
    "data\n"
   ]
  },
  {
   "cell_type": "code",
   "execution_count": 75,
   "metadata": {
    "vscode": {
     "languageId": "r"
    }
   },
   "outputs": [],
   "source": [
    "datalevels_q01 <- levels(q01)\n",
    "freq_q01 <- as.numeric(table(q01))\n",
    "percent_q01 <- as.numeric(round(prop.table(freq_q01) * 100, 1))\n",
    "valid_percent_q01 <- as.numeric(round(prop.table(freq_q01) * 100, 1))\n",
    "cum_percent <- cumsum(percent_q01)\n",
    "\n",
    "# Create data frame\n",
    "data <- data.frame(\n",
    "  Levels = levels_q01,\n",
    "  Freq = freq_q01,\n",
    "  Percent = percent_q01,\n",
    "  Val_Percent = valid_percent_q01,\n",
    "  Cum_Percent = cum_percent\n",
    ")\n",
    "\n",
    "# Convert data to data frame\n",
    "data <- as.data.frame(data)\n",
    "\n",
    "# Add row for sum\n",
    "sum_row <- c(\"Total\", sum(data$Freq), sum(data$Percent), sum(data$Val_Percent), sum(data$Cum_Percent)) # or NULL or \"\"\n",
    "data <- rbind(data, sum_row)\n"
   ]
  },
  {
   "cell_type": "code",
   "execution_count": 76,
   "metadata": {
    "vscode": {
     "languageId": "r"
    }
   },
   "outputs": [],
   "source": [
    "datalevels_q01 <- levels(q01)\n",
    "freq_q01 <- as.numeric(table(q01))\n",
    "percent_q01 <- as.numeric(round(prop.table(freq_q01) * 100, 1))\n",
    "valid_percent_q01 <- as.numeric(round(prop.table(freq_q01) * 100, 1))\n",
    "cum_percent <- cumsum(percent_q01)\n",
    "\n",
    "# Create data frame\n",
    "data <- data.frame(\n",
    "  Levels = levels_q01,\n",
    "  Freq = freq_q01,\n",
    "  Percent = percent_q01,\n",
    "  Val_Percent = valid_percent_q01,\n",
    "  Cum_Percent = cum_percent\n",
    ")\n",
    "\n",
    "# Convert data to data frame\n",
    "data <- as.data.frame(data)\n",
    "\n",
    "# Add row for sum\n",
    "sum_row <- c(\"Total\", sum(data$Freq), sum(data$Percent), sum(data$Val_Percent), \"\") # or NULL or \"\"\n",
    "data <- rbind(data, sum_row)\n"
   ]
  },
  {
   "cell_type": "code",
   "execution_count": 77,
   "metadata": {
    "vscode": {
     "languageId": "r"
    }
   },
   "outputs": [],
   "source": [
    "# for q03\n",
    "q03 <- saq_data$q03\n",
    "datalevels_q03 <- levels(q03)\n",
    "freq_q03 <- as.numeric(table(q03))\n",
    "percent_q03 <- as.numeric(round(prop.table(freq_q03) * 100, 1))\n",
    "valid_percent_q03 <- as.numeric(round(prop.table(freq_q03) * 100, 1))\n",
    "cum_percent_q03 <- cumsum(percent_q03)\n",
    "\n",
    "data_q03 <- data.frame(\n",
    "  Levels = datalevels_q03,\n",
    "  Freq = freq_q03,\n",
    "  Percent = percent_q03,\n",
    "  Val_Percent = valid_percent_q03,\n",
    "  Cum_Percent = cum_percent_q03\n",
    ")\n",
    "\n",
    "# for q06\n",
    "q06 <- saq_data$q06\n",
    "datalevels_q06 <- levels(q06)\n",
    "freq_q06 <- as.numeric(table(q06))\n",
    "percent_q06 <- as.numeric(round(prop.table(freq_q06) * 100, 1))\n",
    "valid_percent_q06 <- as.numeric(round(prop.table(freq_q06) * 100, 1))\n",
    "cum_percent_q06 <- cumsum(percent_q06)\n",
    "\n",
    "data_q06 <- data.frame(\n",
    "  Levels = datalevels_q06,\n",
    "  Freq = freq_q06,\n",
    "  Percent = percent_q06,\n",
    "  Val_Percent = valid_percent_q06,\n",
    "  Cum_Percent = cum_percent_q06\n",
    ")\n",
    "\n",
    "# for q08\n",
    "q08 <- saq_data$q08\n",
    "datalevels_q08 <- levels(q08)\n",
    "freq_q08 <- as.numeric(table(q08))\n",
    "percent_q08 <- as.numeric(round(prop.table(freq_q08) * 100, 1))\n",
    "valid_percent_q08 <- as.numeric(round(prop.table(freq_q08) * 100, 1))\n",
    "cum_percent_q08 <- cumsum(percent_q08)\n",
    "\n",
    "data_q08 <- data.frame(\n",
    "  Levels = datalevels_q08,\n",
    "  Freq = freq_q08,\n",
    "  Percent = percent_q08,\n",
    "  Val_Percent = valid_percent_q08,\n",
    "  Cum_Percent = cum_percent_q08\n",
    ")\n"
   ]
  },
  {
   "cell_type": "code",
   "execution_count": 56,
   "metadata": {
    "vscode": {
     "languageId": "r"
    }
   },
   "outputs": [
    {
     "data": {
      "text/html": [
       "<table class=\"dataframe\">\n",
       "<caption>A data.frame: 5 × 5</caption>\n",
       "<thead>\n",
       "\t<tr><th></th><th scope=col>Levels</th><th scope=col>Frequency</th><th scope=col>Percent</th><th scope=col>Valid_Percent</th><th scope=col>Cumulative_Percent</th></tr>\n",
       "\t<tr><th></th><th scope=col>&lt;chr&gt;</th><th scope=col>&lt;int&gt;</th><th scope=col>&lt;dbl&gt;</th><th scope=col>&lt;dbl&gt;</th><th scope=col>&lt;dbl&gt;</th></tr>\n",
       "</thead>\n",
       "<tbody>\n",
       "\t<tr><th scope=row>Strongly agree</th><td>Strongly agree   </td><td> 383</td><td>14.9</td><td>14.9</td><td>14.9</td></tr>\n",
       "\t<tr><th scope=row>Agree</th><td>Agree            </td><td>1487</td><td>57.8</td><td>57.8</td><td>72.7</td></tr>\n",
       "\t<tr><th scope=row>Neither</th><td>Neither          </td><td> 482</td><td>18.7</td><td>18.7</td><td>91.4</td></tr>\n",
       "\t<tr><th scope=row>Disagree</th><td>Disagree         </td><td> 147</td><td> 5.7</td><td> 5.7</td><td>97.1</td></tr>\n",
       "\t<tr><th scope=row>Strongly disagree</th><td>Strongly disagree</td><td>  72</td><td> 2.8</td><td> 2.8</td><td>99.9</td></tr>\n",
       "</tbody>\n",
       "</table>\n"
      ],
      "text/latex": [
       "A data.frame: 5 × 5\n",
       "\\begin{tabular}{r|lllll}\n",
       "  & Levels & Frequency & Percent & Valid\\_Percent & Cumulative\\_Percent\\\\\n",
       "  & <chr> & <int> & <dbl> & <dbl> & <dbl>\\\\\n",
       "\\hline\n",
       "\tStrongly agree & Strongly agree    &  383 & 14.9 & 14.9 & 14.9\\\\\n",
       "\tAgree & Agree             & 1487 & 57.8 & 57.8 & 72.7\\\\\n",
       "\tNeither & Neither           &  482 & 18.7 & 18.7 & 91.4\\\\\n",
       "\tDisagree & Disagree          &  147 &  5.7 &  5.7 & 97.1\\\\\n",
       "\tStrongly disagree & Strongly disagree &   72 &  2.8 &  2.8 & 99.9\\\\\n",
       "\\end{tabular}\n"
      ],
      "text/markdown": [
       "\n",
       "A data.frame: 5 × 5\n",
       "\n",
       "| <!--/--> | Levels &lt;chr&gt; | Frequency &lt;int&gt; | Percent &lt;dbl&gt; | Valid_Percent &lt;dbl&gt; | Cumulative_Percent &lt;dbl&gt; |\n",
       "|---|---|---|---|---|---|\n",
       "| Strongly agree | Strongly agree    |  383 | 14.9 | 14.9 | 14.9 |\n",
       "| Agree | Agree             | 1487 | 57.8 | 57.8 | 72.7 |\n",
       "| Neither | Neither           |  482 | 18.7 | 18.7 | 91.4 |\n",
       "| Disagree | Disagree          |  147 |  5.7 |  5.7 | 97.1 |\n",
       "| Strongly disagree | Strongly disagree |   72 |  2.8 |  2.8 | 99.9 |\n",
       "\n"
      ],
      "text/plain": [
       "                  Levels            Frequency Percent Valid_Percent\n",
       "Strongly agree    Strongly agree     383      14.9    14.9         \n",
       "Agree             Agree             1487      57.8    57.8         \n",
       "Neither           Neither            482      18.7    18.7         \n",
       "Disagree          Disagree           147       5.7     5.7         \n",
       "Strongly disagree Strongly disagree   72       2.8     2.8         \n",
       "                  Cumulative_Percent\n",
       "Strongly agree    14.9              \n",
       "Agree             72.7              \n",
       "Neither           91.4              \n",
       "Disagree          97.1              \n",
       "Strongly disagree 99.9              "
      ]
     },
     "metadata": {},
     "output_type": "display_data"
    }
   ],
   "source": [
    "table_q08\n"
   ]
  },
  {
   "cell_type": "code",
   "execution_count": 58,
   "metadata": {
    "vscode": {
     "languageId": "r"
    }
   },
   "outputs": [
    {
     "ename": "ERROR",
     "evalue": "Error in tab_row_group_summary(., groups = \"Total\", columns = c(frequency, : could not find function \"tab_row_group_summary\"\n",
     "output_type": "error",
     "traceback": [
      "Error in tab_row_group_summary(., groups = \"Total\", columns = c(frequency, : could not find function \"tab_row_group_summary\"\nTraceback:\n",
      "1. gt(table_q08) %>% tab_header(title = \"Frequency Table for Q1\") %>% \n .     tab_stubhead(label = \"Levels\") %>% tab_row_group(group = \"Total\", \n .     rows = nrow(df) + 1) %>% tab_row_group_summary(groups = \"Total\", \n .     columns = c(frequency, percent, valid_percent, cumulative_percent), \n .     fns = list(sum))"
     ]
    }
   ],
   "source": [
    "gt(table_q08) %>%\n",
    "  tab_header(\n",
    "    title = \"Frequency Table for Q1\"\n",
    "  ) %>%\n",
    "  tab_stubhead(label = \"Levels\") %>%\n",
    "  tab_row_group(\n",
    "    group = \"Total\",\n",
    "    rows = nrow(df) + 1\n",
    "  ) %>%\n",
    "  tab_row_group_summary(\n",
    "    groups = \"Total\",\n",
    "    columns = c(frequency, percent, valid_percent, cumulative_percent),\n",
    "    fns = list(sum)\n",
    "  )\n"
   ]
  },
  {
   "cell_type": "code",
   "execution_count": 3,
   "metadata": {
    "vscode": {
     "languageId": "r"
    }
   },
   "outputs": [
    {
     "name": "stderr",
     "output_type": "stream",
     "text": [
      "checking Selenium Server versions:\n",
      "\n",
      "BEGIN: PREDOWNLOAD\n",
      "\n"
     ]
    },
    {
     "name": "stderr",
     "output_type": "stream",
     "text": [
      "BEGIN: DOWNLOAD\n",
      "\n",
      "BEGIN: POSTDOWNLOAD\n",
      "\n",
      "checking chromedriver versions:\n",
      "\n",
      "BEGIN: PREDOWNLOAD\n",
      "\n",
      "BEGIN: DOWNLOAD\n",
      "\n",
      "BEGIN: POSTDOWNLOAD\n",
      "\n",
      "checking geckodriver versions:\n",
      "\n",
      "BEGIN: PREDOWNLOAD\n",
      "\n",
      "BEGIN: DOWNLOAD\n",
      "\n",
      "BEGIN: POSTDOWNLOAD\n",
      "\n",
      "checking phantomjs versions:\n",
      "\n",
      "BEGIN: PREDOWNLOAD\n",
      "\n",
      "BEGIN: DOWNLOAD\n",
      "\n",
      "BEGIN: POSTDOWNLOAD\n",
      "\n",
      "Warning message in rsDriver(browser = \"chrome\"):\n",
      "\"Could not determine server status.\"\n"
     ]
    },
    {
     "name": "stdout",
     "output_type": "stream",
     "text": [
      "[1] \"Connecting to remote server\"\n"
     ]
    },
    {
     "name": "stderr",
     "output_type": "stream",
     "text": [
      "Could not open chrome browser.\n",
      "\n",
      "Client error message:\n",
      "Undefined error in httr call. httr output: Failed to connect to localhost port 4567 after 2227 ms: Couldn't connect to server\n",
      "\n",
      "Check server log for further details.\n",
      "\n"
     ]
    },
    {
     "ename": "ERROR",
     "evalue": "Error in checkError(res): Undefined error in httr call. httr output: length(url) == 1 is not TRUE\n",
     "output_type": "error",
     "traceback": [
      "Error in checkError(res): Undefined error in httr call. httr output: length(url) == 1 is not TRUE\nTraceback:\n",
      "1. remDr$navigate(\"https://aqicn.org/forecast/kathmandu/\")",
      "2. queryRD(qpath, \"POST\", qdata = list(url = url))",
      "3. checkError(res)",
      "4. stop(err)"
     ]
    }
   ],
   "source": [
    "library(RSelenium)\n",
    "library(rvest)\n",
    "library(netstat)\n",
    "rD <- rsDriver(browser = \"chrome\")\n",
    "remDr <- rD[[\"client\"]]\n",
    "remDr$navigate(\"https://aqicn.org/ciy/kathmandu/\")\n",
    "aqi_html <- read_html(remDr$getPageSource() %>% unlist())\n",
    "aqi_html %>%\n",
    "    html_element(\".forecast-body-table\") %>%\n",
    "    html_nodes(\"table\") %>%\n",
    "    html_table() -> forecast_table\n",
    "forecast_table\n"
   ]
  },
  {
   "cell_type": "code",
   "execution_count": null,
   "metadata": {
    "vscode": {
     "languageId": "r"
    }
   },
   "outputs": [],
   "source": []
  }
 ],
 "metadata": {
  "kernelspec": {
   "display_name": "R",
   "language": "R",
   "name": "ir"
  },
  "language_info": {
   "codemirror_mode": "r",
   "file_extension": ".r",
   "mimetype": "text/x-r-source",
   "name": "R",
   "pygments_lexer": "r",
   "version": "4.3.2"
  }
 },
 "nbformat": 4,
 "nbformat_minor": 2
}
