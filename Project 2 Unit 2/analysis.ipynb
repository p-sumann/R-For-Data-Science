{
 "cells": [
  {
   "cell_type": "code",
   "execution_count": null,
   "metadata": {
    "vscode": {
     "languageId": "r"
    }
   },
   "outputs": [],
   "source": [
    "setwd(\"C:/Users/SumanPaudel/Desktop/R For Data Science/Project 2 Unit 2\")\n"
   ]
  },
  {
   "cell_type": "code",
   "execution_count": null,
   "metadata": {
    "vscode": {
     "languageId": "r"
    }
   },
   "outputs": [],
   "source": [
    "data <- read.csv(\"covnep_252days.csv\")\n"
   ]
  },
  {
   "cell_type": "code",
   "execution_count": null,
   "metadata": {
    "vscode": {
     "languageId": "r"
    }
   },
   "outputs": [],
   "source": [
    "summary(as.integer(data$totalCases))\n"
   ]
  },
  {
   "cell_type": "code",
   "execution_count": null,
   "metadata": {
    "vscode": {
     "languageId": "r"
    }
   },
   "outputs": [],
   "source": [
    "data$newTotalCases <- ifelse(data$totalCases < 1, 1, data$totalCases)\n"
   ]
  },
  {
   "cell_type": "code",
   "execution_count": null,
   "metadata": {
    "vscode": {
     "languageId": "r"
    }
   },
   "outputs": [],
   "source": [
    "data$newTotalCases\n"
   ]
  },
  {
   "cell_type": "code",
   "execution_count": null,
   "metadata": {
    "vscode": {
     "languageId": "r"
    }
   },
   "outputs": [],
   "source": [
    "# summary(data$newTotalCases)\n"
   ]
  },
  {
   "cell_type": "code",
   "execution_count": null,
   "metadata": {
    "vscode": {
     "languageId": "r"
    }
   },
   "outputs": [],
   "source": [
    "df$totalCases[df$totalCases]\n"
   ]
  },
  {
   "cell_type": "code",
   "execution_count": null,
   "metadata": {
    "vscode": {
     "languageId": "r"
    }
   },
   "outputs": [],
   "source": [
    "# Sample dataframe (replace with your actual data)\n",
    "df <- data.frame(totalCases = c(0, 2, 3, 1, 4))\n",
    "\n",
    "# Calculate the minimum value for each row\n",
    "min_values <- apply(df, 1, min)\n",
    "\n",
    "# Compare each minimum value with 1 and take the maximum\n",
    "result <- pmax(min_values, 1)\n",
    "\n",
    "# Print the result\n",
    "result\n"
   ]
  },
  {
   "cell_type": "code",
   "execution_count": null,
   "metadata": {
    "vscode": {
     "languageId": "r"
    }
   },
   "outputs": [],
   "source": [
    "apply(list(data$totalCases), 1, FUN = min)\n"
   ]
  },
  {
   "cell_type": "code",
   "execution_count": null,
   "metadata": {
    "vscode": {
     "languageId": "r"
    }
   },
   "outputs": [],
   "source": [
    "data$totalCases[data$totalCases < 1] <- 1\n"
   ]
  },
  {
   "cell_type": "code",
   "execution_count": null,
   "metadata": {
    "vscode": {
     "languageId": "r"
    }
   },
   "outputs": [],
   "source": [
    "data$totalCases\n"
   ]
  },
  {
   "cell_type": "code",
   "execution_count": null,
   "metadata": {
    "vscode": {
     "languageId": "r"
    }
   },
   "outputs": [],
   "source": [
    "summary(pmax(data$totalCases, 1))\n"
   ]
  },
  {
   "cell_type": "code",
   "execution_count": null,
   "metadata": {
    "vscode": {
     "languageId": "r"
    }
   },
   "outputs": [],
   "source": [
    "summary(data)\n"
   ]
  },
  {
   "cell_type": "code",
   "execution_count": null,
   "metadata": {
    "vscode": {
     "languageId": "r"
    }
   },
   "outputs": [],
   "source": [
    "q01 <- data$q01\n"
   ]
  },
  {
   "cell_type": "code",
   "execution_count": null,
   "metadata": {
    "vscode": {
     "languageId": "r"
    }
   },
   "outputs": [],
   "source": [
    "table(q01)\n"
   ]
  },
  {
   "cell_type": "code",
   "execution_count": null,
   "metadata": {
    "vscode": {
     "languageId": "r"
    }
   },
   "outputs": [],
   "source": [
    "data1 <- round(prop.table(table(q01)) * 100, 2)\n"
   ]
  },
  {
   "cell_type": "code",
   "execution_count": null,
   "metadata": {
    "vscode": {
     "languageId": "r"
    }
   },
   "outputs": [],
   "source": [
    "list(data1)\n"
   ]
  },
  {
   "cell_type": "code",
   "execution_count": null,
   "metadata": {
    "vscode": {
     "languageId": "r"
    }
   },
   "outputs": [],
   "source": [
    "# Load the 'haven' package (if not already installed)\n",
    "install.packages(\"haven\")\n",
    "library(haven)\n",
    "\n",
    "# Read the data from \"SAQ8.sav\" (replace with your actual file path)\n",
    "saq_data <- read_sav(\"SAQ8.sav\")\n",
    "\n",
    "# Compute frequencies for q01, q03, q06, and q08\n",
    "freq_q01 <- table(saq_data$q01)\n",
    "freq_q03 <- table(saq_data$q03)\n",
    "freq_q06 <- table(saq_data$q06)\n",
    "freq_q08 <- table(saq_data$q08)\n",
    "\n",
    "# Calculate percentages for q01, q03, q06, and q08\n",
    "percent_q01 <- prop.table(freq_q01) * 100\n",
    "percent_q03 <- prop.table(freq_q03) * 100\n",
    "percent_q06 <- prop.table(freq_q06) * 100\n",
    "percent_q08 <- prop.table(freq_q08) * 100\n",
    "\n",
    "# Calculate valid percentages for q01, q03, q06, and q08 (excluding missing values)\n",
    "valid_percent_q01 <- prop.table(freq_q01, ) * 100\n",
    "valid_percent_q03 <- prop.table(freq_q03, ) * 100\n",
    "valid_percent_q06 <- prop.table(freq_q06, ) * 100\n",
    "valid_percent_q08 <- prop.table(freq_q08, ) * 100\n",
    "\n",
    "# Calculate cumulative percentages for q01, q03, q06, and q08\n",
    "cum_percent_q01 <- cumsum(valid_percent_q01)\n",
    "cum_percent_q03 <- cumsum(valid_percent_q03)\n",
    "cum_percent_q06 <- cumsum(valid_percent_q06)\n",
    "cum_percent_q08 <- cumsum(valid_percent_q08)\n",
    "\n",
    "# Create a data frame to match the given table format\n",
    "result_df <- data.frame(\n",
    "  Level = c(\"Strongly agree\", \"Agree\", \"Neither\", \"Disagree\", \"Strongly disagree\"),\n",
    "  Frequency = c(freq_q01[1], freq_q03[1], freq_q06[1], freq_q08[1], sum(freq_q01)),\n",
    "  Percent = c(percent_q01[1], percent_q03[1], percent_q06[1], percent_q08[1], 100),\n",
    "  Valid_Percent = c(valid_percent_q01[1], valid_percent_q03[1], valid_percent_q06[1], valid_percent_q08[1], 100),\n",
    "  Cumulative_Percent = c(cum_percent_q01[1], cum_percent_q03[1], cum_percent_q06[1], cum_percent_q08[1], 100)\n",
    ")\n",
    "\n",
    "# Print the result\n",
    "result_df\n"
   ]
  },
  {
   "cell_type": "code",
   "execution_count": 1,
   "metadata": {
    "vscode": {
     "languageId": "r"
    }
   },
   "outputs": [],
   "source": [
    "library(jsonlite)\n"
   ]
  },
  {
   "cell_type": "code",
   "execution_count": 2,
   "metadata": {
    "vscode": {
     "languageId": "r"
    }
   },
   "outputs": [],
   "source": [
    "json_data <- jsonlite::fromJSON(\"https://data.covid19india.org/v4/min/timeseries.min.json\")\n"
   ]
  },
  {
   "cell_type": "code",
   "execution_count": 5,
   "metadata": {
    "vscode": {
     "languageId": "r"
    }
   },
   "outputs": [
    {
     "ename": "ERROR",
     "evalue": "Error in eval(expr, envir, enclos): object 'json_list' not found\n",
     "output_type": "error",
     "traceback": [
      "Error in eval(expr, envir, enclos): object 'json_list' not found\nTraceback:\n",
      "1. data.frame(delta_confirmed = json_list$delta$confirmed, delta_recovered = json_list$delta$recovered, \n .     delta_tested = json_list$delta$tested, delta7_confirmed = json_list$delta$delta7$confirmed, \n .     delta7_recovered = json_list$delta$delta7$recovered, delta7_tested = json_list$delta$delta7$tested, \n .     total_confirmed = json_list$total$confirmed, total_deceased = json_list$total$deceased, \n .     total_recovered = json_list$total$recovered, total_tested = json_list$total$tested)"
     ]
    }
   ],
   "source": [
    "single_row_df <- data.frame(\n",
    "  delta_confirmed = json_list$delta$confirmed,\n",
    "  delta_recovered = json_list$delta$recovered,\n",
    "  delta_tested = json_list$delta$tested,\n",
    "  delta7_confirmed = json_list$delta$delta7$confirmed,\n",
    "  delta7_recovered = json_list$delta$delta7$recovered,\n",
    "  delta7_tested = json_list$delta$delta7$tested,\n",
    "  total_confirmed = json_list$total$confirmed,\n",
    "  total_deceased = json_list$total$deceased,\n",
    "  total_recovered = json_list$total$recovered,\n",
    "  total_tested = json_list$total$tested\n",
    ")"
   ]
  },
  {
   "cell_type": "code",
   "execution_count": null,
   "metadata": {
    "vscode": {
     "languageId": "r"
    }
   },
   "outputs": [],
   "source": []
  }
 ],
 "metadata": {
  "kernelspec": {
   "display_name": "R",
   "language": "R",
   "name": "ir"
  },
  "language_info": {
   "codemirror_mode": "r",
   "file_extension": ".r",
   "mimetype": "text/x-r-source",
   "name": "R",
   "pygments_lexer": "r",
   "version": "4.3.2"
  }
 },
 "nbformat": 4,
 "nbformat_minor": 2
}
