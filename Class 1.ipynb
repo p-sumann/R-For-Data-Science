{
 "cells": [
  {
   "cell_type": "code",
   "execution_count": 2,
   "metadata": {
    "vscode": {
     "languageId": "r"
    }
   },
   "outputs": [],
   "source": [
    "data <- c(1, 2, 3, 4, 5, 6, 7, 8, 9)\n"
   ]
  },
  {
   "cell_type": "code",
   "execution_count": 3,
   "metadata": {
    "vscode": {
     "languageId": "r"
    }
   },
   "outputs": [],
   "source": [
    "text <- c(\"a\", \"b\", \"c\", \"d\", \"e\", \"f\", \"g\", \"h\", \"i\")\n"
   ]
  },
  {
   "cell_type": "code",
   "execution_count": 4,
   "metadata": {
    "vscode": {
     "languageId": "r"
    }
   },
   "outputs": [
    {
     "ename": "ERROR",
     "evalue": "Error in eval(expr, envir, enclos): object 'suman' not found\n",
     "output_type": "error",
     "traceback": [
      "Error in eval(expr, envir, enclos): object 'suman' not found\nTraceback:\n"
     ]
    }
   ],
   "source": [
    "data <- suman\n"
   ]
  },
  {
   "cell_type": "code",
   "execution_count": 5,
   "metadata": {
    "vscode": {
     "languageId": "r"
    }
   },
   "outputs": [],
   "source": [
    "data2 <- cbind(data, text)\n"
   ]
  },
  {
   "cell_type": "code",
   "execution_count": 6,
   "metadata": {
    "vscode": {
     "languageId": "r"
    }
   },
   "outputs": [
    {
     "data": {
      "text/html": [
       "<style>\n",
       ".list-inline {list-style: none; margin:0; padding: 0}\n",
       ".list-inline>li {display: inline-block}\n",
       ".list-inline>li:not(:last-child)::after {content: \"\\00b7\"; padding: 0 .5ex}\n",
       "</style>\n",
       "<ol class=list-inline><li>'matrix'</li><li>'array'</li></ol>\n"
      ],
      "text/latex": [
       "\\begin{enumerate*}\n",
       "\\item 'matrix'\n",
       "\\item 'array'\n",
       "\\end{enumerate*}\n"
      ],
      "text/markdown": [
       "1. 'matrix'\n",
       "2. 'array'\n",
       "\n",
       "\n"
      ],
      "text/plain": [
       "[1] \"matrix\" \"array\" "
      ]
     },
     "metadata": {},
     "output_type": "display_data"
    }
   ],
   "source": [
    "class(data2)\n"
   ]
  },
  {
   "cell_type": "code",
   "execution_count": 15,
   "metadata": {
    "vscode": {
     "languageId": "r"
    }
   },
   "outputs": [
    {
     "data": {
      "text/html": [
       "<table class=\"dataframe\">\n",
       "<caption>A matrix: 9 × 2 of type chr</caption>\n",
       "<thead>\n",
       "\t<tr><th scope=col>data</th><th scope=col>text</th></tr>\n",
       "</thead>\n",
       "<tbody>\n",
       "\t<tr><td>1</td><td>a</td></tr>\n",
       "\t<tr><td>2</td><td>b</td></tr>\n",
       "\t<tr><td>3</td><td>c</td></tr>\n",
       "\t<tr><td>4</td><td>d</td></tr>\n",
       "\t<tr><td>5</td><td>e</td></tr>\n",
       "\t<tr><td>6</td><td>f</td></tr>\n",
       "\t<tr><td>7</td><td>g</td></tr>\n",
       "\t<tr><td>8</td><td>h</td></tr>\n",
       "\t<tr><td>9</td><td>i</td></tr>\n",
       "</tbody>\n",
       "</table>\n"
      ],
      "text/latex": [
       "A matrix: 9 × 2 of type chr\n",
       "\\begin{tabular}{ll}\n",
       " data & text\\\\\n",
       "\\hline\n",
       "\t 1 & a\\\\\n",
       "\t 2 & b\\\\\n",
       "\t 3 & c\\\\\n",
       "\t 4 & d\\\\\n",
       "\t 5 & e\\\\\n",
       "\t 6 & f\\\\\n",
       "\t 7 & g\\\\\n",
       "\t 8 & h\\\\\n",
       "\t 9 & i\\\\\n",
       "\\end{tabular}\n"
      ],
      "text/markdown": [
       "\n",
       "A matrix: 9 × 2 of type chr\n",
       "\n",
       "| data | text |\n",
       "|---|---|\n",
       "| 1 | a |\n",
       "| 2 | b |\n",
       "| 3 | c |\n",
       "| 4 | d |\n",
       "| 5 | e |\n",
       "| 6 | f |\n",
       "| 7 | g |\n",
       "| 8 | h |\n",
       "| 9 | i |\n",
       "\n"
      ],
      "text/plain": [
       "      data text\n",
       " [1,] 1    a   \n",
       " [2,] 2    b   \n",
       " [3,] 3    c   \n",
       " [4,] 4    d   \n",
       " [5,] 5    e   \n",
       " [6,] 6    f   \n",
       " [7,] 7    g   \n",
       " [8,] 8    h   \n",
       " [9,] 9    i   "
      ]
     },
     "metadata": {},
     "output_type": "display_data"
    }
   ],
   "source": [
    "data2\n"
   ]
  },
  {
   "cell_type": "code",
   "execution_count": 20,
   "metadata": {
    "vscode": {
     "languageId": "r"
    }
   },
   "outputs": [],
   "source": [
    "emp.data <- data.frame(\n",
    "    emp_id = c(1:5),\n",
    "    emp_name = c(\"Suman\", \"Anish\", \"Prabhat\", \"Hello\", \"World\"),\n",
    "    salary = c(23243, 23242, 234323, 23423, 324234),\n",
    "    start_date = as.Date(c(\"2012-01-01\", \"2012-01-01\", \"2012-01-01\", \"2012-01-01\", \"2012-01-01\")),\n",
    "    stringsAsFactors = FALSE\n",
    ")\n"
   ]
  },
  {
   "cell_type": "code",
   "execution_count": 26,
   "metadata": {
    "vscode": {
     "languageId": "r"
    }
   },
   "outputs": [],
   "source": [
    "emp.data[\"new_class\"] <-\n",
    "    c(\"IT\", \"Operations\", \"IT\", \"HR\", \"Finance\")\n"
   ]
  },
  {
   "cell_type": "code",
   "execution_count": 27,
   "metadata": {
    "vscode": {
     "languageId": "r"
    }
   },
   "outputs": [
    {
     "name": "stdout",
     "output_type": "stream",
     "text": [
      "  emp_id emp_name salary start_date   new_clas  new_class\n",
      "1      1    Suman  23243 2012-01-01         IT         IT\n",
      "2      2    Anish  23242 2012-01-01 Operations Operations\n",
      "3      3  Prabhat 234323 2012-01-01         IT         IT\n",
      "4      4    Hello  23423 2012-01-01         HR         HR\n",
      "5      5    World 324234 2012-01-01         HR    Finance\n"
     ]
    }
   ],
   "source": [
    "print(emp.data)\n"
   ]
  },
  {
   "cell_type": "code",
   "execution_count": 28,
   "metadata": {
    "vscode": {
     "languageId": "r"
    }
   },
   "outputs": [],
   "source": [
    "emp.data$new_clas <- c(\"IT\", \"Operations\", \"IT\", \"HR\", \"HR\")\n"
   ]
  },
  {
   "cell_type": "code",
   "execution_count": 30,
   "metadata": {
    "vscode": {
     "languageId": "r"
    }
   },
   "outputs": [
    {
     "name": "stdout",
     "output_type": "stream",
     "text": [
      "  emp_id emp_name salary start_date   new_clas  new_class\n",
      "1      1    Suman  23243 2012-01-01         IT         IT\n",
      "2      2    Anish  23242 2012-01-01 Operations Operations\n",
      "3      3  Prabhat 234323 2012-01-01         IT         IT\n",
      "4      4    Hello  23423 2012-01-01         HR         HR\n",
      "5      5    World 324234 2012-01-01         HR    Finance\n"
     ]
    }
   ],
   "source": [
    "print(emp.data)\n"
   ]
  },
  {
   "cell_type": "code",
   "execution_count": 43,
   "metadata": {
    "vscode": {
     "languageId": "r"
    }
   },
   "outputs": [],
   "source": [
    "project_planning <- read.csv(\"C:/Users/SumanPaudel/Desktop/R For Data Science/project_planning.csv\")\n"
   ]
  },
  {
   "cell_type": "code",
   "execution_count": 45,
   "metadata": {
    "vscode": {
     "languageId": "r"
    }
   },
   "outputs": [
    {
     "data": {
      "text/html": [
       "<table class=\"dataframe\">\n",
       "<caption>A data.frame: 879 × 7</caption>\n",
       "<thead>\n",
       "\t<tr><th scope=col>province</th><th scope=col>city</th><th scope=col>departments</th><th scope=col>start_date</th><th scope=col>project_budget</th><th scope=col>project_status</th><th scope=col>project_complaints</th></tr>\n",
       "\t<tr><th scope=col>&lt;chr&gt;</th><th scope=col>&lt;chr&gt;</th><th scope=col>&lt;chr&gt;</th><th scope=col>&lt;chr&gt;</th><th scope=col>&lt;chr&gt;</th><th scope=col>&lt;chr&gt;</th><th scope=col>&lt;chr&gt;</th></tr>\n",
       "</thead>\n",
       "<tbody>\n",
       "\t<tr><td>Lumbini Province   </td><td>Chitwan  </td><td>Agriculture         </td><td>12/4/2023 </td><td>$344,977.76 </td><td>Halted      </td><td>   </td></tr>\n",
       "\t<tr><td>Gandaki Province   </td><td>Dhangadi </td><td>Hydro Power         </td><td>11/18/2021</td><td>$746,329.16 </td><td>In Progress </td><td>   </td></tr>\n",
       "\t<tr><td>Gandaki Province   </td><td>Chitwan  </td><td>Transportation      </td><td>1/9/2024  </td><td>$766,734.12 </td><td>In Progress </td><td>   </td></tr>\n",
       "\t<tr><td>Sagarmatha Province</td><td>Dhangadi </td><td>Health              </td><td>11/9/2021 </td><td>$501,729.87 </td><td>Delayed     </td><td>   </td></tr>\n",
       "\t<tr><td>Gandaki Province   </td><td>Dhangadi </td><td>Agriculture         </td><td>4/21/2021 </td><td>$301,461.26 </td><td>Delayed     </td><td>   </td></tr>\n",
       "\t<tr><td>Bagmati Province   </td><td>Chitwan  </td><td>IT and Communication</td><td>12/29/2022</td><td>$206,586.56 </td><td>In Progress </td><td>   </td></tr>\n",
       "\t<tr><td>Karnali Province   </td><td>Itahari  </td><td>Hydro Power         </td><td>10/7/2021 </td><td>$998,411.47 </td><td>Completed   </td><td>   </td></tr>\n",
       "\t<tr><td>Gandaki Province   </td><td>Itahari  </td><td>Hydro Power         </td><td>6/23/2022 </td><td>$295,000.50 </td><td>Completed   </td><td>   </td></tr>\n",
       "\t<tr><td>Lumbini Province   </td><td>Itahari  </td><td>Foreign Investment  </td><td>11/13/2023</td><td>$915,831.76 </td><td>Delayed     </td><td>   </td></tr>\n",
       "\t<tr><td>Gandaki Province   </td><td>Kathmandu</td><td>IT and Communication</td><td>5/30/2023 </td><td>$601,945.12 </td><td>Halted      </td><td>   </td></tr>\n",
       "\t<tr><td>Sagarmatha Province</td><td>Pokhara  </td><td>Education           </td><td>1/21/2022 </td><td>$835,826.02 </td><td>Yet to Start</td><td>   </td></tr>\n",
       "\t<tr><td>Lumbini Province   </td><td>Itahari  </td><td>Hydro Power         </td><td>8/19/2021 </td><td>$579,221.22 </td><td>Completed   </td><td>   </td></tr>\n",
       "\t<tr><td>Gandaki Province   </td><td>Kathmandu</td><td>IT and Communication</td><td>6/28/2023 </td><td>$408,176.04 </td><td>Delayed     </td><td>   </td></tr>\n",
       "\t<tr><td>Lumbini Province   </td><td>Itahari  </td><td>IT and Communication</td><td>6/5/2023  </td><td>$171,492.81 </td><td>In Progress </td><td>   </td></tr>\n",
       "\t<tr><td>Gandaki Province   </td><td>Butwal   </td><td>IT and Communication</td><td>3/8/2023  </td><td>$848,339.96 </td><td>Yet to Start</td><td>   </td></tr>\n",
       "\t<tr><td>Lumbini Province   </td><td>Chitwan  </td><td>Electricity         </td><td>6/4/2021  </td><td>$996,169.51 </td><td>Completed   </td><td>   </td></tr>\n",
       "\t<tr><td>Karnali Province   </td><td>Kathmandu</td><td>IT and Communication</td><td>10/14/2022</td><td>$556,116.67 </td><td>Halted      </td><td>   </td></tr>\n",
       "\t<tr><td>Gandaki Province   </td><td>Butwal   </td><td>Health              </td><td>3/6/2022  </td><td>$667,250.99 </td><td>Completed   </td><td>   </td></tr>\n",
       "\t<tr><td>Sagarmatha Province</td><td>Dhangadi </td><td>Hydro Power         </td><td>11/3/2022 </td><td>$513,097.70 </td><td>Halted      </td><td>   </td></tr>\n",
       "\t<tr><td>Lumbini Province   </td><td>Dhangadi </td><td>Foreign Investment  </td><td>5/1/2022  </td><td>$901,790.43 </td><td>Delayed     </td><td>   </td></tr>\n",
       "\t<tr><td>Gandaki Province   </td><td>Itahari  </td><td>Transportation      </td><td>8/5/2022  </td><td>$762,401.73 </td><td>Halted      </td><td>   </td></tr>\n",
       "\t<tr><td>Lumbini Province   </td><td>Kathmandu</td><td>Education           </td><td>12/27/2023</td><td>$964,270.34 </td><td>Halted      </td><td>Yes</td></tr>\n",
       "\t<tr><td>Gandaki Province   </td><td>Dhangadi </td><td>Electricity         </td><td>6/16/2021 </td><td>$415,849.49 </td><td>Delayed     </td><td>   </td></tr>\n",
       "\t<tr><td>Sagarmatha Province</td><td>Kathmandu</td><td>Health              </td><td>3/14/2021 </td><td>$360,075.98 </td><td>Delayed     </td><td>   </td></tr>\n",
       "\t<tr><td>Karnali Province   </td><td>Dhangadi </td><td>Health              </td><td>12/26/2022</td><td>$647,501.14 </td><td>Completed   </td><td>   </td></tr>\n",
       "\t<tr><td>Lumbini Province   </td><td>Kathmandu</td><td>Hydro Power         </td><td>8/23/2021 </td><td>$393,423.51 </td><td>Halted      </td><td>   </td></tr>\n",
       "\t<tr><td>Karnali Province   </td><td>Pokhara  </td><td>Hydro Power         </td><td>2/2/2021  </td><td>$612,375.75 </td><td>Delayed     </td><td>   </td></tr>\n",
       "\t<tr><td>Karnali Province   </td><td>Itahari  </td><td>Education           </td><td>5/18/2023 </td><td>$228,460.14 </td><td>In Progress </td><td>   </td></tr>\n",
       "\t<tr><td>Karnali Province   </td><td>Dhangadi </td><td>Agriculture         </td><td>10/7/2023 </td><td>$769,397.28 </td><td>Delayed     </td><td>   </td></tr>\n",
       "\t<tr><td>Bagmati Province   </td><td>Itahari  </td><td>Education           </td><td>11/2/2023 </td><td>$937,426.75 </td><td>Yet to Start</td><td>   </td></tr>\n",
       "\t<tr><td>⋮</td><td>⋮</td><td>⋮</td><td>⋮</td><td>⋮</td><td>⋮</td><td>⋮</td></tr>\n",
       "\t<tr><td>Gandaki Province   </td><td>Kathmandu</td><td>Transportation      </td><td>11/14/2022</td><td>$225,900.58 </td><td>Yet to Start</td><td>   </td></tr>\n",
       "\t<tr><td>Karnali Province   </td><td>Chitwan  </td><td>Transportation      </td><td>6/13/2023 </td><td>$971,453.99 </td><td>Completed   </td><td>   </td></tr>\n",
       "\t<tr><td>Lumbini Province   </td><td>Itahari  </td><td>Electricity         </td><td>2/1/2021  </td><td>$611,826.17 </td><td>Yet to Start</td><td>   </td></tr>\n",
       "\t<tr><td>Sagarmatha Province</td><td>Kathmandu</td><td>Transportation      </td><td>10/23/2022</td><td>$935,191.13 </td><td>Yet to Start</td><td>   </td></tr>\n",
       "\t<tr><td>Karnali Province   </td><td>Dhangadi </td><td>Health              </td><td>10/11/2023</td><td>$527,850.49 </td><td>Halted      </td><td>   </td></tr>\n",
       "\t<tr><td>Gandaki Province   </td><td>Butwal   </td><td>Health              </td><td>7/18/2022 </td><td>$331,309.49 </td><td>Completed   </td><td>   </td></tr>\n",
       "\t<tr><td>Karnali Province   </td><td>Dhangadi </td><td>Health              </td><td>1/3/2024  </td><td>$251,181.50 </td><td>Completed   </td><td>   </td></tr>\n",
       "\t<tr><td>Lumbini Province   </td><td>Pokhara  </td><td>Hydro Power         </td><td>1/5/2022  </td><td>$871,603.16 </td><td>In Progress </td><td>   </td></tr>\n",
       "\t<tr><td>Bagmati Province   </td><td>Butwal   </td><td>IT and Communication</td><td>1/2/2023  </td><td>$581,926.10 </td><td>Yet to Start</td><td>   </td></tr>\n",
       "\t<tr><td>Gandaki Province   </td><td>Chitwan  </td><td>Foreign Investment  </td><td>3/18/2023 </td><td>$675,232.07 </td><td>Halted      </td><td>   </td></tr>\n",
       "\t<tr><td>Karnali Province   </td><td>Itahari  </td><td>Health              </td><td>9/24/2023 </td><td>$885,726.92 </td><td>In Progress </td><td>   </td></tr>\n",
       "\t<tr><td>Gandaki Province   </td><td>Dhangadi </td><td>Hydro Power         </td><td>4/18/2022 </td><td>$249,849.86 </td><td>In Progress </td><td>   </td></tr>\n",
       "\t<tr><td>Sagarmatha Province</td><td>Itahari  </td><td>Hydro Power         </td><td>10/29/2023</td><td>$591,869.67 </td><td>Delayed     </td><td>   </td></tr>\n",
       "\t<tr><td>Gandaki Province   </td><td>Dhangadi </td><td>Transportation      </td><td>5/31/2023 </td><td>$541,840.89 </td><td>Completed   </td><td>Yes</td></tr>\n",
       "\t<tr><td>Gandaki Province   </td><td>Butwal   </td><td>Electricity         </td><td>1/22/2023 </td><td>$225,918.62 </td><td>Yet to Start</td><td>   </td></tr>\n",
       "\t<tr><td>Sagarmatha Province</td><td>Pokhara  </td><td>Transportation      </td><td>8/5/2023  </td><td>$196,786.86 </td><td>Yet to Start</td><td>   </td></tr>\n",
       "\t<tr><td>Bagmati Province   </td><td>Butwal   </td><td>Education           </td><td>6/19/2021 </td><td>$442,400.15 </td><td>Delayed     </td><td>   </td></tr>\n",
       "\t<tr><td>Gandaki Province   </td><td>Itahari  </td><td>IT and Communication</td><td>3/2/2023  </td><td>$507,644.04 </td><td>Delayed     </td><td>   </td></tr>\n",
       "\t<tr><td>Karnali Province   </td><td>Kathmandu</td><td>Electricity         </td><td>2/3/2021  </td><td>$381,792.85 </td><td>Completed   </td><td>   </td></tr>\n",
       "\t<tr><td>Sagarmatha Province</td><td>Kathmandu</td><td>Hydro Power         </td><td>1/2/2023  </td><td>$982,840.03 </td><td>Completed   </td><td>   </td></tr>\n",
       "\t<tr><td>Gandaki Province   </td><td>Butwal   </td><td>Foreign Investment  </td><td>4/1/2021  </td><td>$225,359.69 </td><td>Completed   </td><td>   </td></tr>\n",
       "\t<tr><td>Sagarmatha Province</td><td>Pokhara  </td><td>Transportation      </td><td>11/29/2022</td><td>$713,791.96 </td><td>Delayed     </td><td>   </td></tr>\n",
       "\t<tr><td>Karnali Province   </td><td>Butwal   </td><td>Foreign Investment  </td><td>4/26/2023 </td><td>$579,978.41 </td><td>Delayed     </td><td>   </td></tr>\n",
       "\t<tr><td>Sagarmatha Province</td><td>Kathmandu</td><td>Hydro Power         </td><td>6/11/2023 </td><td>$883,931.13 </td><td>Yet to Start</td><td>   </td></tr>\n",
       "\t<tr><td>Sagarmatha Province</td><td>Kathmandu</td><td>Agriculture         </td><td>4/29/2022 </td><td>$658,702.90 </td><td>Completed   </td><td>   </td></tr>\n",
       "\t<tr><td>Bagmati Province   </td><td>Itahari  </td><td>IT and Communication</td><td>5/17/2022 </td><td>$769,041.33 </td><td>Delayed     </td><td>   </td></tr>\n",
       "\t<tr><td>Karnali Province   </td><td>Chitwan  </td><td>Foreign Investment  </td><td>5/28/2022 </td><td>$593,087.54 </td><td>Halted      </td><td>   </td></tr>\n",
       "\t<tr><td>Sagarmatha Province</td><td>Pokhara  </td><td>Hydro Power         </td><td>4/6/2022  </td><td>$406,070.53 </td><td>In Progress </td><td>   </td></tr>\n",
       "\t<tr><td>Karnali Province   </td><td>Itahari  </td><td>Foreign Investment  </td><td>12/24/2023</td><td>$462,246.98 </td><td>Delayed     </td><td>   </td></tr>\n",
       "\t<tr><td>Bagmati Province   </td><td>Kathmandu</td><td>Health              </td><td>8/13/2022 </td><td>$658,789.17 </td><td>In Progress </td><td>   </td></tr>\n",
       "</tbody>\n",
       "</table>\n"
      ],
      "text/latex": [
       "A data.frame: 879 × 7\n",
       "\\begin{tabular}{lllllll}\n",
       " province & city & departments & start\\_date & project\\_budget & project\\_status & project\\_complaints\\\\\n",
       " <chr> & <chr> & <chr> & <chr> & <chr> & <chr> & <chr>\\\\\n",
       "\\hline\n",
       "\t Lumbini Province    & Chitwan   & Agriculture          & 12/4/2023  & \\$344,977.76  & Halted       &    \\\\\n",
       "\t Gandaki Province    & Dhangadi  & Hydro Power          & 11/18/2021 & \\$746,329.16  & In Progress  &    \\\\\n",
       "\t Gandaki Province    & Chitwan   & Transportation       & 1/9/2024   & \\$766,734.12  & In Progress  &    \\\\\n",
       "\t Sagarmatha Province & Dhangadi  & Health               & 11/9/2021  & \\$501,729.87  & Delayed      &    \\\\\n",
       "\t Gandaki Province    & Dhangadi  & Agriculture          & 4/21/2021  & \\$301,461.26  & Delayed      &    \\\\\n",
       "\t Bagmati Province    & Chitwan   & IT and Communication & 12/29/2022 & \\$206,586.56  & In Progress  &    \\\\\n",
       "\t Karnali Province    & Itahari   & Hydro Power          & 10/7/2021  & \\$998,411.47  & Completed    &    \\\\\n",
       "\t Gandaki Province    & Itahari   & Hydro Power          & 6/23/2022  & \\$295,000.50  & Completed    &    \\\\\n",
       "\t Lumbini Province    & Itahari   & Foreign Investment   & 11/13/2023 & \\$915,831.76  & Delayed      &    \\\\\n",
       "\t Gandaki Province    & Kathmandu & IT and Communication & 5/30/2023  & \\$601,945.12  & Halted       &    \\\\\n",
       "\t Sagarmatha Province & Pokhara   & Education            & 1/21/2022  & \\$835,826.02  & Yet to Start &    \\\\\n",
       "\t Lumbini Province    & Itahari   & Hydro Power          & 8/19/2021  & \\$579,221.22  & Completed    &    \\\\\n",
       "\t Gandaki Province    & Kathmandu & IT and Communication & 6/28/2023  & \\$408,176.04  & Delayed      &    \\\\\n",
       "\t Lumbini Province    & Itahari   & IT and Communication & 6/5/2023   & \\$171,492.81  & In Progress  &    \\\\\n",
       "\t Gandaki Province    & Butwal    & IT and Communication & 3/8/2023   & \\$848,339.96  & Yet to Start &    \\\\\n",
       "\t Lumbini Province    & Chitwan   & Electricity          & 6/4/2021   & \\$996,169.51  & Completed    &    \\\\\n",
       "\t Karnali Province    & Kathmandu & IT and Communication & 10/14/2022 & \\$556,116.67  & Halted       &    \\\\\n",
       "\t Gandaki Province    & Butwal    & Health               & 3/6/2022   & \\$667,250.99  & Completed    &    \\\\\n",
       "\t Sagarmatha Province & Dhangadi  & Hydro Power          & 11/3/2022  & \\$513,097.70  & Halted       &    \\\\\n",
       "\t Lumbini Province    & Dhangadi  & Foreign Investment   & 5/1/2022   & \\$901,790.43  & Delayed      &    \\\\\n",
       "\t Gandaki Province    & Itahari   & Transportation       & 8/5/2022   & \\$762,401.73  & Halted       &    \\\\\n",
       "\t Lumbini Province    & Kathmandu & Education            & 12/27/2023 & \\$964,270.34  & Halted       & Yes\\\\\n",
       "\t Gandaki Province    & Dhangadi  & Electricity          & 6/16/2021  & \\$415,849.49  & Delayed      &    \\\\\n",
       "\t Sagarmatha Province & Kathmandu & Health               & 3/14/2021  & \\$360,075.98  & Delayed      &    \\\\\n",
       "\t Karnali Province    & Dhangadi  & Health               & 12/26/2022 & \\$647,501.14  & Completed    &    \\\\\n",
       "\t Lumbini Province    & Kathmandu & Hydro Power          & 8/23/2021  & \\$393,423.51  & Halted       &    \\\\\n",
       "\t Karnali Province    & Pokhara   & Hydro Power          & 2/2/2021   & \\$612,375.75  & Delayed      &    \\\\\n",
       "\t Karnali Province    & Itahari   & Education            & 5/18/2023  & \\$228,460.14  & In Progress  &    \\\\\n",
       "\t Karnali Province    & Dhangadi  & Agriculture          & 10/7/2023  & \\$769,397.28  & Delayed      &    \\\\\n",
       "\t Bagmati Province    & Itahari   & Education            & 11/2/2023  & \\$937,426.75  & Yet to Start &    \\\\\n",
       "\t ⋮ & ⋮ & ⋮ & ⋮ & ⋮ & ⋮ & ⋮\\\\\n",
       "\t Gandaki Province    & Kathmandu & Transportation       & 11/14/2022 & \\$225,900.58  & Yet to Start &    \\\\\n",
       "\t Karnali Province    & Chitwan   & Transportation       & 6/13/2023  & \\$971,453.99  & Completed    &    \\\\\n",
       "\t Lumbini Province    & Itahari   & Electricity          & 2/1/2021   & \\$611,826.17  & Yet to Start &    \\\\\n",
       "\t Sagarmatha Province & Kathmandu & Transportation       & 10/23/2022 & \\$935,191.13  & Yet to Start &    \\\\\n",
       "\t Karnali Province    & Dhangadi  & Health               & 10/11/2023 & \\$527,850.49  & Halted       &    \\\\\n",
       "\t Gandaki Province    & Butwal    & Health               & 7/18/2022  & \\$331,309.49  & Completed    &    \\\\\n",
       "\t Karnali Province    & Dhangadi  & Health               & 1/3/2024   & \\$251,181.50  & Completed    &    \\\\\n",
       "\t Lumbini Province    & Pokhara   & Hydro Power          & 1/5/2022   & \\$871,603.16  & In Progress  &    \\\\\n",
       "\t Bagmati Province    & Butwal    & IT and Communication & 1/2/2023   & \\$581,926.10  & Yet to Start &    \\\\\n",
       "\t Gandaki Province    & Chitwan   & Foreign Investment   & 3/18/2023  & \\$675,232.07  & Halted       &    \\\\\n",
       "\t Karnali Province    & Itahari   & Health               & 9/24/2023  & \\$885,726.92  & In Progress  &    \\\\\n",
       "\t Gandaki Province    & Dhangadi  & Hydro Power          & 4/18/2022  & \\$249,849.86  & In Progress  &    \\\\\n",
       "\t Sagarmatha Province & Itahari   & Hydro Power          & 10/29/2023 & \\$591,869.67  & Delayed      &    \\\\\n",
       "\t Gandaki Province    & Dhangadi  & Transportation       & 5/31/2023  & \\$541,840.89  & Completed    & Yes\\\\\n",
       "\t Gandaki Province    & Butwal    & Electricity          & 1/22/2023  & \\$225,918.62  & Yet to Start &    \\\\\n",
       "\t Sagarmatha Province & Pokhara   & Transportation       & 8/5/2023   & \\$196,786.86  & Yet to Start &    \\\\\n",
       "\t Bagmati Province    & Butwal    & Education            & 6/19/2021  & \\$442,400.15  & Delayed      &    \\\\\n",
       "\t Gandaki Province    & Itahari   & IT and Communication & 3/2/2023   & \\$507,644.04  & Delayed      &    \\\\\n",
       "\t Karnali Province    & Kathmandu & Electricity          & 2/3/2021   & \\$381,792.85  & Completed    &    \\\\\n",
       "\t Sagarmatha Province & Kathmandu & Hydro Power          & 1/2/2023   & \\$982,840.03  & Completed    &    \\\\\n",
       "\t Gandaki Province    & Butwal    & Foreign Investment   & 4/1/2021   & \\$225,359.69  & Completed    &    \\\\\n",
       "\t Sagarmatha Province & Pokhara   & Transportation       & 11/29/2022 & \\$713,791.96  & Delayed      &    \\\\\n",
       "\t Karnali Province    & Butwal    & Foreign Investment   & 4/26/2023  & \\$579,978.41  & Delayed      &    \\\\\n",
       "\t Sagarmatha Province & Kathmandu & Hydro Power          & 6/11/2023  & \\$883,931.13  & Yet to Start &    \\\\\n",
       "\t Sagarmatha Province & Kathmandu & Agriculture          & 4/29/2022  & \\$658,702.90  & Completed    &    \\\\\n",
       "\t Bagmati Province    & Itahari   & IT and Communication & 5/17/2022  & \\$769,041.33  & Delayed      &    \\\\\n",
       "\t Karnali Province    & Chitwan   & Foreign Investment   & 5/28/2022  & \\$593,087.54  & Halted       &    \\\\\n",
       "\t Sagarmatha Province & Pokhara   & Hydro Power          & 4/6/2022   & \\$406,070.53  & In Progress  &    \\\\\n",
       "\t Karnali Province    & Itahari   & Foreign Investment   & 12/24/2023 & \\$462,246.98  & Delayed      &    \\\\\n",
       "\t Bagmati Province    & Kathmandu & Health               & 8/13/2022  & \\$658,789.17  & In Progress  &    \\\\\n",
       "\\end{tabular}\n"
      ],
      "text/markdown": [
       "\n",
       "A data.frame: 879 × 7\n",
       "\n",
       "| province &lt;chr&gt; | city &lt;chr&gt; | departments &lt;chr&gt; | start_date &lt;chr&gt; | project_budget &lt;chr&gt; | project_status &lt;chr&gt; | project_complaints &lt;chr&gt; |\n",
       "|---|---|---|---|---|---|---|\n",
       "| Lumbini Province    | Chitwan   | Agriculture          | 12/4/2023  | $344,977.76  | Halted       | <!----> |\n",
       "| Gandaki Province    | Dhangadi  | Hydro Power          | 11/18/2021 | $746,329.16  | In Progress  | <!----> |\n",
       "| Gandaki Province    | Chitwan   | Transportation       | 1/9/2024   | $766,734.12  | In Progress  | <!----> |\n",
       "| Sagarmatha Province | Dhangadi  | Health               | 11/9/2021  | $501,729.87  | Delayed      | <!----> |\n",
       "| Gandaki Province    | Dhangadi  | Agriculture          | 4/21/2021  | $301,461.26  | Delayed      | <!----> |\n",
       "| Bagmati Province    | Chitwan   | IT and Communication | 12/29/2022 | $206,586.56  | In Progress  | <!----> |\n",
       "| Karnali Province    | Itahari   | Hydro Power          | 10/7/2021  | $998,411.47  | Completed    | <!----> |\n",
       "| Gandaki Province    | Itahari   | Hydro Power          | 6/23/2022  | $295,000.50  | Completed    | <!----> |\n",
       "| Lumbini Province    | Itahari   | Foreign Investment   | 11/13/2023 | $915,831.76  | Delayed      | <!----> |\n",
       "| Gandaki Province    | Kathmandu | IT and Communication | 5/30/2023  | $601,945.12  | Halted       | <!----> |\n",
       "| Sagarmatha Province | Pokhara   | Education            | 1/21/2022  | $835,826.02  | Yet to Start | <!----> |\n",
       "| Lumbini Province    | Itahari   | Hydro Power          | 8/19/2021  | $579,221.22  | Completed    | <!----> |\n",
       "| Gandaki Province    | Kathmandu | IT and Communication | 6/28/2023  | $408,176.04  | Delayed      | <!----> |\n",
       "| Lumbini Province    | Itahari   | IT and Communication | 6/5/2023   | $171,492.81  | In Progress  | <!----> |\n",
       "| Gandaki Province    | Butwal    | IT and Communication | 3/8/2023   | $848,339.96  | Yet to Start | <!----> |\n",
       "| Lumbini Province    | Chitwan   | Electricity          | 6/4/2021   | $996,169.51  | Completed    | <!----> |\n",
       "| Karnali Province    | Kathmandu | IT and Communication | 10/14/2022 | $556,116.67  | Halted       | <!----> |\n",
       "| Gandaki Province    | Butwal    | Health               | 3/6/2022   | $667,250.99  | Completed    | <!----> |\n",
       "| Sagarmatha Province | Dhangadi  | Hydro Power          | 11/3/2022  | $513,097.70  | Halted       | <!----> |\n",
       "| Lumbini Province    | Dhangadi  | Foreign Investment   | 5/1/2022   | $901,790.43  | Delayed      | <!----> |\n",
       "| Gandaki Province    | Itahari   | Transportation       | 8/5/2022   | $762,401.73  | Halted       | <!----> |\n",
       "| Lumbini Province    | Kathmandu | Education            | 12/27/2023 | $964,270.34  | Halted       | Yes |\n",
       "| Gandaki Province    | Dhangadi  | Electricity          | 6/16/2021  | $415,849.49  | Delayed      | <!----> |\n",
       "| Sagarmatha Province | Kathmandu | Health               | 3/14/2021  | $360,075.98  | Delayed      | <!----> |\n",
       "| Karnali Province    | Dhangadi  | Health               | 12/26/2022 | $647,501.14  | Completed    | <!----> |\n",
       "| Lumbini Province    | Kathmandu | Hydro Power          | 8/23/2021  | $393,423.51  | Halted       | <!----> |\n",
       "| Karnali Province    | Pokhara   | Hydro Power          | 2/2/2021   | $612,375.75  | Delayed      | <!----> |\n",
       "| Karnali Province    | Itahari   | Education            | 5/18/2023  | $228,460.14  | In Progress  | <!----> |\n",
       "| Karnali Province    | Dhangadi  | Agriculture          | 10/7/2023  | $769,397.28  | Delayed      | <!----> |\n",
       "| Bagmati Province    | Itahari   | Education            | 11/2/2023  | $937,426.75  | Yet to Start | <!----> |\n",
       "| ⋮ | ⋮ | ⋮ | ⋮ | ⋮ | ⋮ | ⋮ |\n",
       "| Gandaki Province    | Kathmandu | Transportation       | 11/14/2022 | $225,900.58  | Yet to Start | <!----> |\n",
       "| Karnali Province    | Chitwan   | Transportation       | 6/13/2023  | $971,453.99  | Completed    | <!----> |\n",
       "| Lumbini Province    | Itahari   | Electricity          | 2/1/2021   | $611,826.17  | Yet to Start | <!----> |\n",
       "| Sagarmatha Province | Kathmandu | Transportation       | 10/23/2022 | $935,191.13  | Yet to Start | <!----> |\n",
       "| Karnali Province    | Dhangadi  | Health               | 10/11/2023 | $527,850.49  | Halted       | <!----> |\n",
       "| Gandaki Province    | Butwal    | Health               | 7/18/2022  | $331,309.49  | Completed    | <!----> |\n",
       "| Karnali Province    | Dhangadi  | Health               | 1/3/2024   | $251,181.50  | Completed    | <!----> |\n",
       "| Lumbini Province    | Pokhara   | Hydro Power          | 1/5/2022   | $871,603.16  | In Progress  | <!----> |\n",
       "| Bagmati Province    | Butwal    | IT and Communication | 1/2/2023   | $581,926.10  | Yet to Start | <!----> |\n",
       "| Gandaki Province    | Chitwan   | Foreign Investment   | 3/18/2023  | $675,232.07  | Halted       | <!----> |\n",
       "| Karnali Province    | Itahari   | Health               | 9/24/2023  | $885,726.92  | In Progress  | <!----> |\n",
       "| Gandaki Province    | Dhangadi  | Hydro Power          | 4/18/2022  | $249,849.86  | In Progress  | <!----> |\n",
       "| Sagarmatha Province | Itahari   | Hydro Power          | 10/29/2023 | $591,869.67  | Delayed      | <!----> |\n",
       "| Gandaki Province    | Dhangadi  | Transportation       | 5/31/2023  | $541,840.89  | Completed    | Yes |\n",
       "| Gandaki Province    | Butwal    | Electricity          | 1/22/2023  | $225,918.62  | Yet to Start | <!----> |\n",
       "| Sagarmatha Province | Pokhara   | Transportation       | 8/5/2023   | $196,786.86  | Yet to Start | <!----> |\n",
       "| Bagmati Province    | Butwal    | Education            | 6/19/2021  | $442,400.15  | Delayed      | <!----> |\n",
       "| Gandaki Province    | Itahari   | IT and Communication | 3/2/2023   | $507,644.04  | Delayed      | <!----> |\n",
       "| Karnali Province    | Kathmandu | Electricity          | 2/3/2021   | $381,792.85  | Completed    | <!----> |\n",
       "| Sagarmatha Province | Kathmandu | Hydro Power          | 1/2/2023   | $982,840.03  | Completed    | <!----> |\n",
       "| Gandaki Province    | Butwal    | Foreign Investment   | 4/1/2021   | $225,359.69  | Completed    | <!----> |\n",
       "| Sagarmatha Province | Pokhara   | Transportation       | 11/29/2022 | $713,791.96  | Delayed      | <!----> |\n",
       "| Karnali Province    | Butwal    | Foreign Investment   | 4/26/2023  | $579,978.41  | Delayed      | <!----> |\n",
       "| Sagarmatha Province | Kathmandu | Hydro Power          | 6/11/2023  | $883,931.13  | Yet to Start | <!----> |\n",
       "| Sagarmatha Province | Kathmandu | Agriculture          | 4/29/2022  | $658,702.90  | Completed    | <!----> |\n",
       "| Bagmati Province    | Itahari   | IT and Communication | 5/17/2022  | $769,041.33  | Delayed      | <!----> |\n",
       "| Karnali Province    | Chitwan   | Foreign Investment   | 5/28/2022  | $593,087.54  | Halted       | <!----> |\n",
       "| Sagarmatha Province | Pokhara   | Hydro Power          | 4/6/2022   | $406,070.53  | In Progress  | <!----> |\n",
       "| Karnali Province    | Itahari   | Foreign Investment   | 12/24/2023 | $462,246.98  | Delayed      | <!----> |\n",
       "| Bagmati Province    | Kathmandu | Health               | 8/13/2022  | $658,789.17  | In Progress  | <!----> |\n",
       "\n"
      ],
      "text/plain": [
       "    province            city      departments          start_date\n",
       "1   Lumbini Province    Chitwan   Agriculture          12/4/2023 \n",
       "2   Gandaki Province    Dhangadi  Hydro Power          11/18/2021\n",
       "3   Gandaki Province    Chitwan   Transportation       1/9/2024  \n",
       "4   Sagarmatha Province Dhangadi  Health               11/9/2021 \n",
       "5   Gandaki Province    Dhangadi  Agriculture          4/21/2021 \n",
       "6   Bagmati Province    Chitwan   IT and Communication 12/29/2022\n",
       "7   Karnali Province    Itahari   Hydro Power          10/7/2021 \n",
       "8   Gandaki Province    Itahari   Hydro Power          6/23/2022 \n",
       "9   Lumbini Province    Itahari   Foreign Investment   11/13/2023\n",
       "10  Gandaki Province    Kathmandu IT and Communication 5/30/2023 \n",
       "11  Sagarmatha Province Pokhara   Education            1/21/2022 \n",
       "12  Lumbini Province    Itahari   Hydro Power          8/19/2021 \n",
       "13  Gandaki Province    Kathmandu IT and Communication 6/28/2023 \n",
       "14  Lumbini Province    Itahari   IT and Communication 6/5/2023  \n",
       "15  Gandaki Province    Butwal    IT and Communication 3/8/2023  \n",
       "16  Lumbini Province    Chitwan   Electricity          6/4/2021  \n",
       "17  Karnali Province    Kathmandu IT and Communication 10/14/2022\n",
       "18  Gandaki Province    Butwal    Health               3/6/2022  \n",
       "19  Sagarmatha Province Dhangadi  Hydro Power          11/3/2022 \n",
       "20  Lumbini Province    Dhangadi  Foreign Investment   5/1/2022  \n",
       "21  Gandaki Province    Itahari   Transportation       8/5/2022  \n",
       "22  Lumbini Province    Kathmandu Education            12/27/2023\n",
       "23  Gandaki Province    Dhangadi  Electricity          6/16/2021 \n",
       "24  Sagarmatha Province Kathmandu Health               3/14/2021 \n",
       "25  Karnali Province    Dhangadi  Health               12/26/2022\n",
       "26  Lumbini Province    Kathmandu Hydro Power          8/23/2021 \n",
       "27  Karnali Province    Pokhara   Hydro Power          2/2/2021  \n",
       "28  Karnali Province    Itahari   Education            5/18/2023 \n",
       "29  Karnali Province    Dhangadi  Agriculture          10/7/2023 \n",
       "30  Bagmati Province    Itahari   Education            11/2/2023 \n",
       "⋮   ⋮                   ⋮         ⋮                    ⋮         \n",
       "850 Gandaki Province    Kathmandu Transportation       11/14/2022\n",
       "851 Karnali Province    Chitwan   Transportation       6/13/2023 \n",
       "852 Lumbini Province    Itahari   Electricity          2/1/2021  \n",
       "853 Sagarmatha Province Kathmandu Transportation       10/23/2022\n",
       "854 Karnali Province    Dhangadi  Health               10/11/2023\n",
       "855 Gandaki Province    Butwal    Health               7/18/2022 \n",
       "856 Karnali Province    Dhangadi  Health               1/3/2024  \n",
       "857 Lumbini Province    Pokhara   Hydro Power          1/5/2022  \n",
       "858 Bagmati Province    Butwal    IT and Communication 1/2/2023  \n",
       "859 Gandaki Province    Chitwan   Foreign Investment   3/18/2023 \n",
       "860 Karnali Province    Itahari   Health               9/24/2023 \n",
       "861 Gandaki Province    Dhangadi  Hydro Power          4/18/2022 \n",
       "862 Sagarmatha Province Itahari   Hydro Power          10/29/2023\n",
       "863 Gandaki Province    Dhangadi  Transportation       5/31/2023 \n",
       "864 Gandaki Province    Butwal    Electricity          1/22/2023 \n",
       "865 Sagarmatha Province Pokhara   Transportation       8/5/2023  \n",
       "866 Bagmati Province    Butwal    Education            6/19/2021 \n",
       "867 Gandaki Province    Itahari   IT and Communication 3/2/2023  \n",
       "868 Karnali Province    Kathmandu Electricity          2/3/2021  \n",
       "869 Sagarmatha Province Kathmandu Hydro Power          1/2/2023  \n",
       "870 Gandaki Province    Butwal    Foreign Investment   4/1/2021  \n",
       "871 Sagarmatha Province Pokhara   Transportation       11/29/2022\n",
       "872 Karnali Province    Butwal    Foreign Investment   4/26/2023 \n",
       "873 Sagarmatha Province Kathmandu Hydro Power          6/11/2023 \n",
       "874 Sagarmatha Province Kathmandu Agriculture          4/29/2022 \n",
       "875 Bagmati Province    Itahari   IT and Communication 5/17/2022 \n",
       "876 Karnali Province    Chitwan   Foreign Investment   5/28/2022 \n",
       "877 Sagarmatha Province Pokhara   Hydro Power          4/6/2022  \n",
       "878 Karnali Province    Itahari   Foreign Investment   12/24/2023\n",
       "879 Bagmati Province    Kathmandu Health               8/13/2022 \n",
       "    project_budget project_status project_complaints\n",
       "1   $344,977.76    Halted                           \n",
       "2   $746,329.16    In Progress                      \n",
       "3   $766,734.12    In Progress                      \n",
       "4   $501,729.87    Delayed                          \n",
       "5   $301,461.26    Delayed                          \n",
       "6   $206,586.56    In Progress                      \n",
       "7   $998,411.47    Completed                        \n",
       "8   $295,000.50    Completed                        \n",
       "9   $915,831.76    Delayed                          \n",
       "10  $601,945.12    Halted                           \n",
       "11  $835,826.02    Yet to Start                     \n",
       "12  $579,221.22    Completed                        \n",
       "13  $408,176.04    Delayed                          \n",
       "14  $171,492.81    In Progress                      \n",
       "15  $848,339.96    Yet to Start                     \n",
       "16  $996,169.51    Completed                        \n",
       "17  $556,116.67    Halted                           \n",
       "18  $667,250.99    Completed                        \n",
       "19  $513,097.70    Halted                           \n",
       "20  $901,790.43    Delayed                          \n",
       "21  $762,401.73    Halted                           \n",
       "22  $964,270.34    Halted         Yes               \n",
       "23  $415,849.49    Delayed                          \n",
       "24  $360,075.98    Delayed                          \n",
       "25  $647,501.14    Completed                        \n",
       "26  $393,423.51    Halted                           \n",
       "27  $612,375.75    Delayed                          \n",
       "28  $228,460.14    In Progress                      \n",
       "29  $769,397.28    Delayed                          \n",
       "30  $937,426.75    Yet to Start                     \n",
       "⋮   ⋮              ⋮              ⋮                 \n",
       "850 $225,900.58    Yet to Start                     \n",
       "851 $971,453.99    Completed                        \n",
       "852 $611,826.17    Yet to Start                     \n",
       "853 $935,191.13    Yet to Start                     \n",
       "854 $527,850.49    Halted                           \n",
       "855 $331,309.49    Completed                        \n",
       "856 $251,181.50    Completed                        \n",
       "857 $871,603.16    In Progress                      \n",
       "858 $581,926.10    Yet to Start                     \n",
       "859 $675,232.07    Halted                           \n",
       "860 $885,726.92    In Progress                      \n",
       "861 $249,849.86    In Progress                      \n",
       "862 $591,869.67    Delayed                          \n",
       "863 $541,840.89    Completed      Yes               \n",
       "864 $225,918.62    Yet to Start                     \n",
       "865 $196,786.86    Yet to Start                     \n",
       "866 $442,400.15    Delayed                          \n",
       "867 $507,644.04    Delayed                          \n",
       "868 $381,792.85    Completed                        \n",
       "869 $982,840.03    Completed                        \n",
       "870 $225,359.69    Completed                        \n",
       "871 $713,791.96    Delayed                          \n",
       "872 $579,978.41    Delayed                          \n",
       "873 $883,931.13    Yet to Start                     \n",
       "874 $658,702.90    Completed                        \n",
       "875 $769,041.33    Delayed                          \n",
       "876 $593,087.54    Halted                           \n",
       "877 $406,070.53    In Progress                      \n",
       "878 $462,246.98    Delayed                          \n",
       "879 $658,789.17    In Progress                      "
      ]
     },
     "metadata": {},
     "output_type": "display_data"
    }
   ],
   "source": [
    "project_planning\n"
   ]
  },
  {
   "cell_type": "code",
   "execution_count": 48,
   "metadata": {
    "vscode": {
     "languageId": "r"
    }
   },
   "outputs": [
    {
     "data": {
      "text/html": [
       "'c:/Users/SumanPaudel/Desktop/R For Data Science'"
      ],
      "text/latex": [
       "'c:/Users/SumanPaudel/Desktop/R For Data Science'"
      ],
      "text/markdown": [
       "'c:/Users/SumanPaudel/Desktop/R For Data Science'"
      ],
      "text/plain": [
       "[1] \"c:/Users/SumanPaudel/Desktop/R For Data Science\""
      ]
     },
     "metadata": {},
     "output_type": "display_data"
    }
   ],
   "source": [
    "getwd()"
   ]
  },
  {
   "cell_type": "code",
   "execution_count": 50,
   "metadata": {
    "vscode": {
     "languageId": "r"
    }
   },
   "outputs": [
    {
     "ename": "ERROR",
     "evalue": "Error in readr_csv(\"project_planning.csv\"): could not find function \"readr_csv\"\n",
     "output_type": "error",
     "traceback": [
      "Error in readr_csv(\"project_planning.csv\"): could not find function \"readr_csv\"\nTraceback:\n"
     ]
    }
   ],
   "source": [
    "readr_csv('project_planning.csv')"
   ]
  },
  {
   "cell_type": "code",
   "execution_count": 53,
   "metadata": {
    "vscode": {
     "languageId": "r"
    }
   },
   "outputs": [
    {
     "name": "stderr",
     "output_type": "stream",
     "text": [
      "\u001b[1mRows: \u001b[22m\u001b[34m879\u001b[39m \u001b[1mColumns: \u001b[22m\u001b[34m7\u001b[39m\n",
      "\u001b[36m──\u001b[39m \u001b[1mColumn specification\u001b[22m \u001b[36m────────────────────────────────────────────────────────\u001b[39m\n",
      "\u001b[1mDelimiter:\u001b[22m \",\"\n",
      "\u001b[31mchr\u001b[39m (7): province, city, departments, start_date, project_budget, project_st...\n",
      "\n",
      "\u001b[36mℹ\u001b[39m Use `spec()` to retrieve the full column specification for this data.\n",
      "\u001b[36mℹ\u001b[39m Specify the column types or set `show_col_types = FALSE` to quiet this message.\n"
     ]
    },
    {
     "data": {
      "text/html": [
       "<table class=\"dataframe\">\n",
       "<caption>A spec_tbl_df: 879 × 7</caption>\n",
       "<thead>\n",
       "\t<tr><th scope=col>province</th><th scope=col>city</th><th scope=col>departments</th><th scope=col>start_date</th><th scope=col>project_budget</th><th scope=col>project_status</th><th scope=col>project_complaints</th></tr>\n",
       "\t<tr><th scope=col>&lt;chr&gt;</th><th scope=col>&lt;chr&gt;</th><th scope=col>&lt;chr&gt;</th><th scope=col>&lt;chr&gt;</th><th scope=col>&lt;chr&gt;</th><th scope=col>&lt;chr&gt;</th><th scope=col>&lt;chr&gt;</th></tr>\n",
       "</thead>\n",
       "<tbody>\n",
       "\t<tr><td>Lumbini Province   </td><td>Chitwan  </td><td>Agriculture         </td><td>12/4/2023 </td><td>$344,977.76</td><td>Halted      </td><td>NA </td></tr>\n",
       "\t<tr><td>Gandaki Province   </td><td>Dhangadi </td><td>Hydro Power         </td><td>11/18/2021</td><td>$746,329.16</td><td>In Progress </td><td>NA </td></tr>\n",
       "\t<tr><td>Gandaki Province   </td><td>Chitwan  </td><td>Transportation      </td><td>1/9/2024  </td><td>$766,734.12</td><td>In Progress </td><td>NA </td></tr>\n",
       "\t<tr><td>Sagarmatha Province</td><td>Dhangadi </td><td>Health              </td><td>11/9/2021 </td><td>$501,729.87</td><td>Delayed     </td><td>NA </td></tr>\n",
       "\t<tr><td>Gandaki Province   </td><td>Dhangadi </td><td>Agriculture         </td><td>4/21/2021 </td><td>$301,461.26</td><td>Delayed     </td><td>NA </td></tr>\n",
       "\t<tr><td>Bagmati Province   </td><td>Chitwan  </td><td>IT and Communication</td><td>12/29/2022</td><td>$206,586.56</td><td>In Progress </td><td>NA </td></tr>\n",
       "\t<tr><td>Karnali Province   </td><td>Itahari  </td><td>Hydro Power         </td><td>10/7/2021 </td><td>$998,411.47</td><td>Completed   </td><td>NA </td></tr>\n",
       "\t<tr><td>Gandaki Province   </td><td>Itahari  </td><td>Hydro Power         </td><td>6/23/2022 </td><td>$295,000.50</td><td>Completed   </td><td>NA </td></tr>\n",
       "\t<tr><td>Lumbini Province   </td><td>Itahari  </td><td>Foreign Investment  </td><td>11/13/2023</td><td>$915,831.76</td><td>Delayed     </td><td>NA </td></tr>\n",
       "\t<tr><td>Gandaki Province   </td><td>Kathmandu</td><td>IT and Communication</td><td>5/30/2023 </td><td>$601,945.12</td><td>Halted      </td><td>NA </td></tr>\n",
       "\t<tr><td>Sagarmatha Province</td><td>Pokhara  </td><td>Education           </td><td>1/21/2022 </td><td>$835,826.02</td><td>Yet to Start</td><td>NA </td></tr>\n",
       "\t<tr><td>Lumbini Province   </td><td>Itahari  </td><td>Hydro Power         </td><td>8/19/2021 </td><td>$579,221.22</td><td>Completed   </td><td>NA </td></tr>\n",
       "\t<tr><td>Gandaki Province   </td><td>Kathmandu</td><td>IT and Communication</td><td>6/28/2023 </td><td>$408,176.04</td><td>Delayed     </td><td>NA </td></tr>\n",
       "\t<tr><td>Lumbini Province   </td><td>Itahari  </td><td>IT and Communication</td><td>6/5/2023  </td><td>$171,492.81</td><td>In Progress </td><td>NA </td></tr>\n",
       "\t<tr><td>Gandaki Province   </td><td>Butwal   </td><td>IT and Communication</td><td>3/8/2023  </td><td>$848,339.96</td><td>Yet to Start</td><td>NA </td></tr>\n",
       "\t<tr><td>Lumbini Province   </td><td>Chitwan  </td><td>Electricity         </td><td>6/4/2021  </td><td>$996,169.51</td><td>Completed   </td><td>NA </td></tr>\n",
       "\t<tr><td>Karnali Province   </td><td>Kathmandu</td><td>IT and Communication</td><td>10/14/2022</td><td>$556,116.67</td><td>Halted      </td><td>NA </td></tr>\n",
       "\t<tr><td>Gandaki Province   </td><td>Butwal   </td><td>Health              </td><td>3/6/2022  </td><td>$667,250.99</td><td>Completed   </td><td>NA </td></tr>\n",
       "\t<tr><td>Sagarmatha Province</td><td>Dhangadi </td><td>Hydro Power         </td><td>11/3/2022 </td><td>$513,097.70</td><td>Halted      </td><td>NA </td></tr>\n",
       "\t<tr><td>Lumbini Province   </td><td>Dhangadi </td><td>Foreign Investment  </td><td>5/1/2022  </td><td>$901,790.43</td><td>Delayed     </td><td>NA </td></tr>\n",
       "\t<tr><td>Gandaki Province   </td><td>Itahari  </td><td>Transportation      </td><td>8/5/2022  </td><td>$762,401.73</td><td>Halted      </td><td>NA </td></tr>\n",
       "\t<tr><td>Lumbini Province   </td><td>Kathmandu</td><td>Education           </td><td>12/27/2023</td><td>$964,270.34</td><td>Halted      </td><td>Yes</td></tr>\n",
       "\t<tr><td>Gandaki Province   </td><td>Dhangadi </td><td>Electricity         </td><td>6/16/2021 </td><td>$415,849.49</td><td>Delayed     </td><td>NA </td></tr>\n",
       "\t<tr><td>Sagarmatha Province</td><td>Kathmandu</td><td>Health              </td><td>3/14/2021 </td><td>$360,075.98</td><td>Delayed     </td><td>NA </td></tr>\n",
       "\t<tr><td>Karnali Province   </td><td>Dhangadi </td><td>Health              </td><td>12/26/2022</td><td>$647,501.14</td><td>Completed   </td><td>NA </td></tr>\n",
       "\t<tr><td>Lumbini Province   </td><td>Kathmandu</td><td>Hydro Power         </td><td>8/23/2021 </td><td>$393,423.51</td><td>Halted      </td><td>NA </td></tr>\n",
       "\t<tr><td>Karnali Province   </td><td>Pokhara  </td><td>Hydro Power         </td><td>2/2/2021  </td><td>$612,375.75</td><td>Delayed     </td><td>NA </td></tr>\n",
       "\t<tr><td>Karnali Province   </td><td>Itahari  </td><td>Education           </td><td>5/18/2023 </td><td>$228,460.14</td><td>In Progress </td><td>NA </td></tr>\n",
       "\t<tr><td>Karnali Province   </td><td>Dhangadi </td><td>Agriculture         </td><td>10/7/2023 </td><td>$769,397.28</td><td>Delayed     </td><td>NA </td></tr>\n",
       "\t<tr><td>Bagmati Province   </td><td>Itahari  </td><td>Education           </td><td>11/2/2023 </td><td>$937,426.75</td><td>Yet to Start</td><td>NA </td></tr>\n",
       "\t<tr><td>⋮</td><td>⋮</td><td>⋮</td><td>⋮</td><td>⋮</td><td>⋮</td><td>⋮</td></tr>\n",
       "\t<tr><td>Gandaki Province   </td><td>Kathmandu</td><td>Transportation      </td><td>11/14/2022</td><td>$225,900.58</td><td>Yet to Start</td><td>NA </td></tr>\n",
       "\t<tr><td>Karnali Province   </td><td>Chitwan  </td><td>Transportation      </td><td>6/13/2023 </td><td>$971,453.99</td><td>Completed   </td><td>NA </td></tr>\n",
       "\t<tr><td>Lumbini Province   </td><td>Itahari  </td><td>Electricity         </td><td>2/1/2021  </td><td>$611,826.17</td><td>Yet to Start</td><td>NA </td></tr>\n",
       "\t<tr><td>Sagarmatha Province</td><td>Kathmandu</td><td>Transportation      </td><td>10/23/2022</td><td>$935,191.13</td><td>Yet to Start</td><td>NA </td></tr>\n",
       "\t<tr><td>Karnali Province   </td><td>Dhangadi </td><td>Health              </td><td>10/11/2023</td><td>$527,850.49</td><td>Halted      </td><td>NA </td></tr>\n",
       "\t<tr><td>Gandaki Province   </td><td>Butwal   </td><td>Health              </td><td>7/18/2022 </td><td>$331,309.49</td><td>Completed   </td><td>NA </td></tr>\n",
       "\t<tr><td>Karnali Province   </td><td>Dhangadi </td><td>Health              </td><td>1/3/2024  </td><td>$251,181.50</td><td>Completed   </td><td>NA </td></tr>\n",
       "\t<tr><td>Lumbini Province   </td><td>Pokhara  </td><td>Hydro Power         </td><td>1/5/2022  </td><td>$871,603.16</td><td>In Progress </td><td>NA </td></tr>\n",
       "\t<tr><td>Bagmati Province   </td><td>Butwal   </td><td>IT and Communication</td><td>1/2/2023  </td><td>$581,926.10</td><td>Yet to Start</td><td>NA </td></tr>\n",
       "\t<tr><td>Gandaki Province   </td><td>Chitwan  </td><td>Foreign Investment  </td><td>3/18/2023 </td><td>$675,232.07</td><td>Halted      </td><td>NA </td></tr>\n",
       "\t<tr><td>Karnali Province   </td><td>Itahari  </td><td>Health              </td><td>9/24/2023 </td><td>$885,726.92</td><td>In Progress </td><td>NA </td></tr>\n",
       "\t<tr><td>Gandaki Province   </td><td>Dhangadi </td><td>Hydro Power         </td><td>4/18/2022 </td><td>$249,849.86</td><td>In Progress </td><td>NA </td></tr>\n",
       "\t<tr><td>Sagarmatha Province</td><td>Itahari  </td><td>Hydro Power         </td><td>10/29/2023</td><td>$591,869.67</td><td>Delayed     </td><td>NA </td></tr>\n",
       "\t<tr><td>Gandaki Province   </td><td>Dhangadi </td><td>Transportation      </td><td>5/31/2023 </td><td>$541,840.89</td><td>Completed   </td><td>Yes</td></tr>\n",
       "\t<tr><td>Gandaki Province   </td><td>Butwal   </td><td>Electricity         </td><td>1/22/2023 </td><td>$225,918.62</td><td>Yet to Start</td><td>NA </td></tr>\n",
       "\t<tr><td>Sagarmatha Province</td><td>Pokhara  </td><td>Transportation      </td><td>8/5/2023  </td><td>$196,786.86</td><td>Yet to Start</td><td>NA </td></tr>\n",
       "\t<tr><td>Bagmati Province   </td><td>Butwal   </td><td>Education           </td><td>6/19/2021 </td><td>$442,400.15</td><td>Delayed     </td><td>NA </td></tr>\n",
       "\t<tr><td>Gandaki Province   </td><td>Itahari  </td><td>IT and Communication</td><td>3/2/2023  </td><td>$507,644.04</td><td>Delayed     </td><td>NA </td></tr>\n",
       "\t<tr><td>Karnali Province   </td><td>Kathmandu</td><td>Electricity         </td><td>2/3/2021  </td><td>$381,792.85</td><td>Completed   </td><td>NA </td></tr>\n",
       "\t<tr><td>Sagarmatha Province</td><td>Kathmandu</td><td>Hydro Power         </td><td>1/2/2023  </td><td>$982,840.03</td><td>Completed   </td><td>NA </td></tr>\n",
       "\t<tr><td>Gandaki Province   </td><td>Butwal   </td><td>Foreign Investment  </td><td>4/1/2021  </td><td>$225,359.69</td><td>Completed   </td><td>NA </td></tr>\n",
       "\t<tr><td>Sagarmatha Province</td><td>Pokhara  </td><td>Transportation      </td><td>11/29/2022</td><td>$713,791.96</td><td>Delayed     </td><td>NA </td></tr>\n",
       "\t<tr><td>Karnali Province   </td><td>Butwal   </td><td>Foreign Investment  </td><td>4/26/2023 </td><td>$579,978.41</td><td>Delayed     </td><td>NA </td></tr>\n",
       "\t<tr><td>Sagarmatha Province</td><td>Kathmandu</td><td>Hydro Power         </td><td>6/11/2023 </td><td>$883,931.13</td><td>Yet to Start</td><td>NA </td></tr>\n",
       "\t<tr><td>Sagarmatha Province</td><td>Kathmandu</td><td>Agriculture         </td><td>4/29/2022 </td><td>$658,702.90</td><td>Completed   </td><td>NA </td></tr>\n",
       "\t<tr><td>Bagmati Province   </td><td>Itahari  </td><td>IT and Communication</td><td>5/17/2022 </td><td>$769,041.33</td><td>Delayed     </td><td>NA </td></tr>\n",
       "\t<tr><td>Karnali Province   </td><td>Chitwan  </td><td>Foreign Investment  </td><td>5/28/2022 </td><td>$593,087.54</td><td>Halted      </td><td>NA </td></tr>\n",
       "\t<tr><td>Sagarmatha Province</td><td>Pokhara  </td><td>Hydro Power         </td><td>4/6/2022  </td><td>$406,070.53</td><td>In Progress </td><td>NA </td></tr>\n",
       "\t<tr><td>Karnali Province   </td><td>Itahari  </td><td>Foreign Investment  </td><td>12/24/2023</td><td>$462,246.98</td><td>Delayed     </td><td>NA </td></tr>\n",
       "\t<tr><td>Bagmati Province   </td><td>Kathmandu</td><td>Health              </td><td>8/13/2022 </td><td>$658,789.17</td><td>In Progress </td><td>NA </td></tr>\n",
       "</tbody>\n",
       "</table>\n"
      ],
      "text/latex": [
       "A spec\\_tbl\\_df: 879 × 7\n",
       "\\begin{tabular}{lllllll}\n",
       " province & city & departments & start\\_date & project\\_budget & project\\_status & project\\_complaints\\\\\n",
       " <chr> & <chr> & <chr> & <chr> & <chr> & <chr> & <chr>\\\\\n",
       "\\hline\n",
       "\t Lumbini Province    & Chitwan   & Agriculture          & 12/4/2023  & \\$344,977.76 & Halted       & NA \\\\\n",
       "\t Gandaki Province    & Dhangadi  & Hydro Power          & 11/18/2021 & \\$746,329.16 & In Progress  & NA \\\\\n",
       "\t Gandaki Province    & Chitwan   & Transportation       & 1/9/2024   & \\$766,734.12 & In Progress  & NA \\\\\n",
       "\t Sagarmatha Province & Dhangadi  & Health               & 11/9/2021  & \\$501,729.87 & Delayed      & NA \\\\\n",
       "\t Gandaki Province    & Dhangadi  & Agriculture          & 4/21/2021  & \\$301,461.26 & Delayed      & NA \\\\\n",
       "\t Bagmati Province    & Chitwan   & IT and Communication & 12/29/2022 & \\$206,586.56 & In Progress  & NA \\\\\n",
       "\t Karnali Province    & Itahari   & Hydro Power          & 10/7/2021  & \\$998,411.47 & Completed    & NA \\\\\n",
       "\t Gandaki Province    & Itahari   & Hydro Power          & 6/23/2022  & \\$295,000.50 & Completed    & NA \\\\\n",
       "\t Lumbini Province    & Itahari   & Foreign Investment   & 11/13/2023 & \\$915,831.76 & Delayed      & NA \\\\\n",
       "\t Gandaki Province    & Kathmandu & IT and Communication & 5/30/2023  & \\$601,945.12 & Halted       & NA \\\\\n",
       "\t Sagarmatha Province & Pokhara   & Education            & 1/21/2022  & \\$835,826.02 & Yet to Start & NA \\\\\n",
       "\t Lumbini Province    & Itahari   & Hydro Power          & 8/19/2021  & \\$579,221.22 & Completed    & NA \\\\\n",
       "\t Gandaki Province    & Kathmandu & IT and Communication & 6/28/2023  & \\$408,176.04 & Delayed      & NA \\\\\n",
       "\t Lumbini Province    & Itahari   & IT and Communication & 6/5/2023   & \\$171,492.81 & In Progress  & NA \\\\\n",
       "\t Gandaki Province    & Butwal    & IT and Communication & 3/8/2023   & \\$848,339.96 & Yet to Start & NA \\\\\n",
       "\t Lumbini Province    & Chitwan   & Electricity          & 6/4/2021   & \\$996,169.51 & Completed    & NA \\\\\n",
       "\t Karnali Province    & Kathmandu & IT and Communication & 10/14/2022 & \\$556,116.67 & Halted       & NA \\\\\n",
       "\t Gandaki Province    & Butwal    & Health               & 3/6/2022   & \\$667,250.99 & Completed    & NA \\\\\n",
       "\t Sagarmatha Province & Dhangadi  & Hydro Power          & 11/3/2022  & \\$513,097.70 & Halted       & NA \\\\\n",
       "\t Lumbini Province    & Dhangadi  & Foreign Investment   & 5/1/2022   & \\$901,790.43 & Delayed      & NA \\\\\n",
       "\t Gandaki Province    & Itahari   & Transportation       & 8/5/2022   & \\$762,401.73 & Halted       & NA \\\\\n",
       "\t Lumbini Province    & Kathmandu & Education            & 12/27/2023 & \\$964,270.34 & Halted       & Yes\\\\\n",
       "\t Gandaki Province    & Dhangadi  & Electricity          & 6/16/2021  & \\$415,849.49 & Delayed      & NA \\\\\n",
       "\t Sagarmatha Province & Kathmandu & Health               & 3/14/2021  & \\$360,075.98 & Delayed      & NA \\\\\n",
       "\t Karnali Province    & Dhangadi  & Health               & 12/26/2022 & \\$647,501.14 & Completed    & NA \\\\\n",
       "\t Lumbini Province    & Kathmandu & Hydro Power          & 8/23/2021  & \\$393,423.51 & Halted       & NA \\\\\n",
       "\t Karnali Province    & Pokhara   & Hydro Power          & 2/2/2021   & \\$612,375.75 & Delayed      & NA \\\\\n",
       "\t Karnali Province    & Itahari   & Education            & 5/18/2023  & \\$228,460.14 & In Progress  & NA \\\\\n",
       "\t Karnali Province    & Dhangadi  & Agriculture          & 10/7/2023  & \\$769,397.28 & Delayed      & NA \\\\\n",
       "\t Bagmati Province    & Itahari   & Education            & 11/2/2023  & \\$937,426.75 & Yet to Start & NA \\\\\n",
       "\t ⋮ & ⋮ & ⋮ & ⋮ & ⋮ & ⋮ & ⋮\\\\\n",
       "\t Gandaki Province    & Kathmandu & Transportation       & 11/14/2022 & \\$225,900.58 & Yet to Start & NA \\\\\n",
       "\t Karnali Province    & Chitwan   & Transportation       & 6/13/2023  & \\$971,453.99 & Completed    & NA \\\\\n",
       "\t Lumbini Province    & Itahari   & Electricity          & 2/1/2021   & \\$611,826.17 & Yet to Start & NA \\\\\n",
       "\t Sagarmatha Province & Kathmandu & Transportation       & 10/23/2022 & \\$935,191.13 & Yet to Start & NA \\\\\n",
       "\t Karnali Province    & Dhangadi  & Health               & 10/11/2023 & \\$527,850.49 & Halted       & NA \\\\\n",
       "\t Gandaki Province    & Butwal    & Health               & 7/18/2022  & \\$331,309.49 & Completed    & NA \\\\\n",
       "\t Karnali Province    & Dhangadi  & Health               & 1/3/2024   & \\$251,181.50 & Completed    & NA \\\\\n",
       "\t Lumbini Province    & Pokhara   & Hydro Power          & 1/5/2022   & \\$871,603.16 & In Progress  & NA \\\\\n",
       "\t Bagmati Province    & Butwal    & IT and Communication & 1/2/2023   & \\$581,926.10 & Yet to Start & NA \\\\\n",
       "\t Gandaki Province    & Chitwan   & Foreign Investment   & 3/18/2023  & \\$675,232.07 & Halted       & NA \\\\\n",
       "\t Karnali Province    & Itahari   & Health               & 9/24/2023  & \\$885,726.92 & In Progress  & NA \\\\\n",
       "\t Gandaki Province    & Dhangadi  & Hydro Power          & 4/18/2022  & \\$249,849.86 & In Progress  & NA \\\\\n",
       "\t Sagarmatha Province & Itahari   & Hydro Power          & 10/29/2023 & \\$591,869.67 & Delayed      & NA \\\\\n",
       "\t Gandaki Province    & Dhangadi  & Transportation       & 5/31/2023  & \\$541,840.89 & Completed    & Yes\\\\\n",
       "\t Gandaki Province    & Butwal    & Electricity          & 1/22/2023  & \\$225,918.62 & Yet to Start & NA \\\\\n",
       "\t Sagarmatha Province & Pokhara   & Transportation       & 8/5/2023   & \\$196,786.86 & Yet to Start & NA \\\\\n",
       "\t Bagmati Province    & Butwal    & Education            & 6/19/2021  & \\$442,400.15 & Delayed      & NA \\\\\n",
       "\t Gandaki Province    & Itahari   & IT and Communication & 3/2/2023   & \\$507,644.04 & Delayed      & NA \\\\\n",
       "\t Karnali Province    & Kathmandu & Electricity          & 2/3/2021   & \\$381,792.85 & Completed    & NA \\\\\n",
       "\t Sagarmatha Province & Kathmandu & Hydro Power          & 1/2/2023   & \\$982,840.03 & Completed    & NA \\\\\n",
       "\t Gandaki Province    & Butwal    & Foreign Investment   & 4/1/2021   & \\$225,359.69 & Completed    & NA \\\\\n",
       "\t Sagarmatha Province & Pokhara   & Transportation       & 11/29/2022 & \\$713,791.96 & Delayed      & NA \\\\\n",
       "\t Karnali Province    & Butwal    & Foreign Investment   & 4/26/2023  & \\$579,978.41 & Delayed      & NA \\\\\n",
       "\t Sagarmatha Province & Kathmandu & Hydro Power          & 6/11/2023  & \\$883,931.13 & Yet to Start & NA \\\\\n",
       "\t Sagarmatha Province & Kathmandu & Agriculture          & 4/29/2022  & \\$658,702.90 & Completed    & NA \\\\\n",
       "\t Bagmati Province    & Itahari   & IT and Communication & 5/17/2022  & \\$769,041.33 & Delayed      & NA \\\\\n",
       "\t Karnali Province    & Chitwan   & Foreign Investment   & 5/28/2022  & \\$593,087.54 & Halted       & NA \\\\\n",
       "\t Sagarmatha Province & Pokhara   & Hydro Power          & 4/6/2022   & \\$406,070.53 & In Progress  & NA \\\\\n",
       "\t Karnali Province    & Itahari   & Foreign Investment   & 12/24/2023 & \\$462,246.98 & Delayed      & NA \\\\\n",
       "\t Bagmati Province    & Kathmandu & Health               & 8/13/2022  & \\$658,789.17 & In Progress  & NA \\\\\n",
       "\\end{tabular}\n"
      ],
      "text/markdown": [
       "\n",
       "A spec_tbl_df: 879 × 7\n",
       "\n",
       "| province &lt;chr&gt; | city &lt;chr&gt; | departments &lt;chr&gt; | start_date &lt;chr&gt; | project_budget &lt;chr&gt; | project_status &lt;chr&gt; | project_complaints &lt;chr&gt; |\n",
       "|---|---|---|---|---|---|---|\n",
       "| Lumbini Province    | Chitwan   | Agriculture          | 12/4/2023  | $344,977.76 | Halted       | NA  |\n",
       "| Gandaki Province    | Dhangadi  | Hydro Power          | 11/18/2021 | $746,329.16 | In Progress  | NA  |\n",
       "| Gandaki Province    | Chitwan   | Transportation       | 1/9/2024   | $766,734.12 | In Progress  | NA  |\n",
       "| Sagarmatha Province | Dhangadi  | Health               | 11/9/2021  | $501,729.87 | Delayed      | NA  |\n",
       "| Gandaki Province    | Dhangadi  | Agriculture          | 4/21/2021  | $301,461.26 | Delayed      | NA  |\n",
       "| Bagmati Province    | Chitwan   | IT and Communication | 12/29/2022 | $206,586.56 | In Progress  | NA  |\n",
       "| Karnali Province    | Itahari   | Hydro Power          | 10/7/2021  | $998,411.47 | Completed    | NA  |\n",
       "| Gandaki Province    | Itahari   | Hydro Power          | 6/23/2022  | $295,000.50 | Completed    | NA  |\n",
       "| Lumbini Province    | Itahari   | Foreign Investment   | 11/13/2023 | $915,831.76 | Delayed      | NA  |\n",
       "| Gandaki Province    | Kathmandu | IT and Communication | 5/30/2023  | $601,945.12 | Halted       | NA  |\n",
       "| Sagarmatha Province | Pokhara   | Education            | 1/21/2022  | $835,826.02 | Yet to Start | NA  |\n",
       "| Lumbini Province    | Itahari   | Hydro Power          | 8/19/2021  | $579,221.22 | Completed    | NA  |\n",
       "| Gandaki Province    | Kathmandu | IT and Communication | 6/28/2023  | $408,176.04 | Delayed      | NA  |\n",
       "| Lumbini Province    | Itahari   | IT and Communication | 6/5/2023   | $171,492.81 | In Progress  | NA  |\n",
       "| Gandaki Province    | Butwal    | IT and Communication | 3/8/2023   | $848,339.96 | Yet to Start | NA  |\n",
       "| Lumbini Province    | Chitwan   | Electricity          | 6/4/2021   | $996,169.51 | Completed    | NA  |\n",
       "| Karnali Province    | Kathmandu | IT and Communication | 10/14/2022 | $556,116.67 | Halted       | NA  |\n",
       "| Gandaki Province    | Butwal    | Health               | 3/6/2022   | $667,250.99 | Completed    | NA  |\n",
       "| Sagarmatha Province | Dhangadi  | Hydro Power          | 11/3/2022  | $513,097.70 | Halted       | NA  |\n",
       "| Lumbini Province    | Dhangadi  | Foreign Investment   | 5/1/2022   | $901,790.43 | Delayed      | NA  |\n",
       "| Gandaki Province    | Itahari   | Transportation       | 8/5/2022   | $762,401.73 | Halted       | NA  |\n",
       "| Lumbini Province    | Kathmandu | Education            | 12/27/2023 | $964,270.34 | Halted       | Yes |\n",
       "| Gandaki Province    | Dhangadi  | Electricity          | 6/16/2021  | $415,849.49 | Delayed      | NA  |\n",
       "| Sagarmatha Province | Kathmandu | Health               | 3/14/2021  | $360,075.98 | Delayed      | NA  |\n",
       "| Karnali Province    | Dhangadi  | Health               | 12/26/2022 | $647,501.14 | Completed    | NA  |\n",
       "| Lumbini Province    | Kathmandu | Hydro Power          | 8/23/2021  | $393,423.51 | Halted       | NA  |\n",
       "| Karnali Province    | Pokhara   | Hydro Power          | 2/2/2021   | $612,375.75 | Delayed      | NA  |\n",
       "| Karnali Province    | Itahari   | Education            | 5/18/2023  | $228,460.14 | In Progress  | NA  |\n",
       "| Karnali Province    | Dhangadi  | Agriculture          | 10/7/2023  | $769,397.28 | Delayed      | NA  |\n",
       "| Bagmati Province    | Itahari   | Education            | 11/2/2023  | $937,426.75 | Yet to Start | NA  |\n",
       "| ⋮ | ⋮ | ⋮ | ⋮ | ⋮ | ⋮ | ⋮ |\n",
       "| Gandaki Province    | Kathmandu | Transportation       | 11/14/2022 | $225,900.58 | Yet to Start | NA  |\n",
       "| Karnali Province    | Chitwan   | Transportation       | 6/13/2023  | $971,453.99 | Completed    | NA  |\n",
       "| Lumbini Province    | Itahari   | Electricity          | 2/1/2021   | $611,826.17 | Yet to Start | NA  |\n",
       "| Sagarmatha Province | Kathmandu | Transportation       | 10/23/2022 | $935,191.13 | Yet to Start | NA  |\n",
       "| Karnali Province    | Dhangadi  | Health               | 10/11/2023 | $527,850.49 | Halted       | NA  |\n",
       "| Gandaki Province    | Butwal    | Health               | 7/18/2022  | $331,309.49 | Completed    | NA  |\n",
       "| Karnali Province    | Dhangadi  | Health               | 1/3/2024   | $251,181.50 | Completed    | NA  |\n",
       "| Lumbini Province    | Pokhara   | Hydro Power          | 1/5/2022   | $871,603.16 | In Progress  | NA  |\n",
       "| Bagmati Province    | Butwal    | IT and Communication | 1/2/2023   | $581,926.10 | Yet to Start | NA  |\n",
       "| Gandaki Province    | Chitwan   | Foreign Investment   | 3/18/2023  | $675,232.07 | Halted       | NA  |\n",
       "| Karnali Province    | Itahari   | Health               | 9/24/2023  | $885,726.92 | In Progress  | NA  |\n",
       "| Gandaki Province    | Dhangadi  | Hydro Power          | 4/18/2022  | $249,849.86 | In Progress  | NA  |\n",
       "| Sagarmatha Province | Itahari   | Hydro Power          | 10/29/2023 | $591,869.67 | Delayed      | NA  |\n",
       "| Gandaki Province    | Dhangadi  | Transportation       | 5/31/2023  | $541,840.89 | Completed    | Yes |\n",
       "| Gandaki Province    | Butwal    | Electricity          | 1/22/2023  | $225,918.62 | Yet to Start | NA  |\n",
       "| Sagarmatha Province | Pokhara   | Transportation       | 8/5/2023   | $196,786.86 | Yet to Start | NA  |\n",
       "| Bagmati Province    | Butwal    | Education            | 6/19/2021  | $442,400.15 | Delayed      | NA  |\n",
       "| Gandaki Province    | Itahari   | IT and Communication | 3/2/2023   | $507,644.04 | Delayed      | NA  |\n",
       "| Karnali Province    | Kathmandu | Electricity          | 2/3/2021   | $381,792.85 | Completed    | NA  |\n",
       "| Sagarmatha Province | Kathmandu | Hydro Power          | 1/2/2023   | $982,840.03 | Completed    | NA  |\n",
       "| Gandaki Province    | Butwal    | Foreign Investment   | 4/1/2021   | $225,359.69 | Completed    | NA  |\n",
       "| Sagarmatha Province | Pokhara   | Transportation       | 11/29/2022 | $713,791.96 | Delayed      | NA  |\n",
       "| Karnali Province    | Butwal    | Foreign Investment   | 4/26/2023  | $579,978.41 | Delayed      | NA  |\n",
       "| Sagarmatha Province | Kathmandu | Hydro Power          | 6/11/2023  | $883,931.13 | Yet to Start | NA  |\n",
       "| Sagarmatha Province | Kathmandu | Agriculture          | 4/29/2022  | $658,702.90 | Completed    | NA  |\n",
       "| Bagmati Province    | Itahari   | IT and Communication | 5/17/2022  | $769,041.33 | Delayed      | NA  |\n",
       "| Karnali Province    | Chitwan   | Foreign Investment   | 5/28/2022  | $593,087.54 | Halted       | NA  |\n",
       "| Sagarmatha Province | Pokhara   | Hydro Power          | 4/6/2022   | $406,070.53 | In Progress  | NA  |\n",
       "| Karnali Province    | Itahari   | Foreign Investment   | 12/24/2023 | $462,246.98 | Delayed      | NA  |\n",
       "| Bagmati Province    | Kathmandu | Health               | 8/13/2022  | $658,789.17 | In Progress  | NA  |\n",
       "\n"
      ],
      "text/plain": [
       "    province            city      departments          start_date\n",
       "1   Lumbini Province    Chitwan   Agriculture          12/4/2023 \n",
       "2   Gandaki Province    Dhangadi  Hydro Power          11/18/2021\n",
       "3   Gandaki Province    Chitwan   Transportation       1/9/2024  \n",
       "4   Sagarmatha Province Dhangadi  Health               11/9/2021 \n",
       "5   Gandaki Province    Dhangadi  Agriculture          4/21/2021 \n",
       "6   Bagmati Province    Chitwan   IT and Communication 12/29/2022\n",
       "7   Karnali Province    Itahari   Hydro Power          10/7/2021 \n",
       "8   Gandaki Province    Itahari   Hydro Power          6/23/2022 \n",
       "9   Lumbini Province    Itahari   Foreign Investment   11/13/2023\n",
       "10  Gandaki Province    Kathmandu IT and Communication 5/30/2023 \n",
       "11  Sagarmatha Province Pokhara   Education            1/21/2022 \n",
       "12  Lumbini Province    Itahari   Hydro Power          8/19/2021 \n",
       "13  Gandaki Province    Kathmandu IT and Communication 6/28/2023 \n",
       "14  Lumbini Province    Itahari   IT and Communication 6/5/2023  \n",
       "15  Gandaki Province    Butwal    IT and Communication 3/8/2023  \n",
       "16  Lumbini Province    Chitwan   Electricity          6/4/2021  \n",
       "17  Karnali Province    Kathmandu IT and Communication 10/14/2022\n",
       "18  Gandaki Province    Butwal    Health               3/6/2022  \n",
       "19  Sagarmatha Province Dhangadi  Hydro Power          11/3/2022 \n",
       "20  Lumbini Province    Dhangadi  Foreign Investment   5/1/2022  \n",
       "21  Gandaki Province    Itahari   Transportation       8/5/2022  \n",
       "22  Lumbini Province    Kathmandu Education            12/27/2023\n",
       "23  Gandaki Province    Dhangadi  Electricity          6/16/2021 \n",
       "24  Sagarmatha Province Kathmandu Health               3/14/2021 \n",
       "25  Karnali Province    Dhangadi  Health               12/26/2022\n",
       "26  Lumbini Province    Kathmandu Hydro Power          8/23/2021 \n",
       "27  Karnali Province    Pokhara   Hydro Power          2/2/2021  \n",
       "28  Karnali Province    Itahari   Education            5/18/2023 \n",
       "29  Karnali Province    Dhangadi  Agriculture          10/7/2023 \n",
       "30  Bagmati Province    Itahari   Education            11/2/2023 \n",
       "⋮   ⋮                   ⋮         ⋮                    ⋮         \n",
       "850 Gandaki Province    Kathmandu Transportation       11/14/2022\n",
       "851 Karnali Province    Chitwan   Transportation       6/13/2023 \n",
       "852 Lumbini Province    Itahari   Electricity          2/1/2021  \n",
       "853 Sagarmatha Province Kathmandu Transportation       10/23/2022\n",
       "854 Karnali Province    Dhangadi  Health               10/11/2023\n",
       "855 Gandaki Province    Butwal    Health               7/18/2022 \n",
       "856 Karnali Province    Dhangadi  Health               1/3/2024  \n",
       "857 Lumbini Province    Pokhara   Hydro Power          1/5/2022  \n",
       "858 Bagmati Province    Butwal    IT and Communication 1/2/2023  \n",
       "859 Gandaki Province    Chitwan   Foreign Investment   3/18/2023 \n",
       "860 Karnali Province    Itahari   Health               9/24/2023 \n",
       "861 Gandaki Province    Dhangadi  Hydro Power          4/18/2022 \n",
       "862 Sagarmatha Province Itahari   Hydro Power          10/29/2023\n",
       "863 Gandaki Province    Dhangadi  Transportation       5/31/2023 \n",
       "864 Gandaki Province    Butwal    Electricity          1/22/2023 \n",
       "865 Sagarmatha Province Pokhara   Transportation       8/5/2023  \n",
       "866 Bagmati Province    Butwal    Education            6/19/2021 \n",
       "867 Gandaki Province    Itahari   IT and Communication 3/2/2023  \n",
       "868 Karnali Province    Kathmandu Electricity          2/3/2021  \n",
       "869 Sagarmatha Province Kathmandu Hydro Power          1/2/2023  \n",
       "870 Gandaki Province    Butwal    Foreign Investment   4/1/2021  \n",
       "871 Sagarmatha Province Pokhara   Transportation       11/29/2022\n",
       "872 Karnali Province    Butwal    Foreign Investment   4/26/2023 \n",
       "873 Sagarmatha Province Kathmandu Hydro Power          6/11/2023 \n",
       "874 Sagarmatha Province Kathmandu Agriculture          4/29/2022 \n",
       "875 Bagmati Province    Itahari   IT and Communication 5/17/2022 \n",
       "876 Karnali Province    Chitwan   Foreign Investment   5/28/2022 \n",
       "877 Sagarmatha Province Pokhara   Hydro Power          4/6/2022  \n",
       "878 Karnali Province    Itahari   Foreign Investment   12/24/2023\n",
       "879 Bagmati Province    Kathmandu Health               8/13/2022 \n",
       "    project_budget project_status project_complaints\n",
       "1   $344,977.76    Halted         NA                \n",
       "2   $746,329.16    In Progress    NA                \n",
       "3   $766,734.12    In Progress    NA                \n",
       "4   $501,729.87    Delayed        NA                \n",
       "5   $301,461.26    Delayed        NA                \n",
       "6   $206,586.56    In Progress    NA                \n",
       "7   $998,411.47    Completed      NA                \n",
       "8   $295,000.50    Completed      NA                \n",
       "9   $915,831.76    Delayed        NA                \n",
       "10  $601,945.12    Halted         NA                \n",
       "11  $835,826.02    Yet to Start   NA                \n",
       "12  $579,221.22    Completed      NA                \n",
       "13  $408,176.04    Delayed        NA                \n",
       "14  $171,492.81    In Progress    NA                \n",
       "15  $848,339.96    Yet to Start   NA                \n",
       "16  $996,169.51    Completed      NA                \n",
       "17  $556,116.67    Halted         NA                \n",
       "18  $667,250.99    Completed      NA                \n",
       "19  $513,097.70    Halted         NA                \n",
       "20  $901,790.43    Delayed        NA                \n",
       "21  $762,401.73    Halted         NA                \n",
       "22  $964,270.34    Halted         Yes               \n",
       "23  $415,849.49    Delayed        NA                \n",
       "24  $360,075.98    Delayed        NA                \n",
       "25  $647,501.14    Completed      NA                \n",
       "26  $393,423.51    Halted         NA                \n",
       "27  $612,375.75    Delayed        NA                \n",
       "28  $228,460.14    In Progress    NA                \n",
       "29  $769,397.28    Delayed        NA                \n",
       "30  $937,426.75    Yet to Start   NA                \n",
       "⋮   ⋮              ⋮              ⋮                 \n",
       "850 $225,900.58    Yet to Start   NA                \n",
       "851 $971,453.99    Completed      NA                \n",
       "852 $611,826.17    Yet to Start   NA                \n",
       "853 $935,191.13    Yet to Start   NA                \n",
       "854 $527,850.49    Halted         NA                \n",
       "855 $331,309.49    Completed      NA                \n",
       "856 $251,181.50    Completed      NA                \n",
       "857 $871,603.16    In Progress    NA                \n",
       "858 $581,926.10    Yet to Start   NA                \n",
       "859 $675,232.07    Halted         NA                \n",
       "860 $885,726.92    In Progress    NA                \n",
       "861 $249,849.86    In Progress    NA                \n",
       "862 $591,869.67    Delayed        NA                \n",
       "863 $541,840.89    Completed      Yes               \n",
       "864 $225,918.62    Yet to Start   NA                \n",
       "865 $196,786.86    Yet to Start   NA                \n",
       "866 $442,400.15    Delayed        NA                \n",
       "867 $507,644.04    Delayed        NA                \n",
       "868 $381,792.85    Completed      NA                \n",
       "869 $982,840.03    Completed      NA                \n",
       "870 $225,359.69    Completed      NA                \n",
       "871 $713,791.96    Delayed        NA                \n",
       "872 $579,978.41    Delayed        NA                \n",
       "873 $883,931.13    Yet to Start   NA                \n",
       "874 $658,702.90    Completed      NA                \n",
       "875 $769,041.33    Delayed        NA                \n",
       "876 $593,087.54    Halted         NA                \n",
       "877 $406,070.53    In Progress    NA                \n",
       "878 $462,246.98    Delayed        NA                \n",
       "879 $658,789.17    In Progress    NA                "
      ]
     },
     "metadata": {},
     "output_type": "display_data"
    }
   ],
   "source": [
    "library(tidyverse)\n",
    "read_csv('project_planning.csv')"
   ]
  },
  {
   "cell_type": "code",
   "execution_count": null,
   "metadata": {
    "vscode": {
     "languageId": "r"
    }
   },
   "outputs": [],
   "source": [
    "mds 503 First semester\n",
    "shitalbhandary@gmail.com"
   ]
  }
 ],
 "metadata": {
  "kernelspec": {
   "display_name": "R",
   "language": "R",
   "name": "ir"
  },
  "language_info": {
   "codemirror_mode": "r",
   "file_extension": ".r",
   "mimetype": "text/x-r-source",
   "name": "R",
   "pygments_lexer": "r",
   "version": "4.3.2"
  }
 },
 "nbformat": 4,
 "nbformat_minor": 2
}
