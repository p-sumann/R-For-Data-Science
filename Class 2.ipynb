{
 "cells": [
  {
   "cell_type": "code",
   "execution_count": 3,
   "metadata": {
    "vscode": {
     "languageId": "r"
    }
   },
   "outputs": [
    {
     "name": "stdout",
     "output_type": "stream",
     "text": [
      " [1]  1  2  3  4  5  6  7  8  9 10\n"
     ]
    }
   ],
   "source": [
    "x <- c(1:10)\n",
    "print(x)\n"
   ]
  },
  {
   "cell_type": "code",
   "execution_count": 4,
   "metadata": {
    "vscode": {
     "languageId": "r"
    }
   },
   "outputs": [
    {
     "data": {
      "text/html": [
       "TRUE"
      ],
      "text/latex": [
       "TRUE"
      ],
      "text/markdown": [
       "TRUE"
      ],
      "text/plain": [
       "[1] TRUE"
      ]
     },
     "metadata": {},
     "output_type": "display_data"
    }
   ],
   "source": [
    "# check if number is of numeric\n",
    "is.numeric(x)\n"
   ]
  },
  {
   "cell_type": "code",
   "execution_count": 6,
   "metadata": {
    "vscode": {
     "languageId": "r"
    }
   },
   "outputs": [
    {
     "data": {
      "text/html": [
       "'integer'"
      ],
      "text/latex": [
       "'integer'"
      ],
      "text/markdown": [
       "'integer'"
      ],
      "text/plain": [
       "[1] \"integer\""
      ]
     },
     "metadata": {},
     "output_type": "display_data"
    }
   ],
   "source": [
    "class(x)\n"
   ]
  },
  {
   "cell_type": "code",
   "execution_count": 12,
   "metadata": {
    "vscode": {
     "languageId": "r"
    }
   },
   "outputs": [
    {
     "name": "stdout",
     "output_type": "stream",
     "text": [
      " [1]  1  2  3  4  5  6  7  8  9 10\n"
     ]
    }
   ],
   "source": [
    "x <- c(1L:10L)\n",
    "print(x)\n"
   ]
  },
  {
   "cell_type": "code",
   "execution_count": 10,
   "metadata": {
    "vscode": {
     "languageId": "r"
    }
   },
   "outputs": [
    {
     "data": {
      "text/html": [
       "'integer'"
      ],
      "text/latex": [
       "'integer'"
      ],
      "text/markdown": [
       "'integer'"
      ],
      "text/plain": [
       "[1] \"integer\""
      ]
     },
     "metadata": {},
     "output_type": "display_data"
    }
   ],
   "source": [
    "class(x)\n"
   ]
  },
  {
   "cell_type": "code",
   "execution_count": 13,
   "metadata": {
    "vscode": {
     "languageId": "r"
    }
   },
   "outputs": [
    {
     "data": {
      "text/html": [
       "2.5"
      ],
      "text/latex": [
       "2.5"
      ],
      "text/markdown": [
       "2.5"
      ],
      "text/plain": [
       "[1] 2.5"
      ]
     },
     "metadata": {},
     "output_type": "display_data"
    }
   ],
   "source": [
    "5L / 2L\n"
   ]
  },
  {
   "cell_type": "code",
   "execution_count": 14,
   "metadata": {
    "vscode": {
     "languageId": "r"
    }
   },
   "outputs": [
    {
     "data": {
      "text/html": [
       "20"
      ],
      "text/latex": [
       "20"
      ],
      "text/markdown": [
       "20"
      ],
      "text/plain": [
       "[1] 20"
      ]
     },
     "metadata": {},
     "output_type": "display_data"
    }
   ],
   "source": [
    "4L * 5L\n"
   ]
  },
  {
   "cell_type": "code",
   "execution_count": 15,
   "metadata": {
    "vscode": {
     "languageId": "r"
    }
   },
   "outputs": [
    {
     "data": {
      "text/html": [
       "'numeric'"
      ],
      "text/latex": [
       "'numeric'"
      ],
      "text/markdown": [
       "'numeric'"
      ],
      "text/plain": [
       "[1] \"numeric\""
      ]
     },
     "metadata": {},
     "output_type": "display_data"
    }
   ],
   "source": [
    "class(5L / 2L)\n"
   ]
  },
  {
   "cell_type": "code",
   "execution_count": 17,
   "metadata": {
    "vscode": {
     "languageId": "r"
    }
   },
   "outputs": [
    {
     "data": {
      "text/html": [
       "9.4"
      ],
      "text/latex": [
       "9.4"
      ],
      "text/markdown": [
       "9.4"
      ],
      "text/plain": [
       "[1] 9.4"
      ]
     },
     "metadata": {},
     "output_type": "display_data"
    }
   ],
   "source": [
    "(4.7 * 2L)\n"
   ]
  },
  {
   "cell_type": "code",
   "execution_count": 25,
   "metadata": {
    "vscode": {
     "languageId": "r"
    }
   },
   "outputs": [],
   "source": [
    "x <- \"Suman Paudel\"\n"
   ]
  },
  {
   "cell_type": "code",
   "execution_count": 26,
   "metadata": {
    "vscode": {
     "languageId": "r"
    }
   },
   "outputs": [
    {
     "data": {
      "text/html": [
       "'character'"
      ],
      "text/latex": [
       "'character'"
      ],
      "text/markdown": [
       "'character'"
      ],
      "text/plain": [
       "[1] \"character\""
      ]
     },
     "metadata": {},
     "output_type": "display_data"
    }
   ],
   "source": [
    "class(x)\n"
   ]
  },
  {
   "cell_type": "code",
   "execution_count": 27,
   "metadata": {
    "vscode": {
     "languageId": "r"
    }
   },
   "outputs": [],
   "source": [
    "y <- factor(x)\n"
   ]
  },
  {
   "cell_type": "code",
   "execution_count": 28,
   "metadata": {
    "vscode": {
     "languageId": "r"
    }
   },
   "outputs": [
    {
     "data": {
      "text/html": [
       "'factor'"
      ],
      "text/latex": [
       "'factor'"
      ],
      "text/markdown": [
       "'factor'"
      ],
      "text/plain": [
       "[1] \"factor\""
      ]
     },
     "metadata": {},
     "output_type": "display_data"
    }
   ],
   "source": [
    "class(y)\n"
   ]
  },
  {
   "cell_type": "code",
   "execution_count": 29,
   "metadata": {
    "vscode": {
     "languageId": "r"
    }
   },
   "outputs": [
    {
     "data": {
      "text/html": [
       "Suman Paudel\n",
       "<details>\n",
       "\t<summary style=display:list-item;cursor:pointer>\n",
       "\t\t<strong>Levels</strong>:\n",
       "\t</summary>\n",
       "\t'Suman Paudel'\n",
       "</details>"
      ],
      "text/latex": [
       "Suman Paudel\n",
       "\\emph{Levels}: 'Suman Paudel'"
      ],
      "text/markdown": [
       "Suman Paudel\n",
       "**Levels**: 'Suman Paudel'"
      ],
      "text/plain": [
       "[1] Suman Paudel\n",
       "Levels: Suman Paudel"
      ]
     },
     "metadata": {},
     "output_type": "display_data"
    }
   ],
   "source": [
    "y\n"
   ]
  },
  {
   "cell_type": "code",
   "execution_count": 39,
   "metadata": {
    "vscode": {
     "languageId": "r"
    }
   },
   "outputs": [],
   "source": [
    "gender <- factor(c(\"male\", \"female\", \"female\", \"male\"))\n"
   ]
  },
  {
   "cell_type": "code",
   "execution_count": 40,
   "metadata": {
    "vscode": {
     "languageId": "r"
    }
   },
   "outputs": [
    {
     "data": {
      "text/html": [
       "'integer'"
      ],
      "text/latex": [
       "'integer'"
      ],
      "text/markdown": [
       "'integer'"
      ],
      "text/plain": [
       "[1] \"integer\""
      ]
     },
     "metadata": {},
     "output_type": "display_data"
    }
   ],
   "source": [
    "typeof(gender)\n"
   ]
  },
  {
   "cell_type": "code",
   "execution_count": 41,
   "metadata": {
    "vscode": {
     "languageId": "r"
    }
   },
   "outputs": [
    {
     "data": {
      "text/html": [
       "<dl>\n",
       "\t<dt>$levels</dt>\n",
       "\t\t<dd><style>\n",
       ".list-inline {list-style: none; margin:0; padding: 0}\n",
       ".list-inline>li {display: inline-block}\n",
       ".list-inline>li:not(:last-child)::after {content: \"\\00b7\"; padding: 0 .5ex}\n",
       "</style>\n",
       "<ol class=list-inline><li>'female'</li><li>'male'</li></ol>\n",
       "</dd>\n",
       "\t<dt>$class</dt>\n",
       "\t\t<dd>'factor'</dd>\n",
       "</dl>\n"
      ],
      "text/latex": [
       "\\begin{description}\n",
       "\\item[\\$levels] \\begin{enumerate*}\n",
       "\\item 'female'\n",
       "\\item 'male'\n",
       "\\end{enumerate*}\n",
       "\n",
       "\\item[\\$class] 'factor'\n",
       "\\end{description}\n"
      ],
      "text/markdown": [
       "$levels\n",
       ":   1. 'female'\n",
       "2. 'male'\n",
       "\n",
       "\n",
       "\n",
       "$class\n",
       ":   'factor'\n",
       "\n",
       "\n"
      ],
      "text/plain": [
       "$levels\n",
       "[1] \"female\" \"male\"  \n",
       "\n",
       "$class\n",
       "[1] \"factor\"\n"
      ]
     },
     "metadata": {},
     "output_type": "display_data"
    }
   ],
   "source": [
    "attributes(gender)\n"
   ]
  },
  {
   "cell_type": "code",
   "execution_count": 42,
   "metadata": {
    "vscode": {
     "languageId": "r"
    }
   },
   "outputs": [
    {
     "data": {
      "text/html": [
       "<style>\n",
       ".list-inline {list-style: none; margin:0; padding: 0}\n",
       ".list-inline>li {display: inline-block}\n",
       ".list-inline>li:not(:last-child)::after {content: \"\\00b7\"; padding: 0 .5ex}\n",
       "</style>\n",
       "<ol class=list-inline><li>2</li><li>1</li><li>1</li><li>2</li></ol>\n"
      ],
      "text/latex": [
       "\\begin{enumerate*}\n",
       "\\item 2\n",
       "\\item 1\n",
       "\\item 1\n",
       "\\item 2\n",
       "\\end{enumerate*}\n"
      ],
      "text/markdown": [
       "1. 2\n",
       "2. 1\n",
       "3. 1\n",
       "4. 2\n",
       "\n",
       "\n"
      ],
      "text/plain": [
       "[1] 2 1 1 2\n",
       "attr(,\"levels\")\n",
       "[1] \"female\" \"male\"  "
      ]
     },
     "metadata": {},
     "output_type": "display_data"
    }
   ],
   "source": [
    "unclass(gender)\n"
   ]
  },
  {
   "cell_type": "code",
   "execution_count": 45,
   "metadata": {
    "vscode": {
     "languageId": "r"
    }
   },
   "outputs": [
    {
     "data": {
      "text/html": [
       "<style>\n",
       ".list-inline {list-style: none; margin:0; padding: 0}\n",
       ".list-inline>li {display: inline-block}\n",
       ".list-inline>li:not(:last-child)::after {content: \"\\00b7\"; padding: 0 .5ex}\n",
       "</style>\n",
       "<ol class=list-inline><li>male</li><li>female</li><li>female</li><li>male</li></ol>\n",
       "\n",
       "<details>\n",
       "\t<summary style=display:list-item;cursor:pointer>\n",
       "\t\t<strong>Levels</strong>:\n",
       "\t</summary>\n",
       "\t<style>\n",
       "\t.list-inline {list-style: none; margin:0; padding: 0}\n",
       "\t.list-inline>li {display: inline-block}\n",
       "\t.list-inline>li:not(:last-child)::after {content: \"\\00b7\"; padding: 0 .5ex}\n",
       "\t</style>\n",
       "\t<ol class=list-inline><li>'female'</li><li>'male'</li></ol>\n",
       "</details>"
      ],
      "text/latex": [
       "\\begin{enumerate*}\n",
       "\\item male\n",
       "\\item female\n",
       "\\item female\n",
       "\\item male\n",
       "\\end{enumerate*}\n",
       "\n",
       "\\emph{Levels}: \\begin{enumerate*}\n",
       "\\item 'female'\n",
       "\\item 'male'\n",
       "\\end{enumerate*}\n"
      ],
      "text/markdown": [
       "1. male\n",
       "2. female\n",
       "3. female\n",
       "4. male\n",
       "\n",
       "\n",
       "\n",
       "**Levels**: 1. 'female'\n",
       "2. 'male'\n",
       "\n",
       "\n"
      ],
      "text/plain": [
       "[1] male   female female male  \n",
       "Levels: female male"
      ]
     },
     "metadata": {},
     "output_type": "display_data"
    }
   ],
   "source": [
    "gender\n"
   ]
  },
  {
   "cell_type": "code",
   "execution_count": 46,
   "metadata": {
    "vscode": {
     "languageId": "r"
    }
   },
   "outputs": [
    {
     "data": {
      "text/html": [
       "<style>\n",
       ".list-inline {list-style: none; margin:0; padding: 0}\n",
       ".list-inline>li {display: inline-block}\n",
       ".list-inline>li:not(:last-child)::after {content: \"\\00b7\"; padding: 0 .5ex}\n",
       "</style>\n",
       "<ol class=list-inline><li>'female'</li><li>'male'</li></ol>\n"
      ],
      "text/latex": [
       "\\begin{enumerate*}\n",
       "\\item 'female'\n",
       "\\item 'male'\n",
       "\\end{enumerate*}\n"
      ],
      "text/markdown": [
       "1. 'female'\n",
       "2. 'male'\n",
       "\n",
       "\n"
      ],
      "text/plain": [
       "[1] \"female\" \"male\"  "
      ]
     },
     "metadata": {},
     "output_type": "display_data"
    }
   ],
   "source": [
    "levels(gender)\n"
   ]
  },
  {
   "cell_type": "code",
   "execution_count": 52,
   "metadata": {
    "vscode": {
     "languageId": "r"
    }
   },
   "outputs": [],
   "source": [
    "sample_data <- as.POSIXct(\"2023-03-29 06:30\")\n"
   ]
  },
  {
   "cell_type": "code",
   "execution_count": 53,
   "metadata": {
    "vscode": {
     "languageId": "r"
    }
   },
   "outputs": [
    {
     "data": {
      "text/plain": [
       "[1] \"2023-03-29 06:30:00 +0545\""
      ]
     },
     "metadata": {},
     "output_type": "display_data"
    }
   ],
   "source": [
    "sample_data\n"
   ]
  },
  {
   "cell_type": "code",
   "execution_count": 54,
   "metadata": {
    "vscode": {
     "languageId": "r"
    }
   },
   "outputs": [
    {
     "data": {
      "text/html": [
       "<style>\n",
       ".list-inline {list-style: none; margin:0; padding: 0}\n",
       ".list-inline>li {display: inline-block}\n",
       ".list-inline>li:not(:last-child)::after {content: \"\\00b7\"; padding: 0 .5ex}\n",
       "</style>\n",
       "<ol class=list-inline><li>'POSIXct'</li><li>'POSIXt'</li></ol>\n"
      ],
      "text/latex": [
       "\\begin{enumerate*}\n",
       "\\item 'POSIXct'\n",
       "\\item 'POSIXt'\n",
       "\\end{enumerate*}\n"
      ],
      "text/markdown": [
       "1. 'POSIXct'\n",
       "2. 'POSIXt'\n",
       "\n",
       "\n"
      ],
      "text/plain": [
       "[1] \"POSIXct\" \"POSIXt\" "
      ]
     },
     "metadata": {},
     "output_type": "display_data"
    }
   ],
   "source": [
    "class(sample_data)\n"
   ]
  },
  {
   "cell_type": "code",
   "execution_count": 55,
   "metadata": {
    "vscode": {
     "languageId": "r"
    }
   },
   "outputs": [
    {
     "data": {
      "text/html": [
       "1680050700"
      ],
      "text/latex": [
       "1680050700"
      ],
      "text/markdown": [
       "1680050700"
      ],
      "text/plain": [
       "[1] 1680050700"
      ]
     },
     "metadata": {},
     "output_type": "display_data"
    }
   ],
   "source": [
    "as.numeric(sample_data)\n"
   ]
  },
  {
   "cell_type": "code",
   "execution_count": 56,
   "metadata": {
    "vscode": {
     "languageId": "r"
    }
   },
   "outputs": [],
   "source": [
    "sample_data <- as.POSIXlt(\"2023-03-29 06:30\")\n"
   ]
  },
  {
   "cell_type": "code",
   "execution_count": 57,
   "metadata": {
    "vscode": {
     "languageId": "r"
    }
   },
   "outputs": [
    {
     "data": {
      "text/plain": [
       "[1] \"2023-03-29 06:30:00 +0545\""
      ]
     },
     "metadata": {},
     "output_type": "display_data"
    }
   ],
   "source": [
    "sample_data\n"
   ]
  },
  {
   "cell_type": "code",
   "execution_count": 58,
   "metadata": {
    "vscode": {
     "languageId": "r"
    }
   },
   "outputs": [
    {
     "data": {
      "text/html": [
       "<style>\n",
       ".list-inline {list-style: none; margin:0; padding: 0}\n",
       ".list-inline>li {display: inline-block}\n",
       ".list-inline>li:not(:last-child)::after {content: \"\\00b7\"; padding: 0 .5ex}\n",
       "</style>\n",
       "<ol class=list-inline><li>'POSIXlt'</li><li>'POSIXt'</li></ol>\n"
      ],
      "text/latex": [
       "\\begin{enumerate*}\n",
       "\\item 'POSIXlt'\n",
       "\\item 'POSIXt'\n",
       "\\end{enumerate*}\n"
      ],
      "text/markdown": [
       "1. 'POSIXlt'\n",
       "2. 'POSIXt'\n",
       "\n",
       "\n"
      ],
      "text/plain": [
       "[1] \"POSIXlt\" \"POSIXt\" "
      ]
     },
     "metadata": {},
     "output_type": "display_data"
    }
   ],
   "source": [
    "class(sample_data)\n"
   ]
  },
  {
   "cell_type": "code",
   "execution_count": 59,
   "metadata": {
    "vscode": {
     "languageId": "r"
    }
   },
   "outputs": [
    {
     "name": "stdout",
     "output_type": "stream",
     "text": [
      "DateTimeClasses              package:base              R Documentation\n",
      "\n",
      "_\bD_\ba_\bt_\be-_\bT_\bi_\bm_\be _\bC_\bl_\ba_\bs_\bs_\be_\bs\n",
      "\n",
      "_\bD_\be_\bs_\bc_\br_\bi_\bp_\bt_\bi_\bo_\bn:\n",
      "\n",
      "     Description of the classes '\"POSIXlt\"' and '\"POSIXct\"'\n",
      "     representing calendar dates and times.\n",
      "\n",
      "_\bU_\bs_\ba_\bg_\be:\n",
      "\n",
      "     ## S3 method for class 'POSIXct'\n",
      "     print(x, tz = \"\", usetz = TRUE, max = NULL, ...)\n",
      "     \n",
      "     ## S3 method for class 'POSIXct'\n",
      "     summary(object, digits = 15, ...)\n",
      "     \n",
      "     time + z\n",
      "     z + time\n",
      "     time - z\n",
      "     time1 lop time2\n",
      "     \n",
      "_\bA_\br_\bg_\bu_\bm_\be_\bn_\bt_\bs:\n",
      "\n",
      "x, object: an object to be printed or summarized from one of the\n",
      "          date-time classes.\n",
      "\n",
      "tz, usetz: for timezone formatting, passed to 'format.POSIXct'.\n",
      "\n",
      "     max: numeric or 'NULL', specifying the maximal number of entries\n",
      "          to be printed.  By default, when 'NULL',\n",
      "          'getOption(\"max.print\")' used.\n",
      "\n",
      "  digits: number of significant digits for the computations: should be\n",
      "          high enough to represent the least important time unit\n",
      "          exactly.\n",
      "\n",
      "     ...: further arguments to be passed from or to other methods.\n",
      "\n",
      "    time: date-time objects\n",
      "\n",
      "time1, time2: date-time objects or character vectors.  (Character\n",
      "          vectors are converted by 'as.POSIXct'.)\n",
      "\n",
      "       z: a numeric vector (in seconds)\n",
      "\n",
      "     lop: one of '==', '!=', '<', '<=', '>' or '>='.\n",
      "\n",
      "_\bD_\be_\bt_\ba_\bi_\bl_\bs:\n",
      "\n",
      "     There are two basic classes of date/times.  Class '\"POSIXct\"'\n",
      "     represents the (signed) number of seconds since the beginning of\n",
      "     1970 (in the UTC time zone) as a numeric vector.  Class\n",
      "     '\"POSIXlt\"' is internally a 'list' of vectors with components\n",
      "     named 'sec', 'min', 'hour' for the time, 'mday', 'mon', and\n",
      "     'year', for the date, 'wday', 'yday' for the day of the week and\n",
      "     day of the year, 'isdst', a Daylight Saving Time flag, and\n",
      "     sometimes (both _optional_) 'zone', a string for the time zone,\n",
      "     and 'gmtoff', offset in seconds from GMT, see the section 'Details\n",
      "     on POSIXlt' below for more details.\n",
      "\n",
      "     The classes correspond to the POSIX/C99 constructs of 'calendar\n",
      "     time' (the 'time_t' data type, \"ct\"), and 'local time' (or\n",
      "     broken-down time, the 'struct tm' data type, \"lt\"), from which\n",
      "     they also inherit their names.\n",
      "\n",
      "     '\"POSIXct\"' is more convenient for including in data frames, and\n",
      "     '\"POSIXlt\"' is closer to human-readable forms.  A virtual class\n",
      "     '\"POSIXt\"' exists from which both of the classes inherit: it is\n",
      "     used to allow operations such as subtraction to mix the two\n",
      "     classes.\n",
      "\n",
      "     Logical comparisons and some arithmetic operations are available\n",
      "     for both classes.  One can add or subtract a number of seconds\n",
      "     from a date-time object, but not add two date-time objects.\n",
      "     Subtraction of two date-time objects is equivalent to using\n",
      "     'difftime'.  Be aware that '\"POSIXlt\"' objects will be interpreted\n",
      "     as being in the current time zone for these operations unless a\n",
      "     time zone has been specified.\n",
      "\n",
      "     Both classes may have an attribute '\"tzone\"', specifying the time\n",
      "     zone.  Note however that their meaning differ, see the section\n",
      "     'Time Zones' below for more details.\n",
      "\n",
      "     Unfortunately, the conversion is complicated by the operation of\n",
      "     time zones and leap seconds (according to this version of R's\n",
      "     data, 27 days have been 86401 seconds long so far, the last being\n",
      "     on (actually, immediately before) 2017-01-01: the times of the\n",
      "     extra seconds are in the object '.leap.seconds').  The details of\n",
      "     this are entrusted to the OS services where possible.  It seems\n",
      "     that some rare systems used to use leap seconds, but all known\n",
      "     current platforms ignore them (as required by POSIX).  This is\n",
      "     detected and corrected for at build time, so '\"POSIXct\"' times\n",
      "     used by R do not include leap seconds on any platform.\n",
      "\n",
      "     Using 'c' on '\"POSIXlt\"' objects converts them to the current time\n",
      "     zone, and on '\"POSIXct\"' objects drops '\"tzone\"' attributes if\n",
      "     they are not all the same.\n",
      "\n",
      "     A few times have specific issues.  First, the leap seconds are\n",
      "     ignored, and real times such as '\"2005-12-31 23:59:60\"' are\n",
      "     (probably) treated as the next second.  However, they will never\n",
      "     be generated by R, and are unlikely to arise as input.  Second, on\n",
      "     some OSes there is a problem in the POSIX/C99 standard with\n",
      "     '\"1969-12-31 23:59:59 UTC\"', which is '-1' in calendar time and\n",
      "     that value is on those OSes also used as an error code.  Thus\n",
      "     'as.POSIXct(\"1969-12-31 23:59:59\", format = \"%Y-%m-%d %H:%M:%S\",\n",
      "     tz = \"UTC\")' may give 'NA', and hence 'as.POSIXct(\"1969-12-31\n",
      "     23:59:59\", tz = \"UTC\")' will give '\"1969-12-31 23:59:00\"'.  Other\n",
      "     OSes (including the code used by R on Windows) report errors\n",
      "     separately and so are able to handle that time as valid.\n",
      "\n",
      "     The print methods respect 'options(\"max.print\")'.\n",
      "\n",
      "_\bT_\bi_\bm_\be _\bz_\bo_\bn_\be_\bs:\n",
      "\n",
      "     '\"POSIXlt\"' objects will often have an attribute '\"tzone\"', a\n",
      "     character vector of length 3 giving the time zone name (from the\n",
      "     'TZ' environment variable or argument 'tz' of functions creating\n",
      "     '\"POSIXlt\"' objects; '\"\"' marks the current time zone) and the\n",
      "     names of the base time zone and the alternate (daylight-saving)\n",
      "     time zone.  Sometimes this may just be of length one, giving the\n",
      "     time zone name.\n",
      "\n",
      "     '\"POSIXct\"' objects may also have an attribute '\"tzone\"', a\n",
      "     character vector of length one.  If set to a non-empty value, it\n",
      "     will determine how the object is converted to class '\"POSIXlt\"'\n",
      "     and in particular how it is printed.  This is usually desirable,\n",
      "     but if you want to specify an object in a particular time zone but\n",
      "     to be printed in the current time zone you may want to remove the\n",
      "     '\"tzone\"' attribute.\n",
      "\n",
      "_\bD_\be_\bt_\ba_\bi_\bl_\bs _\bo_\bn _\bP_\bO_\bS_\bI_\bX_\bl_\bt:\n",
      "\n",
      "     Class '\"POSIXlt\"' is internally a named 'list' of vectors\n",
      "     representing date-times, with the following list components\n",
      "\n",
      "     'sec' 0-61: seconds, allowing for leap seconds.\n",
      "\n",
      "     'min' 0-59: minutes.\n",
      "\n",
      "     'hour' 0-23: hours.\n",
      "\n",
      "     'mday' 1-31: day of the month\n",
      "\n",
      "     'mon' 0-11: months after the first of the year.\n",
      "\n",
      "     'year' years since 1900.\n",
      "\n",
      "     'wday' 0-6 day of the week, starting on Sunday.\n",
      "\n",
      "     'yday' 0-365: day of the year (365 only in leap years).\n",
      "\n",
      "     'isdst' Daylight Saving Time flag.  Positive if in force, zero if\n",
      "          not, negative if unknown.\n",
      "\n",
      "     'zone' (Optional.) The abbreviation for the time zone in force at\n",
      "          that time: '\"\"' if unknown (but '\"\"' might also be used for\n",
      "          UTC).\n",
      "\n",
      "     'gmtoff' (Optional.) The offset in seconds from GMT: positive\n",
      "          values are East of the meridian.  Usually 'NA' if unknown,\n",
      "          but '0' could mean unknown.\n",
      "\n",
      "     The components must be in this order: that was only minimally\n",
      "     checked prior to R 4.3.0.  All objects created in R 4.3.0 have the\n",
      "     optional components.  From earlier versions of R, he last two\n",
      "     components will not be present for times in UTC and are\n",
      "     platform-dependent.  Currently 'gmtoff' is set on almost all\n",
      "     current platforms: those based on BSD or 'glibc' (including Linux\n",
      "     and macOS) and those using the 'tzcode' implementation shipped\n",
      "     with R (including Windows and by default macOS).\n",
      "\n",
      "     Note that the internal list structure is somewhat hidden, as many\n",
      "     methods (including 'length(x)', 'print()' and 'str()') apply to\n",
      "     the abstract date-time vector, as for '\"POSIXct\"'.  One can\n",
      "     extract and replace _single_ components via '[' indexing with\n",
      "     _two_ indices (see the examples).\n",
      "\n",
      "     The components of '\"POSIXlt\"' are 'integer' vectors, except 'sec'\n",
      "     ('double') and 'zone' ('character').  However most users will\n",
      "     coerce numeric values for the first to real and the rest bar\n",
      "     'zone' to integer.\n",
      "\n",
      "     Components 'wday' and 'yday' are for information, and are not used\n",
      "     in the conversion to calendar time nor for printing, 'format()',\n",
      "     or in 'as.character()'.\n",
      "\n",
      "     However, component 'isdst' is needed to distinguish times at the\n",
      "     end of DST: typically 1am to 2am occurs twice, first in DST and\n",
      "     then in standard time.  At all other times 'isdst' can be deduced\n",
      "     from the first six values, but the behaviour if it is set\n",
      "     incorrectly is platform-dependent.  For example Linux/glibc when\n",
      "     checked fixed up incorrect values in time zones which support DST\n",
      "     but gave an error on value '1' in those without DST.\n",
      "\n",
      "     For \"ragged\" and out-of-range vs \"balanced\" '\"POSIXlt\"' objects,\n",
      "     see 'balancePOSIXlt()'.\n",
      "\n",
      "_\bS_\bu_\bb-_\bs_\be_\bc_\bo_\bn_\bd _\bA_\bc_\bc_\bu_\br_\ba_\bc_\by:\n",
      "\n",
      "     Classes '\"POSIXct\"' and '\"POSIXlt\"' are able to express fractions\n",
      "     of a second where the latter allows for higher accuracy.\n",
      "     Consequently, conversion of fractions between the two forms may\n",
      "     not be exact, but will have better than microsecond accuracy.\n",
      "\n",
      "     Fractional seconds are printed only if 'options(\"digits.secs\")' is\n",
      "     set: see 'strftime'.\n",
      "\n",
      "_\bV_\ba_\bl_\bi_\bd _\br_\ba_\bn_\bg_\be_\bs _\bf_\bo_\br _\bt_\bi_\bm_\be_\bs:\n",
      "\n",
      "     The '\"POSIXlt\"' class can represent a very wide range of times (up\n",
      "     to billions of years), but such times can only be interpreted with\n",
      "     reference to a time zone.\n",
      "\n",
      "     The concept of time zones was first adopted in the nineteenth\n",
      "     century, and the Gregorian calendar was introduced in 1582 but not\n",
      "     universally adopted until 1927.  OS services almost invariably\n",
      "     assume the Gregorian calendar and may assume that the time zone\n",
      "     that was first enacted for the location was in force before that\n",
      "     date.  (The earliest legislated time zone seems to have been\n",
      "     London on 1847-12-01.)  Some OSes assume the previous use of\n",
      "     'local time' based on the longitude of a location within the time\n",
      "     zone.\n",
      "\n",
      "     Most operating systems represent 'POSIXct' times as C type 'long'.\n",
      "     This means that on 32-bit OSes this covers the period 1902 to\n",
      "     2037.  On all known 64-bit platforms and for the code we use on\n",
      "     32-bit Windows, the range of representable times is billions of\n",
      "     years: however, not all can convert correctly times before 1902 or\n",
      "     after 2037.  A few benighted OSes used a unsigned type and so\n",
      "     cannot represent times before 1970.\n",
      "\n",
      "     Where possible the platform limits are detected, and outside the\n",
      "     limits we use our own C code.  This uses the offset from GMT in\n",
      "     use either for 1902 (when there was no DST) or that predicted for\n",
      "     one of 2030 to 2037 (chosen so that the likely DST transition days\n",
      "     are Sundays), and uses the alternate (daylight-saving) time zone\n",
      "     only if 'isdst' is positive or (if '-1') if DST was predicted to\n",
      "     be in operation in the 2030s on that day.\n",
      "\n",
      "     Note that there are places (e.g., Rome) whose offset from UTC\n",
      "     varied in the years prior to 1902, and these will be handled\n",
      "     correctly only where there is OS support.\n",
      "\n",
      "     There is no reason to assume that the DST rules will remain the\n",
      "     same in the future: the US legislated in 2005 to change its rules\n",
      "     as from 2007, with a possible future reversion.  So conversions\n",
      "     for times more than a year or two ahead are speculative.  Other\n",
      "     countries have changed their rules (and indeed, if DST is used at\n",
      "     all) at a few days' notice.  So representations and conversion of\n",
      "     future dates are tentative.  This also applies to dates after the\n",
      "     in-use version of the time-zone database - not all platforms keep\n",
      "     it up to date, which includes that shipped with older versions of\n",
      "     R where used (which it is by default on Windows and macOS).\n",
      "\n",
      "_\bW_\ba_\br_\bn_\bi_\bn_\bg_\bs:\n",
      "\n",
      "     Some Unix-like systems (especially Linux ones) do not have\n",
      "     environment variable 'TZ' set, yet have internal code that expects\n",
      "     it (as does POSIX).  We have tried to work around this, but if you\n",
      "     get unexpected results try setting 'TZ'.  See 'Sys.timezone' for\n",
      "     valid settings.\n",
      "\n",
      "     Great care is needed when comparing objects of class '\"POSIXlt\"'.\n",
      "     Not only are components and attributes optional; several\n",
      "     components may have values meaning 'not yet determined' and the\n",
      "     same time represented in different time zones will look quite\n",
      "     different.\n",
      "\n",
      "     The _order_ of the list components of '\"POSIXlt\"' objects must not\n",
      "     be changed, as several C-based conversion methods rely on the\n",
      "     order for efficiency.\n",
      "\n",
      "_\bR_\be_\bf_\be_\br_\be_\bn_\bc_\be_\bs:\n",
      "\n",
      "     Ripley, B. D. and Hornik, K. (2001).  \"Date-time classes.\"  _R\n",
      "     News_, *1*(2), 8-11.\n",
      "     <https://www.r-project.org/doc/Rnews/Rnews_2001-2.pdf>.\n",
      "\n",
      "_\bS_\be_\be _\bA_\bl_\bs_\bo:\n",
      "\n",
      "     Dates for dates without times.\n",
      "\n",
      "     'as.POSIXct' and 'as.POSIXlt' for conversion between the classes.\n",
      "\n",
      "     'strptime' for conversion to and from character representations.\n",
      "\n",
      "     'Sys.time' for clock time as a '\"POSIXct\"' object.\n",
      "\n",
      "     'difftime' for time intervals.\n",
      "\n",
      "     'balancePOSIXlt()' for balancing or filling \"ragged\" POSIXlt\n",
      "     objects.\n",
      "\n",
      "     'cut.POSIXt', 'seq.POSIXt', 'round.POSIXt' and 'trunc.POSIXt' for\n",
      "     methods for these classes.\n",
      "\n",
      "     'weekdays' for convenience extraction functions.\n",
      "\n",
      "_\bE_\bx_\ba_\bm_\bp_\bl_\be_\bs:\n",
      "\n",
      "     ## IGNORE_RDIFF_BEGIN\n",
      "     (z <- Sys.time())             # the current date, as class \"POSIXct\"\n",
      "     \n",
      "     Sys.time() - 3600             # an hour ago\n",
      "     \n",
      "     as.POSIXlt(Sys.time(), \"GMT\") # the current time in GMT\n",
      "     format(.leap.seconds)         # the leap seconds in your time zone\n",
      "     print(.leap.seconds, tz = \"PST8PDT\")  # and in Seattle's\n",
      "     ## IGNORE_RDIFF_END\n",
      "     \n",
      "     ## look at *internal* representation of \"POSIXlt\" :\n",
      "     leapS <- as.POSIXlt(.leap.seconds)\n",
      "     names(unclass(leapS)) ; is.list(leapS)\n",
      "     ## str() on inner structure needs unclass(.):\n",
      "     utils::str(unclass(leapS), vec.len = 7)\n",
      "     ## show all (apart from \"tzone\" attr):\n",
      "     data.frame(unclass(leapS))\n",
      "     \n",
      "     ## Extracting *single* components of POSIXlt objects:\n",
      "     leapS[1 : 5, \"year\"]\n",
      "     leapS[17:22, \"mon\" ]\n",
      "     \n",
      "     ##  length(.) <- n   now works for \"POSIXct\" and \"POSIXlt\" :\n",
      "     for(lpS in list(.leap.seconds, leapS)) {\n",
      "         ls <- lpS; length(ls) <- 12\n",
      "         l2 <- lpS; length(l2) <- 5 + length(lpS)\n",
      "         stopifnot(exprs = {\n",
      "           ## length(.) <- * is compatible to subsetting/indexing:\n",
      "           identical(ls, lpS[seq_along(ls)])\n",
      "           identical(l2, lpS[seq_along(l2)])\n",
      "           ## has filled with NA's\n",
      "           is.na(l2[(length(lpS)+1):length(l2)])\n",
      "         })\n",
      "     }\n",
      "     "
     ]
    }
   ],
   "source": [
    "?POSIXct\n"
   ]
  },
  {
   "cell_type": "code",
   "execution_count": 60,
   "metadata": {
    "vscode": {
     "languageId": "r"
    }
   },
   "outputs": [],
   "source": [
    "k <- TRUE\n"
   ]
  },
  {
   "cell_type": "code",
   "execution_count": 61,
   "metadata": {
    "vscode": {
     "languageId": "r"
    }
   },
   "outputs": [
    {
     "data": {
      "text/html": [
       "'logical'"
      ],
      "text/latex": [
       "'logical'"
      ],
      "text/markdown": [
       "'logical'"
      ],
      "text/plain": [
       "[1] \"logical\""
      ]
     },
     "metadata": {},
     "output_type": "display_data"
    }
   ],
   "source": [
    "class(k)\n"
   ]
  },
  {
   "cell_type": "code",
   "execution_count": 62,
   "metadata": {
    "vscode": {
     "languageId": "r"
    }
   },
   "outputs": [
    {
     "data": {
      "text/html": [
       "TRUE"
      ],
      "text/latex": [
       "TRUE"
      ],
      "text/markdown": [
       "TRUE"
      ],
      "text/plain": [
       "[1] TRUE"
      ]
     },
     "metadata": {},
     "output_type": "display_data"
    }
   ],
   "source": [
    "is.logical(k)\n"
   ]
  },
  {
   "cell_type": "code",
   "execution_count": 63,
   "metadata": {
    "vscode": {
     "languageId": "r"
    }
   },
   "outputs": [
    {
     "data": {
      "text/html": [
       "TRUE"
      ],
      "text/latex": [
       "TRUE"
      ],
      "text/markdown": [
       "TRUE"
      ],
      "text/plain": [
       "[1] TRUE"
      ]
     },
     "metadata": {},
     "output_type": "display_data"
    }
   ],
   "source": [
    "k\n"
   ]
  },
  {
   "cell_type": "code",
   "execution_count": 65,
   "metadata": {
    "vscode": {
     "languageId": "r"
    }
   },
   "outputs": [
    {
     "data": {
      "text/html": [
       "FALSE"
      ],
      "text/latex": [
       "FALSE"
      ],
      "text/markdown": [
       "FALSE"
      ],
      "text/plain": [
       "[1] FALSE"
      ]
     },
     "metadata": {},
     "output_type": "display_data"
    }
   ],
   "source": [
    "2 == 3\n"
   ]
  },
  {
   "cell_type": "code",
   "execution_count": 71,
   "metadata": {
    "vscode": {
     "languageId": "r"
    }
   },
   "outputs": [
    {
     "data": {
      "text/html": [
       "TRUE"
      ],
      "text/latex": [
       "TRUE"
      ],
      "text/markdown": [
       "TRUE"
      ],
      "text/plain": [
       "[1] TRUE"
      ]
     },
     "metadata": {},
     "output_type": "display_data"
    }
   ],
   "source": [
    "\"data\" < \"stat\"\n"
   ]
  },
  {
   "cell_type": "code",
   "execution_count": 75,
   "metadata": {
    "vscode": {
     "languageId": "r"
    }
   },
   "outputs": [
    {
     "data": {
      "text/html": [
       "TRUE"
      ],
      "text/latex": [
       "TRUE"
      ],
      "text/markdown": [
       "TRUE"
      ],
      "text/plain": [
       "[1] TRUE"
      ]
     },
     "metadata": {},
     "output_type": "display_data"
    }
   ],
   "source": [
    "\"c\" < \"d\"\n"
   ]
  },
  {
   "cell_type": "code",
   "execution_count": 78,
   "metadata": {
    "vscode": {
     "languageId": "r"
    }
   },
   "outputs": [
    {
     "data": {
      "text/html": [
       "TRUE"
      ],
      "text/latex": [
       "TRUE"
      ],
      "text/markdown": [
       "TRUE"
      ],
      "text/plain": [
       "[1] TRUE"
      ]
     },
     "metadata": {},
     "output_type": "display_data"
    }
   ],
   "source": [
    "\"car\" < \"cat\"\n"
   ]
  },
  {
   "cell_type": "code",
   "execution_count": 80,
   "metadata": {
    "vscode": {
     "languageId": "r"
    }
   },
   "outputs": [
    {
     "name": "stdout",
     "output_type": "stream",
     "text": [
      "Comparison                package:base                 R Documentation\n",
      "\n",
      "_\bR_\be_\bl_\ba_\bt_\bi_\bo_\bn_\ba_\bl _\bO_\bp_\be_\br_\ba_\bt_\bo_\br_\bs\n",
      "\n",
      "_\bD_\be_\bs_\bc_\br_\bi_\bp_\bt_\bi_\bo_\bn:\n",
      "\n",
      "     Binary operators which allow the comparison of values in atomic\n",
      "     vectors.\n",
      "\n",
      "_\bU_\bs_\ba_\bg_\be:\n",
      "\n",
      "     x < y\n",
      "     x > y\n",
      "     x <= y\n",
      "     x >= y\n",
      "     x == y\n",
      "     x != y\n",
      "     \n",
      "_\bA_\br_\bg_\bu_\bm_\be_\bn_\bt_\bs:\n",
      "\n",
      "    x, y: atomic vectors, symbols, calls, or other objects for which\n",
      "          methods have been written.\n",
      "\n",
      "_\bD_\be_\bt_\ba_\bi_\bl_\bs:\n",
      "\n",
      "     The binary comparison operators are generic functions: methods can\n",
      "     be written for them individually or via the 'Ops' group generic\n",
      "     function.  (See 'Ops' for how dispatch is computed.)\n",
      "\n",
      "     Comparison of strings in character vectors is lexicographic within\n",
      "     the strings using the collating sequence of the locale in use: see\n",
      "     'locales'.  The collating sequence of locales such as 'en_US' is\n",
      "     normally different from 'C' (which should use ASCII) and can be\n",
      "     surprising.  Beware of making _any_ assumptions about the\n",
      "     collation order: e.g. in Estonian 'Z' comes between 'S' and 'T',\n",
      "     and collation is not necessarily character-by-character - in\n",
      "     Danish 'aa' sorts as a single letter, after 'z'.  In Welsh 'ng'\n",
      "     may or may not be a single sorting unit: if it is it follows 'g'.\n",
      "     Some platforms may not respect the locale and always sort in\n",
      "     numerical order of the bytes in an 8-bit locale, or in Unicode\n",
      "     code-point order for a UTF-8 locale (and may not sort in the same\n",
      "     order for the same language in different character sets).\n",
      "     Collation of non-letters (spaces, punctuation signs, hyphens,\n",
      "     fractions and so on) is even more problematic.\n",
      "\n",
      "     Character strings can be compared with different marked encodings\n",
      "     (see 'Encoding'): they are translated to UTF-8 before comparison.\n",
      "\n",
      "     Raw vectors should not really be considered to have an order, but\n",
      "     the numeric order of the byte representation is used.\n",
      "\n",
      "     At least one of 'x' and 'y' must be an atomic vector, but if the\n",
      "     other is a list R attempts to coerce it to the type of the atomic\n",
      "     vector: this will succeed if the list is made up of elements of\n",
      "     length one that can be coerced to the correct type.\n",
      "\n",
      "     If the two arguments are atomic vectors of different types, one is\n",
      "     coerced to the type of the other, the (decreasing) order of\n",
      "     precedence being character, complex, numeric, integer, logical and\n",
      "     raw.\n",
      "\n",
      "     Missing values ('NA') and 'NaN' values are regarded as\n",
      "     non-comparable even to themselves, so comparisons involving them\n",
      "     will always result in 'NA'.  Missing values can also result when\n",
      "     character strings are compared and one is not valid in the current\n",
      "     collation locale.\n",
      "\n",
      "     Language objects such as symbols and calls are deparsed to\n",
      "     character strings before comparison.\n",
      "\n",
      "_\bV_\ba_\bl_\bu_\be:\n",
      "\n",
      "     A logical vector indicating the result of the element by element\n",
      "     comparison.  The elements of shorter vectors are recycled as\n",
      "     necessary.\n",
      "\n",
      "     Objects such as arrays or time-series can be compared this way\n",
      "     provided they are conformable.\n",
      "\n",
      "_\bS_\b4 _\bm_\be_\bt_\bh_\bo_\bd_\bs:\n",
      "\n",
      "     These operators are members of the S4 'Compare' group generic, and\n",
      "     so methods can be written for them individually as well as for the\n",
      "     group generic (or the 'Ops' group generic), with arguments 'c(e1,\n",
      "     e2)'.\n",
      "\n",
      "_\bN_\bo_\bt_\be:\n",
      "\n",
      "     Do not use '==' and '!=' for tests, such as in 'if' expressions,\n",
      "     where you must get a single 'TRUE' or 'FALSE'.  Unless you are\n",
      "     absolutely sure that nothing unusual can happen, you should use\n",
      "     the 'identical' function instead.\n",
      "\n",
      "     For numerical and complex values, remember '==' and '!=' do not\n",
      "     allow for the finite representation of fractions, nor for rounding\n",
      "     error.  Using 'all.equal' with 'identical' or 'isTRUE' is almost\n",
      "     always preferable; see the examples.  (This also applies to the\n",
      "     other comparison operators.)\n",
      "\n",
      "     These operators are sometimes called as functions as e.g. '`<`(x,\n",
      "     y)': see the description of how argument-matching is done in\n",
      "     'Ops'.\n",
      "\n",
      "_\bR_\be_\bf_\be_\br_\be_\bn_\bc_\be_\bs:\n",
      "\n",
      "     Becker, R. A., Chambers, J. M. and Wilks, A. R. (1988) _The New S\n",
      "     Language_.  Wadsworth & Brooks/Cole.\n",
      "\n",
      "     Collation of character strings is a complex topic.  For an\n",
      "     introduction see\n",
      "     <https://en.wikipedia.org/wiki/Collating_sequence>.  The _Unicode\n",
      "     Collation Algorithm_ (<https://unicode.org/reports/tr10/>) is\n",
      "     likely to be increasingly influential.  Where available R by\n",
      "     default makes use of ICU (<https://icu.unicode.org/>) for\n",
      "     collation (except in a C locale).\n",
      "\n",
      "_\bS_\be_\be _\bA_\bl_\bs_\bo:\n",
      "\n",
      "     'Logic' on how to _combine_ results of comparisons, i.e., logical\n",
      "     vectors.\n",
      "\n",
      "     'factor' for the behaviour with factor arguments.\n",
      "\n",
      "     'Syntax' for operator precedence.\n",
      "\n",
      "     'capabilities' for whether ICU is available, and 'icuSetCollate'\n",
      "     to tune the string collation algorithm when it is.\n",
      "\n",
      "_\bE_\bx_\ba_\bm_\bp_\bl_\be_\bs:\n",
      "\n",
      "     x <- stats::rnorm(20)\n",
      "     x < 1\n",
      "     x[x > 0]\n",
      "     \n",
      "     x1 <- 0.5 - 0.3\n",
      "     x2 <- 0.3 - 0.1\n",
      "     x1 == x2                   # FALSE on most machines\n",
      "     isTRUE(all.equal(x1, x2))  # TRUE everywhere\n",
      "     \n",
      "     \n",
      "     # range of most 8-bit charsets, as well as of Latin-1 in Unicode\n",
      "     z <- c(32:126, 160:255)\n",
      "     x <- if(l10n_info()$MBCS) {\n",
      "         intToUtf8(z, multiple = TRUE)\n",
      "     } else rawToChar(as.raw(z), multiple = TRUE)\n",
      "     ## by number\n",
      "     writeLines(strwrap(paste(x, collapse=\" \"), width = 60))\n",
      "     ## by locale collation\n",
      "     writeLines(strwrap(paste(sort(x), collapse=\" \"), width = 60))\n",
      "     "
     ]
    }
   ],
   "source": [
    "?\"data\" == \"data\"\n"
   ]
  },
  {
   "cell_type": "code",
   "execution_count": 82,
   "metadata": {
    "vscode": {
     "languageId": "r"
    }
   },
   "outputs": [
    {
     "data": {
      "text/html": [
       "TRUE"
      ],
      "text/latex": [
       "TRUE"
      ],
      "text/markdown": [
       "TRUE"
      ],
      "text/plain": [
       "[1] TRUE"
      ]
     },
     "metadata": {},
     "output_type": "display_data"
    },
    {
     "ename": "",
     "evalue": "",
     "output_type": "error",
     "traceback": [
      "\u001b[1;31mThe Kernel crashed while executing code in the current cell or a previous cell. \n",
      "\u001b[1;31mPlease review the code in the cell(s) to identify a possible cause of the failure. \n",
      "\u001b[1;31mClick <a href='https://aka.ms/vscodeJupyterKernelCrash'>here</a> for more info. \n",
      "\u001b[1;31mView Jupyter <a href='command:jupyter.viewOutput'>log</a> for further details."
     ]
    }
   ],
   "source": [
    "\"data\" < \"datb\"\n"
   ]
  },
  {
   "cell_type": "code",
   "execution_count": 3,
   "metadata": {
    "vscode": {
     "languageId": "r"
    }
   },
   "outputs": [],
   "source": [
    "x <- c(1:10)\n"
   ]
  },
  {
   "cell_type": "code",
   "execution_count": 5,
   "metadata": {
    "vscode": {
     "languageId": "r"
    }
   },
   "outputs": [
    {
     "data": {
      "text/html": [
       "<style>\n",
       ".list-inline {list-style: none; margin:0; padding: 0}\n",
       ".list-inline>li {display: inline-block}\n",
       ".list-inline>li:not(:last-child)::after {content: \"\\00b7\"; padding: 0 .5ex}\n",
       "</style>\n",
       "<ol class=list-inline><li>3</li><li>6</li><li>9</li><li>12</li><li>15</li><li>18</li><li>21</li><li>24</li><li>27</li><li>30</li></ol>\n"
      ],
      "text/latex": [
       "\\begin{enumerate*}\n",
       "\\item 3\n",
       "\\item 6\n",
       "\\item 9\n",
       "\\item 12\n",
       "\\item 15\n",
       "\\item 18\n",
       "\\item 21\n",
       "\\item 24\n",
       "\\item 27\n",
       "\\item 30\n",
       "\\end{enumerate*}\n"
      ],
      "text/markdown": [
       "1. 3\n",
       "2. 6\n",
       "3. 9\n",
       "4. 12\n",
       "5. 15\n",
       "6. 18\n",
       "7. 21\n",
       "8. 24\n",
       "9. 27\n",
       "10. 30\n",
       "\n",
       "\n"
      ],
      "text/plain": [
       " [1]  3  6  9 12 15 18 21 24 27 30"
      ]
     },
     "metadata": {},
     "output_type": "display_data"
    }
   ],
   "source": [
    "x * 3\n"
   ]
  },
  {
   "cell_type": "code",
   "execution_count": 6,
   "metadata": {
    "vscode": {
     "languageId": "r"
    }
   },
   "outputs": [
    {
     "data": {
      "text/html": [
       "<style>\n",
       ".list-inline {list-style: none; margin:0; padding: 0}\n",
       ".list-inline>li {display: inline-block}\n",
       ".list-inline>li:not(:last-child)::after {content: \"\\00b7\"; padding: 0 .5ex}\n",
       "</style>\n",
       "<ol class=list-inline><li>0.25</li><li>0.5</li><li>0.75</li><li>1</li><li>1.25</li><li>1.5</li><li>1.75</li><li>2</li><li>2.25</li><li>2.5</li></ol>\n"
      ],
      "text/latex": [
       "\\begin{enumerate*}\n",
       "\\item 0.25\n",
       "\\item 0.5\n",
       "\\item 0.75\n",
       "\\item 1\n",
       "\\item 1.25\n",
       "\\item 1.5\n",
       "\\item 1.75\n",
       "\\item 2\n",
       "\\item 2.25\n",
       "\\item 2.5\n",
       "\\end{enumerate*}\n"
      ],
      "text/markdown": [
       "1. 0.25\n",
       "2. 0.5\n",
       "3. 0.75\n",
       "4. 1\n",
       "5. 1.25\n",
       "6. 1.5\n",
       "7. 1.75\n",
       "8. 2\n",
       "9. 2.25\n",
       "10. 2.5\n",
       "\n",
       "\n"
      ],
      "text/plain": [
       " [1] 0.25 0.50 0.75 1.00 1.25 1.50 1.75 2.00 2.25 2.50"
      ]
     },
     "metadata": {},
     "output_type": "display_data"
    }
   ],
   "source": [
    "x / 4\n"
   ]
  },
  {
   "cell_type": "code",
   "execution_count": 7,
   "metadata": {
    "vscode": {
     "languageId": "r"
    }
   },
   "outputs": [
    {
     "data": {
      "text/html": [
       "<style>\n",
       ".list-inline {list-style: none; margin:0; padding: 0}\n",
       ".list-inline>li {display: inline-block}\n",
       ".list-inline>li:not(:last-child)::after {content: \"\\00b7\"; padding: 0 .5ex}\n",
       "</style>\n",
       "<ol class=list-inline><li>1</li><li>1.4142135623731</li><li>1.73205080756888</li><li>2</li><li>2.23606797749979</li><li>2.44948974278318</li><li>2.64575131106459</li><li>2.82842712474619</li><li>3</li><li>3.16227766016838</li></ol>\n"
      ],
      "text/latex": [
       "\\begin{enumerate*}\n",
       "\\item 1\n",
       "\\item 1.4142135623731\n",
       "\\item 1.73205080756888\n",
       "\\item 2\n",
       "\\item 2.23606797749979\n",
       "\\item 2.44948974278318\n",
       "\\item 2.64575131106459\n",
       "\\item 2.82842712474619\n",
       "\\item 3\n",
       "\\item 3.16227766016838\n",
       "\\end{enumerate*}\n"
      ],
      "text/markdown": [
       "1. 1\n",
       "2. 1.4142135623731\n",
       "3. 1.73205080756888\n",
       "4. 2\n",
       "5. 2.23606797749979\n",
       "6. 2.44948974278318\n",
       "7. 2.64575131106459\n",
       "8. 2.82842712474619\n",
       "9. 3\n",
       "10. 3.16227766016838\n",
       "\n",
       "\n"
      ],
      "text/plain": [
       " [1] 1.000000 1.414214 1.732051 2.000000 2.236068 2.449490 2.645751 2.828427\n",
       " [9] 3.000000 3.162278"
      ]
     },
     "metadata": {},
     "output_type": "display_data"
    }
   ],
   "source": [
    "sqrt(x)\n"
   ]
  },
  {
   "cell_type": "code",
   "execution_count": 8,
   "metadata": {
    "vscode": {
     "languageId": "r"
    }
   },
   "outputs": [
    {
     "data": {
      "text/html": [
       "<style>\n",
       ".list-inline {list-style: none; margin:0; padding: 0}\n",
       ".list-inline>li {display: inline-block}\n",
       ".list-inline>li:not(:last-child)::after {content: \"\\00b7\"; padding: 0 .5ex}\n",
       "</style>\n",
       "<ol class=list-inline><li>1</li><li>4</li><li>9</li><li>16</li><li>25</li><li>36</li><li>49</li><li>64</li><li>81</li><li>100</li></ol>\n"
      ],
      "text/latex": [
       "\\begin{enumerate*}\n",
       "\\item 1\n",
       "\\item 4\n",
       "\\item 9\n",
       "\\item 16\n",
       "\\item 25\n",
       "\\item 36\n",
       "\\item 49\n",
       "\\item 64\n",
       "\\item 81\n",
       "\\item 100\n",
       "\\end{enumerate*}\n"
      ],
      "text/markdown": [
       "1. 1\n",
       "2. 4\n",
       "3. 9\n",
       "4. 16\n",
       "5. 25\n",
       "6. 36\n",
       "7. 49\n",
       "8. 64\n",
       "9. 81\n",
       "10. 100\n",
       "\n",
       "\n"
      ],
      "text/plain": [
       " [1]   1   4   9  16  25  36  49  64  81 100"
      ]
     },
     "metadata": {},
     "output_type": "display_data"
    }
   ],
   "source": [
    "x^2\n"
   ]
  },
  {
   "cell_type": "code",
   "execution_count": 11,
   "metadata": {
    "vscode": {
     "languageId": "r"
    }
   },
   "outputs": [],
   "source": [
    "x <- 1:10\n",
    "y <- -5:4\n"
   ]
  },
  {
   "cell_type": "code",
   "execution_count": 13,
   "metadata": {
    "vscode": {
     "languageId": "r"
    }
   },
   "outputs": [],
   "source": [
    "x <- matrix(1:9, ncol = 3, nrow = 3)\n"
   ]
  },
  {
   "cell_type": "code",
   "execution_count": 14,
   "metadata": {
    "vscode": {
     "languageId": "r"
    }
   },
   "outputs": [
    {
     "data": {
      "text/html": [
       "<table class=\"dataframe\">\n",
       "<caption>A matrix: 3 × 3 of type int</caption>\n",
       "<tbody>\n",
       "\t<tr><td>1</td><td>4</td><td>7</td></tr>\n",
       "\t<tr><td>2</td><td>5</td><td>8</td></tr>\n",
       "\t<tr><td>3</td><td>6</td><td>9</td></tr>\n",
       "</tbody>\n",
       "</table>\n"
      ],
      "text/latex": [
       "A matrix: 3 × 3 of type int\n",
       "\\begin{tabular}{lll}\n",
       "\t 1 & 4 & 7\\\\\n",
       "\t 2 & 5 & 8\\\\\n",
       "\t 3 & 6 & 9\\\\\n",
       "\\end{tabular}\n"
      ],
      "text/markdown": [
       "\n",
       "A matrix: 3 × 3 of type int\n",
       "\n",
       "| 1 | 4 | 7 |\n",
       "| 2 | 5 | 8 |\n",
       "| 3 | 6 | 9 |\n",
       "\n"
      ],
      "text/plain": [
       "     [,1] [,2] [,3]\n",
       "[1,] 1    4    7   \n",
       "[2,] 2    5    8   \n",
       "[3,] 3    6    9   "
      ]
     },
     "metadata": {},
     "output_type": "display_data"
    }
   ],
   "source": [
    "x\n"
   ]
  },
  {
   "cell_type": "code",
   "execution_count": 15,
   "metadata": {
    "vscode": {
     "languageId": "r"
    }
   },
   "outputs": [
    {
     "data": {
      "text/html": [
       "<table class=\"dataframe\">\n",
       "<caption>A matrix: 3 × 3 of type dbl</caption>\n",
       "<tbody>\n",
       "\t<tr><td>3</td><td>12</td><td>21</td></tr>\n",
       "\t<tr><td>6</td><td>15</td><td>24</td></tr>\n",
       "\t<tr><td>9</td><td>18</td><td>27</td></tr>\n",
       "</tbody>\n",
       "</table>\n"
      ],
      "text/latex": [
       "A matrix: 3 × 3 of type dbl\n",
       "\\begin{tabular}{lll}\n",
       "\t 3 & 12 & 21\\\\\n",
       "\t 6 & 15 & 24\\\\\n",
       "\t 9 & 18 & 27\\\\\n",
       "\\end{tabular}\n"
      ],
      "text/markdown": [
       "\n",
       "A matrix: 3 × 3 of type dbl\n",
       "\n",
       "| 3 | 12 | 21 |\n",
       "| 6 | 15 | 24 |\n",
       "| 9 | 18 | 27 |\n",
       "\n"
      ],
      "text/plain": [
       "     [,1] [,2] [,3]\n",
       "[1,] 3    12   21  \n",
       "[2,] 6    15   24  \n",
       "[3,] 9    18   27  "
      ]
     },
     "metadata": {},
     "output_type": "display_data"
    }
   ],
   "source": [
    "x * 3\n"
   ]
  },
  {
   "cell_type": "code",
   "execution_count": 16,
   "metadata": {
    "vscode": {
     "languageId": "r"
    }
   },
   "outputs": [],
   "source": [
    "x <- c(a = 1, b = 1)\n"
   ]
  },
  {
   "cell_type": "code",
   "execution_count": 24,
   "metadata": {
    "vscode": {
     "languageId": "r"
    }
   },
   "outputs": [],
   "source": [
    "x <- 10:1\n",
    "y <- -4:5\n"
   ]
  },
  {
   "cell_type": "code",
   "execution_count": 25,
   "metadata": {
    "vscode": {
     "languageId": "r"
    }
   },
   "outputs": [
    {
     "data": {
      "text/html": [
       "TRUE"
      ],
      "text/latex": [
       "TRUE"
      ],
      "text/markdown": [
       "TRUE"
      ],
      "text/plain": [
       "[1] TRUE"
      ]
     },
     "metadata": {},
     "output_type": "display_data"
    }
   ],
   "source": [
    "any(x < y)\n"
   ]
  },
  {
   "cell_type": "code",
   "execution_count": 26,
   "metadata": {
    "vscode": {
     "languageId": "r"
    }
   },
   "outputs": [
    {
     "data": {
      "text/html": [
       "FALSE"
      ],
      "text/latex": [
       "FALSE"
      ],
      "text/markdown": [
       "FALSE"
      ],
      "text/plain": [
       "[1] FALSE"
      ]
     },
     "metadata": {},
     "output_type": "display_data"
    }
   ],
   "source": [
    "all(x < y)\n"
   ]
  },
  {
   "cell_type": "code",
   "execution_count": 27,
   "metadata": {
    "vscode": {
     "languageId": "r"
    }
   },
   "outputs": [
    {
     "data": {
      "text/html": [
       "<style>\n",
       ".list-inline {list-style: none; margin:0; padding: 0}\n",
       ".list-inline>li {display: inline-block}\n",
       ".list-inline>li:not(:last-child)::after {content: \"\\00b7\"; padding: 0 .5ex}\n",
       "</style>\n",
       "<ol class=list-inline><li>2</li><li>2</li><li>2</li><li>2</li><li>1</li><li>1</li><li>1</li><li>1</li><li>1</li><li>1</li></ol>\n"
      ],
      "text/latex": [
       "\\begin{enumerate*}\n",
       "\\item 2\n",
       "\\item 2\n",
       "\\item 2\n",
       "\\item 2\n",
       "\\item 1\n",
       "\\item 1\n",
       "\\item 1\n",
       "\\item 1\n",
       "\\item 1\n",
       "\\item 1\n",
       "\\end{enumerate*}\n"
      ],
      "text/markdown": [
       "1. 2\n",
       "2. 2\n",
       "3. 2\n",
       "4. 2\n",
       "5. 1\n",
       "6. 1\n",
       "7. 1\n",
       "8. 1\n",
       "9. 1\n",
       "10. 1\n",
       "\n",
       "\n"
      ],
      "text/plain": [
       " [1] 2 2 2 2 1 1 1 1 1 1"
      ]
     },
     "metadata": {},
     "output_type": "display_data"
    }
   ],
   "source": [
    "nchar(y)\n"
   ]
  },
  {
   "cell_type": "code",
   "execution_count": 31,
   "metadata": {
    "vscode": {
     "languageId": "r"
    }
   },
   "outputs": [
    {
     "data": {
      "text/html": [
       "<style>\n",
       ".list-inline {list-style: none; margin:0; padding: 0}\n",
       ".list-inline>li {display: inline-block}\n",
       ".list-inline>li:not(:last-child)::after {content: \"\\00b7\"; padding: 0 .5ex}\n",
       "</style>\n",
       "<ol class=list-inline><li>10</li><li>9</li></ol>\n"
      ],
      "text/latex": [
       "\\begin{enumerate*}\n",
       "\\item 10\n",
       "\\item 9\n",
       "\\end{enumerate*}\n"
      ],
      "text/markdown": [
       "1. 10\n",
       "2. 9\n",
       "\n",
       "\n"
      ],
      "text/plain": [
       "[1] 10  9"
      ]
     },
     "metadata": {},
     "output_type": "display_data"
    }
   ],
   "source": [
    "x[1:2]\n"
   ]
  },
  {
   "cell_type": "code",
   "execution_count": 32,
   "metadata": {
    "vscode": {
     "languageId": "r"
    }
   },
   "outputs": [
    {
     "data": {
      "text/html": [
       "<style>\n",
       ".list-inline {list-style: none; margin:0; padding: 0}\n",
       ".list-inline>li {display: inline-block}\n",
       ".list-inline>li:not(:last-child)::after {content: \"\\00b7\"; padding: 0 .5ex}\n",
       "</style>\n",
       "<ol class=list-inline><li>10</li><li>7</li></ol>\n"
      ],
      "text/latex": [
       "\\begin{enumerate*}\n",
       "\\item 10\n",
       "\\item 7\n",
       "\\end{enumerate*}\n"
      ],
      "text/markdown": [
       "1. 10\n",
       "2. 7\n",
       "\n",
       "\n"
      ],
      "text/plain": [
       "[1] 10  7"
      ]
     },
     "metadata": {},
     "output_type": "display_data"
    }
   ],
   "source": [
    "x[c(1, 4)]\n"
   ]
  },
  {
   "cell_type": "code",
   "execution_count": 34,
   "metadata": {
    "vscode": {
     "languageId": "r"
    }
   },
   "outputs": [],
   "source": [
    "x <- 1:10\n"
   ]
  },
  {
   "cell_type": "code",
   "execution_count": 35,
   "metadata": {
    "vscode": {
     "languageId": "r"
    }
   },
   "outputs": [
    {
     "data": {
      "text/html": [
       "<style>\n",
       ".list-inline {list-style: none; margin:0; padding: 0}\n",
       ".list-inline>li {display: inline-block}\n",
       ".list-inline>li:not(:last-child)::after {content: \"\\00b7\"; padding: 0 .5ex}\n",
       "</style>\n",
       "<ol class=list-inline><li>1</li><li>2</li><li>3</li><li>4</li><li>5</li><li>6</li><li>7</li><li>8</li><li>9</li><li>10</li></ol>\n"
      ],
      "text/latex": [
       "\\begin{enumerate*}\n",
       "\\item 1\n",
       "\\item 2\n",
       "\\item 3\n",
       "\\item 4\n",
       "\\item 5\n",
       "\\item 6\n",
       "\\item 7\n",
       "\\item 8\n",
       "\\item 9\n",
       "\\item 10\n",
       "\\end{enumerate*}\n"
      ],
      "text/markdown": [
       "1. 1\n",
       "2. 2\n",
       "3. 3\n",
       "4. 4\n",
       "5. 5\n",
       "6. 6\n",
       "7. 7\n",
       "8. 8\n",
       "9. 9\n",
       "10. 10\n",
       "\n",
       "\n"
      ],
      "text/plain": [
       " [1]  1  2  3  4  5  6  7  8  9 10"
      ]
     },
     "metadata": {},
     "output_type": "display_data"
    }
   ],
   "source": [
    "x\n"
   ]
  },
  {
   "cell_type": "code",
   "execution_count": 39,
   "metadata": {
    "vscode": {
     "languageId": "r"
    }
   },
   "outputs": [
    {
     "data": {
      "text/html": [
       "<style>\n",
       ".list-inline {list-style: none; margin:0; padding: 0}\n",
       ".list-inline>li {display: inline-block}\n",
       ".list-inline>li:not(:last-child)::after {content: \"\\00b7\"; padding: 0 .5ex}\n",
       "</style>\n",
       "<ol class=list-inline><li>'.colMeans'</li><li>'.rowMeans'</li><li>'colMeans'</li><li>'influence.measures'</li><li>'kmeans'</li><li>'mean'</li><li>'mean.Date'</li><li>'mean.default'</li><li>'mean.difftime'</li><li>'mean.POSIXct'</li><li>'mean.POSIXlt'</li><li>'rowMeans'</li><li>'weighted.mean'</li></ol>\n"
      ],
      "text/latex": [
       "\\begin{enumerate*}\n",
       "\\item '.colMeans'\n",
       "\\item '.rowMeans'\n",
       "\\item 'colMeans'\n",
       "\\item 'influence.measures'\n",
       "\\item 'kmeans'\n",
       "\\item 'mean'\n",
       "\\item 'mean.Date'\n",
       "\\item 'mean.default'\n",
       "\\item 'mean.difftime'\n",
       "\\item 'mean.POSIXct'\n",
       "\\item 'mean.POSIXlt'\n",
       "\\item 'rowMeans'\n",
       "\\item 'weighted.mean'\n",
       "\\end{enumerate*}\n"
      ],
      "text/markdown": [
       "1. '.colMeans'\n",
       "2. '.rowMeans'\n",
       "3. 'colMeans'\n",
       "4. 'influence.measures'\n",
       "5. 'kmeans'\n",
       "6. 'mean'\n",
       "7. 'mean.Date'\n",
       "8. 'mean.default'\n",
       "9. 'mean.difftime'\n",
       "10. 'mean.POSIXct'\n",
       "11. 'mean.POSIXlt'\n",
       "12. 'rowMeans'\n",
       "13. 'weighted.mean'\n",
       "\n",
       "\n"
      ],
      "text/plain": [
       " [1] \".colMeans\"          \".rowMeans\"          \"colMeans\"          \n",
       " [4] \"influence.measures\" \"kmeans\"             \"mean\"              \n",
       " [7] \"mean.Date\"          \"mean.default\"       \"mean.difftime\"     \n",
       "[10] \"mean.POSIXct\"       \"mean.POSIXlt\"       \"rowMeans\"          \n",
       "[13] \"weighted.mean\"     "
      ]
     },
     "metadata": {},
     "output_type": "display_data"
    }
   ],
   "source": [
    "apropos(\"mea\")\n"
   ]
  },
  {
   "cell_type": "code",
   "execution_count": 40,
   "metadata": {
    "vscode": {
     "languageId": "r"
    }
   },
   "outputs": [
    {
     "data": {
      "text/html": [
       "&lt;NA&gt;"
      ],
      "text/latex": [
       "<NA>"
      ],
      "text/markdown": [
       "&lt;NA&gt;"
      ],
      "text/plain": [
       "[1] NA"
      ]
     },
     "metadata": {},
     "output_type": "display_data"
    }
   ],
   "source": [
    "NA\n"
   ]
  },
  {
   "cell_type": "code",
   "execution_count": 41,
   "metadata": {
    "vscode": {
     "languageId": "r"
    }
   },
   "outputs": [
    {
     "data": {
      "text/plain": [
       "NULL"
      ]
     },
     "metadata": {},
     "output_type": "display_data"
    }
   ],
   "source": [
    "NULL\n"
   ]
  },
  {
   "cell_type": "code",
   "execution_count": 42,
   "metadata": {
    "vscode": {
     "languageId": "r"
    }
   },
   "outputs": [],
   "source": [
    "# 7 not applicable\n",
    "# 8 dont know\n",
    "# 9 missing\n"
   ]
  },
  {
   "cell_type": "code",
   "execution_count": 47,
   "metadata": {
    "vscode": {
     "languageId": "r"
    }
   },
   "outputs": [
    {
     "name": "stdout",
     "output_type": "stream",
     "text": [
      "library                  package:base                  R Documentation\n",
      "\n",
      "_\bL_\bo_\ba_\bd_\bi_\bn_\bg/_\bA_\bt_\bt_\ba_\bc_\bh_\bi_\bn_\bg _\ba_\bn_\bd _\bL_\bi_\bs_\bt_\bi_\bn_\bg _\bo_\bf _\bP_\ba_\bc_\bk_\ba_\bg_\be_\bs\n",
      "\n",
      "_\bD_\be_\bs_\bc_\br_\bi_\bp_\bt_\bi_\bo_\bn:\n",
      "\n",
      "     'library' and 'require' load and attach add-on packages.\n",
      "\n",
      "_\bU_\bs_\ba_\bg_\be:\n",
      "\n",
      "     library(package, help, pos = 2, lib.loc = NULL,\n",
      "             character.only = FALSE, logical.return = FALSE,\n",
      "             warn.conflicts, quietly = FALSE,\n",
      "             verbose = getOption(\"verbose\"),\n",
      "             mask.ok, exclude, include.only,\n",
      "             attach.required = missing(include.only))\n",
      "     \n",
      "     require(package, lib.loc = NULL, quietly = FALSE,\n",
      "             warn.conflicts,\n",
      "             character.only = FALSE,\n",
      "             mask.ok, exclude, include.only,\n",
      "             attach.required = missing(include.only))\n",
      "     \n",
      "     conflictRules(pkg, mask.ok = NULL, exclude = NULL)\n",
      "     \n",
      "_\bA_\br_\bg_\bu_\bm_\be_\bn_\bt_\bs:\n",
      "\n",
      "package, help: the name of a package, given as a name or literal\n",
      "          character string, or a character string, depending on whether\n",
      "          'character.only' is 'FALSE' (default) or 'TRUE'.\n",
      "\n",
      "     pos: the position on the search list at which to attach the loaded\n",
      "          namespace.  Can also be the name of a position on the current\n",
      "          search list as given by 'search()'.\n",
      "\n",
      " lib.loc: a character vector describing the location of R library trees\n",
      "          to search through, or 'NULL'.  The default value of 'NULL'\n",
      "          corresponds to all libraries currently known to\n",
      "          '.libPaths()'.  Non-existent library trees are silently\n",
      "          ignored.\n",
      "\n",
      "character.only: a logical indicating whether 'package' or 'help' can be\n",
      "          assumed to be character strings.\n",
      "\n",
      "logical.return: logical.  If it is 'TRUE', 'FALSE' or 'TRUE' is\n",
      "          returned to indicate success.\n",
      "\n",
      "warn.conflicts: logical.  If 'TRUE', warnings are printed about\n",
      "          'conflicts' from attaching the new package.  A conflict is a\n",
      "          function masking a function, or a non-function masking a\n",
      "          non-function. The default is 'TRUE' unless specified as\n",
      "          'FALSE' in the 'conflicts.policy' option.\n",
      "\n",
      " verbose: a logical.  If 'TRUE', additional diagnostics are printed.\n",
      "\n",
      " quietly: a logical.  If 'TRUE', no message confirming package\n",
      "          attaching is printed, and most often, no errors/warnings are\n",
      "          printed if package attaching fails.\n",
      "\n",
      "     pkg: character string naming a package.\n",
      "\n",
      " mask.ok: character vector of names of objects that can mask objects on\n",
      "          the search path without signaling an error when strict\n",
      "          conflict checking is enabled\n",
      "\n",
      "exclude,include.only: character vector of names of objects to exclude\n",
      "          or include in the attached frame. Only one of these arguments\n",
      "          may be used in a call to 'library' or 'require'.\n",
      "\n",
      "attach.required: logical specifying whether required packages listed in\n",
      "          the 'Depends' clause of the 'DESCRIPTION' file should be\n",
      "          attached automatically.\n",
      "\n",
      "_\bD_\be_\bt_\ba_\bi_\bl_\bs:\n",
      "\n",
      "     'library(package)' and 'require(package)' both load the namespace\n",
      "     of the package with name 'package' and attach it on the search\n",
      "     list.  'require' is designed for use inside other functions; it\n",
      "     returns 'FALSE' and gives a warning (rather than an error as\n",
      "     'library()' does by default) if the package does not exist.  Both\n",
      "     functions check and update the list of currently attached packages\n",
      "     and do not reload a namespace which is already loaded.  (If you\n",
      "     want to reload such a package, call 'detach(unload = TRUE)' or\n",
      "     'unloadNamespace' first.)  If you want to load a package without\n",
      "     attaching it on the search list, see 'requireNamespace'.\n",
      "\n",
      "     To suppress messages during the loading of packages use\n",
      "     'suppressPackageStartupMessages': this will suppress all messages\n",
      "     from R itself but not necessarily all those from package authors.\n",
      "\n",
      "     If 'library' is called with no 'package' or 'help' argument, it\n",
      "     lists all available packages in the libraries specified by\n",
      "     'lib.loc', and returns the corresponding information in an object\n",
      "     of class '\"libraryIQR\"'.  (The structure of this class may change\n",
      "     in future versions.)  Use '.packages(all = TRUE)' to obtain just\n",
      "     the names of all available packages, and 'installed.packages()'\n",
      "     for even more information.\n",
      "\n",
      "     'library(help = somename)' computes basic information about the\n",
      "     package 'somename', and returns this in an object of class\n",
      "     '\"packageInfo\"'.  (The structure of this class may change in\n",
      "     future versions.)  When used with the default value ('NULL') for\n",
      "     'lib.loc', the attached packages are searched before the\n",
      "     libraries.\n",
      "\n",
      "_\bV_\ba_\bl_\bu_\be:\n",
      "\n",
      "     Normally 'library' returns (invisibly) the list of attached\n",
      "     packages, but 'TRUE' or 'FALSE' if 'logical.return' is 'TRUE'.\n",
      "     When called as 'library()' it returns an object of class\n",
      "     '\"libraryIQR\"', and for 'library(help=)', one of class\n",
      "     '\"packageInfo\"'.\n",
      "\n",
      "     'require' returns (invisibly) a logical indicating whether the\n",
      "     required package is available.\n",
      "\n",
      "_\bC_\bo_\bn_\bf_\bl_\bi_\bc_\bt_\bs:\n",
      "\n",
      "     Handling of conflicts depends on the setting of the\n",
      "     'conflicts.policy' option. If this option is not set, then\n",
      "     conflicts result in warning messages if the argument\n",
      "     'warn.conflicts' is 'TRUE'. If the option is set to the character\n",
      "     string '\"strict\"', then all unresolved conflicts signal errors.\n",
      "     Conflicts can be resolved using the 'mask.ok', 'exclude', and\n",
      "     'include.only' arguments to 'library' and 'require'. Defaults for\n",
      "     'mask.ok' and 'exclude' can be specified using 'conflictRules'.\n",
      "\n",
      "     If the 'conflicts.policy' option is set to the string\n",
      "     '\"depends.ok\"' then conflicts resulting from attaching declared\n",
      "     dependencies will not produce errors, but other conflicts will.\n",
      "     This is likely to be the best setting for most users wanting some\n",
      "     additional protection against unexpected conflicts.\n",
      "\n",
      "     The policy can be tuned further by specifying the\n",
      "     'conflicts.policy' option as a named list with the following\n",
      "     fields:\n",
      "\n",
      "     'error': logical; if 'TRUE' treat unresolved conflicts as errors.\n",
      "\n",
      "     'warn': logical; unless 'FALSE' issue a warning message when\n",
      "          conflicts are found.\n",
      "\n",
      "     'generics.ok': logical; if 'TRUE' ignore conflicts created by\n",
      "          defining S4 generics for functions on the search path.\n",
      "\n",
      "     'depends.ok': logical; if 'TRUE' do not treat conflicts with\n",
      "          required packages as errors.\n",
      "\n",
      "     'can.mask': character vector of names of packages that are allowed\n",
      "          to be masked. These would typically be base packages attached\n",
      "          by default.\n",
      "\n",
      "_\bL_\bi_\bc_\be_\bn_\bs_\be_\bs:\n",
      "\n",
      "     Some packages have restrictive licenses, and there is a mechanism\n",
      "     to allow users to be aware of such licenses.  If\n",
      "     'getOption(\"checkPackageLicense\") == TRUE', then at first use of a\n",
      "     namespace of a package with a not-known-to-be-FOSS (see below)\n",
      "     license the user is asked to view and accept the license: a list\n",
      "     of accepted licenses is stored in file '~/.R/licensed'.  In a\n",
      "     non-interactive session it is an error to use such a package whose\n",
      "     license has not already been recorded as accepted.\n",
      "\n",
      "     Free or Open Source Software (FOSS, e.g.\n",
      "     <https://en.wikipedia.org/wiki/FOSS>) packages are determined by\n",
      "     the same filters used by 'available.packages' but applied to just\n",
      "     the current package, not its dependencies.\n",
      "\n",
      "     There can also be a site-wide file 'R_HOME/etc/licensed.site' of\n",
      "     packages (one per line).\n",
      "\n",
      "_\bF_\bo_\br_\bm_\ba_\bl _\bm_\be_\bt_\bh_\bo_\bd_\bs:\n",
      "\n",
      "     'library' takes some further actions when package 'methods' is\n",
      "     attached (as it is by default).  Packages may define formal\n",
      "     generic functions as well as re-defining functions in other\n",
      "     packages (notably 'base') to be generic, and this information is\n",
      "     cached whenever such a namespace is loaded after 'methods' and\n",
      "     re-defined functions (implicit generics) are excluded from the\n",
      "     list of conflicts.  The caching and check for conflicts require\n",
      "     looking for a pattern of objects; the search may be avoided by\n",
      "     defining an object '.noGenerics' (with any value) in the\n",
      "     namespace.  Naturally, if the package _does_ have any such\n",
      "     methods, this will prevent them from being used.\n",
      "\n",
      "_\bN_\bo_\bt_\be:\n",
      "\n",
      "     'library' and 'require' can only load/attach an _installed_\n",
      "     package, and this is detected by having a 'DESCRIPTION' file\n",
      "     containing a 'Built:' field.\n",
      "\n",
      "     Under Unix-alikes, the code checks that the package was installed\n",
      "     under a similar operating system as given by 'R.version$platform'\n",
      "     (the canonical name of the platform under which R was compiled),\n",
      "     provided it contains compiled code.  Packages which do not contain\n",
      "     compiled code can be shared between Unix-alikes, but not to other\n",
      "     OSes because of potential problems with line endings and\n",
      "     OS-specific help files.  If sub-architectures are used, the OS\n",
      "     similarity is not checked since the OS used to build may differ\n",
      "     (e.g. 'i386-pc-linux-gnu' code can be built on an\n",
      "     'x86_64-unknown-linux-gnu' OS).\n",
      "\n",
      "     The package name given to 'library' and 'require' must match the\n",
      "     name given in the package's 'DESCRIPTION' file exactly, even on\n",
      "     case-insensitive file systems such as are common on Windows and\n",
      "     macOS.\n",
      "\n",
      "_\bR_\be_\bf_\be_\br_\be_\bn_\bc_\be_\bs:\n",
      "\n",
      "     Becker, R. A., Chambers, J. M. and Wilks, A. R. (1988) _The New S\n",
      "     Language_.  Wadsworth & Brooks/Cole.\n",
      "\n",
      "_\bS_\be_\be _\bA_\bl_\bs_\bo:\n",
      "\n",
      "     '.libPaths', '.packages'.\n",
      "\n",
      "     'attach', 'detach', 'search', 'objects', 'autoload',\n",
      "     'requireNamespace', 'library.dynam', 'data', 'install.packages'\n",
      "     and 'installed.packages'; 'INSTALL', 'REMOVE'.\n",
      "\n",
      "     The initial set of packages attached is set by\n",
      "     'options(defaultPackages=)': see also 'Startup'.\n",
      "\n",
      "_\bE_\bx_\ba_\bm_\bp_\bl_\be_\bs:\n",
      "\n",
      "     library()                   # list all available packages\n",
      "     library(lib.loc = .Library) # list all packages in the default library\n",
      "     library(help = splines)     # documentation on package 'splines'\n",
      "     library(splines)            # attach package 'splines'\n",
      "     require(splines)            # the same\n",
      "     search()                    # \"splines\", too\n",
      "     detach(\"package:splines\")\n",
      "     \n",
      "     # if the package name is in a character vector, use\n",
      "     pkg <- \"splines\"\n",
      "     library(pkg, character.only = TRUE)\n",
      "     detach(pos = match(paste(\"package\", pkg, sep = \":\"), search()))\n",
      "     \n",
      "     require(pkg, character.only = TRUE)\n",
      "     detach(pos = match(paste(\"package\", pkg, sep = \":\"), search()))\n",
      "     \n",
      "     require(nonexistent)        # FALSE\n",
      "     ## Not run:\n",
      "     \n",
      "     ## if you want to mask as little as possible, use\n",
      "     library(mypkg, pos = \"package:base\")\n",
      "     ## End(Not run)\n",
      "     "
     ]
    }
   ],
   "source": [
    "?library(\"Amelia\")\n"
   ]
  },
  {
   "cell_type": "code",
   "execution_count": 50,
   "metadata": {
    "vscode": {
     "languageId": "r"
    }
   },
   "outputs": [],
   "source": [
    "x <- NULL\n"
   ]
  },
  {
   "cell_type": "code",
   "execution_count": 51,
   "metadata": {
    "vscode": {
     "languageId": "r"
    }
   },
   "outputs": [
    {
     "data": {
      "text/html": [
       "TRUE"
      ],
      "text/latex": [
       "TRUE"
      ],
      "text/markdown": [
       "TRUE"
      ],
      "text/plain": [
       "[1] TRUE"
      ]
     },
     "metadata": {},
     "output_type": "display_data"
    }
   ],
   "source": [
    "is.null(x)\n"
   ]
  },
  {
   "cell_type": "code",
   "execution_count": 52,
   "metadata": {
    "vscode": {
     "languageId": "r"
    }
   },
   "outputs": [
    {
     "data": {
      "text/html": [
       "FALSE"
      ],
      "text/latex": [
       "FALSE"
      ],
      "text/markdown": [
       "FALSE"
      ],
      "text/plain": [
       "[1] FALSE"
      ]
     },
     "metadata": {},
     "output_type": "display_data"
    }
   ],
   "source": [
    "is.null(NA)\n"
   ]
  },
  {
   "cell_type": "code",
   "execution_count": 53,
   "metadata": {
    "vscode": {
     "languageId": "r"
    }
   },
   "outputs": [
    {
     "data": {
      "text/html": [
       "TRUE"
      ],
      "text/latex": [
       "TRUE"
      ],
      "text/markdown": [
       "TRUE"
      ],
      "text/plain": [
       "[1] TRUE"
      ]
     },
     "metadata": {},
     "output_type": "display_data"
    }
   ],
   "source": [
    "is.null(NULL)\n"
   ]
  },
  {
   "cell_type": "code",
   "execution_count": 54,
   "metadata": {
    "vscode": {
     "languageId": "r"
    }
   },
   "outputs": [
    {
     "ename": "ERROR",
     "evalue": "Error in eval(expr, envir, enclos): object 'GetArray' not found\n",
     "output_type": "error",
     "traceback": [
      "Error in eval(expr, envir, enclos): object 'GetArray' not found\nTraceback:\n"
     ]
    }
   ],
   "source": [
    "sampleValue = 10\n",
    "\n",
    "GetArray\n"
   ]
  },
  {
   "cell_type": "code",
   "execution_count": 55,
   "metadata": {
    "vscode": {
     "languageId": "r"
    }
   },
   "outputs": [],
   "source": [
    "x <- 1:10\n"
   ]
  },
  {
   "cell_type": "code",
   "execution_count": 56,
   "metadata": {
    "vscode": {
     "languageId": "r"
    }
   },
   "outputs": [
    {
     "ename": "ERROR",
     "evalue": "Error in eval(expr, envir, enclos): object 'X' not found\n",
     "output_type": "error",
     "traceback": [
      "Error in eval(expr, envir, enclos): object 'X' not found\nTraceback:\n",
      "1. mean(X)"
     ]
    }
   ],
   "source": [
    "mean(x)\n"
   ]
  },
  {
   "cell_type": "code",
   "execution_count": 58,
   "metadata": {
    "vscode": {
     "languageId": "r"
    }
   },
   "outputs": [],
   "source": [
    "x <- 10:1\n",
    "y <- -4:5\n",
    "q <- c(\"Hockey\", \"Football\", \"Baseball\", \"Curling\", \"Rugby\", \"Lacrosse\", \"Basketball\", \"Tennis\", \"Cricket\", \"Soccer\")\n"
   ]
  },
  {
   "cell_type": "code",
   "execution_count": 59,
   "metadata": {
    "vscode": {
     "languageId": "r"
    }
   },
   "outputs": [],
   "source": [
    "df <- data.frame(x, y, q)\n"
   ]
  },
  {
   "cell_type": "code",
   "execution_count": 63,
   "metadata": {
    "vscode": {
     "languageId": "r"
    }
   },
   "outputs": [
    {
     "data": {
      "text/html": [
       "<table class=\"dataframe\">\n",
       "<caption>A data.frame: 5 × 3</caption>\n",
       "<thead>\n",
       "\t<tr><th></th><th scope=col>x</th><th scope=col>y</th><th scope=col>q</th></tr>\n",
       "\t<tr><th></th><th scope=col>&lt;int&gt;</th><th scope=col>&lt;int&gt;</th><th scope=col>&lt;chr&gt;</th></tr>\n",
       "</thead>\n",
       "<tbody>\n",
       "\t<tr><th scope=row>1</th><td>10</td><td>-4</td><td>Hockey  </td></tr>\n",
       "\t<tr><th scope=row>2</th><td> 9</td><td>-3</td><td>Football</td></tr>\n",
       "\t<tr><th scope=row>3</th><td> 8</td><td>-2</td><td>Baseball</td></tr>\n",
       "\t<tr><th scope=row>4</th><td> 7</td><td>-1</td><td>Curling </td></tr>\n",
       "\t<tr><th scope=row>5</th><td> 6</td><td> 0</td><td>Rugby   </td></tr>\n",
       "</tbody>\n",
       "</table>\n"
      ],
      "text/latex": [
       "A data.frame: 5 × 3\n",
       "\\begin{tabular}{r|lll}\n",
       "  & x & y & q\\\\\n",
       "  & <int> & <int> & <chr>\\\\\n",
       "\\hline\n",
       "\t1 & 10 & -4 & Hockey  \\\\\n",
       "\t2 &  9 & -3 & Football\\\\\n",
       "\t3 &  8 & -2 & Baseball\\\\\n",
       "\t4 &  7 & -1 & Curling \\\\\n",
       "\t5 &  6 &  0 & Rugby   \\\\\n",
       "\\end{tabular}\n"
      ],
      "text/markdown": [
       "\n",
       "A data.frame: 5 × 3\n",
       "\n",
       "| <!--/--> | x &lt;int&gt; | y &lt;int&gt; | q &lt;chr&gt; |\n",
       "|---|---|---|---|\n",
       "| 1 | 10 | -4 | Hockey   |\n",
       "| 2 |  9 | -3 | Football |\n",
       "| 3 |  8 | -2 | Baseball |\n",
       "| 4 |  7 | -1 | Curling  |\n",
       "| 5 |  6 |  0 | Rugby    |\n",
       "\n"
      ],
      "text/plain": [
       "  x  y  q       \n",
       "1 10 -4 Hockey  \n",
       "2  9 -3 Football\n",
       "3  8 -2 Baseball\n",
       "4  7 -1 Curling \n",
       "5  6  0 Rugby   "
      ]
     },
     "metadata": {},
     "output_type": "display_data"
    }
   ],
   "source": [
    "head(df, n = 5)\n"
   ]
  },
  {
   "cell_type": "code",
   "execution_count": 64,
   "metadata": {
    "vscode": {
     "languageId": "r"
    }
   },
   "outputs": [],
   "source": [
    "library(magrittr)\n"
   ]
  },
  {
   "cell_type": "code",
   "execution_count": 67,
   "metadata": {
    "vscode": {
     "languageId": "r"
    }
   },
   "outputs": [],
   "source": [
    "a <- matrix(1:10, nrow = 5, ncol = 2)\n"
   ]
  },
  {
   "cell_type": "code",
   "execution_count": 68,
   "metadata": {
    "vscode": {
     "languageId": "r"
    }
   },
   "outputs": [
    {
     "data": {
      "text/html": [
       "<table class=\"dataframe\">\n",
       "<caption>A matrix: 5 × 2 of type int</caption>\n",
       "<tbody>\n",
       "\t<tr><td>1</td><td> 6</td></tr>\n",
       "\t<tr><td>2</td><td> 7</td></tr>\n",
       "\t<tr><td>3</td><td> 8</td></tr>\n",
       "\t<tr><td>4</td><td> 9</td></tr>\n",
       "\t<tr><td>5</td><td>10</td></tr>\n",
       "</tbody>\n",
       "</table>\n"
      ],
      "text/latex": [
       "A matrix: 5 × 2 of type int\n",
       "\\begin{tabular}{ll}\n",
       "\t 1 &  6\\\\\n",
       "\t 2 &  7\\\\\n",
       "\t 3 &  8\\\\\n",
       "\t 4 &  9\\\\\n",
       "\t 5 & 10\\\\\n",
       "\\end{tabular}\n"
      ],
      "text/markdown": [
       "\n",
       "A matrix: 5 × 2 of type int\n",
       "\n",
       "| 1 |  6 |\n",
       "| 2 |  7 |\n",
       "| 3 |  8 |\n",
       "| 4 |  9 |\n",
       "| 5 | 10 |\n",
       "\n"
      ],
      "text/plain": [
       "     [,1] [,2]\n",
       "[1,] 1     6  \n",
       "[2,] 2     7  \n",
       "[3,] 3     8  \n",
       "[4,] 4     9  \n",
       "[5,] 5    10  "
      ]
     },
     "metadata": {},
     "output_type": "display_data"
    }
   ],
   "source": [
    "a\n"
   ]
  },
  {
   "cell_type": "code",
   "execution_count": 70,
   "metadata": {
    "vscode": {
     "languageId": "r"
    }
   },
   "outputs": [],
   "source": [
    "b <- matrix(1:10, nrow = 2, ncol = 5)\n"
   ]
  },
  {
   "cell_type": "code",
   "execution_count": 71,
   "metadata": {
    "vscode": {
     "languageId": "r"
    }
   },
   "outputs": [
    {
     "data": {
      "text/html": [
       "<table class=\"dataframe\">\n",
       "<caption>A matrix: 2 × 5 of type int</caption>\n",
       "<tbody>\n",
       "\t<tr><td>1</td><td>3</td><td>5</td><td>7</td><td> 9</td></tr>\n",
       "\t<tr><td>2</td><td>4</td><td>6</td><td>8</td><td>10</td></tr>\n",
       "</tbody>\n",
       "</table>\n"
      ],
      "text/latex": [
       "A matrix: 2 × 5 of type int\n",
       "\\begin{tabular}{lllll}\n",
       "\t 1 & 3 & 5 & 7 &  9\\\\\n",
       "\t 2 & 4 & 6 & 8 & 10\\\\\n",
       "\\end{tabular}\n"
      ],
      "text/markdown": [
       "\n",
       "A matrix: 2 × 5 of type int\n",
       "\n",
       "| 1 | 3 | 5 | 7 |  9 |\n",
       "| 2 | 4 | 6 | 8 | 10 |\n",
       "\n"
      ],
      "text/plain": [
       "     [,1] [,2] [,3] [,4] [,5]\n",
       "[1,] 1    3    5    7     9  \n",
       "[2,] 2    4    6    8    10  "
      ]
     },
     "metadata": {},
     "output_type": "display_data"
    }
   ],
   "source": [
    "b\n"
   ]
  },
  {
   "cell_type": "code",
   "execution_count": 81,
   "metadata": {
    "vscode": {
     "languageId": "r"
    }
   },
   "outputs": [
    {
     "ename": "ERROR",
     "evalue": "Error in a * b: non-conformable arrays\n",
     "output_type": "error",
     "traceback": [
      "Error in a * b: non-conformable arrays\nTraceback:\n"
     ]
    }
   ],
   "source": [
    "a * b\n"
   ]
  },
  {
   "cell_type": "code",
   "execution_count": 80,
   "metadata": {
    "vscode": {
     "languageId": "r"
    }
   },
   "outputs": [
    {
     "data": {
      "text/html": [
       "<table class=\"dataframe\">\n",
       "<caption>A matrix: 5 × 5 of type dbl</caption>\n",
       "<tbody>\n",
       "\t<tr><td>13</td><td>27</td><td>41</td><td> 55</td><td> 69</td></tr>\n",
       "\t<tr><td>16</td><td>34</td><td>52</td><td> 70</td><td> 88</td></tr>\n",
       "\t<tr><td>19</td><td>41</td><td>63</td><td> 85</td><td>107</td></tr>\n",
       "\t<tr><td>22</td><td>48</td><td>74</td><td>100</td><td>126</td></tr>\n",
       "\t<tr><td>25</td><td>55</td><td>85</td><td>115</td><td>145</td></tr>\n",
       "</tbody>\n",
       "</table>\n"
      ],
      "text/latex": [
       "A matrix: 5 × 5 of type dbl\n",
       "\\begin{tabular}{lllll}\n",
       "\t 13 & 27 & 41 &  55 &  69\\\\\n",
       "\t 16 & 34 & 52 &  70 &  88\\\\\n",
       "\t 19 & 41 & 63 &  85 & 107\\\\\n",
       "\t 22 & 48 & 74 & 100 & 126\\\\\n",
       "\t 25 & 55 & 85 & 115 & 145\\\\\n",
       "\\end{tabular}\n"
      ],
      "text/markdown": [
       "\n",
       "A matrix: 5 × 5 of type dbl\n",
       "\n",
       "| 13 | 27 | 41 |  55 |  69 |\n",
       "| 16 | 34 | 52 |  70 |  88 |\n",
       "| 19 | 41 | 63 |  85 | 107 |\n",
       "| 22 | 48 | 74 | 100 | 126 |\n",
       "| 25 | 55 | 85 | 115 | 145 |\n",
       "\n"
      ],
      "text/plain": [
       "     [,1] [,2] [,3] [,4] [,5]\n",
       "[1,] 13   27   41    55   69 \n",
       "[2,] 16   34   52    70   88 \n",
       "[3,] 19   41   63    85  107 \n",
       "[4,] 22   48   74   100  126 \n",
       "[5,] 25   55   85   115  145 "
      ]
     },
     "metadata": {},
     "output_type": "display_data"
    }
   ],
   "source": [
    "a %*% (b)\n"
   ]
  },
  {
   "cell_type": "code",
   "execution_count": 76,
   "metadata": {
    "vscode": {
     "languageId": "r"
    }
   },
   "outputs": [
    {
     "data": {
      "text/html": [
       "<table class=\"dataframe\">\n",
       "<caption>A matrix: 5 × 2 of type int</caption>\n",
       "<tbody>\n",
       "\t<tr><td> 1</td><td> 12</td></tr>\n",
       "\t<tr><td> 6</td><td> 28</td></tr>\n",
       "\t<tr><td>15</td><td> 48</td></tr>\n",
       "\t<tr><td>28</td><td> 72</td></tr>\n",
       "\t<tr><td>45</td><td>100</td></tr>\n",
       "</tbody>\n",
       "</table>\n"
      ],
      "text/latex": [
       "A matrix: 5 × 2 of type int\n",
       "\\begin{tabular}{ll}\n",
       "\t  1 &  12\\\\\n",
       "\t  6 &  28\\\\\n",
       "\t 15 &  48\\\\\n",
       "\t 28 &  72\\\\\n",
       "\t 45 & 100\\\\\n",
       "\\end{tabular}\n"
      ],
      "text/markdown": [
       "\n",
       "A matrix: 5 × 2 of type int\n",
       "\n",
       "|  1 |  12 |\n",
       "|  6 |  28 |\n",
       "| 15 |  48 |\n",
       "| 28 |  72 |\n",
       "| 45 | 100 |\n",
       "\n"
      ],
      "text/plain": [
       "     [,1] [,2]\n",
       "[1,]  1    12 \n",
       "[2,]  6    28 \n",
       "[3,] 15    48 \n",
       "[4,] 28    72 \n",
       "[5,] 45   100 "
      ]
     },
     "metadata": {},
     "output_type": "display_data"
    }
   ],
   "source": [
    "a * t(b)\n"
   ]
  },
  {
   "cell_type": "code",
   "execution_count": 84,
   "metadata": {
    "vscode": {
     "languageId": "r"
    }
   },
   "outputs": [
    {
     "ename": "ERROR",
     "evalue": "Error in a %*% t(b): non-conformable arguments\n",
     "output_type": "error",
     "traceback": [
      "Error in a %*% t(b): non-conformable arguments\nTraceback:\n"
     ]
    }
   ],
   "source": [
    "a %*% t(b)\n"
   ]
  },
  {
   "cell_type": "code",
   "execution_count": null,
   "metadata": {
    "vscode": {
     "languageId": "r"
    }
   },
   "outputs": [],
   "source": []
  }
 ],
 "metadata": {
  "kernelspec": {
   "display_name": "R",
   "language": "R",
   "name": "ir"
  },
  "language_info": {
   "codemirror_mode": "r",
   "file_extension": ".r",
   "mimetype": "text/x-r-source",
   "name": "R",
   "pygments_lexer": "r",
   "version": "4.3.2"
  }
 },
 "nbformat": 4,
 "nbformat_minor": 2
}
