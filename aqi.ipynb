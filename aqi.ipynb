{
 "cells": [
  {
   "cell_type": "code",
   "execution_count": null,
   "metadata": {
    "vscode": {
     "languageId": "r"
    }
   },
   "outputs": [],
   "source": [
    "library(magrittr)\n",
    "library(tidyverse, warn.conflicts = FALSE)\n",
    "library(rvest)\n"
   ]
  },
  {
   "cell_type": "code",
   "execution_count": null,
   "metadata": {
    "vscode": {
     "languageId": "r"
    }
   },
   "outputs": [],
   "source": [
    "url <- \"https://aqicn.org/forecast/kathmandu/\"\n",
    "\n",
    "aqi_html <- read_html(url)\n"
   ]
  },
  {
   "cell_type": "code",
   "execution_count": null,
   "metadata": {
    "vscode": {
     "languageId": "r"
    }
   },
   "outputs": [],
   "source": [
    "aqi_html %>% html_attr('p')\n"
   ]
  },
  {
   "cell_type": "code",
   "execution_count": null,
   "metadata": {
    "vscode": {
     "languageId": "r"
    }
   },
   "outputs": [],
   "source": [
    "# Load necessary libraries\n",
    "library(rvest)\n",
    "\n",
    "# Define the URL\n",
    "url <- \"https://aqicn.org/city/kathmandu\"\n",
    "\n",
    "# Read the HTML content\n",
    "page <- read_html(url)\n",
    "\n",
    "# Example: Scrape PM2.5 value\n",
    "pm25_value <- page %>%\n",
    "  html_nodes(\".aqivalue\") %>%\n",
    "  html_text() %>%\n",
    "  as.numeric()\n",
    "\n",
    "# Print the value\n",
    "cat(\"PM2.5 value in Kathmandu:\", pm25_value, \"\\n\")\n"
   ]
  },
  {
   "cell_type": "code",
   "execution_count": 5,
   "metadata": {
    "vscode": {
     "languageId": "r"
    }
   },
   "outputs": [],
   "source": [
    "# Load necessary libraries\n",
    "library(tidyverse)\n",
    "library(rvest)\n",
    "\n",
    "# Define the URL\n",
    "url <- \"https://aqicn.org/city/kathmandu\"\n",
    "\n",
    "# Read the HTML content\n",
    "page <- read_html(url)\n",
    "\n",
    "# Extract all tables from the page\n",
    "all_tables <- page %>%\n",
    "  html_nodes(\"table\") %>%\n",
    "  html_table(fill = TRUE)\n",
    "\n",
    "# Combine all tables into a single dataframe\n",
    "\n",
    "all_tables <- all_tables[6]"
   ]
  },
  {
   "cell_type": "code",
   "execution_count": 10,
   "metadata": {
    "vscode": {
     "languageId": "r"
    }
   },
   "outputs": [
    {
     "data": {
      "text/html": [
       "<table class=\"dataframe\">\n",
       "<caption>A tibble: 8 × 88</caption>\n",
       "<thead>\n",
       "\t<tr><th scope=col>X1</th><th scope=col>X2</th><th scope=col>X3</th><th scope=col>X4</th><th scope=col>X5</th><th scope=col>X6</th><th scope=col>X7</th><th scope=col>X8</th><th scope=col>X9</th><th scope=col>X10</th><th scope=col>⋯</th><th scope=col>X79</th><th scope=col>X80</th><th scope=col>X81</th><th scope=col>X82</th><th scope=col>X83</th><th scope=col>X84</th><th scope=col>X85</th><th scope=col>X86</th><th scope=col>X87</th><th scope=col>X88</th></tr>\n",
       "\t<tr><th scope=col>&lt;chr&gt;</th><th scope=col>&lt;chr&gt;</th><th scope=col>&lt;chr&gt;</th><th scope=col>&lt;chr&gt;</th><th scope=col>&lt;chr&gt;</th><th scope=col>&lt;chr&gt;</th><th scope=col>&lt;chr&gt;</th><th scope=col>&lt;chr&gt;</th><th scope=col>&lt;chr&gt;</th><th scope=col>&lt;chr&gt;</th><th scope=col>⋯</th><th scope=col>&lt;chr&gt;</th><th scope=col>&lt;chr&gt;</th><th scope=col>&lt;chr&gt;</th><th scope=col>&lt;chr&gt;</th><th scope=col>&lt;chr&gt;</th><th scope=col>&lt;chr&gt;</th><th scope=col>&lt;chr&gt;</th><th scope=col>&lt;chr&gt;</th><th scope=col>&lt;chr&gt;</th><th scope=col>&lt;chr&gt;</th></tr>\n",
       "</thead>\n",
       "<tbody>\n",
       "\t<tr><td>current            </td><td>current            </td><td>past 2 days        </td><td>min                </td><td>max                </td><td>NA                 </td><td>NA                 </td><td>NA                 </td><td>NA                 </td><td>NA                 </td><td>⋯</td><td>NA                 </td><td>NA                 </td><td>NA                 </td><td>NA                 </td><td>NA                 </td><td>NA                 </td><td>NA                 </td><td>NA                 </td><td>NA                 </td><td>NA                 </td></tr>\n",
       "\t<tr><td>PM2.5  AQI         </td><td>181                </td><td>                   </td><td>61                 </td><td>250                </td><td>NA                 </td><td>NA                 </td><td>NA                 </td><td>NA                 </td><td>NA                 </td><td>⋯</td><td>NA                 </td><td>NA                 </td><td>NA                 </td><td>NA                 </td><td>NA                 </td><td>NA                 </td><td>NA                 </td><td>NA                 </td><td>NA                 </td><td>NA                 </td></tr>\n",
       "\t<tr><td>PM10  AQI          </td><td>66                 </td><td>                   </td><td>55                 </td><td>200                </td><td>NA                 </td><td>NA                 </td><td>NA                 </td><td>NA                 </td><td>NA                 </td><td>⋯</td><td>NA                 </td><td>NA                 </td><td>NA                 </td><td>NA                 </td><td>NA                 </td><td>NA                 </td><td>NA                 </td><td>NA                 </td><td>NA                 </td><td>NA                 </td></tr>\n",
       "\t<tr><td>Weather Information</td><td>Weather Information</td><td>Weather Information</td><td>Weather Information</td><td>Weather Information</td><td>Weather Information</td><td>Weather Information</td><td>Weather Information</td><td>Weather Information</td><td>Weather Information</td><td>⋯</td><td>Weather Information</td><td>Weather Information</td><td>Weather Information</td><td>Weather Information</td><td>Weather Information</td><td>Weather Information</td><td>Weather Information</td><td>Weather Information</td><td>Weather Information</td><td>Weather Information</td></tr>\n",
       "\t<tr><td>Temp.              </td><td>12                 </td><td>                   </td><td>11                 </td><td>25                 </td><td>NA                 </td><td>NA                 </td><td>NA                 </td><td>NA                 </td><td>NA                 </td><td>⋯</td><td>NA                 </td><td>NA                 </td><td>NA                 </td><td>NA                 </td><td>NA                 </td><td>NA                 </td><td>NA                 </td><td>NA                 </td><td>NA                 </td><td>NA                 </td></tr>\n",
       "\t<tr><td>Pressure           </td><td>1019               </td><td>                   </td><td>1017               </td><td>1022               </td><td>NA                 </td><td>NA                 </td><td>NA                 </td><td>NA                 </td><td>NA                 </td><td>⋯</td><td>NA                 </td><td>NA                 </td><td>NA                 </td><td>NA                 </td><td>NA                 </td><td>NA                 </td><td>NA                 </td><td>NA                 </td><td>NA                 </td><td>NA                 </td></tr>\n",
       "\t<tr><td>Humidity           </td><td>93                 </td><td>                   </td><td>16                 </td><td>93                 </td><td>NA                 </td><td>NA                 </td><td>NA                 </td><td>NA                 </td><td>NA                 </td><td>⋯</td><td>NA                 </td><td>NA                 </td><td>NA                 </td><td>NA                 </td><td>NA                 </td><td>NA                 </td><td>NA                 </td><td>NA                 </td><td>NA                 </td><td>NA                 </td></tr>\n",
       "\t<tr><td>Wind               </td><td>1                  </td><td>                   </td><td>1                  </td><td>6                  </td><td>NA                 </td><td>NA                 </td><td>NA                 </td><td>NA                 </td><td>NA                 </td><td>⋯</td><td>NA                 </td><td>NA                 </td><td>NA                 </td><td>NA                 </td><td>NA                 </td><td>NA                 </td><td>NA                 </td><td>NA                 </td><td>NA                 </td><td>NA                 </td></tr>\n",
       "</tbody>\n",
       "</table>\n"
      ],
      "text/latex": [
       "A tibble: 8 × 88\n",
       "\\begin{tabular}{lllllllllllllllllllll}\n",
       " X1 & X2 & X3 & X4 & X5 & X6 & X7 & X8 & X9 & X10 & ⋯ & X79 & X80 & X81 & X82 & X83 & X84 & X85 & X86 & X87 & X88\\\\\n",
       " <chr> & <chr> & <chr> & <chr> & <chr> & <chr> & <chr> & <chr> & <chr> & <chr> & ⋯ & <chr> & <chr> & <chr> & <chr> & <chr> & <chr> & <chr> & <chr> & <chr> & <chr>\\\\\n",
       "\\hline\n",
       "\t current             & current             & past 2 days         & min                 & max                 & NA                  & NA                  & NA                  & NA                  & NA                  & ⋯ & NA                  & NA                  & NA                  & NA                  & NA                  & NA                  & NA                  & NA                  & NA                  & NA                 \\\\\n",
       "\t PM2.5  AQI          & 181                 &                     & 61                  & 250                 & NA                  & NA                  & NA                  & NA                  & NA                  & ⋯ & NA                  & NA                  & NA                  & NA                  & NA                  & NA                  & NA                  & NA                  & NA                  & NA                 \\\\\n",
       "\t PM10  AQI           & 66                  &                     & 55                  & 200                 & NA                  & NA                  & NA                  & NA                  & NA                  & ⋯ & NA                  & NA                  & NA                  & NA                  & NA                  & NA                  & NA                  & NA                  & NA                  & NA                 \\\\\n",
       "\t Weather Information & Weather Information & Weather Information & Weather Information & Weather Information & Weather Information & Weather Information & Weather Information & Weather Information & Weather Information & ⋯ & Weather Information & Weather Information & Weather Information & Weather Information & Weather Information & Weather Information & Weather Information & Weather Information & Weather Information & Weather Information\\\\\n",
       "\t Temp.               & 12                  &                     & 11                  & 25                  & NA                  & NA                  & NA                  & NA                  & NA                  & ⋯ & NA                  & NA                  & NA                  & NA                  & NA                  & NA                  & NA                  & NA                  & NA                  & NA                 \\\\\n",
       "\t Pressure            & 1019                &                     & 1017                & 1022                & NA                  & NA                  & NA                  & NA                  & NA                  & ⋯ & NA                  & NA                  & NA                  & NA                  & NA                  & NA                  & NA                  & NA                  & NA                  & NA                 \\\\\n",
       "\t Humidity            & 93                  &                     & 16                  & 93                  & NA                  & NA                  & NA                  & NA                  & NA                  & ⋯ & NA                  & NA                  & NA                  & NA                  & NA                  & NA                  & NA                  & NA                  & NA                  & NA                 \\\\\n",
       "\t Wind                & 1                   &                     & 1                   & 6                   & NA                  & NA                  & NA                  & NA                  & NA                  & ⋯ & NA                  & NA                  & NA                  & NA                  & NA                  & NA                  & NA                  & NA                  & NA                  & NA                 \\\\\n",
       "\\end{tabular}\n"
      ],
      "text/markdown": [
       "\n",
       "A tibble: 8 × 88\n",
       "\n",
       "| X1 &lt;chr&gt; | X2 &lt;chr&gt; | X3 &lt;chr&gt; | X4 &lt;chr&gt; | X5 &lt;chr&gt; | X6 &lt;chr&gt; | X7 &lt;chr&gt; | X8 &lt;chr&gt; | X9 &lt;chr&gt; | X10 &lt;chr&gt; | ⋯ ⋯ | X79 &lt;chr&gt; | X80 &lt;chr&gt; | X81 &lt;chr&gt; | X82 &lt;chr&gt; | X83 &lt;chr&gt; | X84 &lt;chr&gt; | X85 &lt;chr&gt; | X86 &lt;chr&gt; | X87 &lt;chr&gt; | X88 &lt;chr&gt; |\n",
       "|---|---|---|---|---|---|---|---|---|---|---|---|---|---|---|---|---|---|---|---|---|\n",
       "| current             | current             | past 2 days         | min                 | max                 | NA                  | NA                  | NA                  | NA                  | NA                  | ⋯ | NA                  | NA                  | NA                  | NA                  | NA                  | NA                  | NA                  | NA                  | NA                  | NA                  |\n",
       "| PM2.5  AQI          | 181                 | <!----> | 61                  | 250                 | NA                  | NA                  | NA                  | NA                  | NA                  | ⋯ | NA                  | NA                  | NA                  | NA                  | NA                  | NA                  | NA                  | NA                  | NA                  | NA                  |\n",
       "| PM10  AQI           | 66                  | <!----> | 55                  | 200                 | NA                  | NA                  | NA                  | NA                  | NA                  | ⋯ | NA                  | NA                  | NA                  | NA                  | NA                  | NA                  | NA                  | NA                  | NA                  | NA                  |\n",
       "| Weather Information | Weather Information | Weather Information | Weather Information | Weather Information | Weather Information | Weather Information | Weather Information | Weather Information | Weather Information | ⋯ | Weather Information | Weather Information | Weather Information | Weather Information | Weather Information | Weather Information | Weather Information | Weather Information | Weather Information | Weather Information |\n",
       "| Temp.               | 12                  | <!----> | 11                  | 25                  | NA                  | NA                  | NA                  | NA                  | NA                  | ⋯ | NA                  | NA                  | NA                  | NA                  | NA                  | NA                  | NA                  | NA                  | NA                  | NA                  |\n",
       "| Pressure            | 1019                | <!----> | 1017                | 1022                | NA                  | NA                  | NA                  | NA                  | NA                  | ⋯ | NA                  | NA                  | NA                  | NA                  | NA                  | NA                  | NA                  | NA                  | NA                  | NA                  |\n",
       "| Humidity            | 93                  | <!----> | 16                  | 93                  | NA                  | NA                  | NA                  | NA                  | NA                  | ⋯ | NA                  | NA                  | NA                  | NA                  | NA                  | NA                  | NA                  | NA                  | NA                  | NA                  |\n",
       "| Wind                | 1                   | <!----> | 1                   | 6                   | NA                  | NA                  | NA                  | NA                  | NA                  | ⋯ | NA                  | NA                  | NA                  | NA                  | NA                  | NA                  | NA                  | NA                  | NA                  | NA                  |\n",
       "\n"
      ],
      "text/plain": [
       "  X1                  X2                  X3                 \n",
       "1 current             current             past 2 days        \n",
       "2 PM2.5  AQI          181                                    \n",
       "3 PM10  AQI           66                                     \n",
       "4 Weather Information Weather Information Weather Information\n",
       "5 Temp.               12                                     \n",
       "6 Pressure            1019                                   \n",
       "7 Humidity            93                                     \n",
       "8 Wind                1                                      \n",
       "  X4                  X5                  X6                 \n",
       "1 min                 max                 NA                 \n",
       "2 61                  250                 NA                 \n",
       "3 55                  200                 NA                 \n",
       "4 Weather Information Weather Information Weather Information\n",
       "5 11                  25                  NA                 \n",
       "6 1017                1022                NA                 \n",
       "7 16                  93                  NA                 \n",
       "8 1                   6                   NA                 \n",
       "  X7                  X8                  X9                 \n",
       "1 NA                  NA                  NA                 \n",
       "2 NA                  NA                  NA                 \n",
       "3 NA                  NA                  NA                 \n",
       "4 Weather Information Weather Information Weather Information\n",
       "5 NA                  NA                  NA                 \n",
       "6 NA                  NA                  NA                 \n",
       "7 NA                  NA                  NA                 \n",
       "8 NA                  NA                  NA                 \n",
       "  X10                 ⋯ X79                 X80                \n",
       "1 NA                  ⋯ NA                  NA                 \n",
       "2 NA                  ⋯ NA                  NA                 \n",
       "3 NA                  ⋯ NA                  NA                 \n",
       "4 Weather Information ⋯ Weather Information Weather Information\n",
       "5 NA                  ⋯ NA                  NA                 \n",
       "6 NA                  ⋯ NA                  NA                 \n",
       "7 NA                  ⋯ NA                  NA                 \n",
       "8 NA                  ⋯ NA                  NA                 \n",
       "  X81                 X82                 X83                \n",
       "1 NA                  NA                  NA                 \n",
       "2 NA                  NA                  NA                 \n",
       "3 NA                  NA                  NA                 \n",
       "4 Weather Information Weather Information Weather Information\n",
       "5 NA                  NA                  NA                 \n",
       "6 NA                  NA                  NA                 \n",
       "7 NA                  NA                  NA                 \n",
       "8 NA                  NA                  NA                 \n",
       "  X84                 X85                 X86                \n",
       "1 NA                  NA                  NA                 \n",
       "2 NA                  NA                  NA                 \n",
       "3 NA                  NA                  NA                 \n",
       "4 Weather Information Weather Information Weather Information\n",
       "5 NA                  NA                  NA                 \n",
       "6 NA                  NA                  NA                 \n",
       "7 NA                  NA                  NA                 \n",
       "8 NA                  NA                  NA                 \n",
       "  X87                 X88                \n",
       "1 NA                  NA                 \n",
       "2 NA                  NA                 \n",
       "3 NA                  NA                 \n",
       "4 Weather Information Weather Information\n",
       "5 NA                  NA                 \n",
       "6 NA                  NA                 \n",
       "7 NA                  NA                 \n",
       "8 NA                  NA                 "
      ]
     },
     "metadata": {},
     "output_type": "display_data"
    }
   ],
   "source": [
    "all_tables[[1]]"
   ]
  },
  {
   "cell_type": "code",
   "execution_count": null,
   "metadata": {
    "vscode": {
     "languageId": "r"
    }
   },
   "outputs": [],
   "source": []
  }
 ],
 "metadata": {
  "kernelspec": {
   "display_name": "R",
   "language": "R",
   "name": "ir"
  },
  "language_info": {
   "codemirror_mode": "r",
   "file_extension": ".r",
   "mimetype": "text/x-r-source",
   "name": "R",
   "pygments_lexer": "r",
   "version": "4.3.2"
  }
 },
 "nbformat": 4,
 "nbformat_minor": 2
}
