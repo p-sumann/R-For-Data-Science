{
 "cells": [
  {
   "cell_type": "code",
   "execution_count": 2,
   "metadata": {
    "vscode": {
     "languageId": "r"
    }
   },
   "outputs": [],
   "source": [
    "die <- 1:6\n"
   ]
  },
  {
   "cell_type": "code",
   "execution_count": 3,
   "metadata": {
    "vscode": {
     "languageId": "r"
    }
   },
   "outputs": [
    {
     "data": {
      "text/html": [
       "3"
      ],
      "text/latex": [
       "3"
      ],
      "text/markdown": [
       "3"
      ],
      "text/plain": [
       "[1] 3"
      ]
     },
     "metadata": {},
     "output_type": "display_data"
    }
   ],
   "source": [
    "sample(die, size = 1)\n"
   ]
  },
  {
   "cell_type": "code",
   "execution_count": 4,
   "metadata": {
    "vscode": {
     "languageId": "r"
    }
   },
   "outputs": [
    {
     "data": {
      "text/html": [
       "1"
      ],
      "text/latex": [
       "1"
      ],
      "text/markdown": [
       "1"
      ],
      "text/plain": [
       "[1] 1"
      ]
     },
     "metadata": {},
     "output_type": "display_data"
    }
   ],
   "source": [
    "sample(die, size = 1, replace = TRUE)\n"
   ]
  },
  {
   "cell_type": "code",
   "execution_count": 5,
   "metadata": {
    "vscode": {
     "languageId": "r"
    }
   },
   "outputs": [
    {
     "data": {
      "text/html": [
       "<style>\n",
       ".list-inline {list-style: none; margin:0; padding: 0}\n",
       ".list-inline>li {display: inline-block}\n",
       ".list-inline>li:not(:last-child)::after {content: \"\\00b7\"; padding: 0 .5ex}\n",
       "</style>\n",
       "<ol class=list-inline><li>5</li><li>6</li></ol>\n"
      ],
      "text/latex": [
       "\\begin{enumerate*}\n",
       "\\item 5\n",
       "\\item 6\n",
       "\\end{enumerate*}\n"
      ],
      "text/markdown": [
       "1. 5\n",
       "2. 6\n",
       "\n",
       "\n"
      ],
      "text/plain": [
       "[1] 5 6"
      ]
     },
     "metadata": {},
     "output_type": "display_data"
    }
   ],
   "source": [
    "sample(die, size = 2, replace = TRUE)\n"
   ]
  },
  {
   "cell_type": "code",
   "execution_count": 6,
   "metadata": {
    "vscode": {
     "languageId": "r"
    }
   },
   "outputs": [
    {
     "name": "stdout",
     "output_type": "stream",
     "text": [
      "[1] 6\n",
      "[1] 1\n"
     ]
    },
    {
     "data": {
      "text/html": [
       "4"
      ],
      "text/latex": [
       "4"
      ],
      "text/markdown": [
       "4"
      ],
      "text/plain": [
       "[1] 4"
      ]
     },
     "metadata": {},
     "output_type": "display_data"
    },
    {
     "data": {
      "text/html": [
       "<style>\n",
       ".list-inline {list-style: none; margin:0; padding: 0}\n",
       ".list-inline>li {display: inline-block}\n",
       ".list-inline>li:not(:last-child)::after {content: \"\\00b7\"; padding: 0 .5ex}\n",
       "</style>\n",
       "<ol class=list-inline><li>2</li><li>6</li></ol>\n"
      ],
      "text/latex": [
       "\\begin{enumerate*}\n",
       "\\item 2\n",
       "\\item 6\n",
       "\\end{enumerate*}\n"
      ],
      "text/markdown": [
       "1. 2\n",
       "2. 6\n",
       "\n",
       "\n"
      ],
      "text/plain": [
       "[1] 2 6"
      ]
     },
     "metadata": {},
     "output_type": "display_data"
    },
    {
     "data": {
      "text/html": [
       "<style>\n",
       ".list-inline {list-style: none; margin:0; padding: 0}\n",
       ".list-inline>li {display: inline-block}\n",
       ".list-inline>li:not(:last-child)::after {content: \"\\00b7\"; padding: 0 .5ex}\n",
       "</style>\n",
       "<ol class=list-inline><li>4</li><li>1</li></ol>\n"
      ],
      "text/latex": [
       "\\begin{enumerate*}\n",
       "\\item 4\n",
       "\\item 1\n",
       "\\end{enumerate*}\n"
      ],
      "text/markdown": [
       "1. 4\n",
       "2. 1\n",
       "\n",
       "\n"
      ],
      "text/plain": [
       "[1] 4 1"
      ]
     },
     "metadata": {},
     "output_type": "display_data"
    },
    {
     "data": {
      "text/html": [
       "<style>\n",
       ".list-inline {list-style: none; margin:0; padding: 0}\n",
       ".list-inline>li {display: inline-block}\n",
       ".list-inline>li:not(:last-child)::after {content: \"\\00b7\"; padding: 0 .5ex}\n",
       "</style>\n",
       "<ol class=list-inline><li>4</li><li>5</li></ol>\n"
      ],
      "text/latex": [
       "\\begin{enumerate*}\n",
       "\\item 4\n",
       "\\item 5\n",
       "\\end{enumerate*}\n"
      ],
      "text/markdown": [
       "1. 4\n",
       "2. 5\n",
       "\n",
       "\n"
      ],
      "text/plain": [
       "[1] 4 5"
      ]
     },
     "metadata": {},
     "output_type": "display_data"
    }
   ],
   "source": [
    "print(sample(x = die, size = 1))\n",
    "print(sample(x = die, size = 1))\n",
    "sample(x = die, size = 1, replace = TRUE)\n",
    "\n",
    "sample(x = die, size = 2)\n",
    "sample(x = die, size = 2)\n",
    "sample(x = die, size = 2)\n"
   ]
  },
  {
   "cell_type": "code",
   "execution_count": 25,
   "metadata": {
    "vscode": {
     "languageId": "r"
    }
   },
   "outputs": [],
   "source": [
    "# iris = read.csv(\"iris.csv\")\n",
    "iris <- read.csv(\"iris.csv\")\n"
   ]
  },
  {
   "cell_type": "code",
   "execution_count": 26,
   "metadata": {
    "vscode": {
     "languageId": "r"
    }
   },
   "outputs": [],
   "source": [
    "set.seed(123)\n"
   ]
  },
  {
   "cell_type": "code",
   "execution_count": 27,
   "metadata": {
    "vscode": {
     "languageId": "r"
    }
   },
   "outputs": [],
   "source": [
    "tt.sample <- sample(c(TRUE, FALSE), nrow(iris), replace = T, prob = c(0.7, 0.3))\n"
   ]
  },
  {
   "cell_type": "code",
   "execution_count": 35,
   "metadata": {
    "vscode": {
     "languageId": "r"
    }
   },
   "outputs": [
    {
     "data": {
      "text/html": [
       "<style>\n",
       ".list-inline {list-style: none; margin:0; padding: 0}\n",
       ".list-inline>li {display: inline-block}\n",
       ".list-inline>li:not(:last-child)::after {content: \"\\00b7\"; padding: 0 .5ex}\n",
       "</style>\n",
       "<ol class=list-inline><li>0</li><li>1</li><li>0</li><li>0</li><li>1</li><li>1</li><li>1</li><li>1</li><li>1</li><li>1</li><li>1</li><li>1</li><li>0</li><li>1</li><li>1</li><li>0</li><li>0</li><li>1</li><li>1</li><li>0</li><li>0</li><li>1</li><li>1</li><li>0</li><li>1</li><li>1</li><li>0</li><li>1</li><li>1</li><li>0</li><li>1</li><li>1</li><li>0</li><li>0</li><li>1</li><li>1</li><li>1</li><li>1</li><li>1</li><li>0</li><li>1</li><li>1</li><li>1</li><li>1</li><li>1</li><li>1</li><li>0</li><li>1</li><li>1</li><li>1</li><li>1</li><li>0</li><li>1</li><li>1</li><li>1</li><li>0</li><li>1</li><li>1</li><li>1</li><li>0</li><li>1</li><li>1</li><li>0</li><li>1</li><li>1</li><li>0</li><li>1</li><li>1</li><li>1</li><li>1</li><li>1</li><li>1</li><li>0</li><li>1</li><li>1</li><li>0</li><li>0</li><li>1</li><li>1</li><li>0</li><li>1</li><li>0</li><li>1</li><li>0</li><li>1</li><li>0</li><li>1</li><li>1</li><li>1</li><li>1</li><li>0</li><li>1</li><li>0</li><li>0</li><li>1</li><li>1</li><li>1</li><li>1</li><li>1</li><li>0</li><li>0</li><li>1</li><li>0</li><li>1</li><li>1</li><li>1</li><li>0</li><li>1</li><li>1</li><li>1</li><li>1</li><li>0</li><li>1</li><li>1</li><li>1</li><li>1</li><li>0</li><li>1</li><li>1</li><li>1</li><li>1</li><li>1</li><li>1</li><li>1</li><li>0</li><li>1</li><li>1</li><li>1</li><li>1</li><li>0</li><li>0</li><li>1</li><li>1</li><li>0</li><li>1</li><li>1</li><li>1</li><li>1</li><li>1</li><li>1</li><li>1</li><li>1</li><li>0</li><li>1</li><li>0</li><li>0</li><li>0</li><li>1</li><li>1</li><li>1</li></ol>\n"
      ],
      "text/latex": [
       "\\begin{enumerate*}\n",
       "\\item 0\n",
       "\\item 1\n",
       "\\item 0\n",
       "\\item 0\n",
       "\\item 1\n",
       "\\item 1\n",
       "\\item 1\n",
       "\\item 1\n",
       "\\item 1\n",
       "\\item 1\n",
       "\\item 1\n",
       "\\item 1\n",
       "\\item 0\n",
       "\\item 1\n",
       "\\item 1\n",
       "\\item 0\n",
       "\\item 0\n",
       "\\item 1\n",
       "\\item 1\n",
       "\\item 0\n",
       "\\item 0\n",
       "\\item 1\n",
       "\\item 1\n",
       "\\item 0\n",
       "\\item 1\n",
       "\\item 1\n",
       "\\item 0\n",
       "\\item 1\n",
       "\\item 1\n",
       "\\item 0\n",
       "\\item 1\n",
       "\\item 1\n",
       "\\item 0\n",
       "\\item 0\n",
       "\\item 1\n",
       "\\item 1\n",
       "\\item 1\n",
       "\\item 1\n",
       "\\item 1\n",
       "\\item 0\n",
       "\\item 1\n",
       "\\item 1\n",
       "\\item 1\n",
       "\\item 1\n",
       "\\item 1\n",
       "\\item 1\n",
       "\\item 0\n",
       "\\item 1\n",
       "\\item 1\n",
       "\\item 1\n",
       "\\item 1\n",
       "\\item 0\n",
       "\\item 1\n",
       "\\item 1\n",
       "\\item 1\n",
       "\\item 0\n",
       "\\item 1\n",
       "\\item 1\n",
       "\\item 1\n",
       "\\item 0\n",
       "\\item 1\n",
       "\\item 1\n",
       "\\item 0\n",
       "\\item 1\n",
       "\\item 1\n",
       "\\item 0\n",
       "\\item 1\n",
       "\\item 1\n",
       "\\item 1\n",
       "\\item 1\n",
       "\\item 1\n",
       "\\item 1\n",
       "\\item 0\n",
       "\\item 1\n",
       "\\item 1\n",
       "\\item 0\n",
       "\\item 0\n",
       "\\item 1\n",
       "\\item 1\n",
       "\\item 0\n",
       "\\item 1\n",
       "\\item 0\n",
       "\\item 1\n",
       "\\item 0\n",
       "\\item 1\n",
       "\\item 0\n",
       "\\item 1\n",
       "\\item 1\n",
       "\\item 1\n",
       "\\item 1\n",
       "\\item 0\n",
       "\\item 1\n",
       "\\item 0\n",
       "\\item 0\n",
       "\\item 1\n",
       "\\item 1\n",
       "\\item 1\n",
       "\\item 1\n",
       "\\item 1\n",
       "\\item 0\n",
       "\\item 0\n",
       "\\item 1\n",
       "\\item 0\n",
       "\\item 1\n",
       "\\item 1\n",
       "\\item 1\n",
       "\\item 0\n",
       "\\item 1\n",
       "\\item 1\n",
       "\\item 1\n",
       "\\item 1\n",
       "\\item 0\n",
       "\\item 1\n",
       "\\item 1\n",
       "\\item 1\n",
       "\\item 1\n",
       "\\item 0\n",
       "\\item 1\n",
       "\\item 1\n",
       "\\item 1\n",
       "\\item 1\n",
       "\\item 1\n",
       "\\item 1\n",
       "\\item 1\n",
       "\\item 0\n",
       "\\item 1\n",
       "\\item 1\n",
       "\\item 1\n",
       "\\item 1\n",
       "\\item 0\n",
       "\\item 0\n",
       "\\item 1\n",
       "\\item 1\n",
       "\\item 0\n",
       "\\item 1\n",
       "\\item 1\n",
       "\\item 1\n",
       "\\item 1\n",
       "\\item 1\n",
       "\\item 1\n",
       "\\item 1\n",
       "\\item 1\n",
       "\\item 0\n",
       "\\item 1\n",
       "\\item 0\n",
       "\\item 0\n",
       "\\item 0\n",
       "\\item 1\n",
       "\\item 1\n",
       "\\item 1\n",
       "\\end{enumerate*}\n"
      ],
      "text/markdown": [
       "1. 0\n",
       "2. 1\n",
       "3. 0\n",
       "4. 0\n",
       "5. 1\n",
       "6. 1\n",
       "7. 1\n",
       "8. 1\n",
       "9. 1\n",
       "10. 1\n",
       "11. 1\n",
       "12. 1\n",
       "13. 0\n",
       "14. 1\n",
       "15. 1\n",
       "16. 0\n",
       "17. 0\n",
       "18. 1\n",
       "19. 1\n",
       "20. 0\n",
       "21. 0\n",
       "22. 1\n",
       "23. 1\n",
       "24. 0\n",
       "25. 1\n",
       "26. 1\n",
       "27. 0\n",
       "28. 1\n",
       "29. 1\n",
       "30. 0\n",
       "31. 1\n",
       "32. 1\n",
       "33. 0\n",
       "34. 0\n",
       "35. 1\n",
       "36. 1\n",
       "37. 1\n",
       "38. 1\n",
       "39. 1\n",
       "40. 0\n",
       "41. 1\n",
       "42. 1\n",
       "43. 1\n",
       "44. 1\n",
       "45. 1\n",
       "46. 1\n",
       "47. 0\n",
       "48. 1\n",
       "49. 1\n",
       "50. 1\n",
       "51. 1\n",
       "52. 0\n",
       "53. 1\n",
       "54. 1\n",
       "55. 1\n",
       "56. 0\n",
       "57. 1\n",
       "58. 1\n",
       "59. 1\n",
       "60. 0\n",
       "61. 1\n",
       "62. 1\n",
       "63. 0\n",
       "64. 1\n",
       "65. 1\n",
       "66. 0\n",
       "67. 1\n",
       "68. 1\n",
       "69. 1\n",
       "70. 1\n",
       "71. 1\n",
       "72. 1\n",
       "73. 0\n",
       "74. 1\n",
       "75. 1\n",
       "76. 0\n",
       "77. 0\n",
       "78. 1\n",
       "79. 1\n",
       "80. 0\n",
       "81. 1\n",
       "82. 0\n",
       "83. 1\n",
       "84. 0\n",
       "85. 1\n",
       "86. 0\n",
       "87. 1\n",
       "88. 1\n",
       "89. 1\n",
       "90. 1\n",
       "91. 0\n",
       "92. 1\n",
       "93. 0\n",
       "94. 0\n",
       "95. 1\n",
       "96. 1\n",
       "97. 1\n",
       "98. 1\n",
       "99. 1\n",
       "100. 0\n",
       "101. 0\n",
       "102. 1\n",
       "103. 0\n",
       "104. 1\n",
       "105. 1\n",
       "106. 1\n",
       "107. 0\n",
       "108. 1\n",
       "109. 1\n",
       "110. 1\n",
       "111. 1\n",
       "112. 0\n",
       "113. 1\n",
       "114. 1\n",
       "115. 1\n",
       "116. 1\n",
       "117. 0\n",
       "118. 1\n",
       "119. 1\n",
       "120. 1\n",
       "121. 1\n",
       "122. 1\n",
       "123. 1\n",
       "124. 1\n",
       "125. 0\n",
       "126. 1\n",
       "127. 1\n",
       "128. 1\n",
       "129. 1\n",
       "130. 0\n",
       "131. 0\n",
       "132. 1\n",
       "133. 1\n",
       "134. 0\n",
       "135. 1\n",
       "136. 1\n",
       "137. 1\n",
       "138. 1\n",
       "139. 1\n",
       "140. 1\n",
       "141. 1\n",
       "142. 1\n",
       "143. 0\n",
       "144. 1\n",
       "145. 0\n",
       "146. 0\n",
       "147. 0\n",
       "148. 1\n",
       "149. 1\n",
       "150. 1\n",
       "\n",
       "\n"
      ],
      "text/plain": [
       "  [1] 0 1 0 0 1 1 1 1 1 1 1 1 0 1 1 0 0 1 1 0 0 1 1 0 1 1 0 1 1 0 1 1 0 0 1 1 1\n",
       " [38] 1 1 0 1 1 1 1 1 1 0 1 1 1 1 0 1 1 1 0 1 1 1 0 1 1 0 1 1 0 1 1 1 1 1 1 0 1\n",
       " [75] 1 0 0 1 1 0 1 0 1 0 1 0 1 1 1 1 0 1 0 0 1 1 1 1 1 0 0 1 0 1 1 1 0 1 1 1 1\n",
       "[112] 0 1 1 1 1 0 1 1 1 1 1 1 1 0 1 1 1 1 0 0 1 1 0 1 1 1 1 1 1 1 1 0 1 0 0 0 1\n",
       "[149] 1 1"
      ]
     },
     "metadata": {},
     "output_type": "display_data"
    }
   ],
   "source": [
    "tt.sample1 <- sample(c(1, 0), nrow(iris), replace = T, prob = c(0.7, 0.3))\n",
    "tt.sample1\n"
   ]
  },
  {
   "cell_type": "code",
   "execution_count": 29,
   "metadata": {
    "vscode": {
     "languageId": "r"
    }
   },
   "outputs": [],
   "source": [
    "train <- iris[tt.sample, ]\n",
    "test <- iris[!tt.sample, ]\n"
   ]
  },
  {
   "cell_type": "code",
   "execution_count": 32,
   "metadata": {
    "vscode": {
     "languageId": "r"
    }
   },
   "outputs": [
    {
     "data": {
      "text/html": [
       "<table class=\"dataframe\">\n",
       "<caption>A data.frame: 106 × 6</caption>\n",
       "<thead>\n",
       "\t<tr><th></th><th scope=col>X</th><th scope=col>Sepal.Length</th><th scope=col>Sepal.Width</th><th scope=col>Petal.Length</th><th scope=col>Petal.Width</th><th scope=col>Species</th></tr>\n",
       "\t<tr><th></th><th scope=col>&lt;int&gt;</th><th scope=col>&lt;dbl&gt;</th><th scope=col>&lt;dbl&gt;</th><th scope=col>&lt;dbl&gt;</th><th scope=col>&lt;dbl&gt;</th><th scope=col>&lt;chr&gt;</th></tr>\n",
       "</thead>\n",
       "<tbody>\n",
       "\t<tr><th scope=row>1</th><td> 1</td><td>5.1</td><td>3.5</td><td>1.4</td><td>0.2</td><td>Iris-setosa</td></tr>\n",
       "\t<tr><th scope=row>3</th><td> 3</td><td>4.7</td><td>3.2</td><td>1.3</td><td>0.2</td><td>Iris-setosa</td></tr>\n",
       "\t<tr><th scope=row>6</th><td> 6</td><td>5.4</td><td>3.9</td><td>1.7</td><td>0.4</td><td>Iris-setosa</td></tr>\n",
       "\t<tr><th scope=row>7</th><td> 7</td><td>4.6</td><td>3.4</td><td>1.4</td><td>0.3</td><td>Iris-setosa</td></tr>\n",
       "\t<tr><th scope=row>9</th><td> 9</td><td>4.4</td><td>2.9</td><td>1.4</td><td>0.2</td><td>Iris-setosa</td></tr>\n",
       "\t<tr><th scope=row>10</th><td>10</td><td>4.9</td><td>3.1</td><td>1.5</td><td>0.1</td><td>Iris-setosa</td></tr>\n",
       "\t<tr><th scope=row>12</th><td>12</td><td>4.8</td><td>3.4</td><td>1.6</td><td>0.2</td><td>Iris-setosa</td></tr>\n",
       "\t<tr><th scope=row>13</th><td>13</td><td>4.8</td><td>3.0</td><td>1.4</td><td>0.1</td><td>Iris-setosa</td></tr>\n",
       "\t<tr><th scope=row>14</th><td>14</td><td>4.3</td><td>3.0</td><td>1.1</td><td>0.1</td><td>Iris-setosa</td></tr>\n",
       "\t<tr><th scope=row>15</th><td>15</td><td>5.8</td><td>4.0</td><td>1.2</td><td>0.2</td><td>Iris-setosa</td></tr>\n",
       "\t<tr><th scope=row>17</th><td>17</td><td>5.4</td><td>3.9</td><td>1.3</td><td>0.4</td><td>Iris-setosa</td></tr>\n",
       "\t<tr><th scope=row>18</th><td>18</td><td>5.1</td><td>3.5</td><td>1.4</td><td>0.3</td><td>Iris-setosa</td></tr>\n",
       "\t<tr><th scope=row>19</th><td>19</td><td>5.7</td><td>3.8</td><td>1.7</td><td>0.3</td><td>Iris-setosa</td></tr>\n",
       "\t<tr><th scope=row>22</th><td>22</td><td>5.1</td><td>3.7</td><td>1.5</td><td>0.4</td><td>Iris-setosa</td></tr>\n",
       "\t<tr><th scope=row>23</th><td>23</td><td>4.6</td><td>3.6</td><td>1.0</td><td>0.2</td><td>Iris-setosa</td></tr>\n",
       "\t<tr><th scope=row>25</th><td>25</td><td>4.8</td><td>3.4</td><td>1.9</td><td>0.2</td><td>Iris-setosa</td></tr>\n",
       "\t<tr><th scope=row>27</th><td>27</td><td>5.0</td><td>3.4</td><td>1.6</td><td>0.4</td><td>Iris-setosa</td></tr>\n",
       "\t<tr><th scope=row>28</th><td>28</td><td>5.2</td><td>3.5</td><td>1.5</td><td>0.2</td><td>Iris-setosa</td></tr>\n",
       "\t<tr><th scope=row>29</th><td>29</td><td>5.2</td><td>3.4</td><td>1.4</td><td>0.2</td><td>Iris-setosa</td></tr>\n",
       "\t<tr><th scope=row>30</th><td>30</td><td>4.7</td><td>3.2</td><td>1.6</td><td>0.2</td><td>Iris-setosa</td></tr>\n",
       "\t<tr><th scope=row>33</th><td>33</td><td>5.2</td><td>4.1</td><td>1.5</td><td>0.1</td><td>Iris-setosa</td></tr>\n",
       "\t<tr><th scope=row>35</th><td>35</td><td>4.9</td><td>3.1</td><td>1.5</td><td>0.1</td><td>Iris-setosa</td></tr>\n",
       "\t<tr><th scope=row>36</th><td>36</td><td>5.0</td><td>3.2</td><td>1.2</td><td>0.2</td><td>Iris-setosa</td></tr>\n",
       "\t<tr><th scope=row>38</th><td>38</td><td>4.9</td><td>3.1</td><td>1.5</td><td>0.1</td><td>Iris-setosa</td></tr>\n",
       "\t<tr><th scope=row>39</th><td>39</td><td>4.4</td><td>3.0</td><td>1.3</td><td>0.2</td><td>Iris-setosa</td></tr>\n",
       "\t<tr><th scope=row>40</th><td>40</td><td>5.1</td><td>3.4</td><td>1.5</td><td>0.2</td><td>Iris-setosa</td></tr>\n",
       "\t<tr><th scope=row>41</th><td>41</td><td>5.0</td><td>3.5</td><td>1.3</td><td>0.3</td><td>Iris-setosa</td></tr>\n",
       "\t<tr><th scope=row>42</th><td>42</td><td>4.5</td><td>2.3</td><td>1.3</td><td>0.3</td><td>Iris-setosa</td></tr>\n",
       "\t<tr><th scope=row>43</th><td>43</td><td>4.4</td><td>3.2</td><td>1.3</td><td>0.2</td><td>Iris-setosa</td></tr>\n",
       "\t<tr><th scope=row>44</th><td>44</td><td>5.0</td><td>3.5</td><td>1.6</td><td>0.6</td><td>Iris-setosa</td></tr>\n",
       "\t<tr><th scope=row>⋮</th><td>⋮</td><td>⋮</td><td>⋮</td><td>⋮</td><td>⋮</td><td>⋮</td></tr>\n",
       "\t<tr><th scope=row>109</th><td>109</td><td>6.7</td><td>2.5</td><td>5.8</td><td>1.8</td><td>Iris-virginica</td></tr>\n",
       "\t<tr><th scope=row>110</th><td>110</td><td>7.2</td><td>3.6</td><td>6.1</td><td>2.5</td><td>Iris-virginica</td></tr>\n",
       "\t<tr><th scope=row>112</th><td>112</td><td>6.4</td><td>2.7</td><td>5.3</td><td>1.9</td><td>Iris-virginica</td></tr>\n",
       "\t<tr><th scope=row>113</th><td>113</td><td>6.8</td><td>3.0</td><td>5.5</td><td>2.1</td><td>Iris-virginica</td></tr>\n",
       "\t<tr><th scope=row>116</th><td>116</td><td>6.4</td><td>3.2</td><td>5.3</td><td>2.3</td><td>Iris-virginica</td></tr>\n",
       "\t<tr><th scope=row>117</th><td>117</td><td>6.5</td><td>3.0</td><td>5.5</td><td>1.8</td><td>Iris-virginica</td></tr>\n",
       "\t<tr><th scope=row>119</th><td>119</td><td>7.7</td><td>2.6</td><td>6.9</td><td>2.3</td><td>Iris-virginica</td></tr>\n",
       "\t<tr><th scope=row>120</th><td>120</td><td>6.0</td><td>2.2</td><td>5.0</td><td>1.5</td><td>Iris-virginica</td></tr>\n",
       "\t<tr><th scope=row>121</th><td>121</td><td>6.9</td><td>3.2</td><td>5.7</td><td>2.3</td><td>Iris-virginica</td></tr>\n",
       "\t<tr><th scope=row>122</th><td>122</td><td>5.6</td><td>2.8</td><td>4.9</td><td>2.0</td><td>Iris-virginica</td></tr>\n",
       "\t<tr><th scope=row>123</th><td>123</td><td>7.7</td><td>2.8</td><td>6.7</td><td>2.0</td><td>Iris-virginica</td></tr>\n",
       "\t<tr><th scope=row>124</th><td>124</td><td>6.3</td><td>2.7</td><td>4.9</td><td>1.8</td><td>Iris-virginica</td></tr>\n",
       "\t<tr><th scope=row>125</th><td>125</td><td>6.7</td><td>3.3</td><td>5.7</td><td>2.1</td><td>Iris-virginica</td></tr>\n",
       "\t<tr><th scope=row>127</th><td>127</td><td>6.2</td><td>2.8</td><td>4.8</td><td>1.8</td><td>Iris-virginica</td></tr>\n",
       "\t<tr><th scope=row>128</th><td>128</td><td>6.1</td><td>3.0</td><td>4.9</td><td>1.8</td><td>Iris-virginica</td></tr>\n",
       "\t<tr><th scope=row>129</th><td>129</td><td>6.4</td><td>2.8</td><td>5.6</td><td>2.1</td><td>Iris-virginica</td></tr>\n",
       "\t<tr><th scope=row>130</th><td>130</td><td>7.2</td><td>3.0</td><td>5.8</td><td>1.6</td><td>Iris-virginica</td></tr>\n",
       "\t<tr><th scope=row>131</th><td>131</td><td>7.4</td><td>2.8</td><td>6.1</td><td>1.9</td><td>Iris-virginica</td></tr>\n",
       "\t<tr><th scope=row>133</th><td>133</td><td>6.4</td><td>2.8</td><td>5.6</td><td>2.2</td><td>Iris-virginica</td></tr>\n",
       "\t<tr><th scope=row>135</th><td>135</td><td>6.1</td><td>2.6</td><td>5.6</td><td>1.4</td><td>Iris-virginica</td></tr>\n",
       "\t<tr><th scope=row>136</th><td>136</td><td>7.7</td><td>3.0</td><td>6.1</td><td>2.3</td><td>Iris-virginica</td></tr>\n",
       "\t<tr><th scope=row>140</th><td>140</td><td>6.9</td><td>3.1</td><td>5.4</td><td>2.1</td><td>Iris-virginica</td></tr>\n",
       "\t<tr><th scope=row>141</th><td>141</td><td>6.7</td><td>3.1</td><td>5.6</td><td>2.4</td><td>Iris-virginica</td></tr>\n",
       "\t<tr><th scope=row>142</th><td>142</td><td>6.9</td><td>3.1</td><td>5.1</td><td>2.3</td><td>Iris-virginica</td></tr>\n",
       "\t<tr><th scope=row>143</th><td>143</td><td>5.8</td><td>2.7</td><td>5.1</td><td>1.9</td><td>Iris-virginica</td></tr>\n",
       "\t<tr><th scope=row>144</th><td>144</td><td>6.8</td><td>3.2</td><td>5.9</td><td>2.3</td><td>Iris-virginica</td></tr>\n",
       "\t<tr><th scope=row>146</th><td>146</td><td>6.7</td><td>3.0</td><td>5.2</td><td>2.3</td><td>Iris-virginica</td></tr>\n",
       "\t<tr><th scope=row>147</th><td>147</td><td>6.3</td><td>2.5</td><td>5.0</td><td>1.9</td><td>Iris-virginica</td></tr>\n",
       "\t<tr><th scope=row>148</th><td>148</td><td>6.5</td><td>3.0</td><td>5.2</td><td>2.0</td><td>Iris-virginica</td></tr>\n",
       "\t<tr><th scope=row>149</th><td>149</td><td>6.2</td><td>3.4</td><td>5.4</td><td>2.3</td><td>Iris-virginica</td></tr>\n",
       "</tbody>\n",
       "</table>\n"
      ],
      "text/latex": [
       "A data.frame: 106 × 6\n",
       "\\begin{tabular}{r|llllll}\n",
       "  & X & Sepal.Length & Sepal.Width & Petal.Length & Petal.Width & Species\\\\\n",
       "  & <int> & <dbl> & <dbl> & <dbl> & <dbl> & <chr>\\\\\n",
       "\\hline\n",
       "\t1 &  1 & 5.1 & 3.5 & 1.4 & 0.2 & Iris-setosa\\\\\n",
       "\t3 &  3 & 4.7 & 3.2 & 1.3 & 0.2 & Iris-setosa\\\\\n",
       "\t6 &  6 & 5.4 & 3.9 & 1.7 & 0.4 & Iris-setosa\\\\\n",
       "\t7 &  7 & 4.6 & 3.4 & 1.4 & 0.3 & Iris-setosa\\\\\n",
       "\t9 &  9 & 4.4 & 2.9 & 1.4 & 0.2 & Iris-setosa\\\\\n",
       "\t10 & 10 & 4.9 & 3.1 & 1.5 & 0.1 & Iris-setosa\\\\\n",
       "\t12 & 12 & 4.8 & 3.4 & 1.6 & 0.2 & Iris-setosa\\\\\n",
       "\t13 & 13 & 4.8 & 3.0 & 1.4 & 0.1 & Iris-setosa\\\\\n",
       "\t14 & 14 & 4.3 & 3.0 & 1.1 & 0.1 & Iris-setosa\\\\\n",
       "\t15 & 15 & 5.8 & 4.0 & 1.2 & 0.2 & Iris-setosa\\\\\n",
       "\t17 & 17 & 5.4 & 3.9 & 1.3 & 0.4 & Iris-setosa\\\\\n",
       "\t18 & 18 & 5.1 & 3.5 & 1.4 & 0.3 & Iris-setosa\\\\\n",
       "\t19 & 19 & 5.7 & 3.8 & 1.7 & 0.3 & Iris-setosa\\\\\n",
       "\t22 & 22 & 5.1 & 3.7 & 1.5 & 0.4 & Iris-setosa\\\\\n",
       "\t23 & 23 & 4.6 & 3.6 & 1.0 & 0.2 & Iris-setosa\\\\\n",
       "\t25 & 25 & 4.8 & 3.4 & 1.9 & 0.2 & Iris-setosa\\\\\n",
       "\t27 & 27 & 5.0 & 3.4 & 1.6 & 0.4 & Iris-setosa\\\\\n",
       "\t28 & 28 & 5.2 & 3.5 & 1.5 & 0.2 & Iris-setosa\\\\\n",
       "\t29 & 29 & 5.2 & 3.4 & 1.4 & 0.2 & Iris-setosa\\\\\n",
       "\t30 & 30 & 4.7 & 3.2 & 1.6 & 0.2 & Iris-setosa\\\\\n",
       "\t33 & 33 & 5.2 & 4.1 & 1.5 & 0.1 & Iris-setosa\\\\\n",
       "\t35 & 35 & 4.9 & 3.1 & 1.5 & 0.1 & Iris-setosa\\\\\n",
       "\t36 & 36 & 5.0 & 3.2 & 1.2 & 0.2 & Iris-setosa\\\\\n",
       "\t38 & 38 & 4.9 & 3.1 & 1.5 & 0.1 & Iris-setosa\\\\\n",
       "\t39 & 39 & 4.4 & 3.0 & 1.3 & 0.2 & Iris-setosa\\\\\n",
       "\t40 & 40 & 5.1 & 3.4 & 1.5 & 0.2 & Iris-setosa\\\\\n",
       "\t41 & 41 & 5.0 & 3.5 & 1.3 & 0.3 & Iris-setosa\\\\\n",
       "\t42 & 42 & 4.5 & 2.3 & 1.3 & 0.3 & Iris-setosa\\\\\n",
       "\t43 & 43 & 4.4 & 3.2 & 1.3 & 0.2 & Iris-setosa\\\\\n",
       "\t44 & 44 & 5.0 & 3.5 & 1.6 & 0.6 & Iris-setosa\\\\\n",
       "\t⋮ & ⋮ & ⋮ & ⋮ & ⋮ & ⋮ & ⋮\\\\\n",
       "\t109 & 109 & 6.7 & 2.5 & 5.8 & 1.8 & Iris-virginica\\\\\n",
       "\t110 & 110 & 7.2 & 3.6 & 6.1 & 2.5 & Iris-virginica\\\\\n",
       "\t112 & 112 & 6.4 & 2.7 & 5.3 & 1.9 & Iris-virginica\\\\\n",
       "\t113 & 113 & 6.8 & 3.0 & 5.5 & 2.1 & Iris-virginica\\\\\n",
       "\t116 & 116 & 6.4 & 3.2 & 5.3 & 2.3 & Iris-virginica\\\\\n",
       "\t117 & 117 & 6.5 & 3.0 & 5.5 & 1.8 & Iris-virginica\\\\\n",
       "\t119 & 119 & 7.7 & 2.6 & 6.9 & 2.3 & Iris-virginica\\\\\n",
       "\t120 & 120 & 6.0 & 2.2 & 5.0 & 1.5 & Iris-virginica\\\\\n",
       "\t121 & 121 & 6.9 & 3.2 & 5.7 & 2.3 & Iris-virginica\\\\\n",
       "\t122 & 122 & 5.6 & 2.8 & 4.9 & 2.0 & Iris-virginica\\\\\n",
       "\t123 & 123 & 7.7 & 2.8 & 6.7 & 2.0 & Iris-virginica\\\\\n",
       "\t124 & 124 & 6.3 & 2.7 & 4.9 & 1.8 & Iris-virginica\\\\\n",
       "\t125 & 125 & 6.7 & 3.3 & 5.7 & 2.1 & Iris-virginica\\\\\n",
       "\t127 & 127 & 6.2 & 2.8 & 4.8 & 1.8 & Iris-virginica\\\\\n",
       "\t128 & 128 & 6.1 & 3.0 & 4.9 & 1.8 & Iris-virginica\\\\\n",
       "\t129 & 129 & 6.4 & 2.8 & 5.6 & 2.1 & Iris-virginica\\\\\n",
       "\t130 & 130 & 7.2 & 3.0 & 5.8 & 1.6 & Iris-virginica\\\\\n",
       "\t131 & 131 & 7.4 & 2.8 & 6.1 & 1.9 & Iris-virginica\\\\\n",
       "\t133 & 133 & 6.4 & 2.8 & 5.6 & 2.2 & Iris-virginica\\\\\n",
       "\t135 & 135 & 6.1 & 2.6 & 5.6 & 1.4 & Iris-virginica\\\\\n",
       "\t136 & 136 & 7.7 & 3.0 & 6.1 & 2.3 & Iris-virginica\\\\\n",
       "\t140 & 140 & 6.9 & 3.1 & 5.4 & 2.1 & Iris-virginica\\\\\n",
       "\t141 & 141 & 6.7 & 3.1 & 5.6 & 2.4 & Iris-virginica\\\\\n",
       "\t142 & 142 & 6.9 & 3.1 & 5.1 & 2.3 & Iris-virginica\\\\\n",
       "\t143 & 143 & 5.8 & 2.7 & 5.1 & 1.9 & Iris-virginica\\\\\n",
       "\t144 & 144 & 6.8 & 3.2 & 5.9 & 2.3 & Iris-virginica\\\\\n",
       "\t146 & 146 & 6.7 & 3.0 & 5.2 & 2.3 & Iris-virginica\\\\\n",
       "\t147 & 147 & 6.3 & 2.5 & 5.0 & 1.9 & Iris-virginica\\\\\n",
       "\t148 & 148 & 6.5 & 3.0 & 5.2 & 2.0 & Iris-virginica\\\\\n",
       "\t149 & 149 & 6.2 & 3.4 & 5.4 & 2.3 & Iris-virginica\\\\\n",
       "\\end{tabular}\n"
      ],
      "text/markdown": [
       "\n",
       "A data.frame: 106 × 6\n",
       "\n",
       "| <!--/--> | X &lt;int&gt; | Sepal.Length &lt;dbl&gt; | Sepal.Width &lt;dbl&gt; | Petal.Length &lt;dbl&gt; | Petal.Width &lt;dbl&gt; | Species &lt;chr&gt; |\n",
       "|---|---|---|---|---|---|---|\n",
       "| 1 |  1 | 5.1 | 3.5 | 1.4 | 0.2 | Iris-setosa |\n",
       "| 3 |  3 | 4.7 | 3.2 | 1.3 | 0.2 | Iris-setosa |\n",
       "| 6 |  6 | 5.4 | 3.9 | 1.7 | 0.4 | Iris-setosa |\n",
       "| 7 |  7 | 4.6 | 3.4 | 1.4 | 0.3 | Iris-setosa |\n",
       "| 9 |  9 | 4.4 | 2.9 | 1.4 | 0.2 | Iris-setosa |\n",
       "| 10 | 10 | 4.9 | 3.1 | 1.5 | 0.1 | Iris-setosa |\n",
       "| 12 | 12 | 4.8 | 3.4 | 1.6 | 0.2 | Iris-setosa |\n",
       "| 13 | 13 | 4.8 | 3.0 | 1.4 | 0.1 | Iris-setosa |\n",
       "| 14 | 14 | 4.3 | 3.0 | 1.1 | 0.1 | Iris-setosa |\n",
       "| 15 | 15 | 5.8 | 4.0 | 1.2 | 0.2 | Iris-setosa |\n",
       "| 17 | 17 | 5.4 | 3.9 | 1.3 | 0.4 | Iris-setosa |\n",
       "| 18 | 18 | 5.1 | 3.5 | 1.4 | 0.3 | Iris-setosa |\n",
       "| 19 | 19 | 5.7 | 3.8 | 1.7 | 0.3 | Iris-setosa |\n",
       "| 22 | 22 | 5.1 | 3.7 | 1.5 | 0.4 | Iris-setosa |\n",
       "| 23 | 23 | 4.6 | 3.6 | 1.0 | 0.2 | Iris-setosa |\n",
       "| 25 | 25 | 4.8 | 3.4 | 1.9 | 0.2 | Iris-setosa |\n",
       "| 27 | 27 | 5.0 | 3.4 | 1.6 | 0.4 | Iris-setosa |\n",
       "| 28 | 28 | 5.2 | 3.5 | 1.5 | 0.2 | Iris-setosa |\n",
       "| 29 | 29 | 5.2 | 3.4 | 1.4 | 0.2 | Iris-setosa |\n",
       "| 30 | 30 | 4.7 | 3.2 | 1.6 | 0.2 | Iris-setosa |\n",
       "| 33 | 33 | 5.2 | 4.1 | 1.5 | 0.1 | Iris-setosa |\n",
       "| 35 | 35 | 4.9 | 3.1 | 1.5 | 0.1 | Iris-setosa |\n",
       "| 36 | 36 | 5.0 | 3.2 | 1.2 | 0.2 | Iris-setosa |\n",
       "| 38 | 38 | 4.9 | 3.1 | 1.5 | 0.1 | Iris-setosa |\n",
       "| 39 | 39 | 4.4 | 3.0 | 1.3 | 0.2 | Iris-setosa |\n",
       "| 40 | 40 | 5.1 | 3.4 | 1.5 | 0.2 | Iris-setosa |\n",
       "| 41 | 41 | 5.0 | 3.5 | 1.3 | 0.3 | Iris-setosa |\n",
       "| 42 | 42 | 4.5 | 2.3 | 1.3 | 0.3 | Iris-setosa |\n",
       "| 43 | 43 | 4.4 | 3.2 | 1.3 | 0.2 | Iris-setosa |\n",
       "| 44 | 44 | 5.0 | 3.5 | 1.6 | 0.6 | Iris-setosa |\n",
       "| ⋮ | ⋮ | ⋮ | ⋮ | ⋮ | ⋮ | ⋮ |\n",
       "| 109 | 109 | 6.7 | 2.5 | 5.8 | 1.8 | Iris-virginica |\n",
       "| 110 | 110 | 7.2 | 3.6 | 6.1 | 2.5 | Iris-virginica |\n",
       "| 112 | 112 | 6.4 | 2.7 | 5.3 | 1.9 | Iris-virginica |\n",
       "| 113 | 113 | 6.8 | 3.0 | 5.5 | 2.1 | Iris-virginica |\n",
       "| 116 | 116 | 6.4 | 3.2 | 5.3 | 2.3 | Iris-virginica |\n",
       "| 117 | 117 | 6.5 | 3.0 | 5.5 | 1.8 | Iris-virginica |\n",
       "| 119 | 119 | 7.7 | 2.6 | 6.9 | 2.3 | Iris-virginica |\n",
       "| 120 | 120 | 6.0 | 2.2 | 5.0 | 1.5 | Iris-virginica |\n",
       "| 121 | 121 | 6.9 | 3.2 | 5.7 | 2.3 | Iris-virginica |\n",
       "| 122 | 122 | 5.6 | 2.8 | 4.9 | 2.0 | Iris-virginica |\n",
       "| 123 | 123 | 7.7 | 2.8 | 6.7 | 2.0 | Iris-virginica |\n",
       "| 124 | 124 | 6.3 | 2.7 | 4.9 | 1.8 | Iris-virginica |\n",
       "| 125 | 125 | 6.7 | 3.3 | 5.7 | 2.1 | Iris-virginica |\n",
       "| 127 | 127 | 6.2 | 2.8 | 4.8 | 1.8 | Iris-virginica |\n",
       "| 128 | 128 | 6.1 | 3.0 | 4.9 | 1.8 | Iris-virginica |\n",
       "| 129 | 129 | 6.4 | 2.8 | 5.6 | 2.1 | Iris-virginica |\n",
       "| 130 | 130 | 7.2 | 3.0 | 5.8 | 1.6 | Iris-virginica |\n",
       "| 131 | 131 | 7.4 | 2.8 | 6.1 | 1.9 | Iris-virginica |\n",
       "| 133 | 133 | 6.4 | 2.8 | 5.6 | 2.2 | Iris-virginica |\n",
       "| 135 | 135 | 6.1 | 2.6 | 5.6 | 1.4 | Iris-virginica |\n",
       "| 136 | 136 | 7.7 | 3.0 | 6.1 | 2.3 | Iris-virginica |\n",
       "| 140 | 140 | 6.9 | 3.1 | 5.4 | 2.1 | Iris-virginica |\n",
       "| 141 | 141 | 6.7 | 3.1 | 5.6 | 2.4 | Iris-virginica |\n",
       "| 142 | 142 | 6.9 | 3.1 | 5.1 | 2.3 | Iris-virginica |\n",
       "| 143 | 143 | 5.8 | 2.7 | 5.1 | 1.9 | Iris-virginica |\n",
       "| 144 | 144 | 6.8 | 3.2 | 5.9 | 2.3 | Iris-virginica |\n",
       "| 146 | 146 | 6.7 | 3.0 | 5.2 | 2.3 | Iris-virginica |\n",
       "| 147 | 147 | 6.3 | 2.5 | 5.0 | 1.9 | Iris-virginica |\n",
       "| 148 | 148 | 6.5 | 3.0 | 5.2 | 2.0 | Iris-virginica |\n",
       "| 149 | 149 | 6.2 | 3.4 | 5.4 | 2.3 | Iris-virginica |\n",
       "\n"
      ],
      "text/plain": [
       "    X   Sepal.Length Sepal.Width Petal.Length Petal.Width Species       \n",
       "1    1  5.1          3.5         1.4          0.2         Iris-setosa   \n",
       "3    3  4.7          3.2         1.3          0.2         Iris-setosa   \n",
       "6    6  5.4          3.9         1.7          0.4         Iris-setosa   \n",
       "7    7  4.6          3.4         1.4          0.3         Iris-setosa   \n",
       "9    9  4.4          2.9         1.4          0.2         Iris-setosa   \n",
       "10  10  4.9          3.1         1.5          0.1         Iris-setosa   \n",
       "12  12  4.8          3.4         1.6          0.2         Iris-setosa   \n",
       "13  13  4.8          3.0         1.4          0.1         Iris-setosa   \n",
       "14  14  4.3          3.0         1.1          0.1         Iris-setosa   \n",
       "15  15  5.8          4.0         1.2          0.2         Iris-setosa   \n",
       "17  17  5.4          3.9         1.3          0.4         Iris-setosa   \n",
       "18  18  5.1          3.5         1.4          0.3         Iris-setosa   \n",
       "19  19  5.7          3.8         1.7          0.3         Iris-setosa   \n",
       "22  22  5.1          3.7         1.5          0.4         Iris-setosa   \n",
       "23  23  4.6          3.6         1.0          0.2         Iris-setosa   \n",
       "25  25  4.8          3.4         1.9          0.2         Iris-setosa   \n",
       "27  27  5.0          3.4         1.6          0.4         Iris-setosa   \n",
       "28  28  5.2          3.5         1.5          0.2         Iris-setosa   \n",
       "29  29  5.2          3.4         1.4          0.2         Iris-setosa   \n",
       "30  30  4.7          3.2         1.6          0.2         Iris-setosa   \n",
       "33  33  5.2          4.1         1.5          0.1         Iris-setosa   \n",
       "35  35  4.9          3.1         1.5          0.1         Iris-setosa   \n",
       "36  36  5.0          3.2         1.2          0.2         Iris-setosa   \n",
       "38  38  4.9          3.1         1.5          0.1         Iris-setosa   \n",
       "39  39  4.4          3.0         1.3          0.2         Iris-setosa   \n",
       "40  40  5.1          3.4         1.5          0.2         Iris-setosa   \n",
       "41  41  5.0          3.5         1.3          0.3         Iris-setosa   \n",
       "42  42  4.5          2.3         1.3          0.3         Iris-setosa   \n",
       "43  43  4.4          3.2         1.3          0.2         Iris-setosa   \n",
       "44  44  5.0          3.5         1.6          0.6         Iris-setosa   \n",
       "⋮   ⋮   ⋮            ⋮           ⋮            ⋮           ⋮             \n",
       "109 109 6.7          2.5         5.8          1.8         Iris-virginica\n",
       "110 110 7.2          3.6         6.1          2.5         Iris-virginica\n",
       "112 112 6.4          2.7         5.3          1.9         Iris-virginica\n",
       "113 113 6.8          3.0         5.5          2.1         Iris-virginica\n",
       "116 116 6.4          3.2         5.3          2.3         Iris-virginica\n",
       "117 117 6.5          3.0         5.5          1.8         Iris-virginica\n",
       "119 119 7.7          2.6         6.9          2.3         Iris-virginica\n",
       "120 120 6.0          2.2         5.0          1.5         Iris-virginica\n",
       "121 121 6.9          3.2         5.7          2.3         Iris-virginica\n",
       "122 122 5.6          2.8         4.9          2.0         Iris-virginica\n",
       "123 123 7.7          2.8         6.7          2.0         Iris-virginica\n",
       "124 124 6.3          2.7         4.9          1.8         Iris-virginica\n",
       "125 125 6.7          3.3         5.7          2.1         Iris-virginica\n",
       "127 127 6.2          2.8         4.8          1.8         Iris-virginica\n",
       "128 128 6.1          3.0         4.9          1.8         Iris-virginica\n",
       "129 129 6.4          2.8         5.6          2.1         Iris-virginica\n",
       "130 130 7.2          3.0         5.8          1.6         Iris-virginica\n",
       "131 131 7.4          2.8         6.1          1.9         Iris-virginica\n",
       "133 133 6.4          2.8         5.6          2.2         Iris-virginica\n",
       "135 135 6.1          2.6         5.6          1.4         Iris-virginica\n",
       "136 136 7.7          3.0         6.1          2.3         Iris-virginica\n",
       "140 140 6.9          3.1         5.4          2.1         Iris-virginica\n",
       "141 141 6.7          3.1         5.6          2.4         Iris-virginica\n",
       "142 142 6.9          3.1         5.1          2.3         Iris-virginica\n",
       "143 143 5.8          2.7         5.1          1.9         Iris-virginica\n",
       "144 144 6.8          3.2         5.9          2.3         Iris-virginica\n",
       "146 146 6.7          3.0         5.2          2.3         Iris-virginica\n",
       "147 147 6.3          2.5         5.0          1.9         Iris-virginica\n",
       "148 148 6.5          3.0         5.2          2.0         Iris-virginica\n",
       "149 149 6.2          3.4         5.4          2.3         Iris-virginica"
      ]
     },
     "metadata": {},
     "output_type": "display_data"
    }
   ],
   "source": [
    "train\n"
   ]
  },
  {
   "cell_type": "code",
   "execution_count": 33,
   "metadata": {
    "vscode": {
     "languageId": "r"
    }
   },
   "outputs": [
    {
     "data": {
      "text/html": [
       "<table class=\"dataframe\">\n",
       "<caption>A data.frame: 44 × 6</caption>\n",
       "<thead>\n",
       "\t<tr><th></th><th scope=col>X</th><th scope=col>Sepal.Length</th><th scope=col>Sepal.Width</th><th scope=col>Petal.Length</th><th scope=col>Petal.Width</th><th scope=col>Species</th></tr>\n",
       "\t<tr><th></th><th scope=col>&lt;int&gt;</th><th scope=col>&lt;dbl&gt;</th><th scope=col>&lt;dbl&gt;</th><th scope=col>&lt;dbl&gt;</th><th scope=col>&lt;dbl&gt;</th><th scope=col>&lt;chr&gt;</th></tr>\n",
       "</thead>\n",
       "<tbody>\n",
       "\t<tr><th scope=row>2</th><td>  2</td><td>4.9</td><td>3.0</td><td>1.4</td><td>0.2</td><td>Iris-setosa    </td></tr>\n",
       "\t<tr><th scope=row>4</th><td>  4</td><td>4.6</td><td>3.1</td><td>1.5</td><td>0.2</td><td>Iris-setosa    </td></tr>\n",
       "\t<tr><th scope=row>5</th><td>  5</td><td>5.0</td><td>3.6</td><td>1.4</td><td>0.2</td><td>Iris-setosa    </td></tr>\n",
       "\t<tr><th scope=row>8</th><td>  8</td><td>5.0</td><td>3.4</td><td>1.5</td><td>0.2</td><td>Iris-setosa    </td></tr>\n",
       "\t<tr><th scope=row>11</th><td> 11</td><td>5.4</td><td>3.7</td><td>1.5</td><td>0.2</td><td>Iris-setosa    </td></tr>\n",
       "\t<tr><th scope=row>16</th><td> 16</td><td>5.7</td><td>4.4</td><td>1.5</td><td>0.4</td><td>Iris-setosa    </td></tr>\n",
       "\t<tr><th scope=row>20</th><td> 20</td><td>5.1</td><td>3.8</td><td>1.5</td><td>0.3</td><td>Iris-setosa    </td></tr>\n",
       "\t<tr><th scope=row>21</th><td> 21</td><td>5.4</td><td>3.4</td><td>1.7</td><td>0.2</td><td>Iris-setosa    </td></tr>\n",
       "\t<tr><th scope=row>24</th><td> 24</td><td>5.1</td><td>3.3</td><td>1.7</td><td>0.5</td><td>Iris-setosa    </td></tr>\n",
       "\t<tr><th scope=row>26</th><td> 26</td><td>5.0</td><td>3.0</td><td>1.6</td><td>0.2</td><td>Iris-setosa    </td></tr>\n",
       "\t<tr><th scope=row>31</th><td> 31</td><td>4.8</td><td>3.1</td><td>1.6</td><td>0.2</td><td>Iris-setosa    </td></tr>\n",
       "\t<tr><th scope=row>32</th><td> 32</td><td>5.4</td><td>3.4</td><td>1.5</td><td>0.4</td><td>Iris-setosa    </td></tr>\n",
       "\t<tr><th scope=row>34</th><td> 34</td><td>5.5</td><td>4.2</td><td>1.4</td><td>0.2</td><td>Iris-setosa    </td></tr>\n",
       "\t<tr><th scope=row>37</th><td> 37</td><td>5.5</td><td>3.5</td><td>1.3</td><td>0.2</td><td>Iris-setosa    </td></tr>\n",
       "\t<tr><th scope=row>50</th><td> 50</td><td>5.0</td><td>3.3</td><td>1.4</td><td>0.2</td><td>Iris-setosa    </td></tr>\n",
       "\t<tr><th scope=row>53</th><td> 53</td><td>6.9</td><td>3.1</td><td>4.9</td><td>1.5</td><td>Iris-versicolor</td></tr>\n",
       "\t<tr><th scope=row>58</th><td> 58</td><td>4.9</td><td>2.4</td><td>3.3</td><td>1.0</td><td>Iris-versicolor</td></tr>\n",
       "\t<tr><th scope=row>59</th><td> 59</td><td>6.6</td><td>2.9</td><td>4.6</td><td>1.3</td><td>Iris-versicolor</td></tr>\n",
       "\t<tr><th scope=row>65</th><td> 65</td><td>5.6</td><td>2.9</td><td>3.6</td><td>1.3</td><td>Iris-versicolor</td></tr>\n",
       "\t<tr><th scope=row>67</th><td> 67</td><td>5.6</td><td>3.0</td><td>4.5</td><td>1.5</td><td>Iris-versicolor</td></tr>\n",
       "\t<tr><th scope=row>68</th><td> 68</td><td>5.8</td><td>2.7</td><td>4.1</td><td>1.0</td><td>Iris-versicolor</td></tr>\n",
       "\t<tr><th scope=row>69</th><td> 69</td><td>6.2</td><td>2.2</td><td>4.5</td><td>1.5</td><td>Iris-versicolor</td></tr>\n",
       "\t<tr><th scope=row>71</th><td> 71</td><td>5.9</td><td>3.2</td><td>4.8</td><td>1.8</td><td>Iris-versicolor</td></tr>\n",
       "\t<tr><th scope=row>73</th><td> 73</td><td>6.3</td><td>2.5</td><td>4.9</td><td>1.5</td><td>Iris-versicolor</td></tr>\n",
       "\t<tr><th scope=row>84</th><td> 84</td><td>6.0</td><td>2.7</td><td>5.1</td><td>1.6</td><td>Iris-versicolor</td></tr>\n",
       "\t<tr><th scope=row>87</th><td> 87</td><td>6.7</td><td>3.1</td><td>4.7</td><td>1.5</td><td>Iris-versicolor</td></tr>\n",
       "\t<tr><th scope=row>88</th><td> 88</td><td>6.3</td><td>2.3</td><td>4.4</td><td>1.3</td><td>Iris-versicolor</td></tr>\n",
       "\t<tr><th scope=row>89</th><td> 89</td><td>5.6</td><td>3.0</td><td>4.1</td><td>1.3</td><td>Iris-versicolor</td></tr>\n",
       "\t<tr><th scope=row>97</th><td> 97</td><td>5.7</td><td>2.9</td><td>4.2</td><td>1.3</td><td>Iris-versicolor</td></tr>\n",
       "\t<tr><th scope=row>104</th><td>104</td><td>6.3</td><td>2.9</td><td>5.6</td><td>1.8</td><td>Iris-virginica </td></tr>\n",
       "\t<tr><th scope=row>106</th><td>106</td><td>7.6</td><td>3.0</td><td>6.6</td><td>2.1</td><td>Iris-virginica </td></tr>\n",
       "\t<tr><th scope=row>107</th><td>107</td><td>4.9</td><td>2.5</td><td>4.5</td><td>1.7</td><td>Iris-virginica </td></tr>\n",
       "\t<tr><th scope=row>111</th><td>111</td><td>6.5</td><td>3.2</td><td>5.1</td><td>2.0</td><td>Iris-virginica </td></tr>\n",
       "\t<tr><th scope=row>114</th><td>114</td><td>5.7</td><td>2.5</td><td>5.0</td><td>2.0</td><td>Iris-virginica </td></tr>\n",
       "\t<tr><th scope=row>115</th><td>115</td><td>5.8</td><td>2.8</td><td>5.1</td><td>2.4</td><td>Iris-virginica </td></tr>\n",
       "\t<tr><th scope=row>118</th><td>118</td><td>7.7</td><td>3.8</td><td>6.7</td><td>2.2</td><td>Iris-virginica </td></tr>\n",
       "\t<tr><th scope=row>126</th><td>126</td><td>7.2</td><td>3.2</td><td>6.0</td><td>1.8</td><td>Iris-virginica </td></tr>\n",
       "\t<tr><th scope=row>132</th><td>132</td><td>7.9</td><td>3.8</td><td>6.4</td><td>2.0</td><td>Iris-virginica </td></tr>\n",
       "\t<tr><th scope=row>134</th><td>134</td><td>6.3</td><td>2.8</td><td>5.1</td><td>1.5</td><td>Iris-virginica </td></tr>\n",
       "\t<tr><th scope=row>137</th><td>137</td><td>6.3</td><td>3.4</td><td>5.6</td><td>2.4</td><td>Iris-virginica </td></tr>\n",
       "\t<tr><th scope=row>138</th><td>138</td><td>6.4</td><td>3.1</td><td>5.5</td><td>1.8</td><td>Iris-virginica </td></tr>\n",
       "\t<tr><th scope=row>139</th><td>139</td><td>6.0</td><td>3.0</td><td>4.8</td><td>1.8</td><td>Iris-virginica </td></tr>\n",
       "\t<tr><th scope=row>145</th><td>145</td><td>6.7</td><td>3.3</td><td>5.7</td><td>2.5</td><td>Iris-virginica </td></tr>\n",
       "\t<tr><th scope=row>150</th><td>150</td><td>5.9</td><td>3.0</td><td>5.1</td><td>1.8</td><td>Iris-virginica </td></tr>\n",
       "</tbody>\n",
       "</table>\n"
      ],
      "text/latex": [
       "A data.frame: 44 × 6\n",
       "\\begin{tabular}{r|llllll}\n",
       "  & X & Sepal.Length & Sepal.Width & Petal.Length & Petal.Width & Species\\\\\n",
       "  & <int> & <dbl> & <dbl> & <dbl> & <dbl> & <chr>\\\\\n",
       "\\hline\n",
       "\t2 &   2 & 4.9 & 3.0 & 1.4 & 0.2 & Iris-setosa    \\\\\n",
       "\t4 &   4 & 4.6 & 3.1 & 1.5 & 0.2 & Iris-setosa    \\\\\n",
       "\t5 &   5 & 5.0 & 3.6 & 1.4 & 0.2 & Iris-setosa    \\\\\n",
       "\t8 &   8 & 5.0 & 3.4 & 1.5 & 0.2 & Iris-setosa    \\\\\n",
       "\t11 &  11 & 5.4 & 3.7 & 1.5 & 0.2 & Iris-setosa    \\\\\n",
       "\t16 &  16 & 5.7 & 4.4 & 1.5 & 0.4 & Iris-setosa    \\\\\n",
       "\t20 &  20 & 5.1 & 3.8 & 1.5 & 0.3 & Iris-setosa    \\\\\n",
       "\t21 &  21 & 5.4 & 3.4 & 1.7 & 0.2 & Iris-setosa    \\\\\n",
       "\t24 &  24 & 5.1 & 3.3 & 1.7 & 0.5 & Iris-setosa    \\\\\n",
       "\t26 &  26 & 5.0 & 3.0 & 1.6 & 0.2 & Iris-setosa    \\\\\n",
       "\t31 &  31 & 4.8 & 3.1 & 1.6 & 0.2 & Iris-setosa    \\\\\n",
       "\t32 &  32 & 5.4 & 3.4 & 1.5 & 0.4 & Iris-setosa    \\\\\n",
       "\t34 &  34 & 5.5 & 4.2 & 1.4 & 0.2 & Iris-setosa    \\\\\n",
       "\t37 &  37 & 5.5 & 3.5 & 1.3 & 0.2 & Iris-setosa    \\\\\n",
       "\t50 &  50 & 5.0 & 3.3 & 1.4 & 0.2 & Iris-setosa    \\\\\n",
       "\t53 &  53 & 6.9 & 3.1 & 4.9 & 1.5 & Iris-versicolor\\\\\n",
       "\t58 &  58 & 4.9 & 2.4 & 3.3 & 1.0 & Iris-versicolor\\\\\n",
       "\t59 &  59 & 6.6 & 2.9 & 4.6 & 1.3 & Iris-versicolor\\\\\n",
       "\t65 &  65 & 5.6 & 2.9 & 3.6 & 1.3 & Iris-versicolor\\\\\n",
       "\t67 &  67 & 5.6 & 3.0 & 4.5 & 1.5 & Iris-versicolor\\\\\n",
       "\t68 &  68 & 5.8 & 2.7 & 4.1 & 1.0 & Iris-versicolor\\\\\n",
       "\t69 &  69 & 6.2 & 2.2 & 4.5 & 1.5 & Iris-versicolor\\\\\n",
       "\t71 &  71 & 5.9 & 3.2 & 4.8 & 1.8 & Iris-versicolor\\\\\n",
       "\t73 &  73 & 6.3 & 2.5 & 4.9 & 1.5 & Iris-versicolor\\\\\n",
       "\t84 &  84 & 6.0 & 2.7 & 5.1 & 1.6 & Iris-versicolor\\\\\n",
       "\t87 &  87 & 6.7 & 3.1 & 4.7 & 1.5 & Iris-versicolor\\\\\n",
       "\t88 &  88 & 6.3 & 2.3 & 4.4 & 1.3 & Iris-versicolor\\\\\n",
       "\t89 &  89 & 5.6 & 3.0 & 4.1 & 1.3 & Iris-versicolor\\\\\n",
       "\t97 &  97 & 5.7 & 2.9 & 4.2 & 1.3 & Iris-versicolor\\\\\n",
       "\t104 & 104 & 6.3 & 2.9 & 5.6 & 1.8 & Iris-virginica \\\\\n",
       "\t106 & 106 & 7.6 & 3.0 & 6.6 & 2.1 & Iris-virginica \\\\\n",
       "\t107 & 107 & 4.9 & 2.5 & 4.5 & 1.7 & Iris-virginica \\\\\n",
       "\t111 & 111 & 6.5 & 3.2 & 5.1 & 2.0 & Iris-virginica \\\\\n",
       "\t114 & 114 & 5.7 & 2.5 & 5.0 & 2.0 & Iris-virginica \\\\\n",
       "\t115 & 115 & 5.8 & 2.8 & 5.1 & 2.4 & Iris-virginica \\\\\n",
       "\t118 & 118 & 7.7 & 3.8 & 6.7 & 2.2 & Iris-virginica \\\\\n",
       "\t126 & 126 & 7.2 & 3.2 & 6.0 & 1.8 & Iris-virginica \\\\\n",
       "\t132 & 132 & 7.9 & 3.8 & 6.4 & 2.0 & Iris-virginica \\\\\n",
       "\t134 & 134 & 6.3 & 2.8 & 5.1 & 1.5 & Iris-virginica \\\\\n",
       "\t137 & 137 & 6.3 & 3.4 & 5.6 & 2.4 & Iris-virginica \\\\\n",
       "\t138 & 138 & 6.4 & 3.1 & 5.5 & 1.8 & Iris-virginica \\\\\n",
       "\t139 & 139 & 6.0 & 3.0 & 4.8 & 1.8 & Iris-virginica \\\\\n",
       "\t145 & 145 & 6.7 & 3.3 & 5.7 & 2.5 & Iris-virginica \\\\\n",
       "\t150 & 150 & 5.9 & 3.0 & 5.1 & 1.8 & Iris-virginica \\\\\n",
       "\\end{tabular}\n"
      ],
      "text/markdown": [
       "\n",
       "A data.frame: 44 × 6\n",
       "\n",
       "| <!--/--> | X &lt;int&gt; | Sepal.Length &lt;dbl&gt; | Sepal.Width &lt;dbl&gt; | Petal.Length &lt;dbl&gt; | Petal.Width &lt;dbl&gt; | Species &lt;chr&gt; |\n",
       "|---|---|---|---|---|---|---|\n",
       "| 2 |   2 | 4.9 | 3.0 | 1.4 | 0.2 | Iris-setosa     |\n",
       "| 4 |   4 | 4.6 | 3.1 | 1.5 | 0.2 | Iris-setosa     |\n",
       "| 5 |   5 | 5.0 | 3.6 | 1.4 | 0.2 | Iris-setosa     |\n",
       "| 8 |   8 | 5.0 | 3.4 | 1.5 | 0.2 | Iris-setosa     |\n",
       "| 11 |  11 | 5.4 | 3.7 | 1.5 | 0.2 | Iris-setosa     |\n",
       "| 16 |  16 | 5.7 | 4.4 | 1.5 | 0.4 | Iris-setosa     |\n",
       "| 20 |  20 | 5.1 | 3.8 | 1.5 | 0.3 | Iris-setosa     |\n",
       "| 21 |  21 | 5.4 | 3.4 | 1.7 | 0.2 | Iris-setosa     |\n",
       "| 24 |  24 | 5.1 | 3.3 | 1.7 | 0.5 | Iris-setosa     |\n",
       "| 26 |  26 | 5.0 | 3.0 | 1.6 | 0.2 | Iris-setosa     |\n",
       "| 31 |  31 | 4.8 | 3.1 | 1.6 | 0.2 | Iris-setosa     |\n",
       "| 32 |  32 | 5.4 | 3.4 | 1.5 | 0.4 | Iris-setosa     |\n",
       "| 34 |  34 | 5.5 | 4.2 | 1.4 | 0.2 | Iris-setosa     |\n",
       "| 37 |  37 | 5.5 | 3.5 | 1.3 | 0.2 | Iris-setosa     |\n",
       "| 50 |  50 | 5.0 | 3.3 | 1.4 | 0.2 | Iris-setosa     |\n",
       "| 53 |  53 | 6.9 | 3.1 | 4.9 | 1.5 | Iris-versicolor |\n",
       "| 58 |  58 | 4.9 | 2.4 | 3.3 | 1.0 | Iris-versicolor |\n",
       "| 59 |  59 | 6.6 | 2.9 | 4.6 | 1.3 | Iris-versicolor |\n",
       "| 65 |  65 | 5.6 | 2.9 | 3.6 | 1.3 | Iris-versicolor |\n",
       "| 67 |  67 | 5.6 | 3.0 | 4.5 | 1.5 | Iris-versicolor |\n",
       "| 68 |  68 | 5.8 | 2.7 | 4.1 | 1.0 | Iris-versicolor |\n",
       "| 69 |  69 | 6.2 | 2.2 | 4.5 | 1.5 | Iris-versicolor |\n",
       "| 71 |  71 | 5.9 | 3.2 | 4.8 | 1.8 | Iris-versicolor |\n",
       "| 73 |  73 | 6.3 | 2.5 | 4.9 | 1.5 | Iris-versicolor |\n",
       "| 84 |  84 | 6.0 | 2.7 | 5.1 | 1.6 | Iris-versicolor |\n",
       "| 87 |  87 | 6.7 | 3.1 | 4.7 | 1.5 | Iris-versicolor |\n",
       "| 88 |  88 | 6.3 | 2.3 | 4.4 | 1.3 | Iris-versicolor |\n",
       "| 89 |  89 | 5.6 | 3.0 | 4.1 | 1.3 | Iris-versicolor |\n",
       "| 97 |  97 | 5.7 | 2.9 | 4.2 | 1.3 | Iris-versicolor |\n",
       "| 104 | 104 | 6.3 | 2.9 | 5.6 | 1.8 | Iris-virginica  |\n",
       "| 106 | 106 | 7.6 | 3.0 | 6.6 | 2.1 | Iris-virginica  |\n",
       "| 107 | 107 | 4.9 | 2.5 | 4.5 | 1.7 | Iris-virginica  |\n",
       "| 111 | 111 | 6.5 | 3.2 | 5.1 | 2.0 | Iris-virginica  |\n",
       "| 114 | 114 | 5.7 | 2.5 | 5.0 | 2.0 | Iris-virginica  |\n",
       "| 115 | 115 | 5.8 | 2.8 | 5.1 | 2.4 | Iris-virginica  |\n",
       "| 118 | 118 | 7.7 | 3.8 | 6.7 | 2.2 | Iris-virginica  |\n",
       "| 126 | 126 | 7.2 | 3.2 | 6.0 | 1.8 | Iris-virginica  |\n",
       "| 132 | 132 | 7.9 | 3.8 | 6.4 | 2.0 | Iris-virginica  |\n",
       "| 134 | 134 | 6.3 | 2.8 | 5.1 | 1.5 | Iris-virginica  |\n",
       "| 137 | 137 | 6.3 | 3.4 | 5.6 | 2.4 | Iris-virginica  |\n",
       "| 138 | 138 | 6.4 | 3.1 | 5.5 | 1.8 | Iris-virginica  |\n",
       "| 139 | 139 | 6.0 | 3.0 | 4.8 | 1.8 | Iris-virginica  |\n",
       "| 145 | 145 | 6.7 | 3.3 | 5.7 | 2.5 | Iris-virginica  |\n",
       "| 150 | 150 | 5.9 | 3.0 | 5.1 | 1.8 | Iris-virginica  |\n",
       "\n"
      ],
      "text/plain": [
       "    X   Sepal.Length Sepal.Width Petal.Length Petal.Width Species        \n",
       "2     2 4.9          3.0         1.4          0.2         Iris-setosa    \n",
       "4     4 4.6          3.1         1.5          0.2         Iris-setosa    \n",
       "5     5 5.0          3.6         1.4          0.2         Iris-setosa    \n",
       "8     8 5.0          3.4         1.5          0.2         Iris-setosa    \n",
       "11   11 5.4          3.7         1.5          0.2         Iris-setosa    \n",
       "16   16 5.7          4.4         1.5          0.4         Iris-setosa    \n",
       "20   20 5.1          3.8         1.5          0.3         Iris-setosa    \n",
       "21   21 5.4          3.4         1.7          0.2         Iris-setosa    \n",
       "24   24 5.1          3.3         1.7          0.5         Iris-setosa    \n",
       "26   26 5.0          3.0         1.6          0.2         Iris-setosa    \n",
       "31   31 4.8          3.1         1.6          0.2         Iris-setosa    \n",
       "32   32 5.4          3.4         1.5          0.4         Iris-setosa    \n",
       "34   34 5.5          4.2         1.4          0.2         Iris-setosa    \n",
       "37   37 5.5          3.5         1.3          0.2         Iris-setosa    \n",
       "50   50 5.0          3.3         1.4          0.2         Iris-setosa    \n",
       "53   53 6.9          3.1         4.9          1.5         Iris-versicolor\n",
       "58   58 4.9          2.4         3.3          1.0         Iris-versicolor\n",
       "59   59 6.6          2.9         4.6          1.3         Iris-versicolor\n",
       "65   65 5.6          2.9         3.6          1.3         Iris-versicolor\n",
       "67   67 5.6          3.0         4.5          1.5         Iris-versicolor\n",
       "68   68 5.8          2.7         4.1          1.0         Iris-versicolor\n",
       "69   69 6.2          2.2         4.5          1.5         Iris-versicolor\n",
       "71   71 5.9          3.2         4.8          1.8         Iris-versicolor\n",
       "73   73 6.3          2.5         4.9          1.5         Iris-versicolor\n",
       "84   84 6.0          2.7         5.1          1.6         Iris-versicolor\n",
       "87   87 6.7          3.1         4.7          1.5         Iris-versicolor\n",
       "88   88 6.3          2.3         4.4          1.3         Iris-versicolor\n",
       "89   89 5.6          3.0         4.1          1.3         Iris-versicolor\n",
       "97   97 5.7          2.9         4.2          1.3         Iris-versicolor\n",
       "104 104 6.3          2.9         5.6          1.8         Iris-virginica \n",
       "106 106 7.6          3.0         6.6          2.1         Iris-virginica \n",
       "107 107 4.9          2.5         4.5          1.7         Iris-virginica \n",
       "111 111 6.5          3.2         5.1          2.0         Iris-virginica \n",
       "114 114 5.7          2.5         5.0          2.0         Iris-virginica \n",
       "115 115 5.8          2.8         5.1          2.4         Iris-virginica \n",
       "118 118 7.7          3.8         6.7          2.2         Iris-virginica \n",
       "126 126 7.2          3.2         6.0          1.8         Iris-virginica \n",
       "132 132 7.9          3.8         6.4          2.0         Iris-virginica \n",
       "134 134 6.3          2.8         5.1          1.5         Iris-virginica \n",
       "137 137 6.3          3.4         5.6          2.4         Iris-virginica \n",
       "138 138 6.4          3.1         5.5          1.8         Iris-virginica \n",
       "139 139 6.0          3.0         4.8          1.8         Iris-virginica \n",
       "145 145 6.7          3.3         5.7          2.5         Iris-virginica \n",
       "150 150 5.9          3.0         5.1          1.8         Iris-virginica "
      ]
     },
     "metadata": {},
     "output_type": "display_data"
    }
   ],
   "source": [
    "test\n"
   ]
  },
  {
   "cell_type": "code",
   "execution_count": 46,
   "metadata": {
    "vscode": {
     "languageId": "r"
    }
   },
   "outputs": [],
   "source": [
    "# create a function in R\n",
    "\n",
    "roll_a_die <- function() {\n",
    "    die <- 1:6\n",
    "    dice <- sample(die, size = 2, replace = TRUE)\n",
    "    print(dice)\n",
    "    sum(dice)\n",
    "}\n"
   ]
  },
  {
   "cell_type": "code",
   "execution_count": 47,
   "metadata": {
    "vscode": {
     "languageId": "r"
    }
   },
   "outputs": [
    {
     "name": "stdout",
     "output_type": "stream",
     "text": [
      "[1] 3 2\n"
     ]
    },
    {
     "data": {
      "text/html": [
       "5"
      ],
      "text/latex": [
       "5"
      ],
      "text/markdown": [
       "5"
      ],
      "text/plain": [
       "[1] 5"
      ]
     },
     "metadata": {},
     "output_type": "display_data"
    }
   ],
   "source": [
    "roll_a_die()\n"
   ]
  },
  {
   "cell_type": "code",
   "execution_count": 48,
   "metadata": {
    "vscode": {
     "languageId": "r"
    }
   },
   "outputs": [
    {
     "name": "stdout",
     "output_type": "stream",
     "text": [
      "[1] 3 1\n"
     ]
    },
    {
     "data": {
      "text/html": [
       "4"
      ],
      "text/latex": [
       "4"
      ],
      "text/markdown": [
       "4"
      ],
      "text/plain": [
       "[1] 4"
      ]
     },
     "metadata": {},
     "output_type": "display_data"
    }
   ],
   "source": [
    "roll_a_die()\n"
   ]
  },
  {
   "cell_type": "code",
   "execution_count": 49,
   "metadata": {
    "vscode": {
     "languageId": "r"
    }
   },
   "outputs": [
    {
     "name": "stdout",
     "output_type": "stream",
     "text": [
      "[1] 4 2\n"
     ]
    },
    {
     "data": {
      "text/html": [
       "6"
      ],
      "text/latex": [
       "6"
      ],
      "text/markdown": [
       "6"
      ],
      "text/plain": [
       "[1] 6"
      ]
     },
     "metadata": {},
     "output_type": "display_data"
    }
   ],
   "source": [
    "roll_a_die()\n"
   ]
  },
  {
   "cell_type": "code",
   "execution_count": 52,
   "metadata": {
    "vscode": {
     "languageId": "r"
    }
   },
   "outputs": [],
   "source": [
    "roll2 <- function(dice = 1:6) {\n",
    "    dice <- sample(dice, size = 2, replace = TRUE)\n",
    "    sum(dice)\n",
    "}\n"
   ]
  },
  {
   "cell_type": "code",
   "execution_count": 53,
   "metadata": {
    "vscode": {
     "languageId": "r"
    }
   },
   "outputs": [
    {
     "data": {
      "text/html": [
       "11"
      ],
      "text/latex": [
       "11"
      ],
      "text/markdown": [
       "11"
      ],
      "text/plain": [
       "[1] 11"
      ]
     },
     "metadata": {},
     "output_type": "display_data"
    }
   ],
   "source": [
    "roll2()\n"
   ]
  },
  {
   "cell_type": "code",
   "execution_count": 55,
   "metadata": {
    "vscode": {
     "languageId": "r"
    }
   },
   "outputs": [],
   "source": [
    "roll3 <- function(dice) {\n",
    "    dice <- sample(dice, size = 2, replace = TRUE)\n",
    "    sum(dice)\n",
    "}\n"
   ]
  },
  {
   "cell_type": "code",
   "execution_count": 56,
   "metadata": {
    "vscode": {
     "languageId": "r"
    }
   },
   "outputs": [
    {
     "data": {
      "text/html": [
       "9"
      ],
      "text/latex": [
       "9"
      ],
      "text/markdown": [
       "9"
      ],
      "text/plain": [
       "[1] 9"
      ]
     },
     "metadata": {},
     "output_type": "display_data"
    }
   ],
   "source": [
    "roll3(1:12)\n"
   ]
  },
  {
   "cell_type": "code",
   "execution_count": 59,
   "metadata": {
    "vscode": {
     "languageId": "r"
    }
   },
   "outputs": [],
   "source": [
    "best_practices <- c(\"Let\", \"the\", \"computer\", \"do\", \"the\", \"work\")\n"
   ]
  },
  {
   "cell_type": "code",
   "execution_count": 60,
   "metadata": {
    "vscode": {
     "languageId": "r"
    }
   },
   "outputs": [],
   "source": [
    "print_words <- function(sentence) {\n",
    "    print(sentence[1])\n",
    "    print(sentence[2])\n",
    "    print(sentence[3])\n",
    "    print(sentence[4])\n",
    "    print(sentence[5])\n",
    "    print(sentence[6])\n",
    "}\n"
   ]
  },
  {
   "cell_type": "code",
   "execution_count": 62,
   "metadata": {
    "vscode": {
     "languageId": "r"
    }
   },
   "outputs": [
    {
     "name": "stdout",
     "output_type": "stream",
     "text": [
      "[1] \"Let\"\n",
      "[1] \"the\"\n",
      "[1] \"computer\"\n",
      "[1] \"do\"\n",
      "[1] \"the\"\n",
      "[1] \"work\"\n"
     ]
    }
   ],
   "source": [
    "print_words(best_practices)\n"
   ]
  },
  {
   "cell_type": "code",
   "execution_count": 63,
   "metadata": {
    "vscode": {
     "languageId": "r"
    }
   },
   "outputs": [
    {
     "name": "stdout",
     "output_type": "stream",
     "text": [
      "[1] \"Let\"\n",
      "[1] \"the\"\n",
      "[1] \"computer\"\n",
      "[1] \"do\"\n",
      "[1] \"the\"\n",
      "[1] NA\n"
     ]
    }
   ],
   "source": [
    "print_words(best_practices[-6])\n"
   ]
  },
  {
   "cell_type": "code",
   "execution_count": 65,
   "metadata": {
    "vscode": {
     "languageId": "r"
    }
   },
   "outputs": [
    {
     "data": {
      "text/html": [
       "NA"
      ],
      "text/latex": [
       "NA"
      ],
      "text/markdown": [
       "NA"
      ],
      "text/plain": [
       "[1] NA"
      ]
     },
     "metadata": {},
     "output_type": "display_data"
    }
   ],
   "source": [
    "best_practices[8]\n"
   ]
  },
  {
   "cell_type": "code",
   "execution_count": 64,
   "metadata": {
    "vscode": {
     "languageId": "r"
    }
   },
   "outputs": [
    {
     "data": {
      "text/html": [
       "<style>\n",
       ".list-inline {list-style: none; margin:0; padding: 0}\n",
       ".list-inline>li {display: inline-block}\n",
       ".list-inline>li:not(:last-child)::after {content: \"\\00b7\"; padding: 0 .5ex}\n",
       "</style>\n",
       "<ol class=list-inline><li>'Let'</li><li>'the'</li><li>'computer'</li><li>'do'</li><li>'the'</li></ol>\n"
      ],
      "text/latex": [
       "\\begin{enumerate*}\n",
       "\\item 'Let'\n",
       "\\item 'the'\n",
       "\\item 'computer'\n",
       "\\item 'do'\n",
       "\\item 'the'\n",
       "\\end{enumerate*}\n"
      ],
      "text/markdown": [
       "1. 'Let'\n",
       "2. 'the'\n",
       "3. 'computer'\n",
       "4. 'do'\n",
       "5. 'the'\n",
       "\n",
       "\n"
      ],
      "text/plain": [
       "[1] \"Let\"      \"the\"      \"computer\" \"do\"       \"the\"     "
      ]
     },
     "metadata": {},
     "output_type": "display_data"
    }
   ],
   "source": [
    "best_practices[-6]\n"
   ]
  },
  {
   "cell_type": "code",
   "execution_count": 67,
   "metadata": {
    "vscode": {
     "languageId": "r"
    }
   },
   "outputs": [],
   "source": [
    "# loops in R\n",
    "\n",
    "print_words <- function(sentence) {\n",
    "    for (word in sentence) {\n",
    "        print(word)\n",
    "    }\n",
    "}\n"
   ]
  },
  {
   "cell_type": "code",
   "execution_count": 68,
   "metadata": {
    "vscode": {
     "languageId": "r"
    }
   },
   "outputs": [
    {
     "name": "stdout",
     "output_type": "stream",
     "text": [
      "[1] \"Let\"\n",
      "[1] \"the\"\n",
      "[1] \"computer\"\n",
      "[1] \"do\"\n",
      "[1] \"the\"\n",
      "[1] \"work\"\n"
     ]
    }
   ],
   "source": [
    "print_words(best_practices)\n"
   ]
  },
  {
   "cell_type": "code",
   "execution_count": 69,
   "metadata": {
    "vscode": {
     "languageId": "r"
    }
   },
   "outputs": [],
   "source": [
    "# apply functions in R\n",
    "# apply()\n",
    "# lapply()\n",
    "# sapply()\n",
    "\n",
    "# vapply()\n"
   ]
  },
  {
   "cell_type": "code",
   "execution_count": 73,
   "metadata": {
    "vscode": {
     "languageId": "r"
    }
   },
   "outputs": [],
   "source": [
    "# conditional if-else\n"
   ]
  },
  {
   "cell_type": "code",
   "execution_count": 74,
   "metadata": {
    "vscode": {
     "languageId": "r"
    }
   },
   "outputs": [
    {
     "ename": "ERROR",
     "evalue": "Error in parse(text = x, srcfile = src): <text>:4:1: unexpected 'else'\n3: }\n4: else\n   ^\n",
     "output_type": "error",
     "traceback": [
      "Error in parse(text = x, srcfile = src): <text>:4:1: unexpected 'else'\n3: }\n4: else\n   ^\nTraceback:\n"
     ]
    }
   ],
   "source": [
    "if (1 > 0) {\n",
    "    print(\"1\")\n",
    "}\n",
    "else {\n",
    "   print(0)\n",
    "}"
   ]
  },
  {
   "cell_type": "code",
   "execution_count": 77,
   "metadata": {
    "vscode": {
     "languageId": "r"
    }
   },
   "outputs": [
    {
     "ename": "ERROR",
     "evalue": "Error in if (y < 20) {: the condition has length > 1\n",
     "output_type": "error",
     "traceback": [
      "Error in if (y < 20) {: the condition has length > 1\nTraceback:\n"
     ]
    }
   ],
   "source": [
    "if (y < 20) {\n",
    "    x <- \"Too Low\"\n",
    "} else {\n",
    "    x <- \"Too High\"\n",
    "}\n"
   ]
  },
  {
   "cell_type": "code",
   "execution_count": 82,
   "metadata": {
    "vscode": {
     "languageId": "r"
    }
   },
   "outputs": [],
   "source": [
    "check.y <- function(y) {\n",
    "    if (y < 20) {\n",
    "        print(\"too low\")\n",
    "    } else {\n",
    "        print(\"two high\")\n",
    "    }\n",
    "}\n"
   ]
  },
  {
   "cell_type": "code",
   "execution_count": 83,
   "metadata": {
    "vscode": {
     "languageId": "r"
    }
   },
   "outputs": [
    {
     "name": "stdout",
     "output_type": "stream",
     "text": [
      "[1] \"too low\"\n"
     ]
    }
   ],
   "source": [
    "check.y(10)\n"
   ]
  },
  {
   "cell_type": "code",
   "execution_count": 84,
   "metadata": {
    "vscode": {
     "languageId": "r"
    }
   },
   "outputs": [],
   "source": [
    "y <- 1:40\n"
   ]
  },
  {
   "cell_type": "code",
   "execution_count": 85,
   "metadata": {
    "vscode": {
     "languageId": "r"
    }
   },
   "outputs": [
    {
     "data": {
      "text/html": [
       "<style>\n",
       ".list-inline {list-style: none; margin:0; padding: 0}\n",
       ".list-inline>li {display: inline-block}\n",
       ".list-inline>li:not(:last-child)::after {content: \"\\00b7\"; padding: 0 .5ex}\n",
       "</style>\n",
       "<ol class=list-inline><li>'Too Low'</li><li>'Too Low'</li><li>'Too Low'</li><li>'Too Low'</li><li>'Too Low'</li><li>'Too Low'</li><li>'Too Low'</li><li>'Too Low'</li><li>'Too Low'</li><li>'Too Low'</li><li>'Too Low'</li><li>'Too Low'</li><li>'Too Low'</li><li>'Too Low'</li><li>'Too Low'</li><li>'Too Low'</li><li>'Too Low'</li><li>'Too Low'</li><li>'Too Low'</li><li>'Too High'</li><li>'Too High'</li><li>'Too High'</li><li>'Too High'</li><li>'Too High'</li><li>'Too High'</li><li>'Too High'</li><li>'Too High'</li><li>'Too High'</li><li>'Too High'</li><li>'Too High'</li><li>'Too High'</li><li>'Too High'</li><li>'Too High'</li><li>'Too High'</li><li>'Too High'</li><li>'Too High'</li><li>'Too High'</li><li>'Too High'</li><li>'Too High'</li><li>'Too High'</li></ol>\n"
      ],
      "text/latex": [
       "\\begin{enumerate*}\n",
       "\\item 'Too Low'\n",
       "\\item 'Too Low'\n",
       "\\item 'Too Low'\n",
       "\\item 'Too Low'\n",
       "\\item 'Too Low'\n",
       "\\item 'Too Low'\n",
       "\\item 'Too Low'\n",
       "\\item 'Too Low'\n",
       "\\item 'Too Low'\n",
       "\\item 'Too Low'\n",
       "\\item 'Too Low'\n",
       "\\item 'Too Low'\n",
       "\\item 'Too Low'\n",
       "\\item 'Too Low'\n",
       "\\item 'Too Low'\n",
       "\\item 'Too Low'\n",
       "\\item 'Too Low'\n",
       "\\item 'Too Low'\n",
       "\\item 'Too Low'\n",
       "\\item 'Too High'\n",
       "\\item 'Too High'\n",
       "\\item 'Too High'\n",
       "\\item 'Too High'\n",
       "\\item 'Too High'\n",
       "\\item 'Too High'\n",
       "\\item 'Too High'\n",
       "\\item 'Too High'\n",
       "\\item 'Too High'\n",
       "\\item 'Too High'\n",
       "\\item 'Too High'\n",
       "\\item 'Too High'\n",
       "\\item 'Too High'\n",
       "\\item 'Too High'\n",
       "\\item 'Too High'\n",
       "\\item 'Too High'\n",
       "\\item 'Too High'\n",
       "\\item 'Too High'\n",
       "\\item 'Too High'\n",
       "\\item 'Too High'\n",
       "\\item 'Too High'\n",
       "\\end{enumerate*}\n"
      ],
      "text/markdown": [
       "1. 'Too Low'\n",
       "2. 'Too Low'\n",
       "3. 'Too Low'\n",
       "4. 'Too Low'\n",
       "5. 'Too Low'\n",
       "6. 'Too Low'\n",
       "7. 'Too Low'\n",
       "8. 'Too Low'\n",
       "9. 'Too Low'\n",
       "10. 'Too Low'\n",
       "11. 'Too Low'\n",
       "12. 'Too Low'\n",
       "13. 'Too Low'\n",
       "14. 'Too Low'\n",
       "15. 'Too Low'\n",
       "16. 'Too Low'\n",
       "17. 'Too Low'\n",
       "18. 'Too Low'\n",
       "19. 'Too Low'\n",
       "20. 'Too High'\n",
       "21. 'Too High'\n",
       "22. 'Too High'\n",
       "23. 'Too High'\n",
       "24. 'Too High'\n",
       "25. 'Too High'\n",
       "26. 'Too High'\n",
       "27. 'Too High'\n",
       "28. 'Too High'\n",
       "29. 'Too High'\n",
       "30. 'Too High'\n",
       "31. 'Too High'\n",
       "32. 'Too High'\n",
       "33. 'Too High'\n",
       "34. 'Too High'\n",
       "35. 'Too High'\n",
       "36. 'Too High'\n",
       "37. 'Too High'\n",
       "38. 'Too High'\n",
       "39. 'Too High'\n",
       "40. 'Too High'\n",
       "\n",
       "\n"
      ],
      "text/plain": [
       " [1] \"Too Low\"  \"Too Low\"  \"Too Low\"  \"Too Low\"  \"Too Low\"  \"Too Low\" \n",
       " [7] \"Too Low\"  \"Too Low\"  \"Too Low\"  \"Too Low\"  \"Too Low\"  \"Too Low\" \n",
       "[13] \"Too Low\"  \"Too Low\"  \"Too Low\"  \"Too Low\"  \"Too Low\"  \"Too Low\" \n",
       "[19] \"Too Low\"  \"Too High\" \"Too High\" \"Too High\" \"Too High\" \"Too High\"\n",
       "[25] \"Too High\" \"Too High\" \"Too High\" \"Too High\" \"Too High\" \"Too High\"\n",
       "[31] \"Too High\" \"Too High\" \"Too High\" \"Too High\" \"Too High\" \"Too High\"\n",
       "[37] \"Too High\" \"Too High\" \"Too High\" \"Too High\""
      ]
     },
     "metadata": {},
     "output_type": "display_data"
    }
   ],
   "source": [
    "ifelse(y < 20, \"Too Low\", \"Too High\")\n"
   ]
  },
  {
   "cell_type": "code",
   "execution_count": 86,
   "metadata": {
    "vscode": {
     "languageId": "r"
    }
   },
   "outputs": [
    {
     "data": {
      "text/html": [
       "<style>\n",
       ".list-inline {list-style: none; margin:0; padding: 0}\n",
       ".list-inline>li {display: inline-block}\n",
       ".list-inline>li:not(:last-child)::after {content: \"\\00b7\"; padding: 0 .5ex}\n",
       "</style>\n",
       "<ol class=list-inline><li>TRUE</li><li>TRUE</li><li>TRUE</li><li>TRUE</li><li>TRUE</li><li>TRUE</li><li>TRUE</li><li>TRUE</li><li>TRUE</li><li>TRUE</li><li>TRUE</li><li>TRUE</li><li>TRUE</li><li>TRUE</li><li>TRUE</li><li>TRUE</li><li>TRUE</li><li>TRUE</li><li>TRUE</li><li>FALSE</li><li>FALSE</li><li>FALSE</li><li>FALSE</li><li>FALSE</li><li>FALSE</li><li>FALSE</li><li>FALSE</li><li>FALSE</li><li>FALSE</li><li>FALSE</li><li>FALSE</li><li>FALSE</li><li>FALSE</li><li>FALSE</li><li>FALSE</li><li>FALSE</li><li>FALSE</li><li>FALSE</li><li>FALSE</li><li>FALSE</li></ol>\n"
      ],
      "text/latex": [
       "\\begin{enumerate*}\n",
       "\\item TRUE\n",
       "\\item TRUE\n",
       "\\item TRUE\n",
       "\\item TRUE\n",
       "\\item TRUE\n",
       "\\item TRUE\n",
       "\\item TRUE\n",
       "\\item TRUE\n",
       "\\item TRUE\n",
       "\\item TRUE\n",
       "\\item TRUE\n",
       "\\item TRUE\n",
       "\\item TRUE\n",
       "\\item TRUE\n",
       "\\item TRUE\n",
       "\\item TRUE\n",
       "\\item TRUE\n",
       "\\item TRUE\n",
       "\\item TRUE\n",
       "\\item FALSE\n",
       "\\item FALSE\n",
       "\\item FALSE\n",
       "\\item FALSE\n",
       "\\item FALSE\n",
       "\\item FALSE\n",
       "\\item FALSE\n",
       "\\item FALSE\n",
       "\\item FALSE\n",
       "\\item FALSE\n",
       "\\item FALSE\n",
       "\\item FALSE\n",
       "\\item FALSE\n",
       "\\item FALSE\n",
       "\\item FALSE\n",
       "\\item FALSE\n",
       "\\item FALSE\n",
       "\\item FALSE\n",
       "\\item FALSE\n",
       "\\item FALSE\n",
       "\\item FALSE\n",
       "\\end{enumerate*}\n"
      ],
      "text/markdown": [
       "1. TRUE\n",
       "2. TRUE\n",
       "3. TRUE\n",
       "4. TRUE\n",
       "5. TRUE\n",
       "6. TRUE\n",
       "7. TRUE\n",
       "8. TRUE\n",
       "9. TRUE\n",
       "10. TRUE\n",
       "11. TRUE\n",
       "12. TRUE\n",
       "13. TRUE\n",
       "14. TRUE\n",
       "15. TRUE\n",
       "16. TRUE\n",
       "17. TRUE\n",
       "18. TRUE\n",
       "19. TRUE\n",
       "20. FALSE\n",
       "21. FALSE\n",
       "22. FALSE\n",
       "23. FALSE\n",
       "24. FALSE\n",
       "25. FALSE\n",
       "26. FALSE\n",
       "27. FALSE\n",
       "28. FALSE\n",
       "29. FALSE\n",
       "30. FALSE\n",
       "31. FALSE\n",
       "32. FALSE\n",
       "33. FALSE\n",
       "34. FALSE\n",
       "35. FALSE\n",
       "36. FALSE\n",
       "37. FALSE\n",
       "38. FALSE\n",
       "39. FALSE\n",
       "40. FALSE\n",
       "\n",
       "\n"
      ],
      "text/plain": [
       " [1]  TRUE  TRUE  TRUE  TRUE  TRUE  TRUE  TRUE  TRUE  TRUE  TRUE  TRUE  TRUE\n",
       "[13]  TRUE  TRUE  TRUE  TRUE  TRUE  TRUE  TRUE FALSE FALSE FALSE FALSE FALSE\n",
       "[25] FALSE FALSE FALSE FALSE FALSE FALSE FALSE FALSE FALSE FALSE FALSE FALSE\n",
       "[37] FALSE FALSE FALSE FALSE"
      ]
     },
     "metadata": {},
     "output_type": "display_data"
    }
   ],
   "source": [
    "ifelse(y < 20, TRUE, FALSE)\n"
   ]
  },
  {
   "cell_type": "code",
   "execution_count": 87,
   "metadata": {
    "vscode": {
     "languageId": "r"
    }
   },
   "outputs": [
    {
     "data": {
      "text/html": [
       "<style>\n",
       ".list-inline {list-style: none; margin:0; padding: 0}\n",
       ".list-inline>li {display: inline-block}\n",
       ".list-inline>li:not(:last-child)::after {content: \"\\00b7\"; padding: 0 .5ex}\n",
       "</style>\n",
       "<ol class=list-inline><li>1</li><li>1</li><li>1</li><li>1</li><li>1</li><li>1</li><li>1</li><li>1</li><li>1</li><li>1</li><li>1</li><li>1</li><li>1</li><li>1</li><li>1</li><li>1</li><li>1</li><li>1</li><li>1</li><li>0</li><li>0</li><li>0</li><li>0</li><li>0</li><li>0</li><li>0</li><li>0</li><li>0</li><li>0</li><li>0</li><li>0</li><li>0</li><li>0</li><li>0</li><li>0</li><li>0</li><li>0</li><li>0</li><li>0</li><li>0</li></ol>\n"
      ],
      "text/latex": [
       "\\begin{enumerate*}\n",
       "\\item 1\n",
       "\\item 1\n",
       "\\item 1\n",
       "\\item 1\n",
       "\\item 1\n",
       "\\item 1\n",
       "\\item 1\n",
       "\\item 1\n",
       "\\item 1\n",
       "\\item 1\n",
       "\\item 1\n",
       "\\item 1\n",
       "\\item 1\n",
       "\\item 1\n",
       "\\item 1\n",
       "\\item 1\n",
       "\\item 1\n",
       "\\item 1\n",
       "\\item 1\n",
       "\\item 0\n",
       "\\item 0\n",
       "\\item 0\n",
       "\\item 0\n",
       "\\item 0\n",
       "\\item 0\n",
       "\\item 0\n",
       "\\item 0\n",
       "\\item 0\n",
       "\\item 0\n",
       "\\item 0\n",
       "\\item 0\n",
       "\\item 0\n",
       "\\item 0\n",
       "\\item 0\n",
       "\\item 0\n",
       "\\item 0\n",
       "\\item 0\n",
       "\\item 0\n",
       "\\item 0\n",
       "\\item 0\n",
       "\\end{enumerate*}\n"
      ],
      "text/markdown": [
       "1. 1\n",
       "2. 1\n",
       "3. 1\n",
       "4. 1\n",
       "5. 1\n",
       "6. 1\n",
       "7. 1\n",
       "8. 1\n",
       "9. 1\n",
       "10. 1\n",
       "11. 1\n",
       "12. 1\n",
       "13. 1\n",
       "14. 1\n",
       "15. 1\n",
       "16. 1\n",
       "17. 1\n",
       "18. 1\n",
       "19. 1\n",
       "20. 0\n",
       "21. 0\n",
       "22. 0\n",
       "23. 0\n",
       "24. 0\n",
       "25. 0\n",
       "26. 0\n",
       "27. 0\n",
       "28. 0\n",
       "29. 0\n",
       "30. 0\n",
       "31. 0\n",
       "32. 0\n",
       "33. 0\n",
       "34. 0\n",
       "35. 0\n",
       "36. 0\n",
       "37. 0\n",
       "38. 0\n",
       "39. 0\n",
       "40. 0\n",
       "\n",
       "\n"
      ],
      "text/plain": [
       " [1] 1 1 1 1 1 1 1 1 1 1 1 1 1 1 1 1 1 1 1 0 0 0 0 0 0 0 0 0 0 0 0 0 0 0 0 0 0 0\n",
       "[39] 0 0"
      ]
     },
     "metadata": {},
     "output_type": "display_data"
    }
   ],
   "source": [
    "ifelse(y < 20, 1, 0)\n"
   ]
  },
  {
   "cell_type": "code",
   "execution_count": 88,
   "metadata": {
    "vscode": {
     "languageId": "r"
    }
   },
   "outputs": [],
   "source": [
    "check.x <- function(x = 1:99) {\n",
    "    if (x < 20) {\n",
    "        print(\"Less than 20\")\n",
    "    } else if (x < 40) {\n",
    "        print(\"20-39\")\n",
    "    } else {\n",
    "        print(\"41-99\")\n",
    "    }\n",
    "}\n"
   ]
  },
  {
   "cell_type": "code",
   "execution_count": 93,
   "metadata": {
    "vscode": {
     "languageId": "r"
    }
   },
   "outputs": [],
   "source": [
    "check.x <- function(x = 1:99) {\n",
    "    if (x < 20) {\n",
    "        print(\"Less than 20\")\n",
    "    } else {\n",
    "        if (x < 40) {\n",
    "            print(\"20-39\")\n",
    "        }\n",
    "        if (x < 100) {\n",
    "            print(\"41-99\")\n",
    "        }\n",
    "    }\n",
    "}\n"
   ]
  },
  {
   "cell_type": "code",
   "execution_count": 94,
   "metadata": {
    "vscode": {
     "languageId": "r"
    }
   },
   "outputs": [
    {
     "name": "stdout",
     "output_type": "stream",
     "text": [
      "[1] \"Less than 20\"\n"
     ]
    }
   ],
   "source": [
    "check.x(1)\n"
   ]
  },
  {
   "cell_type": "code",
   "execution_count": 95,
   "metadata": {
    "vscode": {
     "languageId": "r"
    }
   },
   "outputs": [
    {
     "name": "stdout",
     "output_type": "stream",
     "text": [
      "[1] \"20-39\"\n",
      "[1] \"41-99\"\n"
     ]
    }
   ],
   "source": [
    "check.x(24)\n"
   ]
  },
  {
   "cell_type": "code",
   "execution_count": 96,
   "metadata": {
    "vscode": {
     "languageId": "r"
    }
   },
   "outputs": [
    {
     "name": "stdout",
     "output_type": "stream",
     "text": [
      "[1] \"41-99\"\n"
     ]
    }
   ],
   "source": [
    "check.x(56)\n"
   ]
  },
  {
   "cell_type": "code",
   "execution_count": 92,
   "metadata": {
    "vscode": {
     "languageId": "r"
    }
   },
   "outputs": [],
   "source": [
    "x <- 1:199\n"
   ]
  },
  {
   "cell_type": "code",
   "execution_count": 97,
   "metadata": {
    "vscode": {
     "languageId": "r"
    }
   },
   "outputs": [],
   "source": [
    "x3 <- ifelse(x < 20, 1, ifelse(x < 40, 2, 3))\n"
   ]
  },
  {
   "cell_type": "code",
   "execution_count": 100,
   "metadata": {
    "vscode": {
     "languageId": "r"
    }
   },
   "outputs": [
    {
     "data": {
      "text/plain": [
       "x3\n",
       "  1   2   3 \n",
       " 19  20 160 "
      ]
     },
     "metadata": {},
     "output_type": "display_data"
    }
   ],
   "source": [
    "table(x3)\n",
    "# in R table gives us frequencey distribution\n"
   ]
  },
  {
   "cell_type": "code",
   "execution_count": 101,
   "metadata": {
    "vscode": {
     "languageId": "r"
    }
   },
   "outputs": [],
   "source": [
    "x <- rnorm(1:100)\n"
   ]
  },
  {
   "cell_type": "code",
   "execution_count": 102,
   "metadata": {
    "vscode": {
     "languageId": "r"
    }
   },
   "outputs": [],
   "source": [
    "x4 <- ifelse(x < 20, 1, ifelse(x < 40, 2, 3))\n"
   ]
  },
  {
   "cell_type": "code",
   "execution_count": 103,
   "metadata": {
    "vscode": {
     "languageId": "r"
    }
   },
   "outputs": [],
   "source": [
    "set.seed(123)\n"
   ]
  },
  {
   "cell_type": "code",
   "execution_count": 104,
   "metadata": {
    "vscode": {
     "languageId": "r"
    }
   },
   "outputs": [],
   "source": [
    "x <- rnorm(1:100)\n"
   ]
  },
  {
   "cell_type": "code",
   "execution_count": 106,
   "metadata": {
    "vscode": {
     "languageId": "r"
    }
   },
   "outputs": [],
   "source": [
    "iris <- within(iris, {\n",
    "    Petal.cat <- NA\n",
    "    Petal.cat[Petal.Length < 1.6] <- \"Small\"\n",
    "    Petal.cat[Petal.Length >= 1.6 & Petal.Length < 5.1] <- \"Medium\"\n",
    "    Petal.cat[Petal.Length >= 5.1] <- \"Large\"\n",
    "})\n"
   ]
  },
  {
   "cell_type": "code",
   "execution_count": 107,
   "metadata": {
    "vscode": {
     "languageId": "r"
    }
   },
   "outputs": [
    {
     "data": {
      "text/html": [
       "<style>\n",
       ".list-inline {list-style: none; margin:0; padding: 0}\n",
       ".list-inline>li {display: inline-block}\n",
       ".list-inline>li:not(:last-child)::after {content: \"\\00b7\"; padding: 0 .5ex}\n",
       "</style>\n",
       "<ol class=list-inline><li>'Small'</li><li>'Small'</li><li>'Small'</li><li>'Small'</li><li>'Small'</li><li>'Medium'</li><li>'Small'</li><li>'Small'</li><li>'Small'</li><li>'Small'</li><li>'Small'</li><li>'Medium'</li><li>'Small'</li><li>'Small'</li><li>'Small'</li><li>'Small'</li><li>'Small'</li><li>'Small'</li><li>'Medium'</li><li>'Small'</li><li>'Medium'</li><li>'Small'</li><li>'Small'</li><li>'Medium'</li><li>'Medium'</li><li>'Medium'</li><li>'Medium'</li><li>'Small'</li><li>'Small'</li><li>'Medium'</li><li>'Medium'</li><li>'Small'</li><li>'Small'</li><li>'Small'</li><li>'Small'</li><li>'Small'</li><li>'Small'</li><li>'Small'</li><li>'Small'</li><li>'Small'</li><li>'Small'</li><li>'Small'</li><li>'Small'</li><li>'Medium'</li><li>'Medium'</li><li>'Small'</li><li>'Medium'</li><li>'Small'</li><li>'Small'</li><li>'Small'</li><li>'Medium'</li><li>'Medium'</li><li>'Medium'</li><li>'Medium'</li><li>'Medium'</li><li>'Medium'</li><li>'Medium'</li><li>'Medium'</li><li>'Medium'</li><li>'Medium'</li><li>'Medium'</li><li>'Medium'</li><li>'Medium'</li><li>'Medium'</li><li>'Medium'</li><li>'Medium'</li><li>'Medium'</li><li>'Medium'</li><li>'Medium'</li><li>'Medium'</li><li>'Medium'</li><li>'Medium'</li><li>'Medium'</li><li>'Medium'</li><li>'Medium'</li><li>'Medium'</li><li>'Medium'</li><li>'Medium'</li><li>'Medium'</li><li>'Medium'</li><li>'Medium'</li><li>'Medium'</li><li>'Medium'</li><li>'Large'</li><li>'Medium'</li><li>'Medium'</li><li>'Medium'</li><li>'Medium'</li><li>'Medium'</li><li>'Medium'</li><li>'Medium'</li><li>'Medium'</li><li>'Medium'</li><li>'Medium'</li><li>'Medium'</li><li>'Medium'</li><li>'Medium'</li><li>'Medium'</li><li>'Medium'</li><li>'Medium'</li><li>'Large'</li><li>'Large'</li><li>'Large'</li><li>'Large'</li><li>'Large'</li><li>'Large'</li><li>'Medium'</li><li>'Large'</li><li>'Large'</li><li>'Large'</li><li>'Large'</li><li>'Large'</li><li>'Large'</li><li>'Medium'</li><li>'Large'</li><li>'Large'</li><li>'Large'</li><li>'Large'</li><li>'Large'</li><li>'Medium'</li><li>'Large'</li><li>'Medium'</li><li>'Large'</li><li>'Medium'</li><li>'Large'</li><li>'Large'</li><li>'Medium'</li><li>'Medium'</li><li>'Large'</li><li>'Large'</li><li>'Large'</li><li>'Large'</li><li>'Large'</li><li>'Large'</li><li>'Large'</li><li>'Large'</li><li>'Large'</li><li>'Large'</li><li>'Medium'</li><li>'Large'</li><li>'Large'</li><li>'Large'</li><li>'Large'</li><li>'Large'</li><li>'Large'</li><li>'Large'</li><li>'Medium'</li><li>'Large'</li><li>'Large'</li><li>'Large'</li></ol>\n"
      ],
      "text/latex": [
       "\\begin{enumerate*}\n",
       "\\item 'Small'\n",
       "\\item 'Small'\n",
       "\\item 'Small'\n",
       "\\item 'Small'\n",
       "\\item 'Small'\n",
       "\\item 'Medium'\n",
       "\\item 'Small'\n",
       "\\item 'Small'\n",
       "\\item 'Small'\n",
       "\\item 'Small'\n",
       "\\item 'Small'\n",
       "\\item 'Medium'\n",
       "\\item 'Small'\n",
       "\\item 'Small'\n",
       "\\item 'Small'\n",
       "\\item 'Small'\n",
       "\\item 'Small'\n",
       "\\item 'Small'\n",
       "\\item 'Medium'\n",
       "\\item 'Small'\n",
       "\\item 'Medium'\n",
       "\\item 'Small'\n",
       "\\item 'Small'\n",
       "\\item 'Medium'\n",
       "\\item 'Medium'\n",
       "\\item 'Medium'\n",
       "\\item 'Medium'\n",
       "\\item 'Small'\n",
       "\\item 'Small'\n",
       "\\item 'Medium'\n",
       "\\item 'Medium'\n",
       "\\item 'Small'\n",
       "\\item 'Small'\n",
       "\\item 'Small'\n",
       "\\item 'Small'\n",
       "\\item 'Small'\n",
       "\\item 'Small'\n",
       "\\item 'Small'\n",
       "\\item 'Small'\n",
       "\\item 'Small'\n",
       "\\item 'Small'\n",
       "\\item 'Small'\n",
       "\\item 'Small'\n",
       "\\item 'Medium'\n",
       "\\item 'Medium'\n",
       "\\item 'Small'\n",
       "\\item 'Medium'\n",
       "\\item 'Small'\n",
       "\\item 'Small'\n",
       "\\item 'Small'\n",
       "\\item 'Medium'\n",
       "\\item 'Medium'\n",
       "\\item 'Medium'\n",
       "\\item 'Medium'\n",
       "\\item 'Medium'\n",
       "\\item 'Medium'\n",
       "\\item 'Medium'\n",
       "\\item 'Medium'\n",
       "\\item 'Medium'\n",
       "\\item 'Medium'\n",
       "\\item 'Medium'\n",
       "\\item 'Medium'\n",
       "\\item 'Medium'\n",
       "\\item 'Medium'\n",
       "\\item 'Medium'\n",
       "\\item 'Medium'\n",
       "\\item 'Medium'\n",
       "\\item 'Medium'\n",
       "\\item 'Medium'\n",
       "\\item 'Medium'\n",
       "\\item 'Medium'\n",
       "\\item 'Medium'\n",
       "\\item 'Medium'\n",
       "\\item 'Medium'\n",
       "\\item 'Medium'\n",
       "\\item 'Medium'\n",
       "\\item 'Medium'\n",
       "\\item 'Medium'\n",
       "\\item 'Medium'\n",
       "\\item 'Medium'\n",
       "\\item 'Medium'\n",
       "\\item 'Medium'\n",
       "\\item 'Medium'\n",
       "\\item 'Large'\n",
       "\\item 'Medium'\n",
       "\\item 'Medium'\n",
       "\\item 'Medium'\n",
       "\\item 'Medium'\n",
       "\\item 'Medium'\n",
       "\\item 'Medium'\n",
       "\\item 'Medium'\n",
       "\\item 'Medium'\n",
       "\\item 'Medium'\n",
       "\\item 'Medium'\n",
       "\\item 'Medium'\n",
       "\\item 'Medium'\n",
       "\\item 'Medium'\n",
       "\\item 'Medium'\n",
       "\\item 'Medium'\n",
       "\\item 'Medium'\n",
       "\\item 'Large'\n",
       "\\item 'Large'\n",
       "\\item 'Large'\n",
       "\\item 'Large'\n",
       "\\item 'Large'\n",
       "\\item 'Large'\n",
       "\\item 'Medium'\n",
       "\\item 'Large'\n",
       "\\item 'Large'\n",
       "\\item 'Large'\n",
       "\\item 'Large'\n",
       "\\item 'Large'\n",
       "\\item 'Large'\n",
       "\\item 'Medium'\n",
       "\\item 'Large'\n",
       "\\item 'Large'\n",
       "\\item 'Large'\n",
       "\\item 'Large'\n",
       "\\item 'Large'\n",
       "\\item 'Medium'\n",
       "\\item 'Large'\n",
       "\\item 'Medium'\n",
       "\\item 'Large'\n",
       "\\item 'Medium'\n",
       "\\item 'Large'\n",
       "\\item 'Large'\n",
       "\\item 'Medium'\n",
       "\\item 'Medium'\n",
       "\\item 'Large'\n",
       "\\item 'Large'\n",
       "\\item 'Large'\n",
       "\\item 'Large'\n",
       "\\item 'Large'\n",
       "\\item 'Large'\n",
       "\\item 'Large'\n",
       "\\item 'Large'\n",
       "\\item 'Large'\n",
       "\\item 'Large'\n",
       "\\item 'Medium'\n",
       "\\item 'Large'\n",
       "\\item 'Large'\n",
       "\\item 'Large'\n",
       "\\item 'Large'\n",
       "\\item 'Large'\n",
       "\\item 'Large'\n",
       "\\item 'Large'\n",
       "\\item 'Medium'\n",
       "\\item 'Large'\n",
       "\\item 'Large'\n",
       "\\item 'Large'\n",
       "\\end{enumerate*}\n"
      ],
      "text/markdown": [
       "1. 'Small'\n",
       "2. 'Small'\n",
       "3. 'Small'\n",
       "4. 'Small'\n",
       "5. 'Small'\n",
       "6. 'Medium'\n",
       "7. 'Small'\n",
       "8. 'Small'\n",
       "9. 'Small'\n",
       "10. 'Small'\n",
       "11. 'Small'\n",
       "12. 'Medium'\n",
       "13. 'Small'\n",
       "14. 'Small'\n",
       "15. 'Small'\n",
       "16. 'Small'\n",
       "17. 'Small'\n",
       "18. 'Small'\n",
       "19. 'Medium'\n",
       "20. 'Small'\n",
       "21. 'Medium'\n",
       "22. 'Small'\n",
       "23. 'Small'\n",
       "24. 'Medium'\n",
       "25. 'Medium'\n",
       "26. 'Medium'\n",
       "27. 'Medium'\n",
       "28. 'Small'\n",
       "29. 'Small'\n",
       "30. 'Medium'\n",
       "31. 'Medium'\n",
       "32. 'Small'\n",
       "33. 'Small'\n",
       "34. 'Small'\n",
       "35. 'Small'\n",
       "36. 'Small'\n",
       "37. 'Small'\n",
       "38. 'Small'\n",
       "39. 'Small'\n",
       "40. 'Small'\n",
       "41. 'Small'\n",
       "42. 'Small'\n",
       "43. 'Small'\n",
       "44. 'Medium'\n",
       "45. 'Medium'\n",
       "46. 'Small'\n",
       "47. 'Medium'\n",
       "48. 'Small'\n",
       "49. 'Small'\n",
       "50. 'Small'\n",
       "51. 'Medium'\n",
       "52. 'Medium'\n",
       "53. 'Medium'\n",
       "54. 'Medium'\n",
       "55. 'Medium'\n",
       "56. 'Medium'\n",
       "57. 'Medium'\n",
       "58. 'Medium'\n",
       "59. 'Medium'\n",
       "60. 'Medium'\n",
       "61. 'Medium'\n",
       "62. 'Medium'\n",
       "63. 'Medium'\n",
       "64. 'Medium'\n",
       "65. 'Medium'\n",
       "66. 'Medium'\n",
       "67. 'Medium'\n",
       "68. 'Medium'\n",
       "69. 'Medium'\n",
       "70. 'Medium'\n",
       "71. 'Medium'\n",
       "72. 'Medium'\n",
       "73. 'Medium'\n",
       "74. 'Medium'\n",
       "75. 'Medium'\n",
       "76. 'Medium'\n",
       "77. 'Medium'\n",
       "78. 'Medium'\n",
       "79. 'Medium'\n",
       "80. 'Medium'\n",
       "81. 'Medium'\n",
       "82. 'Medium'\n",
       "83. 'Medium'\n",
       "84. 'Large'\n",
       "85. 'Medium'\n",
       "86. 'Medium'\n",
       "87. 'Medium'\n",
       "88. 'Medium'\n",
       "89. 'Medium'\n",
       "90. 'Medium'\n",
       "91. 'Medium'\n",
       "92. 'Medium'\n",
       "93. 'Medium'\n",
       "94. 'Medium'\n",
       "95. 'Medium'\n",
       "96. 'Medium'\n",
       "97. 'Medium'\n",
       "98. 'Medium'\n",
       "99. 'Medium'\n",
       "100. 'Medium'\n",
       "101. 'Large'\n",
       "102. 'Large'\n",
       "103. 'Large'\n",
       "104. 'Large'\n",
       "105. 'Large'\n",
       "106. 'Large'\n",
       "107. 'Medium'\n",
       "108. 'Large'\n",
       "109. 'Large'\n",
       "110. 'Large'\n",
       "111. 'Large'\n",
       "112. 'Large'\n",
       "113. 'Large'\n",
       "114. 'Medium'\n",
       "115. 'Large'\n",
       "116. 'Large'\n",
       "117. 'Large'\n",
       "118. 'Large'\n",
       "119. 'Large'\n",
       "120. 'Medium'\n",
       "121. 'Large'\n",
       "122. 'Medium'\n",
       "123. 'Large'\n",
       "124. 'Medium'\n",
       "125. 'Large'\n",
       "126. 'Large'\n",
       "127. 'Medium'\n",
       "128. 'Medium'\n",
       "129. 'Large'\n",
       "130. 'Large'\n",
       "131. 'Large'\n",
       "132. 'Large'\n",
       "133. 'Large'\n",
       "134. 'Large'\n",
       "135. 'Large'\n",
       "136. 'Large'\n",
       "137. 'Large'\n",
       "138. 'Large'\n",
       "139. 'Medium'\n",
       "140. 'Large'\n",
       "141. 'Large'\n",
       "142. 'Large'\n",
       "143. 'Large'\n",
       "144. 'Large'\n",
       "145. 'Large'\n",
       "146. 'Large'\n",
       "147. 'Medium'\n",
       "148. 'Large'\n",
       "149. 'Large'\n",
       "150. 'Large'\n",
       "\n",
       "\n"
      ],
      "text/plain": [
       "  [1] \"Small\"  \"Small\"  \"Small\"  \"Small\"  \"Small\"  \"Medium\" \"Small\"  \"Small\" \n",
       "  [9] \"Small\"  \"Small\"  \"Small\"  \"Medium\" \"Small\"  \"Small\"  \"Small\"  \"Small\" \n",
       " [17] \"Small\"  \"Small\"  \"Medium\" \"Small\"  \"Medium\" \"Small\"  \"Small\"  \"Medium\"\n",
       " [25] \"Medium\" \"Medium\" \"Medium\" \"Small\"  \"Small\"  \"Medium\" \"Medium\" \"Small\" \n",
       " [33] \"Small\"  \"Small\"  \"Small\"  \"Small\"  \"Small\"  \"Small\"  \"Small\"  \"Small\" \n",
       " [41] \"Small\"  \"Small\"  \"Small\"  \"Medium\" \"Medium\" \"Small\"  \"Medium\" \"Small\" \n",
       " [49] \"Small\"  \"Small\"  \"Medium\" \"Medium\" \"Medium\" \"Medium\" \"Medium\" \"Medium\"\n",
       " [57] \"Medium\" \"Medium\" \"Medium\" \"Medium\" \"Medium\" \"Medium\" \"Medium\" \"Medium\"\n",
       " [65] \"Medium\" \"Medium\" \"Medium\" \"Medium\" \"Medium\" \"Medium\" \"Medium\" \"Medium\"\n",
       " [73] \"Medium\" \"Medium\" \"Medium\" \"Medium\" \"Medium\" \"Medium\" \"Medium\" \"Medium\"\n",
       " [81] \"Medium\" \"Medium\" \"Medium\" \"Large\"  \"Medium\" \"Medium\" \"Medium\" \"Medium\"\n",
       " [89] \"Medium\" \"Medium\" \"Medium\" \"Medium\" \"Medium\" \"Medium\" \"Medium\" \"Medium\"\n",
       " [97] \"Medium\" \"Medium\" \"Medium\" \"Medium\" \"Large\"  \"Large\"  \"Large\"  \"Large\" \n",
       "[105] \"Large\"  \"Large\"  \"Medium\" \"Large\"  \"Large\"  \"Large\"  \"Large\"  \"Large\" \n",
       "[113] \"Large\"  \"Medium\" \"Large\"  \"Large\"  \"Large\"  \"Large\"  \"Large\"  \"Medium\"\n",
       "[121] \"Large\"  \"Medium\" \"Large\"  \"Medium\" \"Large\"  \"Large\"  \"Medium\" \"Medium\"\n",
       "[129] \"Large\"  \"Large\"  \"Large\"  \"Large\"  \"Large\"  \"Large\"  \"Large\"  \"Large\" \n",
       "[137] \"Large\"  \"Large\"  \"Medium\" \"Large\"  \"Large\"  \"Large\"  \"Large\"  \"Large\" \n",
       "[145] \"Large\"  \"Large\"  \"Medium\" \"Large\"  \"Large\"  \"Large\" "
      ]
     },
     "metadata": {},
     "output_type": "display_data"
    }
   ],
   "source": [
    "iris$Petal.cat\n"
   ]
  },
  {
   "cell_type": "code",
   "execution_count": 108,
   "metadata": {
    "vscode": {
     "languageId": "r"
    }
   },
   "outputs": [
    {
     "data": {
      "text/plain": [
       "\n",
       " Large Medium  Small \n",
       "    42     71     37 "
      ]
     },
     "metadata": {},
     "output_type": "display_data"
    }
   ],
   "source": [
    "table(iris$Petal.cat)\n"
   ]
  },
  {
   "cell_type": "code",
   "execution_count": 109,
   "metadata": {
    "vscode": {
     "languageId": "r"
    }
   },
   "outputs": [
    {
     "data": {
      "text/html": [
       "<table class=\"dataframe\">\n",
       "<caption>A data.frame: 6 × 7</caption>\n",
       "<thead>\n",
       "\t<tr><th></th><th scope=col>X</th><th scope=col>Sepal.Length</th><th scope=col>Sepal.Width</th><th scope=col>Petal.Length</th><th scope=col>Petal.Width</th><th scope=col>Species</th><th scope=col>Petal.cat</th></tr>\n",
       "\t<tr><th></th><th scope=col>&lt;int&gt;</th><th scope=col>&lt;dbl&gt;</th><th scope=col>&lt;dbl&gt;</th><th scope=col>&lt;dbl&gt;</th><th scope=col>&lt;dbl&gt;</th><th scope=col>&lt;chr&gt;</th><th scope=col>&lt;chr&gt;</th></tr>\n",
       "</thead>\n",
       "<tbody>\n",
       "\t<tr><th scope=row>1</th><td>1</td><td>5.1</td><td>3.5</td><td>1.4</td><td>0.2</td><td>Iris-setosa</td><td>Small </td></tr>\n",
       "\t<tr><th scope=row>2</th><td>2</td><td>4.9</td><td>3.0</td><td>1.4</td><td>0.2</td><td>Iris-setosa</td><td>Small </td></tr>\n",
       "\t<tr><th scope=row>3</th><td>3</td><td>4.7</td><td>3.2</td><td>1.3</td><td>0.2</td><td>Iris-setosa</td><td>Small </td></tr>\n",
       "\t<tr><th scope=row>4</th><td>4</td><td>4.6</td><td>3.1</td><td>1.5</td><td>0.2</td><td>Iris-setosa</td><td>Small </td></tr>\n",
       "\t<tr><th scope=row>5</th><td>5</td><td>5.0</td><td>3.6</td><td>1.4</td><td>0.2</td><td>Iris-setosa</td><td>Small </td></tr>\n",
       "\t<tr><th scope=row>6</th><td>6</td><td>5.4</td><td>3.9</td><td>1.7</td><td>0.4</td><td>Iris-setosa</td><td>Medium</td></tr>\n",
       "</tbody>\n",
       "</table>\n"
      ],
      "text/latex": [
       "A data.frame: 6 × 7\n",
       "\\begin{tabular}{r|lllllll}\n",
       "  & X & Sepal.Length & Sepal.Width & Petal.Length & Petal.Width & Species & Petal.cat\\\\\n",
       "  & <int> & <dbl> & <dbl> & <dbl> & <dbl> & <chr> & <chr>\\\\\n",
       "\\hline\n",
       "\t1 & 1 & 5.1 & 3.5 & 1.4 & 0.2 & Iris-setosa & Small \\\\\n",
       "\t2 & 2 & 4.9 & 3.0 & 1.4 & 0.2 & Iris-setosa & Small \\\\\n",
       "\t3 & 3 & 4.7 & 3.2 & 1.3 & 0.2 & Iris-setosa & Small \\\\\n",
       "\t4 & 4 & 4.6 & 3.1 & 1.5 & 0.2 & Iris-setosa & Small \\\\\n",
       "\t5 & 5 & 5.0 & 3.6 & 1.4 & 0.2 & Iris-setosa & Small \\\\\n",
       "\t6 & 6 & 5.4 & 3.9 & 1.7 & 0.4 & Iris-setosa & Medium\\\\\n",
       "\\end{tabular}\n"
      ],
      "text/markdown": [
       "\n",
       "A data.frame: 6 × 7\n",
       "\n",
       "| <!--/--> | X &lt;int&gt; | Sepal.Length &lt;dbl&gt; | Sepal.Width &lt;dbl&gt; | Petal.Length &lt;dbl&gt; | Petal.Width &lt;dbl&gt; | Species &lt;chr&gt; | Petal.cat &lt;chr&gt; |\n",
       "|---|---|---|---|---|---|---|---|\n",
       "| 1 | 1 | 5.1 | 3.5 | 1.4 | 0.2 | Iris-setosa | Small  |\n",
       "| 2 | 2 | 4.9 | 3.0 | 1.4 | 0.2 | Iris-setosa | Small  |\n",
       "| 3 | 3 | 4.7 | 3.2 | 1.3 | 0.2 | Iris-setosa | Small  |\n",
       "| 4 | 4 | 4.6 | 3.1 | 1.5 | 0.2 | Iris-setosa | Small  |\n",
       "| 5 | 5 | 5.0 | 3.6 | 1.4 | 0.2 | Iris-setosa | Small  |\n",
       "| 6 | 6 | 5.4 | 3.9 | 1.7 | 0.4 | Iris-setosa | Medium |\n",
       "\n"
      ],
      "text/plain": [
       "  X Sepal.Length Sepal.Width Petal.Length Petal.Width Species     Petal.cat\n",
       "1 1 5.1          3.5         1.4          0.2         Iris-setosa Small    \n",
       "2 2 4.9          3.0         1.4          0.2         Iris-setosa Small    \n",
       "3 3 4.7          3.2         1.3          0.2         Iris-setosa Small    \n",
       "4 4 4.6          3.1         1.5          0.2         Iris-setosa Small    \n",
       "5 5 5.0          3.6         1.4          0.2         Iris-setosa Small    \n",
       "6 6 5.4          3.9         1.7          0.4         Iris-setosa Medium   "
      ]
     },
     "metadata": {},
     "output_type": "display_data"
    }
   ],
   "source": [
    "head(iris)\n"
   ]
  },
  {
   "cell_type": "code",
   "execution_count": null,
   "metadata": {
    "vscode": {
     "languageId": "r"
    }
   },
   "outputs": [],
   "source": [
    "session 4\n",
    "session"
   ]
  }
 ],
 "metadata": {
  "kernelspec": {
   "display_name": "R",
   "language": "R",
   "name": "ir"
  },
  "language_info": {
   "codemirror_mode": "r",
   "file_extension": ".r",
   "mimetype": "text/x-r-source",
   "name": "R",
   "pygments_lexer": "r",
   "version": "4.3.2"
  }
 },
 "nbformat": 4,
 "nbformat_minor": 2
}
